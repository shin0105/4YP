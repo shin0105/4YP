{
  "nbformat": 4,
  "nbformat_minor": 0,
  "metadata": {
    "colab": {
      "provenance": [],
      "authorship_tag": "ABX9TyOyn8ola/0n+kht8tWWATxz",
      "include_colab_link": true
    },
    "kernelspec": {
      "name": "python3",
      "display_name": "Python 3"
    },
    "language_info": {
      "name": "python"
    }
  },
  "cells": [
    {
      "cell_type": "markdown",
      "metadata": {
        "id": "view-in-github",
        "colab_type": "text"
      },
      "source": [
        "<a href=\"https://colab.research.google.com/github/shin0105/4YP/blob/master/Optimizer_HP_tuning_Clf_random.ipynb\" target=\"_parent\"><img src=\"https://colab.research.google.com/assets/colab-badge.svg\" alt=\"Open In Colab\"/></a>"
      ]
    },
    {
      "cell_type": "code",
      "execution_count": null,
      "metadata": {
        "id": "rLPXTuwQovwn"
      },
      "outputs": [],
      "source": [
        "!pip install GPyOpt --quiet\n",
        "!pip install GPy --quiet"
      ]
    },
    {
      "cell_type": "code",
      "source": [
        "#import packages\n",
        "\n",
        "#basic packages\n",
        "import pandas as pd\n",
        "import numpy as np\n",
        "import matplotlib.pyplot as plt\n",
        "import seaborn as sns\n",
        "from mpl_toolkits import mplot3d\n",
        "import random\n",
        "\n",
        "#Bayesian optimization packages\n",
        "import GPy\n",
        "import GPyOpt\n",
        "\n",
        "#ML Algorithm packages\n",
        "from sklearn.model_selection import train_test_split, cross_val_score, StratifiedKFold\n",
        "from sklearn.metrics import confusion_matrix, accuracy_score, classification_report\n",
        "from sklearn.ensemble import RandomForestClassifier\n",
        "from sklearn.neighbors import KNeighborsClassifier\n",
        "from sklearn import svm\n",
        "from sklearn import preprocessing"
      ],
      "metadata": {
        "id": "RHLDk0wJqQHz"
      },
      "execution_count": 3,
      "outputs": []
    },
    {
      "cell_type": "code",
      "source": [
        "#dataset = UCI Car Evaluation\n",
        "names=['buying','maint','doors','persons','lug_boot','safety','class']\n",
        "df = pd.read_csv('car.data', names = names)\n",
        "df.head()"
      ],
      "metadata": {
        "colab": {
          "base_uri": "https://localhost:8080/",
          "height": 206
        },
        "id": "sefirBbFuqWz",
        "outputId": "8486d45e-6bab-462f-875d-65c801a176be"
      },
      "execution_count": 4,
      "outputs": [
        {
          "output_type": "execute_result",
          "data": {
            "text/plain": [
              "  buying  maint doors persons lug_boot safety  class\n",
              "0  vhigh  vhigh     2       2    small    low  unacc\n",
              "1  vhigh  vhigh     2       2    small    med  unacc\n",
              "2  vhigh  vhigh     2       2    small   high  unacc\n",
              "3  vhigh  vhigh     2       2      med    low  unacc\n",
              "4  vhigh  vhigh     2       2      med    med  unacc"
            ],
            "text/html": [
              "\n",
              "  <div id=\"df-46a16c82-667c-4972-82b3-a8a4f276908a\">\n",
              "    <div class=\"colab-df-container\">\n",
              "      <div>\n",
              "<style scoped>\n",
              "    .dataframe tbody tr th:only-of-type {\n",
              "        vertical-align: middle;\n",
              "    }\n",
              "\n",
              "    .dataframe tbody tr th {\n",
              "        vertical-align: top;\n",
              "    }\n",
              "\n",
              "    .dataframe thead th {\n",
              "        text-align: right;\n",
              "    }\n",
              "</style>\n",
              "<table border=\"1\" class=\"dataframe\">\n",
              "  <thead>\n",
              "    <tr style=\"text-align: right;\">\n",
              "      <th></th>\n",
              "      <th>buying</th>\n",
              "      <th>maint</th>\n",
              "      <th>doors</th>\n",
              "      <th>persons</th>\n",
              "      <th>lug_boot</th>\n",
              "      <th>safety</th>\n",
              "      <th>class</th>\n",
              "    </tr>\n",
              "  </thead>\n",
              "  <tbody>\n",
              "    <tr>\n",
              "      <th>0</th>\n",
              "      <td>vhigh</td>\n",
              "      <td>vhigh</td>\n",
              "      <td>2</td>\n",
              "      <td>2</td>\n",
              "      <td>small</td>\n",
              "      <td>low</td>\n",
              "      <td>unacc</td>\n",
              "    </tr>\n",
              "    <tr>\n",
              "      <th>1</th>\n",
              "      <td>vhigh</td>\n",
              "      <td>vhigh</td>\n",
              "      <td>2</td>\n",
              "      <td>2</td>\n",
              "      <td>small</td>\n",
              "      <td>med</td>\n",
              "      <td>unacc</td>\n",
              "    </tr>\n",
              "    <tr>\n",
              "      <th>2</th>\n",
              "      <td>vhigh</td>\n",
              "      <td>vhigh</td>\n",
              "      <td>2</td>\n",
              "      <td>2</td>\n",
              "      <td>small</td>\n",
              "      <td>high</td>\n",
              "      <td>unacc</td>\n",
              "    </tr>\n",
              "    <tr>\n",
              "      <th>3</th>\n",
              "      <td>vhigh</td>\n",
              "      <td>vhigh</td>\n",
              "      <td>2</td>\n",
              "      <td>2</td>\n",
              "      <td>med</td>\n",
              "      <td>low</td>\n",
              "      <td>unacc</td>\n",
              "    </tr>\n",
              "    <tr>\n",
              "      <th>4</th>\n",
              "      <td>vhigh</td>\n",
              "      <td>vhigh</td>\n",
              "      <td>2</td>\n",
              "      <td>2</td>\n",
              "      <td>med</td>\n",
              "      <td>med</td>\n",
              "      <td>unacc</td>\n",
              "    </tr>\n",
              "  </tbody>\n",
              "</table>\n",
              "</div>\n",
              "      <button class=\"colab-df-convert\" onclick=\"convertToInteractive('df-46a16c82-667c-4972-82b3-a8a4f276908a')\"\n",
              "              title=\"Convert this dataframe to an interactive table.\"\n",
              "              style=\"display:none;\">\n",
              "        \n",
              "  <svg xmlns=\"http://www.w3.org/2000/svg\" height=\"24px\"viewBox=\"0 0 24 24\"\n",
              "       width=\"24px\">\n",
              "    <path d=\"M0 0h24v24H0V0z\" fill=\"none\"/>\n",
              "    <path d=\"M18.56 5.44l.94 2.06.94-2.06 2.06-.94-2.06-.94-.94-2.06-.94 2.06-2.06.94zm-11 1L8.5 8.5l.94-2.06 2.06-.94-2.06-.94L8.5 2.5l-.94 2.06-2.06.94zm10 10l.94 2.06.94-2.06 2.06-.94-2.06-.94-.94-2.06-.94 2.06-2.06.94z\"/><path d=\"M17.41 7.96l-1.37-1.37c-.4-.4-.92-.59-1.43-.59-.52 0-1.04.2-1.43.59L10.3 9.45l-7.72 7.72c-.78.78-.78 2.05 0 2.83L4 21.41c.39.39.9.59 1.41.59.51 0 1.02-.2 1.41-.59l7.78-7.78 2.81-2.81c.8-.78.8-2.07 0-2.86zM5.41 20L4 18.59l7.72-7.72 1.47 1.35L5.41 20z\"/>\n",
              "  </svg>\n",
              "      </button>\n",
              "      \n",
              "  <style>\n",
              "    .colab-df-container {\n",
              "      display:flex;\n",
              "      flex-wrap:wrap;\n",
              "      gap: 12px;\n",
              "    }\n",
              "\n",
              "    .colab-df-convert {\n",
              "      background-color: #E8F0FE;\n",
              "      border: none;\n",
              "      border-radius: 50%;\n",
              "      cursor: pointer;\n",
              "      display: none;\n",
              "      fill: #1967D2;\n",
              "      height: 32px;\n",
              "      padding: 0 0 0 0;\n",
              "      width: 32px;\n",
              "    }\n",
              "\n",
              "    .colab-df-convert:hover {\n",
              "      background-color: #E2EBFA;\n",
              "      box-shadow: 0px 1px 2px rgba(60, 64, 67, 0.3), 0px 1px 3px 1px rgba(60, 64, 67, 0.15);\n",
              "      fill: #174EA6;\n",
              "    }\n",
              "\n",
              "    [theme=dark] .colab-df-convert {\n",
              "      background-color: #3B4455;\n",
              "      fill: #D2E3FC;\n",
              "    }\n",
              "\n",
              "    [theme=dark] .colab-df-convert:hover {\n",
              "      background-color: #434B5C;\n",
              "      box-shadow: 0px 1px 3px 1px rgba(0, 0, 0, 0.15);\n",
              "      filter: drop-shadow(0px 1px 2px rgba(0, 0, 0, 0.3));\n",
              "      fill: #FFFFFF;\n",
              "    }\n",
              "  </style>\n",
              "\n",
              "      <script>\n",
              "        const buttonEl =\n",
              "          document.querySelector('#df-46a16c82-667c-4972-82b3-a8a4f276908a button.colab-df-convert');\n",
              "        buttonEl.style.display =\n",
              "          google.colab.kernel.accessAllowed ? 'block' : 'none';\n",
              "\n",
              "        async function convertToInteractive(key) {\n",
              "          const element = document.querySelector('#df-46a16c82-667c-4972-82b3-a8a4f276908a');\n",
              "          const dataTable =\n",
              "            await google.colab.kernel.invokeFunction('convertToInteractive',\n",
              "                                                     [key], {});\n",
              "          if (!dataTable) return;\n",
              "\n",
              "          const docLinkHtml = 'Like what you see? Visit the ' +\n",
              "            '<a target=\"_blank\" href=https://colab.research.google.com/notebooks/data_table.ipynb>data table notebook</a>'\n",
              "            + ' to learn more about interactive tables.';\n",
              "          element.innerHTML = '';\n",
              "          dataTable['output_type'] = 'display_data';\n",
              "          await google.colab.output.renderOutput(dataTable, element);\n",
              "          const docLink = document.createElement('div');\n",
              "          docLink.innerHTML = docLinkHtml;\n",
              "          element.appendChild(docLink);\n",
              "        }\n",
              "      </script>\n",
              "    </div>\n",
              "  </div>\n",
              "  "
            ]
          },
          "metadata": {},
          "execution_count": 4
        }
      ]
    },
    {
      "cell_type": "code",
      "source": [
        "#Convert categorical labels to numbers\n",
        "le = preprocessing.LabelEncoder()\n",
        "\n",
        "for col in names: \n",
        "  df[col] = le.fit_transform(df[col])"
      ],
      "metadata": {
        "id": "NXEKCi4KzThJ"
      },
      "execution_count": 5,
      "outputs": []
    },
    {
      "cell_type": "code",
      "source": [
        "X = df.drop(['class'], axis=1)\n",
        "y = df['class']\n",
        "\n",
        "#splitting train data and test data\n",
        "X_train, X_test, y_train, y_test = train_test_split(X, y, test_size = 0.3, random_state = 42)"
      ],
      "metadata": {
        "id": "E9YKVdl60lfm"
      },
      "execution_count": 6,
      "outputs": []
    },
    {
      "cell_type": "code",
      "source": [
        "#K-fold validation\n",
        "def kfold_score(clf,X,y,n_fold):\n",
        "    X,y = X.values,y.values\n",
        "    kfold = StratifiedKFold(n_splits=n_fold, shuffle=True, random_state=1)\n",
        "    accuracy_list = []\n",
        "\n",
        "    for train_index, test_index in kfold.split(X, y):\n",
        "        x_train_fold, x_test_fold = X[train_index], X[test_index]\n",
        "        y_train_fold, y_test_fold = y[train_index], y[test_index]\n",
        "        clf.fit(x_train_fold, y_train_fold)\n",
        "        preds = clf.predict(x_test_fold)\n",
        "        accuracy_test = accuracy_score(preds,y_test_fold)\n",
        "        accuracy_list.append(accuracy_test)\n",
        "    return np.array(accuracy_list).mean()"
      ],
      "metadata": {
        "id": "WewTEIxz336f"
      },
      "execution_count": 7,
      "outputs": []
    },
    {
      "cell_type": "code",
      "source": [
        "#Random Forest classification\n",
        "\n",
        "#max_features: 1 to around sqrt(# of features of dataset)\n",
        "bounds = [\n",
        "        {'name': 'max_features', 'type': 'continuous', 'domain': (1, 5)},\n",
        "        {'name': 'n_estimators', 'type': 'continuous', 'domain': (1, 200)}\n",
        "      ]\n",
        "\n",
        "def rf_score(parameters):\n",
        "  params = {\n",
        "        'max_features':int(parameters[0][0]),\n",
        "        'n_estimators':int(parameters[0][1])\n",
        "    }\n",
        "  \n",
        "  clf = RandomForestClassifier(max_features=params['max_features'],n_estimators=params['n_estimators'])\n",
        "  clf.fit(X_train,y_train)\n",
        "  score = kfold_score(clf,X_train,y_train,10)\n",
        "  return score"
      ],
      "metadata": {
        "id": "fDw19dgo2Iz7"
      },
      "execution_count": 8,
      "outputs": []
    },
    {
      "cell_type": "code",
      "source": [
        "variance = np.linspace(0.5,1.5,101)\n",
        "lengthscale = np.linspace(0.5,1.5,101)\n",
        "x1,x2=np.meshgrid(variance,lengthscale)"
      ],
      "metadata": {
        "id": "4pdLSC87ny2o"
      },
      "execution_count": 9,
      "outputs": []
    },
    {
      "cell_type": "code",
      "source": [
        "def BO(var,l,clf):\n",
        "  kernel = GPy.kern.Matern52(input_dim=1, variance=var, lengthscale=l)\n",
        "  optimizer = GPyOpt.methods.BayesianOptimization(f=clf, \n",
        "                                                domain=bounds,\n",
        "                                                acquisition_type ='EI',\n",
        "                                                initial_design_numdata = 5,\n",
        "                                                model_type='GP',\n",
        "                                                maximize=True,\n",
        "                                                kernel=kernel\n",
        "                                                )\n",
        "  optimizer.run_optimization(max_iter=20)\n",
        "  X=(optimizer.X)\n",
        "  m, v = optimizer.model.predict(X)\n",
        "  log_mll = -0.5*np.matmul(np.matmul((optimizer.Y - m).T,np.linalg.inv(kernel.K(X)+(0.01**2)*np.identity(25))),(optimizer.Y - m)) \\\n",
        "          -0.5 * np.log(np.linalg.det(kernel.K(X)+(0.01**2)*np.identity(25))) - np.pi * 0.5 * np.log(2*np.pi)\n",
        "  return log_mll"
      ],
      "metadata": {
        "id": "xzuDV6z4oDik"
      },
      "execution_count": 10,
      "outputs": []
    },
    {
      "cell_type": "code",
      "source": [
        "score_rf=[]\n",
        "v_list=[]\n",
        "l_list=[]\n",
        "for i in range(30):\n",
        "  v=random.choice(variance)\n",
        "  v_list.append(v)\n",
        "  l=random.choice(lengthscale)\n",
        "  l_list.append(l)\n",
        "  mll= BO(v,l,rf_score)\n",
        "  score_rf.append(mll)"
      ],
      "metadata": {
        "id": "VjF5cgW3oywT"
      },
      "execution_count": 22,
      "outputs": []
    },
    {
      "cell_type": "code",
      "source": [
        "score_rf1=[ 5.67470612e+01,  4.21695723e+01,  4.97023545e+01,  5.15772349e+01,\n",
        "        5.78650900e+01,  7.25733919e+01, -1.65340978e+01,  7.91410293e+01,\n",
        "        7.01995389e+01,  7.63856948e+01,  7.84780509e+01, -1.10661921e+01,\n",
        "        4.75217303e+01,  3.33601814e+01,  6.61695590e+01,  7.97637249e+01,\n",
        "        2.15083714e+01,  6.87587055e+01,  5.46141492e+01,  8.00340760e+01,\n",
        "        1.1e+01,  4.62256080e+01,  4.69509803e+01,  3.36981479e+01,\n",
        "        5.05950726e+01,  7.18902641e+01,  4.92971296e+01,  3.26726536e+01,\n",
        "        7.46087935e+01,  6.71256871e+01]\n",
        "sns.scatterplot(x=v_list,y=l_list,hue=score_rf1)"
      ],
      "metadata": {
        "colab": {
          "base_uri": "https://localhost:8080/",
          "height": 283
        },
        "id": "DxB-zIbMZogJ",
        "outputId": "5fe645c7-eb34-487e-8409-db658df0262f"
      },
      "execution_count": 33,
      "outputs": [
        {
          "output_type": "execute_result",
          "data": {
            "text/plain": [
              "<AxesSubplot:>"
            ]
          },
          "metadata": {},
          "execution_count": 33
        },
        {
          "output_type": "display_data",
          "data": {
            "text/plain": [
              "<Figure size 432x288 with 1 Axes>"
            ],
            "image/png": "[encoded data removed]"
          },
          "metadata": {
            "needs_background": "light"
          }
        }
      ]
    },
    {
      "cell_type": "code",
      "source": [
        "#SVM Classification\n",
        "\n",
        "bounds = [ {'name': 'C', 'type': 'continuous', 'domain': (0.1, 100)},\n",
        "        {'name': 'gamma', 'type': 'continuous', 'domain': (0.01, 100)}\n",
        "      ]\n",
        "\n",
        "def svm_score(parameters):\n",
        "  params = {\n",
        "        'C': parameters[0][0],\n",
        "        'gamma':parameters[0][1]\n",
        "    }\n",
        "  \n",
        "  clf = svm.SVC(C=params['C'],gamma=params['gamma'])\n",
        "  clf.fit(X_train,y_train)\n",
        "  score = kfold_score(clf,X_train, y_train,10)\n",
        "  return score"
      ],
      "metadata": {
        "id": "9XK_M5ti7fJG"
      },
      "execution_count": 34,
      "outputs": []
    },
    {
      "cell_type": "code",
      "source": [
        "score_SVM=[]\n",
        "v_list=[]\n",
        "l_list=[]\n",
        "for i in range(30):\n",
        "  v=random.choice(variance)\n",
        "  v_list.append(v)\n",
        "  l=random.choice(lengthscale)\n",
        "  l_list.append(l)\n",
        "  mll= BO(v,l,svm_score)\n",
        "  score_SVM.append(mll)"
      ],
      "metadata": {
        "id": "CUyLCnj5aL3k"
      },
      "execution_count": null,
      "outputs": []
    },
    {
      "cell_type": "code",
      "source": [
        "score_SVM = np.reshape(score_SVM,30)\n",
        "sns.scatterplot(x=v_list,y=l_list,hue=score_SVM)"
      ],
      "metadata": {
        "colab": {
          "base_uri": "https://localhost:8080/",
          "height": 283
        },
        "id": "SEfYAXJDnwgo",
        "outputId": "59a85e30-cdae-4762-dcb0-3ebc3581f6c6"
      },
      "execution_count": 40,
      "outputs": [
        {
          "output_type": "execute_result",
          "data": {
            "text/plain": [
              "<AxesSubplot:>"
            ]
          },
          "metadata": {},
          "execution_count": 40
        },
        {
          "output_type": "display_data",
          "data": {
            "text/plain": [
              "<Figure size 432x288 with 1 Axes>"
            ],
            "image/png": "[encoded data removed]"
          },
          "metadata": {
            "needs_background": "light"
          }
        }
      ]
    },
    {
      "cell_type": "code",
      "source": [
        "#KNN Classification\n",
        "\n",
        "#search domain\n",
        "bounds = [ {'name': 'leaf_size', 'type': 'continuous', 'domain': (1, 100)},\n",
        "        {'name': 'n_neighbors', 'type': 'discrete', 'domain': (3,4,5,6,7)}\n",
        "      ]\n",
        "\n",
        "def knn_score(parameters):\n",
        "  params = {\n",
        "        'leaf_size': parameters[0][0],\n",
        "        'n_neighbors':int(parameters[0][1])\n",
        "    }\n",
        "  \n",
        "  clf = KNeighborsClassifier(leaf_size=params['leaf_size'],n_neighbors=params['n_neighbors'])\n",
        "  clf.fit(X_train,y_train)\n",
        "  score = kfold_score(clf,X_train, y_train,10)\n",
        "  return score"
      ],
      "metadata": {
        "id": "9LMGI0Lj_FGm"
      },
      "execution_count": 37,
      "outputs": []
    },
    {
      "cell_type": "code",
      "source": [
        "score_KNN=[]\n",
        "v_list=[]\n",
        "l_list=[]\n",
        "for i in range(30):\n",
        "  v=random.choice(variance)\n",
        "  v_list.append(v)\n",
        "  l=random.choice(lengthscale)\n",
        "  l_list.append(l)\n",
        "  mll= BO(v,l,knn_score)\n",
        "  score_KNN.append(mll)\n",
        "\n",
        "score_KNN=np.reshape(score_KNN,30)\n",
        "sns.scatterplot(x=v_list,y=l_list,hue=score_KNN)"
      ],
      "metadata": {
        "id": "VfwVml6Th8Tq",
        "colab": {
          "base_uri": "https://localhost:8080/",
          "height": 283
        },
        "outputId": "602726db-43cd-487e-bf33-aabf74cbf7e4"
      },
      "execution_count": 42,
      "outputs": [
        {
          "output_type": "execute_result",
          "data": {
            "text/plain": [
              "<AxesSubplot:>"
            ]
          },
          "metadata": {},
          "execution_count": 42
        },
        {
          "output_type": "display_data",
          "data": {
            "text/plain": [
              "<Figure size 432x288 with 1 Axes>"
            ],
            "image/png": "[encoded data removed]"
          },
          "metadata": {
            "needs_background": "light"
          }
        }
      ]
    }
  ]
}