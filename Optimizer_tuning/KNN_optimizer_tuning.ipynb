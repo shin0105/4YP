{
  "cells": [
    {
      "cell_type": "code",
      "execution_count": null,
      "metadata": {
        "id": "rLPXTuwQovwn"
      },
      "outputs": [],
      "source": [
        "!pip install GPyOpt --quiet\n",
        "!pip install GPy --quiet"
      ]
    },
    {
      "cell_type": "code",
      "execution_count": 2,
      "metadata": {
        "id": "RHLDk0wJqQHz"
      },
      "outputs": [],
      "source": [
        "#import packages\n",
        "\n",
        "#basic packages\n",
        "import pandas as pd\n",
        "import numpy as np\n",
        "import matplotlib.pyplot as plt\n",
        "import seaborn as sns\n",
        "from mpl_toolkits import mplot3d\n",
        "import random\n",
        "\n",
        "#Bayesian optimization packages\n",
        "import GPy\n",
        "import GPyOpt\n",
        "\n",
        "#ML Algorithm packages\n",
        "from sklearn.model_selection import train_test_split, cross_val_score, StratifiedKFold\n",
        "from sklearn.metrics import confusion_matrix, accuracy_score, classification_report\n",
        "from sklearn.ensemble import RandomForestClassifier\n",
        "from sklearn.neighbors import KNeighborsClassifier\n",
        "from sklearn import svm\n",
        "from sklearn import preprocessing"
      ]
    },
    {
      "cell_type": "code",
      "execution_count": 3,
      "metadata": {
        "colab": {
          "base_uri": "https://localhost:8080/",
          "height": 206
        },
        "id": "sefirBbFuqWz",
        "outputId": "e32aa1ff-a1d5-442a-91b8-34b531ee6068"
      },
      "outputs": [
        {
          "data": {
            "text/html": [
              "\n",
              "  <div id=\"df-50179c06-7d91-4c07-aaa1-19c922d30fa3\">\n",
              "    <div class=\"colab-df-container\">\n",
              "      <div>\n",
              "<style scoped>\n",
              "    .dataframe tbody tr th:only-of-type {\n",
              "        vertical-align: middle;\n",
              "    }\n",
              "\n",
              "    .dataframe tbody tr th {\n",
              "        vertical-align: top;\n",
              "    }\n",
              "\n",
              "    .dataframe thead th {\n",
              "        text-align: right;\n",
              "    }\n",
              "</style>\n",
              "<table border=\"1\" class=\"dataframe\">\n",
              "  <thead>\n",
              "    <tr style=\"text-align: right;\">\n",
              "      <th></th>\n",
              "      <th>buying</th>\n",
              "      <th>maint</th>\n",
              "      <th>doors</th>\n",
              "      <th>persons</th>\n",
              "      <th>lug_boot</th>\n",
              "      <th>safety</th>\n",
              "      <th>class</th>\n",
              "    </tr>\n",
              "  </thead>\n",
              "  <tbody>\n",
              "    <tr>\n",
              "      <th>0</th>\n",
              "      <td>vhigh</td>\n",
              "      <td>vhigh</td>\n",
              "      <td>2</td>\n",
              "      <td>2</td>\n",
              "      <td>small</td>\n",
              "      <td>low</td>\n",
              "      <td>unacc</td>\n",
              "    </tr>\n",
              "    <tr>\n",
              "      <th>1</th>\n",
              "      <td>vhigh</td>\n",
              "      <td>vhigh</td>\n",
              "      <td>2</td>\n",
              "      <td>2</td>\n",
              "      <td>small</td>\n",
              "      <td>med</td>\n",
              "      <td>unacc</td>\n",
              "    </tr>\n",
              "    <tr>\n",
              "      <th>2</th>\n",
              "      <td>vhigh</td>\n",
              "      <td>vhigh</td>\n",
              "      <td>2</td>\n",
              "      <td>2</td>\n",
              "      <td>small</td>\n",
              "      <td>high</td>\n",
              "      <td>unacc</td>\n",
              "    </tr>\n",
              "    <tr>\n",
              "      <th>3</th>\n",
              "      <td>vhigh</td>\n",
              "      <td>vhigh</td>\n",
              "      <td>2</td>\n",
              "      <td>2</td>\n",
              "      <td>med</td>\n",
              "      <td>low</td>\n",
              "      <td>unacc</td>\n",
              "    </tr>\n",
              "    <tr>\n",
              "      <th>4</th>\n",
              "      <td>vhigh</td>\n",
              "      <td>vhigh</td>\n",
              "      <td>2</td>\n",
              "      <td>2</td>\n",
              "      <td>med</td>\n",
              "      <td>med</td>\n",
              "      <td>unacc</td>\n",
              "    </tr>\n",
              "  </tbody>\n",
              "</table>\n",
              "</div>\n",
              "      <button class=\"colab-df-convert\" onclick=\"convertToInteractive('df-50179c06-7d91-4c07-aaa1-19c922d30fa3')\"\n",
              "              title=\"Convert this dataframe to an interactive table.\"\n",
              "              style=\"display:none;\">\n",
              "        \n",
              "  <svg xmlns=\"http://www.w3.org/2000/svg\" height=\"24px\"viewBox=\"0 0 24 24\"\n",
              "       width=\"24px\">\n",
              "    <path d=\"M0 0h24v24H0V0z\" fill=\"none\"/>\n",
              "    <path d=\"M18.56 5.44l.94 2.06.94-2.06 2.06-.94-2.06-.94-.94-2.06-.94 2.06-2.06.94zm-11 1L8.5 8.5l.94-2.06 2.06-.94-2.06-.94L8.5 2.5l-.94 2.06-2.06.94zm10 10l.94 2.06.94-2.06 2.06-.94-2.06-.94-.94-2.06-.94 2.06-2.06.94z\"/><path d=\"M17.41 7.96l-1.37-1.37c-.4-.4-.92-.59-1.43-.59-.52 0-1.04.2-1.43.59L10.3 9.45l-7.72 7.72c-.78.78-.78 2.05 0 2.83L4 21.41c.39.39.9.59 1.41.59.51 0 1.02-.2 1.41-.59l7.78-7.78 2.81-2.81c.8-.78.8-2.07 0-2.86zM5.41 20L4 18.59l7.72-7.72 1.47 1.35L5.41 20z\"/>\n",
              "  </svg>\n",
              "      </button>\n",
              "      \n",
              "  <style>\n",
              "    .colab-df-container {\n",
              "      display:flex;\n",
              "      flex-wrap:wrap;\n",
              "      gap: 12px;\n",
              "    }\n",
              "\n",
              "    .colab-df-convert {\n",
              "      background-color: #E8F0FE;\n",
              "      border: none;\n",
              "      border-radius: 50%;\n",
              "      cursor: pointer;\n",
              "      display: none;\n",
              "      fill: #1967D2;\n",
              "      height: 32px;\n",
              "      padding: 0 0 0 0;\n",
              "      width: 32px;\n",
              "    }\n",
              "\n",
              "    .colab-df-convert:hover {\n",
              "      background-color: #E2EBFA;\n",
              "      box-shadow: 0px 1px 2px rgba(60, 64, 67, 0.3), 0px 1px 3px 1px rgba(60, 64, 67, 0.15);\n",
              "      fill: #174EA6;\n",
              "    }\n",
              "\n",
              "    [theme=dark] .colab-df-convert {\n",
              "      background-color: #3B4455;\n",
              "      fill: #D2E3FC;\n",
              "    }\n",
              "\n",
              "    [theme=dark] .colab-df-convert:hover {\n",
              "      background-color: #434B5C;\n",
              "      box-shadow: 0px 1px 3px 1px rgba(0, 0, 0, 0.15);\n",
              "      filter: drop-shadow(0px 1px 2px rgba(0, 0, 0, 0.3));\n",
              "      fill: #FFFFFF;\n",
              "    }\n",
              "  </style>\n",
              "\n",
              "      <script>\n",
              "        const buttonEl =\n",
              "          document.querySelector('#df-50179c06-7d91-4c07-aaa1-19c922d30fa3 button.colab-df-convert');\n",
              "        buttonEl.style.display =\n",
              "          google.colab.kernel.accessAllowed ? 'block' : 'none';\n",
              "\n",
              "        async function convertToInteractive(key) {\n",
              "          const element = document.querySelector('#df-50179c06-7d91-4c07-aaa1-19c922d30fa3');\n",
              "          const dataTable =\n",
              "            await google.colab.kernel.invokeFunction('convertToInteractive',\n",
              "                                                     [key], {});\n",
              "          if (!dataTable) return;\n",
              "\n",
              "          const docLinkHtml = 'Like what you see? Visit the ' +\n",
              "            '<a target=\"_blank\" href=https://colab.research.google.com/notebooks/data_table.ipynb>data table notebook</a>'\n",
              "            + ' to learn more about interactive tables.';\n",
              "          element.innerHTML = '';\n",
              "          dataTable['output_type'] = 'display_data';\n",
              "          await google.colab.output.renderOutput(dataTable, element);\n",
              "          const docLink = document.createElement('div');\n",
              "          docLink.innerHTML = docLinkHtml;\n",
              "          element.appendChild(docLink);\n",
              "        }\n",
              "      </script>\n",
              "    </div>\n",
              "  </div>\n",
              "  "
            ],
            "text/plain": [
              "  buying  maint doors persons lug_boot safety  class\n",
              "0  vhigh  vhigh     2       2    small    low  unacc\n",
              "1  vhigh  vhigh     2       2    small    med  unacc\n",
              "2  vhigh  vhigh     2       2    small   high  unacc\n",
              "3  vhigh  vhigh     2       2      med    low  unacc\n",
              "4  vhigh  vhigh     2       2      med    med  unacc"
            ]
          },
          "execution_count": 3,
          "metadata": {},
          "output_type": "execute_result"
        }
      ],
      "source": [
        "#dataset = UCI Car Evaluation\n",
        "names=['buying','maint','doors','persons','lug_boot','safety','class']\n",
        "df = pd.read_csv('car.data', names = names)\n",
        "df.head()"
      ]
    },
    {
      "cell_type": "code",
      "execution_count": 4,
      "metadata": {
        "id": "NXEKCi4KzThJ"
      },
      "outputs": [],
      "source": [
        "#Convert categorical labels to numbers\n",
        "le = preprocessing.LabelEncoder()\n",
        "\n",
        "for col in names: \n",
        "  df[col] = le.fit_transform(df[col])"
      ]
    },
    {
      "cell_type": "code",
      "execution_count": 5,
      "metadata": {
        "id": "E9YKVdl60lfm"
      },
      "outputs": [],
      "source": [
        "X = df.drop(['class'], axis=1)\n",
        "y = df['class']\n",
        "\n",
        "#splitting train data and test data\n",
        "X_train, X_test, y_train, y_test = train_test_split(X, y, test_size = 0.3, random_state = 42)"
      ]
    },
    {
      "cell_type": "code",
      "execution_count": 6,
      "metadata": {
        "id": "WewTEIxz336f"
      },
      "outputs": [],
      "source": [
        "#K-fold validation\n",
        "def kfold_score(clf,X,y,n_fold):\n",
        "    X,y = X.values,y.values\n",
        "    kfold = StratifiedKFold(n_splits=n_fold, shuffle=True, random_state=1)\n",
        "    accuracy_list = []\n",
        "\n",
        "    for train_index, test_index in kfold.split(X, y):\n",
        "        x_train_fold, x_test_fold = X[train_index], X[test_index]\n",
        "        y_train_fold, y_test_fold = y[train_index], y[test_index]\n",
        "        clf.fit(x_train_fold, y_train_fold)\n",
        "        preds = clf.predict(x_test_fold)\n",
        "        accuracy_test = accuracy_score(preds,y_test_fold)\n",
        "        accuracy_list.append(accuracy_test)\n",
        "    return np.array(accuracy_list).mean()"
      ]
    },
    {
      "cell_type": "code",
      "execution_count": 8,
      "metadata": {
        "id": "9LMGI0Lj_FGm"
      },
      "outputs": [],
      "source": [
        "#KNN Classification\n",
        "\n",
        "#search domain\n",
        "bounds = [ {'name': 'leaf_size', 'type': 'continuous', 'domain': (1, 100)},\n",
        "        {'name': 'n_neighbors', 'type': 'discrete', 'domain': (3,4,5,6,7)}\n",
        "      ]\n",
        "\n",
        "\n",
        "def knn_score(parameters):\n",
        "  params = {\n",
        "        'leaf_size': int(parameters[0][0]),\n",
        "        'n_neighbors':int(parameters[0][1])\n",
        "    }\n",
        "  \n",
        "  clf = KNeighborsClassifier(leaf_size=params['leaf_size'],n_neighbors=params['n_neighbors'])\n",
        "  clf.fit(X_train,y_train)\n",
        "  score = kfold_score(clf,X_train, y_train,5)\n",
        "\n",
        "  return score"
      ]
    },
    {
      "cell_type": "code",
      "execution_count": 10,
      "metadata": {
        "colab": {
          "base_uri": "https://localhost:8080/"
        },
        "id": "loG3h134yoOh",
        "outputId": "baf45e57-f2e0-4dbe-8dc3-bbe8081cacac"
      },
      "outputs": [
        {
          "name": "stdout",
          "output_type": "stream",
          "text": [
            "[[64.75169262]]\n"
          ]
        }
      ],
      "source": [
        "kernel1 = GPy.kern.StdPeriodic(input_dim=1,lengthscale=1.782,active_dims=[0],period=13) \\\n",
        "          * GPy.kern.Matern52(input_dim=1,lengthscale=0.506,active_dims=[0])\n",
        "kernel2 = GPy.kern.StdPeriodic(input_dim=1,lengthscale=1.579,active_dims=[1],period=2)\n",
        "kernel = kernel1 + kernel2\n",
        "\n",
        "optimizer = GPyOpt.methods.BayesianOptimization(f=knn_score, \n",
        "                                              domain=bounds,\n",
        "                                              acquisition_type ='EI',\n",
        "                                              initial_design_numdata = 5,\n",
        "                                              model_type='GP',\n",
        "                                              maximize=True,\n",
        "                                              kernel=kernel\n",
        "                                              )\n",
        "optimizer.run_optimization(max_iter=20)\n",
        "\n",
        "X=(optimizer.X)\n",
        "m, v = optimizer.model.predict(X)\n",
        "log_mll = -0.5*np.matmul(np.matmul((optimizer.Y - m).T,np.linalg.inv(kernel.K(X,X)+(0.01**2)*np.identity(25))),(optimizer.Y - m)) \\\n",
        "        -0.5 * np.log(np.linalg.det(kernel.K(X,X)+(0.01**2)*np.identity(25)))\n",
        "\n",
        "print(log_mll)"
      ]
    },
    {
      "cell_type": "code",
      "execution_count": 12,
      "metadata": {
        "colab": {
          "base_uri": "https://localhost:8080/"
        },
        "id": "IRvsniA5zFyG",
        "outputId": "05f1289d-f3ba-494b-efce-f9c81e8159b5"
      },
      "outputs": [
        {
          "name": "stdout",
          "output_type": "stream",
          "text": [
            "log mll [[0.53767223]]\n",
            "log mll [[19.27340523]]\n",
            "log mll [[10.80805758]]\n",
            "log mll [[70.37472963]]\n",
            "log mll [[30.17382054]]\n",
            "log mll [[51.83980792]]\n",
            "log mll [[37.26620736]]\n",
            "log mll [[14.49415244]]\n",
            "log mll [[9.6064872]]\n",
            "log mll [[13.78971687]]\n",
            "log mll [[23.58364905]]\n",
            "log mll [[-2.5941559]]\n",
            "log mll [[12.42087112]]\n",
            "log mll [[33.22235688]]\n",
            "log mll [[42.53801865]]\n",
            "log mll [[38.03963569]]\n",
            "log mll [[34.71512228]]\n",
            "log mll [[10.08283283]]\n",
            "log mll [[22.36180918]]\n",
            "log mll [[43.13760572]]\n",
            "log mll [[8.62129158]]\n",
            "log mll [[27.09505464]]\n",
            "log mll [[42.08437125]]\n",
            "log mll [[21.60282079]]\n",
            "log mll [[32.43024637]]\n",
            "log mll [[6.66274404]]\n",
            "log mll [[10.77029383]]\n",
            "log mll [[34.48043476]]\n",
            "log mll [[34.41785535]]\n",
            "log mll [[36.53167789]]\n",
            "log mll [[15.42836914]]\n",
            "log mll [[35.89508814]]\n",
            "log mll [[19.96838208]]\n",
            "log mll [[38.94917409]]\n",
            "log mll [[37.35368488]]\n",
            "log mll [[22.60034884]]\n",
            "log mll [[27.49687811]]\n",
            "log mll [[20.32986567]]\n",
            "log mll [[27.80203806]]\n",
            "log mll [[38.99624654]]\n"
          ]
        }
      ],
      "source": [
        "a=0\n",
        "a_list=[]\n",
        "mll_list=[]\n",
        "for i in range (40):\n",
        "  a=a+0.1\n",
        "  a_list.append(a)\n",
        "\n",
        "  kernel1 = GPy.kern.StdPeriodic(input_dim=1,variance=a,lengthscale=1.782,active_dims=[0],period=13) \\\n",
        "          * GPy.kern.Matern52(input_dim=1,lengthscale=0.506,active_dims=[0])\n",
        "  kernel2 = GPy.kern.StdPeriodic(input_dim=1,lengthscale=1.579,active_dims=[1],period=2)\n",
        "  kernel = kernel1 + kernel2\n",
        "\n",
        "\n",
        "  optimizer = GPyOpt.methods.BayesianOptimization(f=knn_score, \n",
        "                                              domain=bounds,\n",
        "                                              acquisition_type ='EI',\n",
        "                                              initial_design_numdata = 5,\n",
        "                                              model_type='GP',\n",
        "                                              maximize=True,\n",
        "                                              kernel=kernel\n",
        "                                              )\n",
        "  optimizer.run_optimization(max_iter=20)\n",
        "  X=(optimizer.X)\n",
        "  m, v = optimizer.model.predict(X)\n",
        "  mll = -0.5*np.matmul(np.matmul((optimizer.Y - m).T,np.linalg.inv(kernel.K(X,X)+(0.01**2)*np.identity(25))),(optimizer.Y - m)) \\\n",
        "        -0.5 * np.log(np.linalg.det(kernel.K(X,X)+(0.01**2)*np.identity(25)))\n",
        "  mll_list.append(mll)\n",
        "  print(f\"log mll {mll}\")"
      ]
    },
    {
      "cell_type": "code",
      "execution_count": 13,
      "metadata": {
        "colab": {
          "base_uri": "https://localhost:8080/",
          "height": 448
        },
        "id": "7yZHCr2oLvk6",
        "outputId": "3572d9c3-cbf6-4f20-c0a1-9aac61930735"
      },
      "outputs": [
        {
          "data": {
            "text/plain": [
              "<matplotlib.collections.PathCollection at 0x7f239a70da30>"
            ]
          },
          "execution_count": 13,
          "metadata": {},
          "output_type": "execute_result"
        },
        {
          "data": {
            "image/png": "[encoded data removed]",
            "text/plain": [
              "<Figure size 640x480 with 1 Axes>"
            ]
          },
          "metadata": {},
          "output_type": "display_data"
        }
      ],
      "source": [
        "plt.scatter(a_list,mll_list)"
      ]
    },
    {
      "cell_type": "code",
      "execution_count": 14,
      "metadata": {
        "colab": {
          "base_uri": "https://localhost:8080/"
        },
        "id": "FwgaPVfTL9EC",
        "outputId": "ed5ef0f0-7abb-49c3-b4bd-c433e0a379a1"
      },
      "outputs": [
        {
          "name": "stdout",
          "output_type": "stream",
          "text": [
            "log mll [[29.70330254]]\n",
            "log mll [[18.8053433]]\n",
            "log mll [[44.96469456]]\n",
            "log mll [[33.62521102]]\n",
            "log mll [[41.90808254]]\n",
            "log mll [[49.22608755]]\n",
            "log mll [[37.13033153]]\n",
            "log mll [[65.42184014]]\n",
            "log mll [[40.51960378]]\n",
            "log mll [[36.82903218]]\n",
            "log mll [[9.14119739]]\n",
            "log mll [[47.81279596]]\n",
            "log mll [[30.69682842]]\n",
            "log mll [[33.30007722]]\n",
            "log mll [[27.04327124]]\n",
            "log mll [[27.63826376]]\n",
            "log mll [[40.5530903]]\n",
            "log mll [[22.74365601]]\n",
            "log mll [[44.08861923]]\n",
            "log mll [[24.00483694]]\n",
            "log mll [[18.87952584]]\n",
            "log mll [[44.04758]]\n",
            "log mll [[38.63981082]]\n",
            "log mll [[22.30117325]]\n",
            "log mll [[39.77125908]]\n",
            "log mll [[16.17627712]]\n",
            "log mll [[30.11313975]]\n",
            "log mll [[48.91247133]]\n",
            "log mll [[27.85039692]]\n",
            "log mll [[14.41663391]]\n",
            "log mll [[26.45327129]]\n",
            "log mll [[39.80193221]]\n",
            "log mll [[31.86658734]]\n",
            "log mll [[29.83071357]]\n",
            "log mll [[8.59146549]]\n",
            "log mll [[23.41668887]]\n",
            "log mll [[10.99614248]]\n",
            "log mll [[57.16630782]]\n",
            "log mll [[33.45866655]]\n",
            "log mll [[54.82693257]]\n"
          ]
        }
      ],
      "source": [
        "b=0\n",
        "b_list=[]\n",
        "mll_list=[]\n",
        "for i in range (40):\n",
        "  b=b+0.1\n",
        "  b_list.append(b)\n",
        "\n",
        "  kernel1 = GPy.kern.StdPeriodic(input_dim=1,variance=1,lengthscale=1.782,active_dims=[0],period=13) \\\n",
        "          * GPy.kern.Matern52(input_dim=1,lengthscale=0.506,active_dims=[0])\n",
        "  kernel2 = GPy.kern.StdPeriodic(input_dim=1,variance=b,lengthscale=1.579,active_dims=[1],period=2)\n",
        "  kernel = kernel1 + kernel2\n",
        "\n",
        "\n",
        "  optimizer = GPyOpt.methods.BayesianOptimization(f=knn_score, \n",
        "                                              domain=bounds,\n",
        "                                              acquisition_type ='EI',\n",
        "                                              initial_design_numdata = 5,\n",
        "                                              model_type='GP',\n",
        "                                              maximize=True,\n",
        "                                              kernel=kernel\n",
        "                                              )\n",
        "  optimizer.run_optimization(max_iter=20)\n",
        "  X=(optimizer.X)\n",
        "  m, v = optimizer.model.predict(X)\n",
        "  mll = -0.5*np.matmul(np.matmul((optimizer.Y - m).T,np.linalg.inv(kernel.K(X,X)+(0.01**2)*np.identity(25))),(optimizer.Y - m)) \\\n",
        "        -0.5 * np.log(np.linalg.det(kernel.K(X,X)+(0.01**2)*np.identity(25)))\n",
        "  mll_list.append(mll)\n",
        "  print(f\"log mll {mll}\")"
      ]
    },
    {
      "cell_type": "code",
      "execution_count": 15,
      "metadata": {
        "colab": {
          "base_uri": "https://localhost:8080/",
          "height": 448
        },
        "id": "2kxcK7KwY4zR",
        "outputId": "8b890c21-14c7-4688-96be-8f79c284452e"
      },
      "outputs": [
        {
          "data": {
            "text/plain": [
              "<matplotlib.collections.PathCollection at 0x7f2397b905e0>"
            ]
          },
          "execution_count": 15,
          "metadata": {},
          "output_type": "execute_result"
        },
        {
          "data": {
            "image/png": "[encoded data removed]",
            "text/plain": [
              "<Figure size 640x480 with 1 Axes>"
            ]
          },
          "metadata": {},
          "output_type": "display_data"
        }
      ],
      "source": [
        "plt.scatter(b_list,mll_list)"
      ]
    },
    {
      "cell_type": "code",
      "execution_count": 20,
      "metadata": {
        "colab": {
          "base_uri": "https://localhost:8080/"
        },
        "id": "i4-UyQRPZCD0",
        "outputId": "eb707f43-4314-4f1e-8966-26dd84701a0c"
      },
      "outputs": [
        {
          "name": "stdout",
          "output_type": "stream",
          "text": [
            "[[28.17390303]]\n"
          ]
        }
      ],
      "source": [
        "kernel1 = GPy.kern.StdPeriodic(input_dim=1,variance=0.4,lengthscale=1.782,active_dims=[0],period=13) \\\n",
        "          * GPy.kern.Matern52(input_dim=1,lengthscale=0.506,active_dims=[0])\n",
        "kernel2 = GPy.kern.StdPeriodic(input_dim=1,variance=0.7,lengthscale=1.579,active_dims=[1],period=2)\n",
        "kernel = kernel1 + kernel2\n",
        "\n",
        "\n",
        "optimizer = GPyOpt.methods.BayesianOptimization(f=knn_score, \n",
        "                                            domain=bounds,\n",
        "                                            acquisition_type ='EI',\n",
        "                                            initial_design_numdata = 5,\n",
        "                                            model_type='GP',\n",
        "                                            maximize=True,\n",
        "                                            kernel=kernel\n",
        "                                            )\n",
        "optimizer.run_optimization(max_iter=20)\n",
        "X=(optimizer.X)\n",
        "m, v = optimizer.model.predict(X)\n",
        "mll = -0.5*np.matmul(np.matmul((optimizer.Y - m).T,np.linalg.inv(kernel.K(X,X)+(0.01**2)*np.identity(25))),(optimizer.Y - m)) \\\n",
        "      -0.5 * np.log(np.linalg.det(kernel.K(X,X)+(0.01**2)*np.identity(25)))\n",
        "print(mll)"
      ]
    },
    {
      "cell_type": "code",
      "execution_count": null,
      "metadata": {
        "colab": {
          "base_uri": "https://localhost:8080/",
          "height": 315
        },
        "id": "eIxS-uQJbbE0",
        "outputId": "6b1aa501-903d-4d74-f2a8-71ead8653e86"
      },
      "outputs": [
        {
          "data": {
            "text/plain": [
              "{'covariance': [[<matplotlib.lines.Line2D at 0x7f259b889130>]]}"
            ]
          },
          "execution_count": 25,
          "metadata": {},
          "output_type": "execute_result"
        },
        {
          "data": {
            "image/png": "[encoded data removed]",
            "text/plain": [
              "<Figure size 432x288 with 1 Axes>"
            ]
          },
          "metadata": {
            "needs_background": "light"
          },
          "output_type": "display_data"
        }
      ],
      "source": [
        "kernel = GPy.kern.StdPeriodic(input_dim=1,period=0.5) * GPy.kern.Matern52(input_dim=1)\n",
        "kernel.plot()"
      ]
    },
    {
      "cell_type": "code",
      "execution_count": null,
      "metadata": {
        "colab": {
          "base_uri": "https://localhost:8080/"
        },
        "id": "Gadzrn0Kaa1D",
        "outputId": "d983898e-0e96-4dfd-cf74-1039de2108a3"
      },
      "outputs": [
        {
          "name": "stdout",
          "output_type": "stream",
          "text": [
            "l1 = 0.129 l2 = 0.506 l3 =  1.115 mll = [[11.26468692]]\n",
            "l1 = 0.6799999999999999 l2 = 2.4779999999999998 l3 =  1.782 mll = [[20.39480675]]\n",
            "l1 = 1.173 l2 = 0.41899999999999993 l3 =  2.7969999999999997 mll = [[4.22959688]]\n",
            "l1 = 1.782 l2 = 0.506 l3 =  1.579 mll = [[46.72121967]]\n",
            "l1 = 1.695 l2 = 2.565 l3 =  0.593 mll = [[31.04956417]]\n",
            "l1 = 1.521 l2 = 2.3329999999999997 l3 =  1.318 mll = [[25.44158669]]\n",
            "l1 = 1.434 l2 = 2.6519999999999997 l3 =  1.608 mll = [[28.28499611]]\n",
            "l1 = 2.594 l2 = 1.434 l3 =  2.217 mll = [[34.72167654]]\n",
            "l1 = 1.811 l2 = 1.9849999999999999 l3 =  2.217 mll = [[36.29323343]]\n",
            "l1 = 0.7959999999999999 l2 = 0.33199999999999996 l3 =  2.4779999999999998 mll = [[25.00109381]]\n",
            "l1 = 1.26 l2 = 0.1 l3 =  1.55 mll = [[26.51873874]]\n",
            "l1 = 1.521 l2 = 2.014 l3 =  1.956 mll = [[60.72237596]]\n",
            "l1 = 2.6229999999999998 l2 = 2.6229999999999998 l3 =  3.0 mll = [[37.7647732]]\n",
            "l1 = 0.564 l2 = 1.608 l3 =  1.666 mll = [[38.09984619]]\n",
            "l1 = 2.507 l2 = 0.39 l3 =  2.768 mll = [[7.34025831]]\n",
            "l1 = 0.7669999999999999 l2 = 2.681 l3 =  2.971 mll = [[-2.00597506]]\n",
            "l1 = 2.13 l2 = 2.362 l3 =  0.187 mll = [[22.09102536]]\n",
            "l1 = 1.26 l2 = 0.6509999999999999 l3 =  1.724 mll = [[15.92060773]]\n",
            "l1 = 2.246 l2 = 1.057 l3 =  2.565 mll = [[21.49491077]]\n",
            "l1 = 2.246 l2 = 0.941 l3 =  2.9419999999999997 mll = [[21.59167128]]\n",
            "l1 = 2.014 l2 = 1.724 l3 =  1.637 mll = [[41.95522078]]\n",
            "l1 = 1.8399999999999999 l2 = 0.6799999999999999 l3 =  0.506 mll = [[30.64804456]]\n",
            "l1 = 0.39 l2 = 2.449 l3 =  0.129 mll = [[54.08257193]]\n",
            "l1 = 0.9699999999999999 l2 = 0.8829999999999999 l3 =  1.579 mll = [[7.83809976]]\n",
            "l1 = 1.782 l2 = 1.086 l3 =  1.55 mll = [[26.28151975]]\n",
            "l1 = 2.826 l2 = 0.622 l3 =  2.826 mll = [[33.06849773]]\n",
            "l1 = 2.42 l2 = 2.6229999999999998 l3 =  1.521 mll = [[30.28241423]]\n",
            "l1 = 2.391 l2 = 1.782 l3 =  1.753 mll = [[31.68699687]]\n",
            "l1 = 0.8829999999999999 l2 = 0.216 l3 =  1.782 mll = [[3.82293225]]\n",
            "l1 = 1.376 l2 = 0.593 l3 =  1.231 mll = [[12.70751702]]\n"
          ]
        }
      ],
      "source": [
        "l3 = np.linspace(0.1,3.0,101)\n",
        "for i in range(30):\n",
        "  l1_=random.choice(l1)\n",
        "  l2_=random.choice(l2)\n",
        "  l3_=random.choice(l3)\n",
        "  kernel1 = GPy.kern.StdPeriodic(input_dim=1,lengthscale=l1_,active_dims=[0],period=13) \\\n",
        "          * GPy.kern.Matern52(input_dim=1,lengthscale=l2_,active_dims=[0])\n",
        "  kernel2 = GPy.kern.StdPeriodic(input_dim=1,lengthscale=l3_,active_dims=[1],period=2)\n",
        "  kernel = kernel1 + kernel2\n",
        "  mll = BO(knn_score,kernel)\n",
        "  print(\"l1 =\", l1_, \"l2 =\", l2_, \"l3 = \", l3_, \"mll =\", mll)"
      ]
    }
  ],
  "metadata": {
    "colab": {
      "authorship_tag": "ABX9TyOtu1NNjA34Ja5+SuRqbm8D",
      "include_colab_link": true,
      "provenance": []
    },
    "kernelspec": {
      "display_name": "Python 3",
      "name": "python3"
    },
    "language_info": {
      "name": "python"
    }
  },
  "nbformat": 4,
  "nbformat_minor": 0
}
