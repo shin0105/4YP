{
  "nbformat": 4,
  "nbformat_minor": 0,
  "metadata": {
    "colab": {
      "provenance": [],
      "authorship_tag": "ABX9TyNwjeOE4NK52RNHUkrHATb5",
      "include_colab_link": true
    },
    "kernelspec": {
      "name": "python3",
      "display_name": "Python 3"
    },
    "language_info": {
      "name": "python"
    }
  },
  "cells": [
    {
      "cell_type": "markdown",
      "metadata": {
        "id": "view-in-github",
        "colab_type": "text"
      },
      "source": [
        "<a href=\"https://colab.research.google.com/github/shin0105/4YP/blob/main/RF_optimizer_tuning.ipynb\" target=\"_parent\"><img src=\"https://colab.research.google.com/assets/colab-badge.svg\" alt=\"Open In Colab\"/></a>"
      ]
    },
    {
      "cell_type": "code",
      "execution_count": null,
      "metadata": {
        "id": "rLPXTuwQovwn"
      },
      "outputs": [],
      "source": [
        "!pip install GPyOpt --quiet\n",
        "!pip install GPy --quiet"
      ]
    },
    {
      "cell_type": "code",
      "source": [
        "#import packages\n",
        "\n",
        "#basic packages\n",
        "import pandas as pd\n",
        "import numpy as np\n",
        "import matplotlib.pyplot as plt\n",
        "import seaborn as sns\n",
        "from mpl_toolkits import mplot3d\n",
        "import random\n",
        "\n",
        "#Bayesian optimization packages\n",
        "import GPy\n",
        "import GPyOpt\n",
        "\n",
        "#ML Algorithm packages\n",
        "from sklearn.model_selection import train_test_split, cross_val_score, StratifiedKFold\n",
        "from sklearn.metrics import confusion_matrix, accuracy_score, classification_report\n",
        "from sklearn.ensemble import RandomForestClassifier\n",
        "from sklearn.neighbors import KNeighborsClassifier\n",
        "from sklearn import svm\n",
        "from sklearn import preprocessing\n",
        "\n",
        "from scipy.optimize import minimize"
      ],
      "metadata": {
        "id": "RHLDk0wJqQHz"
      },
      "execution_count": null,
      "outputs": []
    },
    {
      "cell_type": "code",
      "source": [
        "#dataset = UCI Car Evaluation\n",
        "names=['buying','maint','doors','persons','lug_boot','safety','class']\n",
        "df = pd.read_csv('car.data', names = names)\n",
        "df.head()"
      ],
      "metadata": {
        "colab": {
          "base_uri": "https://localhost:8080/",
          "height": 206
        },
        "id": "sefirBbFuqWz",
        "outputId": "f7c0e23b-ff48-4abe-a91e-592a874212ab"
      },
      "execution_count": null,
      "outputs": [
        {
          "output_type": "execute_result",
          "data": {
            "text/plain": [
              "  buying  maint doors persons lug_boot safety  class\n",
              "0  vhigh  vhigh     2       2    small    low  unacc\n",
              "1  vhigh  vhigh     2       2    small    med  unacc\n",
              "2  vhigh  vhigh     2       2    small   high  unacc\n",
              "3  vhigh  vhigh     2       2      med    low  unacc\n",
              "4  vhigh  vhigh     2       2      med    med  unacc"
            ],
            "text/html": [
              "\n",
              "  <div id=\"df-f294a029-4eac-49ed-8d53-4b90d1dd99fe\">\n",
              "    <div class=\"colab-df-container\">\n",
              "      <div>\n",
              "<style scoped>\n",
              "    .dataframe tbody tr th:only-of-type {\n",
              "        vertical-align: middle;\n",
              "    }\n",
              "\n",
              "    .dataframe tbody tr th {\n",
              "        vertical-align: top;\n",
              "    }\n",
              "\n",
              "    .dataframe thead th {\n",
              "        text-align: right;\n",
              "    }\n",
              "</style>\n",
              "<table border=\"1\" class=\"dataframe\">\n",
              "  <thead>\n",
              "    <tr style=\"text-align: right;\">\n",
              "      <th></th>\n",
              "      <th>buying</th>\n",
              "      <th>maint</th>\n",
              "      <th>doors</th>\n",
              "      <th>persons</th>\n",
              "      <th>lug_boot</th>\n",
              "      <th>safety</th>\n",
              "      <th>class</th>\n",
              "    </tr>\n",
              "  </thead>\n",
              "  <tbody>\n",
              "    <tr>\n",
              "      <th>0</th>\n",
              "      <td>vhigh</td>\n",
              "      <td>vhigh</td>\n",
              "      <td>2</td>\n",
              "      <td>2</td>\n",
              "      <td>small</td>\n",
              "      <td>low</td>\n",
              "      <td>unacc</td>\n",
              "    </tr>\n",
              "    <tr>\n",
              "      <th>1</th>\n",
              "      <td>vhigh</td>\n",
              "      <td>vhigh</td>\n",
              "      <td>2</td>\n",
              "      <td>2</td>\n",
              "      <td>small</td>\n",
              "      <td>med</td>\n",
              "      <td>unacc</td>\n",
              "    </tr>\n",
              "    <tr>\n",
              "      <th>2</th>\n",
              "      <td>vhigh</td>\n",
              "      <td>vhigh</td>\n",
              "      <td>2</td>\n",
              "      <td>2</td>\n",
              "      <td>small</td>\n",
              "      <td>high</td>\n",
              "      <td>unacc</td>\n",
              "    </tr>\n",
              "    <tr>\n",
              "      <th>3</th>\n",
              "      <td>vhigh</td>\n",
              "      <td>vhigh</td>\n",
              "      <td>2</td>\n",
              "      <td>2</td>\n",
              "      <td>med</td>\n",
              "      <td>low</td>\n",
              "      <td>unacc</td>\n",
              "    </tr>\n",
              "    <tr>\n",
              "      <th>4</th>\n",
              "      <td>vhigh</td>\n",
              "      <td>vhigh</td>\n",
              "      <td>2</td>\n",
              "      <td>2</td>\n",
              "      <td>med</td>\n",
              "      <td>med</td>\n",
              "      <td>unacc</td>\n",
              "    </tr>\n",
              "  </tbody>\n",
              "</table>\n",
              "</div>\n",
              "      <button class=\"colab-df-convert\" onclick=\"convertToInteractive('df-f294a029-4eac-49ed-8d53-4b90d1dd99fe')\"\n",
              "              title=\"Convert this dataframe to an interactive table.\"\n",
              "              style=\"display:none;\">\n",
              "        \n",
              "  <svg xmlns=\"http://www.w3.org/2000/svg\" height=\"24px\"viewBox=\"0 0 24 24\"\n",
              "       width=\"24px\">\n",
              "    <path d=\"M0 0h24v24H0V0z\" fill=\"none\"/>\n",
              "    <path d=\"M18.56 5.44l.94 2.06.94-2.06 2.06-.94-2.06-.94-.94-2.06-.94 2.06-2.06.94zm-11 1L8.5 8.5l.94-2.06 2.06-.94-2.06-.94L8.5 2.5l-.94 2.06-2.06.94zm10 10l.94 2.06.94-2.06 2.06-.94-2.06-.94-.94-2.06-.94 2.06-2.06.94z\"/><path d=\"M17.41 7.96l-1.37-1.37c-.4-.4-.92-.59-1.43-.59-.52 0-1.04.2-1.43.59L10.3 9.45l-7.72 7.72c-.78.78-.78 2.05 0 2.83L4 21.41c.39.39.9.59 1.41.59.51 0 1.02-.2 1.41-.59l7.78-7.78 2.81-2.81c.8-.78.8-2.07 0-2.86zM5.41 20L4 18.59l7.72-7.72 1.47 1.35L5.41 20z\"/>\n",
              "  </svg>\n",
              "      </button>\n",
              "      \n",
              "  <style>\n",
              "    .colab-df-container {\n",
              "      display:flex;\n",
              "      flex-wrap:wrap;\n",
              "      gap: 12px;\n",
              "    }\n",
              "\n",
              "    .colab-df-convert {\n",
              "      background-color: #E8F0FE;\n",
              "      border: none;\n",
              "      border-radius: 50%;\n",
              "      cursor: pointer;\n",
              "      display: none;\n",
              "      fill: #1967D2;\n",
              "      height: 32px;\n",
              "      padding: 0 0 0 0;\n",
              "      width: 32px;\n",
              "    }\n",
              "\n",
              "    .colab-df-convert:hover {\n",
              "      background-color: #E2EBFA;\n",
              "      box-shadow: 0px 1px 2px rgba(60, 64, 67, 0.3), 0px 1px 3px 1px rgba(60, 64, 67, 0.15);\n",
              "      fill: #174EA6;\n",
              "    }\n",
              "\n",
              "    [theme=dark] .colab-df-convert {\n",
              "      background-color: #3B4455;\n",
              "      fill: #D2E3FC;\n",
              "    }\n",
              "\n",
              "    [theme=dark] .colab-df-convert:hover {\n",
              "      background-color: #434B5C;\n",
              "      box-shadow: 0px 1px 3px 1px rgba(0, 0, 0, 0.15);\n",
              "      filter: drop-shadow(0px 1px 2px rgba(0, 0, 0, 0.3));\n",
              "      fill: #FFFFFF;\n",
              "    }\n",
              "  </style>\n",
              "\n",
              "      <script>\n",
              "        const buttonEl =\n",
              "          document.querySelector('#df-f294a029-4eac-49ed-8d53-4b90d1dd99fe button.colab-df-convert');\n",
              "        buttonEl.style.display =\n",
              "          google.colab.kernel.accessAllowed ? 'block' : 'none';\n",
              "\n",
              "        async function convertToInteractive(key) {\n",
              "          const element = document.querySelector('#df-f294a029-4eac-49ed-8d53-4b90d1dd99fe');\n",
              "          const dataTable =\n",
              "            await google.colab.kernel.invokeFunction('convertToInteractive',\n",
              "                                                     [key], {});\n",
              "          if (!dataTable) return;\n",
              "\n",
              "          const docLinkHtml = 'Like what you see? Visit the ' +\n",
              "            '<a target=\"_blank\" href=https://colab.research.google.com/notebooks/data_table.ipynb>data table notebook</a>'\n",
              "            + ' to learn more about interactive tables.';\n",
              "          element.innerHTML = '';\n",
              "          dataTable['output_type'] = 'display_data';\n",
              "          await google.colab.output.renderOutput(dataTable, element);\n",
              "          const docLink = document.createElement('div');\n",
              "          docLink.innerHTML = docLinkHtml;\n",
              "          element.appendChild(docLink);\n",
              "        }\n",
              "      </script>\n",
              "    </div>\n",
              "  </div>\n",
              "  "
            ]
          },
          "metadata": {},
          "execution_count": 3
        }
      ]
    },
    {
      "cell_type": "code",
      "source": [
        "#Convert categorical labels to numbers\n",
        "le = preprocessing.LabelEncoder()\n",
        "\n",
        "for col in names: \n",
        "  df[col] = le.fit_transform(df[col])"
      ],
      "metadata": {
        "id": "NXEKCi4KzThJ"
      },
      "execution_count": null,
      "outputs": []
    },
    {
      "cell_type": "code",
      "source": [
        "X = df.drop(['class'], axis=1)\n",
        "y = df['class']\n",
        "\n",
        "#splitting train data and test data\n",
        "X_train, X_test, y_train, y_test = train_test_split(X, y, test_size = 0.3, random_state = 42)"
      ],
      "metadata": {
        "id": "E9YKVdl60lfm"
      },
      "execution_count": null,
      "outputs": []
    },
    {
      "cell_type": "code",
      "source": [
        "#K-fold validation\n",
        "def kfold_score(clf,X,y,n_fold):\n",
        "    X,y = X.values,y.values\n",
        "    kfold = StratifiedKFold(n_splits=n_fold, shuffle=True, random_state=1)\n",
        "    accuracy_list = []\n",
        "\n",
        "    for train_index, test_index in kfold.split(X, y):\n",
        "        x_train_fold, x_test_fold = X[train_index], X[test_index]\n",
        "        y_train_fold, y_test_fold = y[train_index], y[test_index]\n",
        "        clf.fit(x_train_fold, y_train_fold)\n",
        "        preds = clf.predict(x_test_fold)\n",
        "        accuracy_test = accuracy_score(preds,y_test_fold)\n",
        "        accuracy_list.append(accuracy_test)\n",
        "    return np.array(accuracy_list).mean()"
      ],
      "metadata": {
        "id": "WewTEIxz336f"
      },
      "execution_count": null,
      "outputs": []
    },
    {
      "cell_type": "code",
      "source": [
        "#Random Forest classification\n",
        "\n",
        "#max_features: 1 to around sqrt(# of features of dataset)\n",
        "bounds = [\n",
        "        {'name': 'max_features', 'type': 'continuous', 'domain': (1, 5)},\n",
        "        {'name': 'n_estimators', 'type': 'continuous', 'domain': (1, 200)}\n",
        "      ]\n",
        "\n",
        "def rf_score(parameters):\n",
        "  params = {\n",
        "        'max_features':int(parameters[0][0]),\n",
        "        'n_estimators':int(parameters[0][1])\n",
        "    }\n",
        "  \n",
        "  clf = RandomForestClassifier(max_features=params['max_features'],n_estimators=params['n_estimators'])\n",
        "  clf.fit(X_train,y_train)\n",
        "  score = kfold_score(clf,X_train, y_train,5)\n",
        "  return score"
      ],
      "metadata": {
        "id": "fDw19dgo2Iz7"
      },
      "execution_count": null,
      "outputs": []
    },
    {
      "cell_type": "code",
      "source": [
        "kernel1 = GPy.kern.Matern52(input_dim=1,variance=1,lengthscale=2.304,active_dims=[0])\n",
        "kernel2 = GPy.kern.Matern52(input_dim=1,variance=1,lengthscale=0.361,active_dims=[1])\n",
        "kernel3 = GPy.kern.Matern52(input_dim=1,variance=1,lengthscale=2.304,active_dims=[0]) \\\n",
        "          * GPy.kern.Matern52(input_dim=1,variance=1,lengthscale=0.361,active_dims=[1])\n",
        "kernel = kernel1 + kernel2 + kernel3"
      ],
      "metadata": {
        "id": "leX6QHjuDl_U"
      },
      "execution_count": null,
      "outputs": []
    },
    {
      "cell_type": "code",
      "source": [
        "optimizer = GPyOpt.methods.BayesianOptimization(f=rf_score, \n",
        "                                              domain=bounds,\n",
        "                                              acquisition_type ='EI',\n",
        "                                              initial_design_numdata = 5,\n",
        "                                              model_type='GP',\n",
        "                                              maximize=True,\n",
        "                                              kernel=kernel\n",
        "                                              )\n",
        "optimizer.run_optimization(max_iter=20)\n",
        "\n",
        "X=(optimizer.X)\n",
        "m, v = optimizer.model.predict(X)\n",
        "log_mll = -0.5*np.matmul(np.matmul((optimizer.Y - m).T,np.linalg.inv(kernel.K(X,X)+(0.01**2)*np.identity(25))),(optimizer.Y - m)) \\\n",
        "        -0.5 * np.log(np.linalg.det(kernel.K(X,X)+(0.01**2)*np.identity(25)))\n",
        "print(log_mll)"
      ],
      "metadata": {
        "colab": {
          "base_uri": "https://localhost:8080/"
        },
        "id": "GNO-QAMcM0GO",
        "outputId": "ec79bd68-cc6d-470c-aa01-fe0e7932451f"
      },
      "execution_count": null,
      "outputs": [
        {
          "output_type": "stream",
          "name": "stdout",
          "text": [
            "[[-0.75180686]]\n"
          ]
        }
      ]
    },
    {
      "cell_type": "code",
      "source": [
        "a=0.1\n",
        "kernel1 = GPy.kern.Matern52(input_dim=1,variance=a,lengthscale=1.724,active_dims=[0])\n",
        "kernel2 = GPy.kern.Matern52(input_dim=1,variance=1,lengthscale=2.072,active_dims=[1])\n",
        "kernel3 = GPy.kern.Matern52(input_dim=1,variance=1,lengthscale=1.724,active_dims=[0]) \\\n",
        "          * GPy.kern.Matern52(input_dim=1,variance=1,lengthscale=2.072,active_dims=[1])\n",
        "kernel = kernel1 + kernel2 + kernel3\n",
        "\n",
        "optimizer = GPyOpt.methods.BayesianOptimization(f=rf_score, \n",
        "                                              domain=bounds,\n",
        "                                              acquisition_type ='EI',\n",
        "                                              initial_design_numdata = 5,\n",
        "                                              model_type='GP',\n",
        "                                              maximize=True,\n",
        "                                              kernel=kernel\n",
        "                                              )\n",
        "optimizer.run_optimization(max_iter=20)\n",
        "\n",
        "X=(optimizer.X)\n",
        "m, v = optimizer.model.predict(X)\n",
        "log_mll = -0.5*np.matmul(np.matmul((optimizer.Y - m).T,np.linalg.inv(kernel.K(X,X)+(0.01**2)*np.identity(25))),(optimizer.Y - m)) \\\n",
        "        -0.5 * np.log(np.linalg.det(kernel.K(X,X)+(0.01**2)*np.identity(25)))\n",
        "\n",
        "for i in range (20):\n",
        "  a=a+0.1\n",
        "\n",
        "  kernel1 = GPy.kern.Matern52(input_dim=1,variance=a,lengthscale=1.724,active_dims=[0])\n",
        "  kernel2 = GPy.kern.Matern52(input_dim=1,variance=1,lengthscale=2.072,active_dims=[1])\n",
        "  kernel3 = GPy.kern.Matern52(input_dim=1,variance=1,lengthscale=1.724,active_dims=[0]) \\\n",
        "          * GPy.kern.Matern52(input_dim=1,variance=1,lengthscale=2.072,active_dims=[1])\n",
        "  kernel = kernel1 + kernel2 + kernel3\n",
        "\n",
        "  dKda = GPy.kern.Matern52(input_dim=1,variance=np.sqrt(2*a),lengthscale=2.304,active_dims=[0])\n",
        "\n",
        "  optimizer = GPyOpt.methods.BayesianOptimization(f=rf_score, \n",
        "                                              domain=bounds,\n",
        "                                              acquisition_type ='EI',\n",
        "                                              initial_design_numdata = 5,\n",
        "                                              model_type='GP',\n",
        "                                              maximize=True,\n",
        "                                              kernel=kernel\n",
        "                                              )\n",
        "  optimizer.run_optimization(max_iter=20)\n",
        "  X=(optimizer.X)\n",
        "  m, v = optimizer.model.predict(X)\n",
        "\n",
        "  V = kernel.K(X,X)+(0.01**2)*np.identity(25)\n",
        "  alpha = np.matmul(np.linalg.inv(V), optimizer.Y - m)\n",
        "  dLda = 0.5*(np.matmul(np.matmul(alpha.T,dKda.K(X,X)),alpha) - np.trace(np.matmul(np.linalg.inv(V),dKda.K(X,X))))\n",
        "  log_mll = log_mll + 0.1*dLda\n",
        "  mll = -0.5*np.matmul(np.matmul((optimizer.Y - m).T,np.linalg.inv(kernel.K(X,X)+(0.01**2)*np.identity(25))),(optimizer.Y - m)) \\\n",
        "        -0.5 * np.log(np.linalg.det(kernel.K(X,X)+(0.01**2)*np.identity(25)))\n",
        "  print(f\"log mll by gradient {log_mll}, gradient {dLda}, actual log mll {mll}\")"
      ],
      "metadata": {
        "colab": {
          "base_uri": "https://localhost:8080/"
        },
        "id": "zEbsmLOmI17d",
        "outputId": "3972d0bc-2213-4158-82f2-2844f2325598"
      },
      "execution_count": null,
      "outputs": [
        {
          "output_type": "stream",
          "name": "stdout",
          "text": [
            "log mll by gradient [[18.67502238]], gradient [[0.21780046]], actual log mll [[13.74136793]]\n",
            "log mll by gradient [[18.66575559]], gradient [[-0.09266786]], actual log mll [[20.73620134]]\n",
            "log mll by gradient [[18.67454499]], gradient [[0.08789398]], actual log mll [[51.64340142]]\n",
            "log mll by gradient [[18.55138876]], gradient [[-1.23156229]], actual log mll [[35.85655115]]\n",
            "log mll by gradient [[18.54531998]], gradient [[-0.06068786]], actual log mll [[54.87946645]]\n",
            "log mll by gradient [[18.56600757]], gradient [[0.20687595]], actual log mll [[8.94291955]]\n",
            "log mll by gradient [[19.57472505]], gradient [[10.08717477]], actual log mll [[2.34661925]]\n",
            "log mll by gradient [[19.7729812]], gradient [[1.98256152]], actual log mll [[-3.39100129]]\n",
            "log mll by gradient [[19.76624854]], gradient [[-0.0673266]], actual log mll [[8.13559338]]\n",
            "log mll by gradient [[19.76689778]], gradient [[0.00649242]], actual log mll [[3.59295482]]\n",
            "log mll by gradient [[21.19575431]], gradient [[14.28856526]], actual log mll [[-6.94716013]]\n",
            "log mll by gradient [[21.24031656]], gradient [[0.44562256]], actual log mll [[27.07864975]]\n",
            "log mll by gradient [[21.26373202]], gradient [[0.23415456]], actual log mll [[9.72204375]]\n",
            "log mll by gradient [[21.27736849]], gradient [[0.13636469]], actual log mll [[11.14689305]]\n",
            "log mll by gradient [[21.27604606]], gradient [[-0.01322433]], actual log mll [[32.87040807]]\n",
            "log mll by gradient [[21.32054843]], gradient [[0.44502375]], actual log mll [[25.69707511]]\n",
            "log mll by gradient [[21.32544099]], gradient [[0.04892558]], actual log mll [[55.16298399]]\n",
            "log mll by gradient [[22.97542487]], gradient [[16.4998388]], actual log mll [[4.92299308]]\n",
            "log mll by gradient [[22.97323588]], gradient [[-0.02188983]], actual log mll [[13.40453279]]\n",
            "log mll by gradient [[23.1140162]], gradient [[1.40780317]], actual log mll [[10.46440326]]\n"
          ]
        }
      ]
    },
    {
      "cell_type": "code",
      "source": [
        "b=0.1\n",
        "kernel1 = GPy.kern.Matern52(input_dim=1,variance=1.8,lengthscale=1.724,active_dims=[0])\n",
        "kernel2 = GPy.kern.Matern52(input_dim=1,variance=b,lengthscale=2.072,active_dims=[1])\n",
        "kernel3 = GPy.kern.Matern52(input_dim=1,variance=1,lengthscale=1.724,active_dims=[0]) \\\n",
        "          * GPy.kern.Matern52(input_dim=1,variance=1,lengthscale=2.072,active_dims=[1])\n",
        "kernel = kernel1 + kernel2 + kernel3\n",
        "\n",
        "optimizer = GPyOpt.methods.BayesianOptimization(f=rf_score, \n",
        "                                              domain=bounds,\n",
        "                                              acquisition_type ='EI',\n",
        "                                              initial_design_numdata = 5,\n",
        "                                              model_type='GP',\n",
        "                                              maximize=True,\n",
        "                                              kernel=kernel\n",
        "                                              )\n",
        "optimizer.run_optimization(max_iter=20)\n",
        "\n",
        "X=(optimizer.X)\n",
        "m, v = optimizer.model.predict(X)\n",
        "log_mll = -0.5*np.matmul(np.matmul((optimizer.Y - m).T,np.linalg.inv(kernel.K(X,X)+(0.01**2)*np.identity(25))),(optimizer.Y - m)) \\\n",
        "        -0.5 * np.log(np.linalg.det(kernel.K(X,X)+(0.01**2)*np.identity(25)))\n",
        "\n",
        "for i in range (20):\n",
        "  b=b+0.1\n",
        "\n",
        "  kernel1 = GPy.kern.Matern52(input_dim=1,variance=1.8,lengthscale=1.724,active_dims=[0])\n",
        "  kernel2 = GPy.kern.Matern52(input_dim=1,variance=b,lengthscale=2.072,active_dims=[1])\n",
        "  kernel3 = GPy.kern.Matern52(input_dim=1,variance=1,lengthscale=1.724,active_dims=[0]) \\\n",
        "          * GPy.kern.Matern52(input_dim=1,variance=1,lengthscale=2.072,active_dims=[1])\n",
        "  kernel = kernel1 + kernel2 + kernel3\n",
        "\n",
        "  optimizer = GPyOpt.methods.BayesianOptimization(f=rf_score, \n",
        "                                              domain=bounds,\n",
        "                                              acquisition_type ='EI',\n",
        "                                              initial_design_numdata = 5,\n",
        "                                              model_type='GP',\n",
        "                                              maximize=True,\n",
        "                                              kernel=kernel\n",
        "                                              )\n",
        "  optimizer.run_optimization(max_iter=20)\n",
        "  X=(optimizer.X)\n",
        "  m, v = optimizer.model.predict(X)\n",
        "\n",
        "  mll = -0.5*np.matmul(np.matmul((optimizer.Y - m).T,np.linalg.inv(kernel.K(X,X)+(0.01**2)*np.identity(25))),(optimizer.Y - m)) \\\n",
        "        -0.5 * np.log(np.linalg.det(kernel.K(X,X)+(0.01**2)*np.identity(25)))\n",
        "  print(f\"actual log mll {mll}\")"
      ],
      "metadata": {
        "colab": {
          "base_uri": "https://localhost:8080/"
        },
        "id": "TN55qgvWOSeS",
        "outputId": "0201742a-9ad1-4927-8e6a-fca9da0f4168"
      },
      "execution_count": null,
      "outputs": [
        {
          "output_type": "stream",
          "name": "stdout",
          "text": [
            "actual log mll [[24.70064452]]\n",
            "actual log mll [[8.05359727]]\n",
            "actual log mll [[20.34756473]]\n",
            "actual log mll [[16.1916133]]\n",
            "actual log mll [[-3.83837325]]\n",
            "actual log mll [[45.30778499]]\n",
            "actual log mll [[27.65665177]]\n",
            "actual log mll [[22.20746718]]\n",
            "actual log mll [[6.23083525]]\n",
            "actual log mll [[26.19039719]]\n",
            "actual log mll [[16.05892655]]\n",
            "actual log mll [[30.39869836]]\n",
            "actual log mll [[10.94356066]]\n",
            "actual log mll [[14.72895135]]\n",
            "actual log mll [[-6.52609453]]\n",
            "actual log mll [[10.48099976]]\n",
            "actual log mll [[6.67798533]]\n",
            "actual log mll [[-8.10355217]]\n",
            "actual log mll [[4.1745958]]\n",
            "actual log mll [[5.57816831]]\n"
          ]
        }
      ]
    },
    {
      "cell_type": "code",
      "source": [
        "c=0.1\n",
        "kernel1 = GPy.kern.Matern52(input_dim=1,variance=1.8,lengthscale=1.724,active_dims=[0])\n",
        "kernel2 = GPy.kern.Matern52(input_dim=1,variance=0.7,lengthscale=2.072,active_dims=[1])\n",
        "kernel3 = GPy.kern.Matern52(input_dim=1,variance=c,lengthscale=1.724,active_dims=[0]) \\\n",
        "          * GPy.kern.Matern52(input_dim=1,variance=1,lengthscale=2.072,active_dims=[1])\n",
        "kernel = kernel1 + kernel2 + kernel3\n",
        "\n",
        "optimizer = GPyOpt.methods.BayesianOptimization(f=rf_score, \n",
        "                                              domain=bounds,\n",
        "                                              acquisition_type ='EI',\n",
        "                                              initial_design_numdata = 5,\n",
        "                                              model_type='GP',\n",
        "                                              maximize=True,\n",
        "                                              kernel=kernel\n",
        "                                              )\n",
        "optimizer.run_optimization(max_iter=20)\n",
        "\n",
        "X=(optimizer.X)\n",
        "m, v = optimizer.model.predict(X)\n",
        "log_mll = -0.5*np.matmul(np.matmul((optimizer.Y - m).T,np.linalg.inv(kernel.K(X,X)+(0.01**2)*np.identity(25))),(optimizer.Y - m)) \\\n",
        "        -0.5 * np.log(np.linalg.det(kernel.K(X,X)+(0.01**2)*np.identity(25)))\n",
        "\n",
        "for i in range (20):\n",
        "  c=c+0.1\n",
        "\n",
        "  kernel1 = GPy.kern.Matern52(input_dim=1,variance=1.8,lengthscale=1.724,active_dims=[0])\n",
        "  kernel2 = GPy.kern.Matern52(input_dim=1,variance=0.7,lengthscale=2.072,active_dims=[1])\n",
        "  kernel3 = GPy.kern.Matern52(input_dim=1,variance=c,lengthscale=1.724,active_dims=[0]) \\\n",
        "          * GPy.kern.Matern52(input_dim=1,variance=1,lengthscale=2.072,active_dims=[1])\n",
        "  kernel = kernel1 + kernel2 + kernel3\n",
        "\n",
        "\n",
        "  optimizer = GPyOpt.methods.BayesianOptimization(f=rf_score, \n",
        "                                              domain=bounds,\n",
        "                                              acquisition_type ='EI',\n",
        "                                              initial_design_numdata = 5,\n",
        "                                              model_type='GP',\n",
        "                                              maximize=True,\n",
        "                                              kernel=kernel\n",
        "                                              )\n",
        "  optimizer.run_optimization(max_iter=20)\n",
        "  X=(optimizer.X)\n",
        "  m, v = optimizer.model.predict(X)\n",
        "\n",
        "\n",
        "  mll = -0.5*np.matmul(np.matmul((optimizer.Y - m).T,np.linalg.inv(kernel.K(X,X)+(0.01**2)*np.identity(25))),(optimizer.Y - m)) \\\n",
        "        -0.5 * np.log(np.linalg.det(kernel.K(X,X)+(0.01**2)*np.identity(25)))\n",
        "  print(f\"log mll {mll}\")"
      ],
      "metadata": {
        "colab": {
          "base_uri": "https://localhost:8080/"
        },
        "id": "ukGhK39aajCh",
        "outputId": "7ed21ba7-3a1d-42ea-b758-7529ba32b83a"
      },
      "execution_count": null,
      "outputs": [
        {
          "output_type": "stream",
          "name": "stdout",
          "text": [
            "log mll [[23.00786976]]\n",
            "log mll [[15.02616386]]\n",
            "log mll [[18.35834232]]\n",
            "log mll [[13.41533129]]\n",
            "log mll [[8.24073597]]\n",
            "log mll [[12.01250179]]\n",
            "log mll [[16.59050416]]\n",
            "log mll [[23.05959361]]\n",
            "log mll [[36.18409071]]\n",
            "log mll [[41.66290543]]\n",
            "log mll [[8.07952946]]\n",
            "log mll [[20.75046259]]\n",
            "log mll [[9.3886804]]\n",
            "log mll [[46.02501573]]\n",
            "log mll [[12.25331041]]\n",
            "log mll [[11.68793089]]\n",
            "log mll [[11.48942474]]\n",
            "log mll [[7.94350897]]\n",
            "log mll [[9.24743139]]\n",
            "log mll [[19.70221079]]\n"
          ]
        }
      ]
    },
    {
      "cell_type": "code",
      "source": [
        "kernel1 = GPy.kern.Matern52(input_dim=1,variance=1.8,lengthscale=1.724,active_dims=[0])\n",
        "kernel2 = GPy.kern.Matern52(input_dim=1,variance=0.7,lengthscale=2.072,active_dims=[1])\n",
        "kernel3 = GPy.kern.Matern52(input_dim=1,variance=1.5,lengthscale=1.724,active_dims=[0]) \\\n",
        "        * GPy.kern.Matern52(input_dim=1,variance=1,lengthscale=2.072,active_dims=[1])\n",
        "kernel = kernel1 + kernel2 + kernel3\n",
        "\n",
        "\n",
        "optimizer = GPyOpt.methods.BayesianOptimization(f=rf_score, \n",
        "                                            domain=bounds,\n",
        "                                            acquisition_type ='EI',\n",
        "                                            initial_design_numdata = 5,\n",
        "                                            model_type='GP',\n",
        "                                            maximize=True,\n",
        "                                            kernel=kernel\n",
        "                                            )\n",
        "optimizer.run_optimization(max_iter=20)\n",
        "X=(optimizer.X)\n",
        "m, v = optimizer.model.predict(X)\n",
        "\n",
        "\n",
        "mll = -0.5*np.matmul(np.matmul((optimizer.Y - m).T,np.linalg.inv(kernel.K(X,X)+(0.01**2)*np.identity(25))),(optimizer.Y - m)) \\\n",
        "      -0.5 * np.log(np.linalg.det(kernel.K(X,X)+(0.01**2)*np.identity(25)))\n",
        "print(f\"log mll {mll}\")"
      ],
      "metadata": {
        "colab": {
          "base_uri": "https://localhost:8080/"
        },
        "id": "SyrklwpMjAzL",
        "outputId": "77b22f44-6aed-4c08-901f-929c7e5754f4"
      },
      "execution_count": null,
      "outputs": [
        {
          "output_type": "stream",
          "name": "stdout",
          "text": [
            "log mll [[30.88945231]]\n"
          ]
        }
      ]
    },
    {
      "cell_type": "code",
      "source": [
        "a=1.8\n",
        "kernel1 = GPy.kern.Matern52(input_dim=1,variance=a,lengthscale=1.724,active_dims=[0])\n",
        "kernel2 = GPy.kern.Matern52(input_dim=1,variance=1,lengthscale=2.072,active_dims=[1])\n",
        "kernel3 = GPy.kern.Matern52(input_dim=1,variance=1,lengthscale=1.724,active_dims=[0]) \\\n",
        "          * GPy.kern.Matern52(input_dim=1,variance=1,lengthscale=2.072,active_dims=[1])\n",
        "kernel = kernel1 + kernel2 + kernel3\n",
        "\n",
        "optimizer = GPyOpt.methods.BayesianOptimization(f=rf_score, \n",
        "                                              domain=bounds,\n",
        "                                              acquisition_type ='EI',\n",
        "                                              initial_design_numdata = 5,\n",
        "                                              model_type='GP',\n",
        "                                              maximize=True,\n",
        "                                              kernel=kernel\n",
        "                                              )\n",
        "optimizer.run_optimization(max_iter=20)\n",
        "\n",
        "X=(optimizer.X)\n",
        "m, v = optimizer.model.predict(X)\n",
        "log_mll = -0.5*np.matmul(np.matmul((optimizer.Y - m).T,np.linalg.inv(kernel.K(X,X)+(0.01**2)*np.identity(25))),(optimizer.Y - m)) \\\n",
        "        -0.5 * np.log(np.linalg.det(kernel.K(X,X)+(0.01**2)*np.identity(25)))\n",
        "\n",
        "for i in range (20):\n",
        "  a=a+0.1\n",
        "\n",
        "  kernel1 = GPy.kern.Matern52(input_dim=1,variance=a,lengthscale=1.724,active_dims=[0])\n",
        "  kernel2 = GPy.kern.Matern52(input_dim=1,variance=1,lengthscale=2.072,active_dims=[1])\n",
        "  kernel3 = GPy.kern.Matern52(input_dim=1,variance=1,lengthscale=1.724,active_dims=[0]) \\\n",
        "          * GPy.kern.Matern52(input_dim=1,variance=1,lengthscale=2.072,active_dims=[1])\n",
        "  kernel = kernel1 + kernel2 + kernel3\n",
        "\n",
        "\n",
        "  optimizer = GPyOpt.methods.BayesianOptimization(f=rf_score, \n",
        "                                              domain=bounds,\n",
        "                                              acquisition_type ='EI',\n",
        "                                              initial_design_numdata = 5,\n",
        "                                              model_type='GP',\n",
        "                                              maximize=True,\n",
        "                                              kernel=kernel\n",
        "                                              )\n",
        "  optimizer.run_optimization(max_iter=20)\n",
        "  X=(optimizer.X)\n",
        "  m, v = optimizer.model.predict(X)\n",
        "\n",
        "\n",
        "  mll = -0.5*np.matmul(np.matmul((optimizer.Y - m).T,np.linalg.inv(kernel.K(X,X)+(0.01**2)*np.identity(25))),(optimizer.Y - m)) \\\n",
        "        -0.5 * np.log(np.linalg.det(kernel.K(X,X)+(0.01**2)*np.identity(25)))\n",
        "  print(f\"log mll {mll}\")"
      ],
      "metadata": {
        "colab": {
          "base_uri": "https://localhost:8080/"
        },
        "id": "5qMXUc7fsqCx",
        "outputId": "baef32bb-23cc-4f27-f6a0-9632d1f455ed"
      },
      "execution_count": null,
      "outputs": [
        {
          "output_type": "stream",
          "name": "stdout",
          "text": [
            "log mll [[8.83058536]]\n",
            "log mll [[-1.4114498]]\n",
            "log mll [[36.39111019]]\n",
            "log mll [[65.57276834]]\n",
            "log mll [[57.18723464]]\n",
            "log mll [[2.68641959]]\n",
            "log mll [[4.93482168]]\n",
            "log mll [[6.33786892]]\n",
            "log mll [[17.20009193]]\n",
            "log mll [[17.82449856]]\n",
            "log mll [[1.22127609]]\n",
            "log mll [[21.92234817]]\n",
            "log mll [[12.50549411]]\n",
            "log mll [[14.17611472]]\n",
            "log mll [[7.27473455]]\n",
            "log mll [[11.98248328]]\n",
            "log mll [[54.53132978]]\n",
            "log mll [[19.64626978]]\n",
            "log mll [[18.75587603]]\n",
            "log mll [[60.2008362]]\n"
          ]
        }
      ]
    },
    {
      "cell_type": "code",
      "source": [
        "a=3.7\n",
        "kernel1 = GPy.kern.Matern52(input_dim=1,variance=a,lengthscale=1.724,active_dims=[0])\n",
        "kernel2 = GPy.kern.Matern52(input_dim=1,variance=1,lengthscale=2.072,active_dims=[1])\n",
        "kernel3 = GPy.kern.Matern52(input_dim=1,variance=1,lengthscale=1.724,active_dims=[0]) \\\n",
        "          * GPy.kern.Matern52(input_dim=1,variance=1,lengthscale=2.072,active_dims=[1])\n",
        "kernel = kernel1 + kernel2 + kernel3\n",
        "\n",
        "optimizer = GPyOpt.methods.BayesianOptimization(f=rf_score, \n",
        "                                              domain=bounds,\n",
        "                                              acquisition_type ='EI',\n",
        "                                              initial_design_numdata = 5,\n",
        "                                              model_type='GP',\n",
        "                                              maximize=True,\n",
        "                                              kernel=kernel\n",
        "                                              )\n",
        "optimizer.run_optimization(max_iter=20)\n",
        "\n",
        "X=(optimizer.X)\n",
        "m, v = optimizer.model.predict(X)\n",
        "log_mll = -0.5*np.matmul(np.matmul((optimizer.Y - m).T,np.linalg.inv(kernel.K(X,X)+(0.01**2)*np.identity(25))),(optimizer.Y - m)) \\\n",
        "        -0.5 * np.log(np.linalg.det(kernel.K(X,X)+(0.01**2)*np.identity(25)))\n",
        "\n",
        "for i in range (20):\n",
        "  a=a+0.1\n",
        "\n",
        "  kernel1 = GPy.kern.Matern52(input_dim=1,variance=a,lengthscale=1.724,active_dims=[0])\n",
        "  kernel2 = GPy.kern.Matern52(input_dim=1,variance=1,lengthscale=2.072,active_dims=[1])\n",
        "  kernel3 = GPy.kern.Matern52(input_dim=1,variance=1,lengthscale=1.724,active_dims=[0]) \\\n",
        "          * GPy.kern.Matern52(input_dim=1,variance=1,lengthscale=2.072,active_dims=[1])\n",
        "  kernel = kernel1 + kernel2 + kernel3\n",
        "\n",
        "\n",
        "  optimizer = GPyOpt.methods.BayesianOptimization(f=rf_score, \n",
        "                                              domain=bounds,\n",
        "                                              acquisition_type ='EI',\n",
        "                                              initial_design_numdata = 5,\n",
        "                                              model_type='GP',\n",
        "                                              maximize=True,\n",
        "                                              kernel=kernel\n",
        "                                              )\n",
        "  optimizer.run_optimization(max_iter=20)\n",
        "  X=(optimizer.X)\n",
        "  m, v = optimizer.model.predict(X)\n",
        "\n",
        "\n",
        "  mll = -0.5*np.matmul(np.matmul((optimizer.Y - m).T,np.linalg.inv(kernel.K(X,X)+(0.01**2)*np.identity(25))),(optimizer.Y - m)) \\\n",
        "        -0.5 * np.log(np.linalg.det(kernel.K(X,X)+(0.01**2)*np.identity(25)))\n",
        "  print(f\"log mll {mll}\")"
      ],
      "metadata": {
        "colab": {
          "base_uri": "https://localhost:8080/"
        },
        "id": "LfDAHhezwShb",
        "outputId": "e2fa65b8-cf60-478d-8559-3deb18db50fe"
      },
      "execution_count": null,
      "outputs": [
        {
          "output_type": "stream",
          "name": "stdout",
          "text": [
            "log mll [[3.16349842]]\n",
            "log mll [[6.62187982]]\n",
            "log mll [[10.92185173]]\n",
            "log mll [[9.54537848]]\n",
            "log mll [[11.19961223]]\n",
            "log mll [[17.10837057]]\n",
            "log mll [[9.26555061]]\n",
            "log mll [[24.29794283]]\n",
            "log mll [[-1.99763586]]\n",
            "log mll [[8.79957928]]\n",
            "log mll [[14.12159838]]\n",
            "log mll [[-12.41554257]]\n",
            "log mll [[5.39953044]]\n",
            "log mll [[4.55661649]]\n",
            "log mll [[16.98425706]]\n",
            "log mll [[16.87645924]]\n",
            "log mll [[22.03140927]]\n",
            "log mll [[17.44019778]]\n",
            "log mll [[-3.43676369]]\n",
            "log mll [[8.87138316]]\n"
          ]
        }
      ]
    },
    {
      "cell_type": "code",
      "source": [
        "kernel1 = GPy.kern.Matern52(input_dim=1,variance=1.8,lengthscale=1.724,active_dims=[0])\n",
        "kernel2 = GPy.kern.Matern52(input_dim=1,variance=0.7,lengthscale=2.072,active_dims=[1])\n",
        "kernel3 = GPy.kern.Matern52(input_dim=1,variance=1.5,lengthscale=1.724,active_dims=[0]) \\\n",
        "        * GPy.kern.Matern52(input_dim=1,variance=1,lengthscale=2.072,active_dims=[1])\n",
        "kernel = kernel1 + kernel2 + kernel3\n",
        "\n",
        "\n",
        "optimizer = GPyOpt.methods.BayesianOptimization(f=rf_score, \n",
        "                                            domain=bounds,\n",
        "                                            acquisition_type ='EI',\n",
        "                                            initial_design_numdata = 5,\n",
        "                                            model_type='GP',\n",
        "                                            maximize=True,\n",
        "                                            kernel=kernel\n",
        "                                            )\n",
        "optimizer.run_optimization(max_iter=20)\n",
        "X=(optimizer.X)\n",
        "m, v = optimizer.model.predict(X)\n",
        "\n",
        "\n",
        "mll = -0.5*np.matmul(np.matmul((optimizer.Y - m).T,np.linalg.inv(kernel.K(X,X)+(0.01**2)*np.identity(25))),(optimizer.Y - m)) \\\n",
        "      -0.5 * np.log(np.linalg.det(kernel.K(X,X)+(0.01**2)*np.identity(25)))\n",
        "print(f\"log mll {mll}\")"
      ],
      "metadata": {
        "colab": {
          "base_uri": "https://localhost:8080/"
        },
        "id": "cAuiUN7_6iAI",
        "outputId": "55436636-67e0-43ef-b84a-20a8b4ef026a"
      },
      "execution_count": null,
      "outputs": [
        {
          "output_type": "stream",
          "name": "stdout",
          "text": [
            "log mll [[76.45898779]]\n"
          ]
        }
      ]
    },
    {
      "cell_type": "code",
      "source": [
        "l1=[2.072,1.753,0.361,1.173,0.477,1.811,1.724,2.507,2.565,1.463,1.26,2.014,2.507,1.724,2.7969999999999997,\n",
        "   0.9699999999999999,2.71,2.6519999999999997,2.014,2.536,2.304,2.507,0.245,1.028,2.3329999999999997,1.8399999999999999,0.506,0.7379999999999999,\n",
        "   0.9989999999999999,1.956]\n",
        "l2=[2.913,0.7669999999999999,1.057,1.579,2.449,2.7969999999999997,2.072,0.477,2.594,1.26,1.55,1.9849999999999999,\n",
        "    2.304,1.9849999999999999,2.681,0.129,0.129,2.217,0.245,1.115,0.361,0.216,1.695,2.768,\n",
        "    0.274,2.014,2.188,1.1440000000000001,1.724,0.6799999999999999]\n",
        "mll=[-5.4090463,-0.49356598,3.80974492,16.33640354,1.71432653,0.84616946,54.97415783,11.96018802,37.26561077,\n",
        "     2.86872855,24.34740288,27.86286008,59.75321257,10.61102236,0.13844341,44.03325657,1.16476191,-4.47027069,\n",
        "     5.73547299,-14.28301788,63.45799722,8.22819776,35.07772971,7.16100087,10.60579778,9.38131343,13.02192667,\n",
        "     17.02160038,9.52288739,14.75645887]\n",
        "\n",
        "sns.scatterplot(x=l1,y=l2,hue=mll)"
      ],
      "metadata": {
        "colab": {
          "base_uri": "https://localhost:8080/",
          "height": 448
        },
        "id": "84b2QLbRLcqK",
        "outputId": "4c7f3fb1-aa1f-4e02-a5c5-7e67326edc11"
      },
      "execution_count": null,
      "outputs": [
        {
          "output_type": "execute_result",
          "data": {
            "text/plain": [
              "<Axes: >"
            ]
          },
          "metadata": {},
          "execution_count": 18
        },
        {
          "output_type": "display_data",
          "data": {
            "text/plain": [
              "<Figure size 640x480 with 1 Axes>"
            ],
            "image/png": "[encoded data removed]"
          },
          "metadata": {}
        }
      ]
    },
    {
      "cell_type": "code",
      "source": [
        "for i in range(30):\n",
        "  l1_=random.choice(l1)\n",
        "  l2_=random.choice(l2)\n",
        "\n",
        "  kernel1 = GPy.kern.Matern52(input_dim=1,lengthscale=l1_,active_dims=[0])\n",
        "  kernel2 = GPy.kern.Matern52(input_dim=1,lengthscale=l2_,active_dims=[1])\n",
        "  kernel3 = GPy.kern.Matern52(input_dim=1,lengthscale=l1_,active_dims=[0]) \\\n",
        "          * GPy.kern.Matern52(input_dim=1,lengthscale=l2_,active_dims=[1])\n",
        "  kernel = kernel1 + kernel2 + kernel3\n",
        "  mll = BO(rf_score,kernel)\n",
        "  print(\"l1 =\", l1_, \"l2 =\", l2_, \"mll =\", mll)"
      ],
      "metadata": {
        "id": "FQuk1R7P6SBj",
        "colab": {
          "base_uri": "https://localhost:8080/"
        },
        "outputId": "74a6b142-8631-4c4d-c0a4-d8170f0ff47f"
      },
      "execution_count": null,
      "outputs": [
        {
          "output_type": "stream",
          "name": "stdout",
          "text": [
            "l1 = 2.072 l2 = 2.913 mll = [[-5.4090463]]\n",
            "l1 = 1.753 l2 = 0.7669999999999999 mll = [[-0.49356598]]\n",
            "l1 = 0.361 l2 = 1.057 mll = [[3.80974492]]\n",
            "l1 = 1.173 l2 = 1.579 mll = [[16.33640354]]\n",
            "l1 = 0.477 l2 = 2.449 mll = [[1.71432653]]\n",
            "l1 = 1.811 l2 = 2.7969999999999997 mll = [[0.84616946]]\n",
            "l1 = 1.724 l2 = 2.072 mll = [[54.97415783]]\n",
            "l1 = 2.507 l2 = 0.477 mll = [[11.96018802]]\n",
            "l1 = 2.565 l2 = 2.594 mll = [[37.26561077]]\n",
            "l1 = 1.463 l2 = 1.26 mll = [[2.86872855]]\n",
            "l1 = 1.26 l2 = 1.55 mll = [[24.34740288]]\n",
            "l1 = 2.014 l2 = 1.9849999999999999 mll = [[27.86286008]]\n",
            "l1 = 2.507 l2 = 2.304 mll = [[59.75321257]]\n",
            "l1 = 1.724 l2 = 1.9849999999999999 mll = [[10.61102236]]\n",
            "l1 = 2.7969999999999997 l2 = 2.681 mll = [[0.13844341]]\n",
            "l1 = 0.9699999999999999 l2 = 0.129 mll = [[44.03325657]]\n",
            "l1 = 2.71 l2 = 0.129 mll = [[1.16476191]]\n",
            "l1 = 2.6519999999999997 l2 = 2.217 mll = [[-4.47027069]]\n",
            "l1 = 2.014 l2 = 0.245 mll = [[5.73547299]]\n",
            "l1 = 2.536 l2 = 1.115 mll = [[-14.28301788]]\n",
            "l1 = 2.304 l2 = 0.361 mll = [[63.45799722]]\n",
            "l1 = 2.507 l2 = 0.216 mll = [[8.22819776]]\n",
            "l1 = 0.245 l2 = 1.695 mll = [[35.07772971]]\n",
            "l1 = 1.028 l2 = 2.768 mll = [[7.16100087]]\n",
            "l1 = 2.3329999999999997 l2 = 0.274 mll = [[10.60579778]]\n",
            "l1 = 1.8399999999999999 l2 = 2.014 mll = [[9.38131343]]\n",
            "l1 = 0.506 l2 = 2.188 mll = [[13.02192667]]\n",
            "l1 = 0.7379999999999999 l2 = 1.1440000000000001 mll = [[17.02160038]]\n",
            "l1 = 0.9989999999999999 l2 = 1.724 mll = [[9.52288739]]\n",
            "l1 = 1.956 l2 = 0.6799999999999999 mll = [[14.75645887]]\n"
          ]
        }
      ]
    },
    {
      "cell_type": "code",
      "source": [
        "def BO(model,kernel):\n",
        "  optimizer = GPyOpt.methods.BayesianOptimization(f=model, \n",
        "                                                domain=bounds,\n",
        "                                                acquisition_type ='EI',\n",
        "                                                initial_design_numdata = 5,\n",
        "                                                model_type='GP',\n",
        "                                                maximize=True,\n",
        "                                                kernel=kernel\n",
        "                                                )\n",
        "  optimizer.run_optimization(max_iter=20)\n",
        "\n",
        "  X=(optimizer.X)\n",
        "  m, v = optimizer.model.predict(X)\n",
        "  log_mll = -0.5*np.matmul(np.matmul((optimizer.Y - m).T,np.linalg.inv(kernel.K(X,X)+(0.01**2)*np.identity(25))),(optimizer.Y - m)) \\\n",
        "          -0.5 * np.log(np.linalg.det(kernel.K(X,X)+(0.01**2)*np.identity(25))) - np.size(X_train) * 0.5 * np.log(2*np.pi)\n",
        "  return log_mll"
      ],
      "metadata": {
        "id": "MR6Pdp6BDz7Z"
      },
      "execution_count": null,
      "outputs": []
    },
    {
      "cell_type": "code",
      "source": [
        "score_rf=[]\n",
        "v1_list=[]\n",
        "l1_list=[]\n",
        "v2_list=[]\n",
        "l2_list=[]\n",
        "\n",
        "for i in range(30):\n",
        "  v1_=random.choice(v1)\n",
        "  v1_list.append(v1_)\n",
        "  l1_=random.choice(l1)\n",
        "  l1_list.append(l1_)\n",
        "  v2_=random.choice(v2)\n",
        "  v2_list.append(v2_)\n",
        "  l2_=random.choice(l2)\n",
        "  l2_list.append(l2_)\n",
        "\n",
        "  kernel1 = GPy.kern.Matern52(input_dim=1,variance=v1_,lengthscale=l1_,active_dims=[0])\n",
        "  kernel2 = GPy.kern.Matern52(input_dim=1,variance=v2_,lengthscale=l2_,active_dims=[1])\n",
        "  kernel3 = GPy.kern.Matern52(input_dim=1,variance=v1_,lengthscale=l1_,active_dims=[0]) \\\n",
        "          * GPy.kern.Matern52(input_dim=1,variance=v2_,lengthscale=l2_,active_dims=[1])\n",
        "  kernel = kernel1 + kernel2 + kernel3\n",
        "  mll = BO(rf_score,kernel)\n",
        "  score_rf.append(mll)\n",
        "\n",
        "  print(\"v1 =\", v1_, \"l1 =\", l1_, \"v2 =\", v2_, \"l2 =\", l2_, \"mll =\", mll)"
      ],
      "metadata": {
        "colab": {
          "base_uri": "https://localhost:8080/"
        },
        "id": "ZWdOWxyN7FU2",
        "outputId": "95b74b5e-f5ce-4480-a4cb-2e1738d3b616"
      },
      "execution_count": null,
      "outputs": [
        {
          "output_type": "stream",
          "name": "stdout",
          "text": [
            "v1 = 1.27 l1 = 1.3900000000000001 v2 = 1.44 l2 = 0.8200000000000001 mll = [[11.64043728]]\n",
            "v1 = 0.87 l1 = 0.62 v2 = 0.6799999999999999 l2 = 1.3399999999999999 mll = [[3.54728323]]\n",
            "v1 = 0.62 l1 = 1.4500000000000002 v2 = 0.73 l2 = 1.23 mll = [[3.02665051]]\n",
            "v1 = 1.1 l1 = 1.0 v2 = 1.21 l2 = 0.6 mll = [[10.97874664]]\n",
            "v1 = 1.27 l1 = 0.98 v2 = 1.21 l2 = 0.78 mll = [[19.38325669]]\n",
            "v1 = 1.38 l1 = 1.03 v2 = 0.55 l2 = 1.06 mll = [[55.79627004]]\n",
            "v1 = 1.27 l1 = 0.87 v2 = 1.02 l2 = 1.06 mll = [[32.7634212]]\n",
            "v1 = 0.62 l1 = 1.19 v2 = 1.49 l2 = 1.03 mll = [[14.2548648]]\n",
            "v1 = 0.59 l1 = 1.26 v2 = 1.0 l2 = 1.44 mll = [[2.53304514]]\n",
            "v1 = 0.55 l1 = 0.81 v2 = 0.61 l2 = 0.55 mll = [[5.47411696]]\n",
            "v1 = 1.22 l1 = 0.67 v2 = 0.96 l2 = 1.47 mll = [[45.72970394]]\n",
            "v1 = 1.35 l1 = 0.54 v2 = 1.1 l2 = 0.64 mll = [[38.98716722]]\n",
            "v1 = 0.6799999999999999 l1 = 0.88 v2 = 0.8400000000000001 l2 = 0.8 mll = [[2.37304338]]\n",
            "v1 = 1.47 l1 = 1.13 v2 = 0.79 l2 = 0.86 mll = [[-4.05377273]]\n",
            "v1 = 0.71 l1 = 0.97 v2 = 1.35 l2 = 0.61 mll = [[12.8286587]]\n",
            "v1 = 1.22 l1 = 0.9199999999999999 v2 = 0.8200000000000001 l2 = 1.38 mll = [[13.8359623]]\n",
            "v1 = 1.32 l1 = 1.0899999999999999 v2 = 0.64 l2 = 0.87 mll = [[-4.51618335]]\n",
            "v1 = 1.38 l1 = 0.56 v2 = 1.32 l2 = 0.59 mll = [[-2.2175619]]\n",
            "v1 = 0.61 l1 = 1.49 v2 = 0.87 l2 = 1.29 mll = [[30.2589142]]\n",
            "v1 = 1.2000000000000002 l1 = 1.3599999999999999 v2 = 1.1 l2 = 0.6799999999999999 mll = [[10.43595973]]\n",
            "v1 = 0.94 l1 = 0.9299999999999999 v2 = 1.25 l2 = 0.5 mll = [[7.29140145]]\n",
            "v1 = 0.65 l1 = 0.74 v2 = 1.32 l2 = 1.47 mll = [[2.18531348]]\n",
            "v1 = 1.38 l1 = 0.64 v2 = 1.32 l2 = 0.9299999999999999 mll = [[10.1772555]]\n",
            "v1 = 1.0899999999999999 l1 = 1.31 v2 = 1.3599999999999999 l2 = 0.8300000000000001 mll = [[-5.04678066]]\n",
            "v1 = 1.1 l1 = 1.04 v2 = 1.4 l2 = 0.78 mll = [[35.83698492]]\n",
            "v1 = 0.8400000000000001 l1 = 1.47 v2 = 0.81 l2 = 1.1800000000000002 mll = [[8.10071922]]\n",
            "v1 = 1.38 l1 = 0.67 v2 = 0.58 l2 = 0.8200000000000001 mll = [[17.08947327]]\n",
            "v1 = 1.02 l1 = 1.28 v2 = 1.02 l2 = 1.1 mll = [[10.92207374]]\n",
            "v1 = 0.9199999999999999 l1 = 1.44 v2 = 1.1 l2 = 0.72 mll = [[7.46900644]]\n",
            "v1 = 0.81 l1 = 0.72 v2 = 1.3900000000000001 l2 = 0.8300000000000001 mll = [[1.37415241]]\n"
          ]
        }
      ]
    },
    {
      "cell_type": "code",
      "source": [
        "kernel1 = GPy.kern.Matern52(input_dim=1,variance=1.38,lengthscale=1.03,active_dims=[0])\n",
        "kernel2 = GPy.kern.Matern52(input_dim=1,variance=0.55,lengthscale=1.06,active_dims=[1])\n",
        "kernel3 = GPy.kern.Matern52(input_dim=1,variance=1.38,lengthscale=1.03,active_dims=[0]) \\\n",
        "         * GPy.kern.Matern52(input_dim=1,variance=0.55,lengthscale=1.06,active_dims=[1])\n",
        "kernel = kernel1 + kernel2 + kernel3"
      ],
      "metadata": {
        "id": "RhPpU4XOldhp"
      },
      "execution_count": null,
      "outputs": []
    }
  ]
}
