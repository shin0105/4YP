{
  "nbformat": 4,
  "nbformat_minor": 0,
  "metadata": {
    "colab": {
      "provenance": [],
      "authorship_tag": "ABX9TyNpTlErb/TadWOmz/EnlVYh",
      "include_colab_link": true
    },
    "kernelspec": {
      "name": "python3",
      "display_name": "Python 3"
    },
    "language_info": {
      "name": "python"
    }
  },
  "cells": [
    {
      "cell_type": "markdown",
      "metadata": {
        "id": "view-in-github",
        "colab_type": "text"
      },
      "source": [
        "<a href=\"https://colab.research.google.com/github/shin0105/4YP/blob/main/SVM_optimizer_tuning.ipynb\" target=\"_parent\"><img src=\"https://colab.research.google.com/assets/colab-badge.svg\" alt=\"Open In Colab\"/></a>"
      ]
    },
    {
      "cell_type": "code",
      "execution_count": null,
      "metadata": {
        "id": "rLPXTuwQovwn"
      },
      "outputs": [],
      "source": [
        "!pip install GPyOpt --quiet\n",
        "!pip install GPy --quiet"
      ]
    },
    {
      "cell_type": "code",
      "source": [
        "#import packages\n",
        "\n",
        "#basic packages\n",
        "import pandas as pd\n",
        "import numpy as np\n",
        "import matplotlib.pyplot as plt\n",
        "import seaborn as sns\n",
        "from mpl_toolkits import mplot3d\n",
        "import random\n",
        "\n",
        "#Bayesian optimization packages\n",
        "import GPy\n",
        "import GPyOpt\n",
        "\n",
        "#ML Algorithm packages\n",
        "from sklearn.model_selection import train_test_split, cross_val_score, StratifiedKFold\n",
        "from sklearn.metrics import confusion_matrix, accuracy_score, classification_report\n",
        "from sklearn.ensemble import RandomForestClassifier\n",
        "from sklearn.neighbors import KNeighborsClassifier\n",
        "from sklearn import svm\n",
        "from sklearn import preprocessing\n",
        "\n",
        "from scipy.optimize import minimize"
      ],
      "metadata": {
        "id": "RHLDk0wJqQHz"
      },
      "execution_count": 2,
      "outputs": []
    },
    {
      "cell_type": "code",
      "source": [
        "#dataset = UCI Car Evaluation\n",
        "names=['buying','maint','doors','persons','lug_boot','safety','class']\n",
        "df = pd.read_csv('car.data', names = names)\n",
        "df.head()"
      ],
      "metadata": {
        "colab": {
          "base_uri": "https://localhost:8080/",
          "height": 206
        },
        "id": "sefirBbFuqWz",
        "outputId": "700d9ada-3359-4206-ebac-7941c6c83214"
      },
      "execution_count": 3,
      "outputs": [
        {
          "output_type": "execute_result",
          "data": {
            "text/plain": [
              "  buying  maint doors persons lug_boot safety  class\n",
              "0  vhigh  vhigh     2       2    small    low  unacc\n",
              "1  vhigh  vhigh     2       2    small    med  unacc\n",
              "2  vhigh  vhigh     2       2    small   high  unacc\n",
              "3  vhigh  vhigh     2       2      med    low  unacc\n",
              "4  vhigh  vhigh     2       2      med    med  unacc"
            ],
            "text/html": [
              "\n",
              "  <div id=\"df-a3c23cb7-9b36-4f8a-b8ea-b7901ee28f1a\">\n",
              "    <div class=\"colab-df-container\">\n",
              "      <div>\n",
              "<style scoped>\n",
              "    .dataframe tbody tr th:only-of-type {\n",
              "        vertical-align: middle;\n",
              "    }\n",
              "\n",
              "    .dataframe tbody tr th {\n",
              "        vertical-align: top;\n",
              "    }\n",
              "\n",
              "    .dataframe thead th {\n",
              "        text-align: right;\n",
              "    }\n",
              "</style>\n",
              "<table border=\"1\" class=\"dataframe\">\n",
              "  <thead>\n",
              "    <tr style=\"text-align: right;\">\n",
              "      <th></th>\n",
              "      <th>buying</th>\n",
              "      <th>maint</th>\n",
              "      <th>doors</th>\n",
              "      <th>persons</th>\n",
              "      <th>lug_boot</th>\n",
              "      <th>safety</th>\n",
              "      <th>class</th>\n",
              "    </tr>\n",
              "  </thead>\n",
              "  <tbody>\n",
              "    <tr>\n",
              "      <th>0</th>\n",
              "      <td>vhigh</td>\n",
              "      <td>vhigh</td>\n",
              "      <td>2</td>\n",
              "      <td>2</td>\n",
              "      <td>small</td>\n",
              "      <td>low</td>\n",
              "      <td>unacc</td>\n",
              "    </tr>\n",
              "    <tr>\n",
              "      <th>1</th>\n",
              "      <td>vhigh</td>\n",
              "      <td>vhigh</td>\n",
              "      <td>2</td>\n",
              "      <td>2</td>\n",
              "      <td>small</td>\n",
              "      <td>med</td>\n",
              "      <td>unacc</td>\n",
              "    </tr>\n",
              "    <tr>\n",
              "      <th>2</th>\n",
              "      <td>vhigh</td>\n",
              "      <td>vhigh</td>\n",
              "      <td>2</td>\n",
              "      <td>2</td>\n",
              "      <td>small</td>\n",
              "      <td>high</td>\n",
              "      <td>unacc</td>\n",
              "    </tr>\n",
              "    <tr>\n",
              "      <th>3</th>\n",
              "      <td>vhigh</td>\n",
              "      <td>vhigh</td>\n",
              "      <td>2</td>\n",
              "      <td>2</td>\n",
              "      <td>med</td>\n",
              "      <td>low</td>\n",
              "      <td>unacc</td>\n",
              "    </tr>\n",
              "    <tr>\n",
              "      <th>4</th>\n",
              "      <td>vhigh</td>\n",
              "      <td>vhigh</td>\n",
              "      <td>2</td>\n",
              "      <td>2</td>\n",
              "      <td>med</td>\n",
              "      <td>med</td>\n",
              "      <td>unacc</td>\n",
              "    </tr>\n",
              "  </tbody>\n",
              "</table>\n",
              "</div>\n",
              "      <button class=\"colab-df-convert\" onclick=\"convertToInteractive('df-a3c23cb7-9b36-4f8a-b8ea-b7901ee28f1a')\"\n",
              "              title=\"Convert this dataframe to an interactive table.\"\n",
              "              style=\"display:none;\">\n",
              "        \n",
              "  <svg xmlns=\"http://www.w3.org/2000/svg\" height=\"24px\"viewBox=\"0 0 24 24\"\n",
              "       width=\"24px\">\n",
              "    <path d=\"M0 0h24v24H0V0z\" fill=\"none\"/>\n",
              "    <path d=\"M18.56 5.44l.94 2.06.94-2.06 2.06-.94-2.06-.94-.94-2.06-.94 2.06-2.06.94zm-11 1L8.5 8.5l.94-2.06 2.06-.94-2.06-.94L8.5 2.5l-.94 2.06-2.06.94zm10 10l.94 2.06.94-2.06 2.06-.94-2.06-.94-.94-2.06-.94 2.06-2.06.94z\"/><path d=\"M17.41 7.96l-1.37-1.37c-.4-.4-.92-.59-1.43-.59-.52 0-1.04.2-1.43.59L10.3 9.45l-7.72 7.72c-.78.78-.78 2.05 0 2.83L4 21.41c.39.39.9.59 1.41.59.51 0 1.02-.2 1.41-.59l7.78-7.78 2.81-2.81c.8-.78.8-2.07 0-2.86zM5.41 20L4 18.59l7.72-7.72 1.47 1.35L5.41 20z\"/>\n",
              "  </svg>\n",
              "      </button>\n",
              "      \n",
              "  <style>\n",
              "    .colab-df-container {\n",
              "      display:flex;\n",
              "      flex-wrap:wrap;\n",
              "      gap: 12px;\n",
              "    }\n",
              "\n",
              "    .colab-df-convert {\n",
              "      background-color: #E8F0FE;\n",
              "      border: none;\n",
              "      border-radius: 50%;\n",
              "      cursor: pointer;\n",
              "      display: none;\n",
              "      fill: #1967D2;\n",
              "      height: 32px;\n",
              "      padding: 0 0 0 0;\n",
              "      width: 32px;\n",
              "    }\n",
              "\n",
              "    .colab-df-convert:hover {\n",
              "      background-color: #E2EBFA;\n",
              "      box-shadow: 0px 1px 2px rgba(60, 64, 67, 0.3), 0px 1px 3px 1px rgba(60, 64, 67, 0.15);\n",
              "      fill: #174EA6;\n",
              "    }\n",
              "\n",
              "    [theme=dark] .colab-df-convert {\n",
              "      background-color: #3B4455;\n",
              "      fill: #D2E3FC;\n",
              "    }\n",
              "\n",
              "    [theme=dark] .colab-df-convert:hover {\n",
              "      background-color: #434B5C;\n",
              "      box-shadow: 0px 1px 3px 1px rgba(0, 0, 0, 0.15);\n",
              "      filter: drop-shadow(0px 1px 2px rgba(0, 0, 0, 0.3));\n",
              "      fill: #FFFFFF;\n",
              "    }\n",
              "  </style>\n",
              "\n",
              "      <script>\n",
              "        const buttonEl =\n",
              "          document.querySelector('#df-a3c23cb7-9b36-4f8a-b8ea-b7901ee28f1a button.colab-df-convert');\n",
              "        buttonEl.style.display =\n",
              "          google.colab.kernel.accessAllowed ? 'block' : 'none';\n",
              "\n",
              "        async function convertToInteractive(key) {\n",
              "          const element = document.querySelector('#df-a3c23cb7-9b36-4f8a-b8ea-b7901ee28f1a');\n",
              "          const dataTable =\n",
              "            await google.colab.kernel.invokeFunction('convertToInteractive',\n",
              "                                                     [key], {});\n",
              "          if (!dataTable) return;\n",
              "\n",
              "          const docLinkHtml = 'Like what you see? Visit the ' +\n",
              "            '<a target=\"_blank\" href=https://colab.research.google.com/notebooks/data_table.ipynb>data table notebook</a>'\n",
              "            + ' to learn more about interactive tables.';\n",
              "          element.innerHTML = '';\n",
              "          dataTable['output_type'] = 'display_data';\n",
              "          await google.colab.output.renderOutput(dataTable, element);\n",
              "          const docLink = document.createElement('div');\n",
              "          docLink.innerHTML = docLinkHtml;\n",
              "          element.appendChild(docLink);\n",
              "        }\n",
              "      </script>\n",
              "    </div>\n",
              "  </div>\n",
              "  "
            ]
          },
          "metadata": {},
          "execution_count": 3
        }
      ]
    },
    {
      "cell_type": "code",
      "source": [
        "#Convert categorical labels to numbers\n",
        "le = preprocessing.LabelEncoder()\n",
        "\n",
        "for col in names: \n",
        "  df[col] = le.fit_transform(df[col])"
      ],
      "metadata": {
        "id": "NXEKCi4KzThJ"
      },
      "execution_count": 4,
      "outputs": []
    },
    {
      "cell_type": "code",
      "source": [
        "X = df.drop(['class'], axis=1)\n",
        "y = df['class']\n",
        "\n",
        "#splitting train data and test data\n",
        "X_train, X_test, y_train, y_test = train_test_split(X, y, test_size = 0.3, random_state = 42)"
      ],
      "metadata": {
        "id": "E9YKVdl60lfm"
      },
      "execution_count": 5,
      "outputs": []
    },
    {
      "cell_type": "code",
      "source": [
        "#K-fold validation\n",
        "def kfold_score(clf,X,y,n_fold):\n",
        "    X,y = X.values,y.values\n",
        "    kfold = StratifiedKFold(n_splits=n_fold, shuffle=True, random_state=1)\n",
        "    accuracy_list = []\n",
        "\n",
        "    for train_index, test_index in kfold.split(X, y):\n",
        "        x_train_fold, x_test_fold = X[train_index], X[test_index]\n",
        "        y_train_fold, y_test_fold = y[train_index], y[test_index]\n",
        "        clf.fit(x_train_fold, y_train_fold)\n",
        "        preds = clf.predict(x_test_fold)\n",
        "        accuracy_test = accuracy_score(preds,y_test_fold)\n",
        "        accuracy_list.append(accuracy_test)\n",
        "    return np.array(accuracy_list).mean()"
      ],
      "metadata": {
        "id": "WewTEIxz336f"
      },
      "execution_count": 6,
      "outputs": []
    },
    {
      "cell_type": "code",
      "source": [
        "#SVM Classification\n",
        "\n",
        "bounds = [ {'name': 'C', 'type': 'continuous', 'domain': (0.1, 100)},\n",
        "        {'name': 'gamma', 'type': 'continuous', 'domain': (0.01, 1)}\n",
        "      ]\n",
        "\n",
        "\n",
        "def svm_score(parameters):\n",
        "  params = {\n",
        "        'C': parameters[0][0],\n",
        "        'gamma':parameters[0][1]\n",
        "    }\n",
        "  \n",
        "  clf = svm.SVC(C=params['C'],gamma=params['gamma'])\n",
        "  clf.fit(X_train,y_train)\n",
        "  score = kfold_score(clf,X_train, y_train,5)\n",
        "  return score"
      ],
      "metadata": {
        "id": "9XK_M5ti7fJG"
      },
      "execution_count": 7,
      "outputs": []
    },
    {
      "cell_type": "code",
      "source": [
        "l1 = np.linspace(0.1,3.0,101)\n",
        "l2 = np.linspace(0.1,3.0,101)\n",
        "\n",
        "for i in range(30):\n",
        "  l1_=random.choice(l1)\n",
        "  l2_=random.choice(l2)\n",
        "\n",
        "  kernel = GPy.kern.Matern52(input_dim=1,lengthscale=l1_,active_dims=[0]) \\\n",
        "          * GPy.kern.Matern52(input_dim=1,lengthscale=l2_,active_dims=[1])\n",
        "  optimizer = GPyOpt.methods.BayesianOptimization(f=svm_score, \n",
        "                                              domain=bounds,\n",
        "                                              acquisition_type ='EI',\n",
        "                                              initial_design_numdata = 5,\n",
        "                                              model_type='GP',\n",
        "                                              maximize=True,\n",
        "                                              kernel=kernel\n",
        "                                              )\n",
        "  optimizer.run_optimization(max_iter=20)\n",
        "\n",
        "  X=(optimizer.X)\n",
        "  m, v = optimizer.model.predict(X)\n",
        "  log_mll = -0.5*np.matmul(np.matmul((optimizer.Y - m).T,np.linalg.inv(kernel.K(X,X)+(0.01**2)*np.identity(25))),(optimizer.Y - m)) \\\n",
        "        -0.5 * np.log(np.linalg.det(kernel.K(X,X)+(0.01**2)*np.identity(25)))\n",
        "  print(\"l1 =\", l1_, \"l2 =\", l2_, \"mll =\", log_mll)"
      ],
      "metadata": {
        "colab": {
          "base_uri": "https://localhost:8080/"
        },
        "id": "CeWMIOIjrA4u",
        "outputId": "48b1339f-fbe2-42ca-f211-938a0dd7f343"
      },
      "execution_count": 8,
      "outputs": [
        {
          "output_type": "stream",
          "name": "stdout",
          "text": [
            "l1 = 2.072 l2 = 0.158 mll = [[-11.240593]]\n",
            "l1 = 2.768 l2 = 2.391 mll = [[-4.32321079]]\n",
            "l1 = 2.594 l2 = 1.376 mll = [[-6.30646055]]\n",
            "l1 = 0.39 l2 = 0.7379999999999999 mll = [[31.4475817]]\n",
            "l1 = 0.9119999999999999 l2 = 1.811 mll = [[20.35142078]]\n",
            "l1 = 1.927 l2 = 1.115 mll = [[15.24527029]]\n",
            "l1 = 1.9849999999999999 l2 = 2.217 mll = [[-1.02252261]]\n",
            "l1 = 0.477 l2 = 0.39 mll = [[2.70592869]]\n",
            "l1 = 2.101 l2 = 0.593 mll = [[-2.36079781]]\n",
            "l1 = 2.507 l2 = 0.41899999999999993 mll = [[-9.96949881]]\n",
            "l1 = 0.44799999999999995 l2 = 0.216 mll = [[12.99438684]]\n",
            "l1 = 2.072 l2 = 1.8399999999999999 mll = [[-17.18544754]]\n",
            "l1 = 2.739 l2 = 1.086 mll = [[-12.37006427]]\n",
            "l1 = 0.1 l2 = 0.44799999999999995 mll = [[19.1915771]]\n",
            "l1 = 1.55 l2 = 2.101 mll = [[6.04410779]]\n",
            "l1 = 0.1 l2 = 1.782 mll = [[10.93286024]]\n",
            "l1 = 1.028 l2 = 2.391 mll = [[9.18141735]]\n",
            "l1 = 1.898 l2 = 0.9699999999999999 mll = [[23.38543426]]\n",
            "l1 = 2.826 l2 = 2.739 mll = [[18.62180416]]\n",
            "l1 = 2.9419999999999997 l2 = 1.376 mll = [[-11.63713129]]\n",
            "l1 = 1.898 l2 = 2.391 mll = [[-13.22512422]]\n",
            "l1 = 1.666 l2 = 2.6519999999999997 mll = [[-8.99088879]]\n",
            "l1 = 1.376 l2 = 1.724 mll = [[46.8999769]]\n",
            "l1 = 1.405 l2 = 0.7379999999999999 mll = [[-15.21187295]]\n",
            "l1 = 3.0 l2 = 2.0429999999999997 mll = [[-16.07855887]]\n",
            "l1 = 0.564 l2 = 0.1 mll = [[-5.96388074]]\n",
            "l1 = 2.275 l2 = 0.854 mll = [[11.53638917]]\n",
            "l1 = 2.362 l2 = 2.13 mll = [[-12.11749866]]\n",
            "l1 = 2.449 l2 = 0.506 mll = [[2.52677693]]\n",
            "l1 = 1.782 l2 = 0.6509999999999999 mll = [[-11.43684591]]\n"
          ]
        }
      ]
    },
    {
      "cell_type": "code",
      "source": [
        "l1 = np.linspace(0.1,3.0,101)\n",
        "l2 = np.linspace(0.1,3.0,101)\n",
        "\n",
        "for i in range(30):\n",
        "  l1_=random.choice(l1)\n",
        "  l2_=random.choice(l2)\n",
        "\n",
        "  kernel = GPy.kern.Matern52(input_dim=1,lengthscale=l1_,active_dims=[0]) \\\n",
        "          * GPy.kern.Matern52(input_dim=1,lengthscale=l2_,active_dims=[1])\n",
        "  optimizer = GPyOpt.methods.BayesianOptimization(f=svm_score, \n",
        "                                              domain=bounds,\n",
        "                                              acquisition_type ='EI',\n",
        "                                              initial_design_numdata = 5,\n",
        "                                              model_type='GP',\n",
        "                                              maximize=True,\n",
        "                                              kernel=kernel\n",
        "                                              )\n",
        "  optimizer.run_optimization(max_iter=20)\n",
        "\n",
        "  X=(optimizer.X)\n",
        "  m, v = optimizer.model.predict(X)\n",
        "  log_mll = -0.5*np.matmul(np.matmul((optimizer.Y - m).T,np.linalg.inv(kernel.K(X,X)+(0.01**2)*np.identity(25))),(optimizer.Y - m)) \\\n",
        "        -0.5 * np.log(np.linalg.det(kernel.K(X,X)+(0.01**2)*np.identity(25)))\n",
        "  print(\"l1 =\", l1_, \"l2 =\", l2_, \"mll =\", log_mll)"
      ],
      "metadata": {
        "colab": {
          "base_uri": "https://localhost:8080/"
        },
        "id": "-qHLdP0F4-Iy",
        "outputId": "c98d29ef-e7c3-4649-b997-3ad8df498ad5"
      },
      "execution_count": 9,
      "outputs": [
        {
          "output_type": "stream",
          "name": "stdout",
          "text": [
            "l1 = 1.724 l2 = 0.129 mll = [[14.49811215]]\n",
            "l1 = 2.6519999999999997 l2 = 2.246 mll = [[-8.02797867]]\n",
            "l1 = 2.101 l2 = 1.9849999999999999 mll = [[-5.70651354]]\n",
            "l1 = 0.6509999999999999 l2 = 1.521 mll = [[21.91533192]]\n",
            "l1 = 1.579 l2 = 0.158 mll = [[3.56438889]]\n",
            "l1 = 0.854 l2 = 0.1 mll = [[13.27424279]]\n",
            "l1 = 1.028 l2 = 0.9119999999999999 mll = [[5.11102719]]\n",
            "l1 = 1.956 l2 = 1.753 mll = [[-11.25485647]]\n",
            "l1 = 1.782 l2 = 2.072 mll = [[6.89442358]]\n",
            "l1 = 0.593 l2 = 1.898 mll = [[-15.1181284]]\n",
            "l1 = 2.971 l2 = 1.463 mll = [[54.47069669]]\n",
            "l1 = 2.159 l2 = 0.361 mll = [[27.36969085]]\n",
            "l1 = 1.347 l2 = 0.941 mll = [[-11.53438662]]\n",
            "l1 = 2.449 l2 = 0.274 mll = [[-9.18859225]]\n",
            "l1 = 0.361 l2 = 0.33199999999999996 mll = [[-12.03554906]]\n",
            "l1 = 2.7969999999999997 l2 = 3.0 mll = [[-11.19211802]]\n",
            "l1 = 0.8829999999999999 l2 = 2.3329999999999997 mll = [[2.18508669]]\n",
            "l1 = 2.9419999999999997 l2 = 0.187 mll = [[-20.41099861]]\n",
            "l1 = 0.825 l2 = 1.1440000000000001 mll = [[-15.91196489]]\n",
            "l1 = 0.158 l2 = 0.854 mll = [[0.32112285]]\n",
            "l1 = 2.014 l2 = 2.6519999999999997 mll = [[13.66791316]]\n",
            "l1 = 1.724 l2 = 1.9849999999999999 mll = [[-3.34569454]]\n",
            "l1 = 1.347 l2 = 1.927 mll = [[11.22341272]]\n",
            "l1 = 2.3329999999999997 l2 = 2.7969999999999997 mll = [[0.01273847]]\n",
            "l1 = 0.33199999999999996 l2 = 2.971 mll = [[-10.87230772]]\n",
            "l1 = 1.028 l2 = 1.55 mll = [[-13.67246742]]\n",
            "l1 = 0.274 l2 = 2.3329999999999997 mll = [[24.8548661]]\n",
            "l1 = 1.347 l2 = 0.44799999999999995 mll = [[-10.91801592]]\n",
            "l1 = 1.115 l2 = 0.6509999999999999 mll = [[-13.12102955]]\n",
            "l1 = 1.405 l2 = 1.521 mll = [[-6.69688846]]\n"
          ]
        }
      ]
    },
    {
      "cell_type": "code",
      "source": [
        "l1=[2.072,2.768,2.594,0.39,0.9119999999999999,1.927,1.9849999999999999,0.477,\n",
        "2.101, 2.507, 0.44799999999999995, 2.072, 2.739, 0.1, 1.55, 0.1, 1.028, 1.898, 2.826, 2.9419999999999997, \n",
        "1.898, 1.666, 1.376, 1.405, 3.0, 0.564, 2.275, 2.362, 2.449, 1.782, \n",
        "1.724, 2.6519999999999997, 2.101, 0.6509999999999999, 1.579, 0.854, 1.028,\n",
        "1.956, 1.782, 0.593, 2.971, 2.159, 1.347, 2.449, 0.361, 2.7969999999999997, 0.8829999999999999, \n",
        "2.9419999999999997, 0.825, 0.158, 2.014, 1.724, 1.347, 2.3329999999999997, 0.33199999999999996, 1.028, \n",
        "0.274, 1.347, 1.115, 1.405]\n",
        "\n",
        "l2=[0.158, 2.391, 1.376, 0.7379999999999999, 1.811, 1.115, 2.217, 0.39, 0.593, 0.41899999999999993,\n",
        "0.216, 1.8399999999999999, 1.086, 0.44799999999999995, 2.101, 1.782, 2.391, 0.9699999999999999, \n",
        "2.739, 1.376, 2.391, 2.6519999999999997, 1.724, 0.7379999999999999, 2.0429999999999997, \n",
        "0.1, 0.854, 2.13, 0.506, 0.6509999999999999, 0.129, 2.246, 1.9849999999999999, 1.521, \n",
        "0.158, 0.1, 0.9119999999999999, 1.753, 2.072, 1.898, 1.463, 0.361, 0.941, 0.274, 0.33199999999999996, \n",
        "3.0, 2.3329999999999997, 0.187, 1.1440000000000001, 0.854, 2.6519999999999997, 1.9849999999999999, \n",
        "1.927, 2.7969999999999997, 2.971, 1.55, 2.3329999999999997, 0.44799999999999995, 0.6509999999999999, 1.521]\n",
        "\n",
        "mll=[-11.240593, -4.32321079, -6.30646055, 31.4475817, 20.35142078, 15.24527029, -1.02252261, 2.70592869,\n",
        "-2.36079781, -9.96949881, 12.99438684, -17.18544754, -12.37006427, 19.1915771, 6.04410779, 10.93286024,\n",
        "9.18141735, 23.38543426, 18.62180416, -11.63713129, -13.22512422, -8.99088879, 46.8999769, -15.21187295,\n",
        "-16.07855887, -5.96388074, 11.53638917, -12.11749866, 2.52677693, -11.43684591,\n",
        "14.49811215, -8.02797867, -5.70651354, 21.91533192, 3.56438889, 13.27424279, 5.11102719, -11.25485647, \n",
        "6.89442358, -15.1181284, 54.47069669, 27.36969085, -11.53438662, -9.18859225, -12.03554906, -11.19211802,\n",
        "2.18508669, -20.41099861, -15.91196489, 0.32112285, 13.66791316, -3.34569454, 11.22341272, 0.01273847,\n",
        "-10.87230772, -13.67246742, 24.8548661, -10.91801592, -13.12102955, -6.69688846]"
      ],
      "metadata": {
        "id": "08Ts2qRM-nfs"
      },
      "execution_count": 10,
      "outputs": []
    },
    {
      "cell_type": "code",
      "source": [
        "sns.scatterplot(x=l1,y=l2,hue=mll)"
      ],
      "metadata": {
        "colab": {
          "base_uri": "https://localhost:8080/",
          "height": 448
        },
        "id": "SARPpspoG09H",
        "outputId": "165f5139-6fe6-498e-e9ba-450d90a7c437"
      },
      "execution_count": 11,
      "outputs": [
        {
          "output_type": "execute_result",
          "data": {
            "text/plain": [
              "<Axes: >"
            ]
          },
          "metadata": {},
          "execution_count": 11
        },
        {
          "output_type": "display_data",
          "data": {
            "text/plain": [
              "<Figure size 640x480 with 1 Axes>"
            ],
            "image/png": "[encoded data removed]"
          },
          "metadata": {}
        }
      ]
    },
    {
      "cell_type": "code",
      "source": [
        "kernel = GPy.kern.Matern52(input_dim=1,variance=1,lengthscale=1.376,active_dims=[0]) \\\n",
        "        * GPy.kern.Matern52(input_dim=1,variance=1,lengthscale=1.724,active_dims=[1])"
      ],
      "metadata": {
        "id": "57Fu_gLNJ7gO"
      },
      "execution_count": 12,
      "outputs": []
    },
    {
      "cell_type": "code",
      "source": [
        "optimizer = GPyOpt.methods.BayesianOptimization(f=svm_score, \n",
        "                                              domain=bounds,\n",
        "                                              acquisition_type ='EI',\n",
        "                                              initial_design_numdata = 5,\n",
        "                                              model_type='GP',\n",
        "                                              maximize=True,\n",
        "                                              kernel=kernel\n",
        "                                              )\n",
        "optimizer.run_optimization(max_iter=20)\n",
        "\n",
        "X=(optimizer.X)\n",
        "m, v = optimizer.model.predict(X)\n",
        "log_mll = -0.5*np.matmul(np.matmul((optimizer.Y - m).T,np.linalg.inv(kernel.K(X,X)+(0.01**2)*np.identity(25))),(optimizer.Y - m)) \\\n",
        "        -0.5 * np.log(np.linalg.det(kernel.K(X,X)+(0.01**2)*np.identity(25)))\n",
        "print(log_mll)"
      ],
      "metadata": {
        "colab": {
          "base_uri": "https://localhost:8080/"
        },
        "id": "GNO-QAMcM0GO",
        "outputId": "0d90b56b-8aa6-4fc1-a238-078ff32c1d30"
      },
      "execution_count": 13,
      "outputs": [
        {
          "output_type": "stream",
          "name": "stdout",
          "text": [
            "[[21.64397793]]\n"
          ]
        }
      ]
    },
    {
      "cell_type": "code",
      "source": [
        "a=0\n",
        "a_list=[]\n",
        "mll_list=[]\n",
        "for i in range (40):\n",
        "  a=a+0.1\n",
        "  a_list.append(a)\n",
        "  kernel = GPy.kern.Matern52(input_dim=1,variance=a,lengthscale=1.376,active_dims=[0]) \\\n",
        "        * GPy.kern.Matern52(input_dim=1,variance=1,lengthscale=1.724,active_dims=[1])\n",
        "\n",
        "  optimizer = GPyOpt.methods.BayesianOptimization(f=svm_score, \n",
        "                                              domain=bounds,\n",
        "                                              acquisition_type ='EI',\n",
        "                                              initial_design_numdata = 5,\n",
        "                                              model_type='GP',\n",
        "                                              maximize=True,\n",
        "                                              kernel=kernel\n",
        "                                              )\n",
        "  optimizer.run_optimization(max_iter=20)\n",
        "  X=(optimizer.X)\n",
        "  m, v = optimizer.model.predict(X)\n",
        "  \n",
        "  mll = -0.5*np.matmul(np.matmul((optimizer.Y - m).T,np.linalg.inv(kernel.K(X,X)+(0.01**2)*np.identity(25))),(optimizer.Y - m)) \\\n",
        "        -0.5 * np.log(np.linalg.det(kernel.K(X,X)+(0.01**2)*np.identity(25)))\n",
        "  mll_list.append(mll)\n",
        "  print(f\"log mll {mll}\")"
      ],
      "metadata": {
        "colab": {
          "base_uri": "https://localhost:8080/"
        },
        "id": "zEbsmLOmI17d",
        "outputId": "afef635b-00c7-425e-d7ea-983687142cfe"
      },
      "execution_count": 14,
      "outputs": [
        {
          "output_type": "stream",
          "name": "stdout",
          "text": [
            "log mll [[70.15022514]]\n",
            "log mll [[-9.47154718]]\n",
            "log mll [[-5.51321041]]\n",
            "log mll [[-9.51133709]]\n",
            "log mll [[-18.69259554]]\n",
            "log mll [[-18.50743865]]\n",
            "log mll [[-0.2539949]]\n",
            "log mll [[-6.67585863]]\n",
            "log mll [[-14.26126983]]\n",
            "log mll [[12.44057189]]\n",
            "log mll [[-6.3636482]]\n",
            "log mll [[-10.94047979]]\n",
            "log mll [[-0.68934863]]\n",
            "log mll [[-8.18432819]]\n",
            "log mll [[-3.42735589]]\n",
            "log mll [[-19.43309307]]\n",
            "log mll [[-4.22277976]]\n",
            "log mll [[-14.85004446]]\n",
            "log mll [[-13.71955316]]\n",
            "log mll [[-18.65705608]]\n",
            "log mll [[7.7472452]]\n",
            "log mll [[-10.87812998]]\n",
            "log mll [[-10.86798834]]\n",
            "log mll [[1.51954345]]\n",
            "log mll [[11.99616867]]\n",
            "log mll [[-11.15977104]]\n",
            "log mll [[-0.56697947]]\n",
            "log mll [[21.27888894]]\n",
            "log mll [[-3.88402564]]\n",
            "log mll [[-8.35867196]]\n",
            "log mll [[16.4080005]]\n",
            "log mll [[-14.71528845]]\n",
            "log mll [[-13.64438918]]\n",
            "log mll [[-14.15355061]]\n",
            "log mll [[-14.2306662]]\n",
            "log mll [[-0.18131906]]\n",
            "log mll [[-14.5072624]]\n",
            "log mll [[-14.93598276]]\n",
            "log mll [[1.13806445]]\n",
            "log mll [[8.07116432]]\n"
          ]
        }
      ]
    },
    {
      "cell_type": "code",
      "source": [
        "plt.scatter(a_list,mll_list)"
      ],
      "metadata": {
        "colab": {
          "base_uri": "https://localhost:8080/",
          "height": 448
        },
        "id": "yZEw0wg_QTC4",
        "outputId": "660ab928-6af6-416e-cd87-ee60ce7b1fb4"
      },
      "execution_count": 15,
      "outputs": [
        {
          "output_type": "execute_result",
          "data": {
            "text/plain": [
              "<matplotlib.collections.PathCollection at 0x7fdfba7739d0>"
            ]
          },
          "metadata": {},
          "execution_count": 15
        },
        {
          "output_type": "display_data",
          "data": {
            "text/plain": [
              "<Figure size 640x480 with 1 Axes>"
            ],
            "image/png": "[encoded data removed]"
          },
          "metadata": {}
        }
      ]
    },
    {
      "cell_type": "code",
      "source": [
        "kernel = GPy.kern.Matern52(input_dim=1,variance=2.5,lengthscale=1.376,active_dims=[0]) \\\n",
        "        * GPy.kern.Matern52(input_dim=1,variance=1,lengthscale=1.724,active_dims=[1])\n",
        "\n",
        "optimizer = GPyOpt.methods.BayesianOptimization(f=svm_score, \n",
        "                                              domain=bounds,\n",
        "                                              acquisition_type ='EI',\n",
        "                                              initial_design_numdata = 5,\n",
        "                                              model_type='GP',\n",
        "                                              maximize=True,\n",
        "                                              kernel=kernel\n",
        "                                              )\n",
        "optimizer.run_optimization(max_iter=20)\n",
        "\n",
        "X=(optimizer.X)\n",
        "m, v = optimizer.model.predict(X)\n",
        "log_mll = -0.5*np.matmul(np.matmul((optimizer.Y - m).T,np.linalg.inv(kernel.K(X,X)+(0.01**2)*np.identity(25))),(optimizer.Y - m)) \\\n",
        "        -0.5 * np.log(np.linalg.det(kernel.K(X,X)+(0.01**2)*np.identity(25)))\n",
        "print(log_mll)"
      ],
      "metadata": {
        "colab": {
          "base_uri": "https://localhost:8080/"
        },
        "id": "kk-t5zekQmZA",
        "outputId": "c66fddc7-d834-439c-9ca7-0d975d5287b4"
      },
      "execution_count": 33,
      "outputs": [
        {
          "output_type": "stream",
          "name": "stdout",
          "text": [
            "[[-9.42029674]]\n"
          ]
        }
      ]
    },
    {
      "cell_type": "code",
      "source": [
        "a=0.1\n",
        "kernel = GPy.kern.Matern52(input_dim=1,variance=1,lengthscale=a,active_dims=[0]) \\\n",
        "        * GPy.kern.Matern52(input_dim=1,variance=1,lengthscale=1,active_dims=[1])\n",
        "\n",
        "optimizer = GPyOpt.methods.BayesianOptimization(f=svm_score, \n",
        "                                              domain=bounds,\n",
        "                                              acquisition_type ='EI',\n",
        "                                              initial_design_numdata = 5,\n",
        "                                              model_type='GP',\n",
        "                                              maximize=True,\n",
        "                                              kernel=kernel\n",
        "                                              )\n",
        "optimizer.run_optimization(max_iter=20)\n",
        "\n",
        "X=(optimizer.X)\n",
        "m, v = optimizer.model.predict(X)\n",
        "log_mll = -0.5*np.matmul(np.matmul((optimizer.Y - m).T,np.linalg.inv(kernel.K(X,X)+(0.01**2)*np.identity(25))),(optimizer.Y - m)) \\\n",
        "        -0.5 * np.log(np.linalg.det(kernel.K(X,X)+(0.01**2)*np.identity(25)))\n",
        "\n",
        "for i in range (40):\n",
        "  a=a+0.1\n",
        "  kernel = GPy.kern.Matern52(input_dim=1,variance=1,lengthscale=a,active_dims=[0]) \\\n",
        "        * GPy.kern.Matern52(input_dim=1,variance=1,lengthscale=1,active_dims=[1])\n",
        "\n",
        "  optimizer = GPyOpt.methods.BayesianOptimization(f=svm_score, \n",
        "                                              domain=bounds,\n",
        "                                              acquisition_type ='EI',\n",
        "                                              initial_design_numdata = 5,\n",
        "                                              model_type='GP',\n",
        "                                              maximize=True,\n",
        "                                              kernel=kernel\n",
        "                                              )\n",
        "  optimizer.run_optimization(max_iter=20)\n",
        "  X=(optimizer.X)\n",
        "  m, v = optimizer.model.predict(X)\n",
        "\n",
        "  \n",
        "  mll = -0.5*np.matmul(np.matmul((optimizer.Y - m).T,np.linalg.inv(kernel.K(X,X)+(0.01**2)*np.identity(25))),(optimizer.Y - m)) \\\n",
        "        -0.5 * np.log(np.linalg.det(kernel.K(X,X)+(0.01**2)*np.identity(25)))\n",
        "  print(f\"log mll {mll}\")"
      ],
      "metadata": {
        "colab": {
          "base_uri": "https://localhost:8080/"
        },
        "id": "7_LlinjkWAHk",
        "outputId": "c1284d1e-28e6-45da-db1f-ad4b0e372749"
      },
      "execution_count": 27,
      "outputs": [
        {
          "output_type": "stream",
          "name": "stdout",
          "text": [
            "log mll [[-1.52047574]]\n",
            "log mll [[-18.62462452]]\n",
            "log mll [[1.98380908]]\n",
            "log mll [[-8.09549317]]\n",
            "log mll [[-13.83189017]]\n",
            "log mll [[-21.02867941]]\n",
            "log mll [[-12.99779395]]\n",
            "log mll [[-14.35220847]]\n",
            "log mll [[4.29882442]]\n",
            "log mll [[8.27412465]]\n",
            "log mll [[-15.06268388]]\n",
            "log mll [[-14.13287303]]\n",
            "log mll [[-11.2550685]]\n",
            "log mll [[-6.22785782]]\n",
            "log mll [[-3.59601092]]\n",
            "log mll [[-6.22676844]]\n",
            "log mll [[19.9812402]]\n",
            "log mll [[23.67385585]]\n",
            "log mll [[15.39598298]]\n",
            "log mll [[-13.28135453]]\n",
            "log mll [[17.24883857]]\n",
            "log mll [[-4.35007884]]\n",
            "log mll [[-0.29764666]]\n",
            "log mll [[2.04087755]]\n",
            "log mll [[-7.91463258]]\n",
            "log mll [[-17.8673149]]\n",
            "log mll [[0.11260599]]\n",
            "log mll [[-3.83911532]]\n",
            "log mll [[1.97274627]]\n",
            "log mll [[-9.6788069]]\n",
            "log mll [[-9.07035536]]\n",
            "log mll [[-9.79617005]]\n",
            "log mll [[-9.14910133]]\n",
            "log mll [[-19.42039476]]\n",
            "log mll [[-6.14881082]]\n",
            "log mll [[-3.91117137]]\n",
            "log mll [[-8.56356481]]\n",
            "log mll [[2.8388594]]\n",
            "log mll [[5.75597615]]\n",
            "log mll [[10.00531944]]\n"
          ]
        }
      ]
    },
    {
      "cell_type": "code",
      "source": [
        "kernel = GPy.kern.Matern52(input_dim=1,variance=1.5,lengthscale=1,active_dims=[0]) \\\n",
        "        * GPy.kern.Matern52(input_dim=1,variance=1,lengthscale=1,active_dims=[1])\n",
        "\n",
        "optimizer = GPyOpt.methods.BayesianOptimization(f=svm_score, \n",
        "                                              domain=bounds,\n",
        "                                              acquisition_type ='EI',\n",
        "                                              initial_design_numdata = 5,\n",
        "                                              model_type='GP',\n",
        "                                              maximize=True,\n",
        "                                              kernel=kernel\n",
        "                                              )\n",
        "optimizer.run_optimization(max_iter=100)\n",
        "\n",
        "X=(optimizer.X)\n",
        "m, v = optimizer.model.predict(X)\n",
        "log_mll = -0.5*np.matmul(np.matmul((optimizer.Y - m).T,np.linalg.inv(kernel.K(X,X)+(0.01**2)*np.identity(105))),(optimizer.Y - m)) \\\n",
        "        -0.5 * np.log(np.linalg.det(kernel.K(X,X)+(0.01**2)*np.identity(105)))\n",
        "print(log_mll)"
      ],
      "metadata": {
        "colab": {
          "base_uri": "https://localhost:8080/"
        },
        "id": "0Z1QCi4vg_Lt",
        "outputId": "584e12f6-f457-4274-ce1d-c646867d5be3"
      },
      "execution_count": 36,
      "outputs": [
        {
          "output_type": "stream",
          "name": "stdout",
          "text": [
            "[[-6.73725984]]\n"
          ]
        }
      ]
    }
  ]
}
