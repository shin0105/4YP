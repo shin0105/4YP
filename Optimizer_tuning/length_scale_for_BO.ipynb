{
  "cells": [
    {
      "cell_type": "code",
      "execution_count": null,
      "metadata": {
        "id": "rLPXTuwQovwn"
      },
      "outputs": [],
      "source": [
        "!pip install GPyOpt --quiet\n",
        "!pip install GPy --quiet"
      ]
    },
    {
      "cell_type": "code",
      "execution_count": 2,
      "metadata": {
        "id": "RHLDk0wJqQHz"
      },
      "outputs": [],
      "source": [
        "#import packages\n",
        "\n",
        "#basic packages\n",
        "import pandas as pd\n",
        "import numpy as np\n",
        "import matplotlib.pyplot as plt\n",
        "import seaborn as sns\n",
        "from mpl_toolkits import mplot3d\n",
        "import random\n",
        "\n",
        "#Bayesian optimization packages\n",
        "import GPy\n",
        "import GPyOpt\n",
        "\n",
        "#ML Algorithm packages\n",
        "from sklearn.model_selection import train_test_split, cross_val_score, StratifiedKFold\n",
        "from sklearn.metrics import confusion_matrix, accuracy_score, classification_report\n",
        "from sklearn.ensemble import RandomForestClassifier\n",
        "from sklearn.neighbors import KNeighborsClassifier\n",
        "from sklearn import svm\n",
        "from sklearn import preprocessing"
      ]
    },
    {
      "cell_type": "code",
      "execution_count": 3,
      "metadata": {
        "colab": {
          "base_uri": "https://localhost:8080/",
          "height": 206
        },
        "id": "sefirBbFuqWz",
        "outputId": "67cf1861-813a-4672-f32e-0f172c3973a9"
      },
      "outputs": [
        {
          "data": {
            "text/html": [
              "\n",
              "  <div id=\"df-908434d4-0e37-4212-a880-c472d3fde432\">\n",
              "    <div class=\"colab-df-container\">\n",
              "      <div>\n",
              "<style scoped>\n",
              "    .dataframe tbody tr th:only-of-type {\n",
              "        vertical-align: middle;\n",
              "    }\n",
              "\n",
              "    .dataframe tbody tr th {\n",
              "        vertical-align: top;\n",
              "    }\n",
              "\n",
              "    .dataframe thead th {\n",
              "        text-align: right;\n",
              "    }\n",
              "</style>\n",
              "<table border=\"1\" class=\"dataframe\">\n",
              "  <thead>\n",
              "    <tr style=\"text-align: right;\">\n",
              "      <th></th>\n",
              "      <th>buying</th>\n",
              "      <th>maint</th>\n",
              "      <th>doors</th>\n",
              "      <th>persons</th>\n",
              "      <th>lug_boot</th>\n",
              "      <th>safety</th>\n",
              "      <th>class</th>\n",
              "    </tr>\n",
              "  </thead>\n",
              "  <tbody>\n",
              "    <tr>\n",
              "      <th>0</th>\n",
              "      <td>vhigh</td>\n",
              "      <td>vhigh</td>\n",
              "      <td>2</td>\n",
              "      <td>2</td>\n",
              "      <td>small</td>\n",
              "      <td>low</td>\n",
              "      <td>unacc</td>\n",
              "    </tr>\n",
              "    <tr>\n",
              "      <th>1</th>\n",
              "      <td>vhigh</td>\n",
              "      <td>vhigh</td>\n",
              "      <td>2</td>\n",
              "      <td>2</td>\n",
              "      <td>small</td>\n",
              "      <td>med</td>\n",
              "      <td>unacc</td>\n",
              "    </tr>\n",
              "    <tr>\n",
              "      <th>2</th>\n",
              "      <td>vhigh</td>\n",
              "      <td>vhigh</td>\n",
              "      <td>2</td>\n",
              "      <td>2</td>\n",
              "      <td>small</td>\n",
              "      <td>high</td>\n",
              "      <td>unacc</td>\n",
              "    </tr>\n",
              "    <tr>\n",
              "      <th>3</th>\n",
              "      <td>vhigh</td>\n",
              "      <td>vhigh</td>\n",
              "      <td>2</td>\n",
              "      <td>2</td>\n",
              "      <td>med</td>\n",
              "      <td>low</td>\n",
              "      <td>unacc</td>\n",
              "    </tr>\n",
              "    <tr>\n",
              "      <th>4</th>\n",
              "      <td>vhigh</td>\n",
              "      <td>vhigh</td>\n",
              "      <td>2</td>\n",
              "      <td>2</td>\n",
              "      <td>med</td>\n",
              "      <td>med</td>\n",
              "      <td>unacc</td>\n",
              "    </tr>\n",
              "  </tbody>\n",
              "</table>\n",
              "</div>\n",
              "      <button class=\"colab-df-convert\" onclick=\"convertToInteractive('df-908434d4-0e37-4212-a880-c472d3fde432')\"\n",
              "              title=\"Convert this dataframe to an interactive table.\"\n",
              "              style=\"display:none;\">\n",
              "        \n",
              "  <svg xmlns=\"http://www.w3.org/2000/svg\" height=\"24px\"viewBox=\"0 0 24 24\"\n",
              "       width=\"24px\">\n",
              "    <path d=\"M0 0h24v24H0V0z\" fill=\"none\"/>\n",
              "    <path d=\"M18.56 5.44l.94 2.06.94-2.06 2.06-.94-2.06-.94-.94-2.06-.94 2.06-2.06.94zm-11 1L8.5 8.5l.94-2.06 2.06-.94-2.06-.94L8.5 2.5l-.94 2.06-2.06.94zm10 10l.94 2.06.94-2.06 2.06-.94-2.06-.94-.94-2.06-.94 2.06-2.06.94z\"/><path d=\"M17.41 7.96l-1.37-1.37c-.4-.4-.92-.59-1.43-.59-.52 0-1.04.2-1.43.59L10.3 9.45l-7.72 7.72c-.78.78-.78 2.05 0 2.83L4 21.41c.39.39.9.59 1.41.59.51 0 1.02-.2 1.41-.59l7.78-7.78 2.81-2.81c.8-.78.8-2.07 0-2.86zM5.41 20L4 18.59l7.72-7.72 1.47 1.35L5.41 20z\"/>\n",
              "  </svg>\n",
              "      </button>\n",
              "      \n",
              "  <style>\n",
              "    .colab-df-container {\n",
              "      display:flex;\n",
              "      flex-wrap:wrap;\n",
              "      gap: 12px;\n",
              "    }\n",
              "\n",
              "    .colab-df-convert {\n",
              "      background-color: #E8F0FE;\n",
              "      border: none;\n",
              "      border-radius: 50%;\n",
              "      cursor: pointer;\n",
              "      display: none;\n",
              "      fill: #1967D2;\n",
              "      height: 32px;\n",
              "      padding: 0 0 0 0;\n",
              "      width: 32px;\n",
              "    }\n",
              "\n",
              "    .colab-df-convert:hover {\n",
              "      background-color: #E2EBFA;\n",
              "      box-shadow: 0px 1px 2px rgba(60, 64, 67, 0.3), 0px 1px 3px 1px rgba(60, 64, 67, 0.15);\n",
              "      fill: #174EA6;\n",
              "    }\n",
              "\n",
              "    [theme=dark] .colab-df-convert {\n",
              "      background-color: #3B4455;\n",
              "      fill: #D2E3FC;\n",
              "    }\n",
              "\n",
              "    [theme=dark] .colab-df-convert:hover {\n",
              "      background-color: #434B5C;\n",
              "      box-shadow: 0px 1px 3px 1px rgba(0, 0, 0, 0.15);\n",
              "      filter: drop-shadow(0px 1px 2px rgba(0, 0, 0, 0.3));\n",
              "      fill: #FFFFFF;\n",
              "    }\n",
              "  </style>\n",
              "\n",
              "      <script>\n",
              "        const buttonEl =\n",
              "          document.querySelector('#df-908434d4-0e37-4212-a880-c472d3fde432 button.colab-df-convert');\n",
              "        buttonEl.style.display =\n",
              "          google.colab.kernel.accessAllowed ? 'block' : 'none';\n",
              "\n",
              "        async function convertToInteractive(key) {\n",
              "          const element = document.querySelector('#df-908434d4-0e37-4212-a880-c472d3fde432');\n",
              "          const dataTable =\n",
              "            await google.colab.kernel.invokeFunction('convertToInteractive',\n",
              "                                                     [key], {});\n",
              "          if (!dataTable) return;\n",
              "\n",
              "          const docLinkHtml = 'Like what you see? Visit the ' +\n",
              "            '<a target=\"_blank\" href=https://colab.research.google.com/notebooks/data_table.ipynb>data table notebook</a>'\n",
              "            + ' to learn more about interactive tables.';\n",
              "          element.innerHTML = '';\n",
              "          dataTable['output_type'] = 'display_data';\n",
              "          await google.colab.output.renderOutput(dataTable, element);\n",
              "          const docLink = document.createElement('div');\n",
              "          docLink.innerHTML = docLinkHtml;\n",
              "          element.appendChild(docLink);\n",
              "        }\n",
              "      </script>\n",
              "    </div>\n",
              "  </div>\n",
              "  "
            ],
            "text/plain": [
              "  buying  maint doors persons lug_boot safety  class\n",
              "0  vhigh  vhigh     2       2    small    low  unacc\n",
              "1  vhigh  vhigh     2       2    small    med  unacc\n",
              "2  vhigh  vhigh     2       2    small   high  unacc\n",
              "3  vhigh  vhigh     2       2      med    low  unacc\n",
              "4  vhigh  vhigh     2       2      med    med  unacc"
            ]
          },
          "execution_count": 3,
          "metadata": {},
          "output_type": "execute_result"
        }
      ],
      "source": [
        "#dataset = UCI Car Evaluation\n",
        "names=['buying','maint','doors','persons','lug_boot','safety','class']\n",
        "df = pd.read_csv('car.data', names = names)\n",
        "df.head()"
      ]
    },
    {
      "cell_type": "code",
      "execution_count": 4,
      "metadata": {
        "id": "NXEKCi4KzThJ"
      },
      "outputs": [],
      "source": [
        "#Convert categorical labels to numbers\n",
        "le = preprocessing.LabelEncoder()\n",
        "\n",
        "for col in names: \n",
        "  df[col] = le.fit_transform(df[col])"
      ]
    },
    {
      "cell_type": "code",
      "execution_count": 5,
      "metadata": {
        "id": "E9YKVdl60lfm"
      },
      "outputs": [],
      "source": [
        "X = df.drop(['class'], axis=1)\n",
        "y = df['class']\n",
        "\n",
        "#splitting train data and test data\n",
        "X_train, X_test, y_train, y_test = train_test_split(X, y, test_size = 0.3, random_state = 42)"
      ]
    },
    {
      "cell_type": "code",
      "execution_count": 6,
      "metadata": {
        "id": "WewTEIxz336f"
      },
      "outputs": [],
      "source": [
        "#K-fold validation\n",
        "def kfold_score(clf,X,y,n_fold):\n",
        "    X,y = X.values,y.values\n",
        "    kfold = StratifiedKFold(n_splits=n_fold, shuffle=True, random_state=1)\n",
        "    accuracy_list = []\n",
        "\n",
        "    for train_index, test_index in kfold.split(X, y):\n",
        "        x_train_fold, x_test_fold = X[train_index], X[test_index]\n",
        "        y_train_fold, y_test_fold = y[train_index], y[test_index]\n",
        "        clf.fit(x_train_fold, y_train_fold)\n",
        "        preds = clf.predict(x_test_fold)\n",
        "        accuracy_test = accuracy_score(preds,y_test_fold)\n",
        "        accuracy_list.append(accuracy_test)\n",
        "    return np.array(accuracy_list).mean()"
      ]
    },
    {
      "cell_type": "code",
      "execution_count": null,
      "metadata": {
        "id": "fDw19dgo2Iz7"
      },
      "outputs": [],
      "source": [
        "#Random Forest classification\n",
        "\n",
        "#max_features: 1 to around sqrt(# of features of dataset)\n",
        "bounds = [\n",
        "        {'name': 'max_features', 'type': 'continuous', 'domain': (1, 5)},\n",
        "        {'name': 'n_estimators', 'type': 'continuous', 'domain': (1, 200)}\n",
        "      ]\n",
        "\n",
        "def rf_score(parameters):\n",
        "  params = {\n",
        "        'max_features':int(parameters[0][0]),\n",
        "        'n_estimators':int(parameters[0][1])\n",
        "    }\n",
        "  \n",
        "  clf = RandomForestClassifier(max_features=params['max_features'],n_estimators=params['n_estimators'])\n",
        "  clf.fit(X_train,y_train)\n",
        "  score = kfold_score(clf,X_train, y_train,5)\n",
        "  return score"
      ]
    },
    {
      "cell_type": "code",
      "execution_count": 7,
      "metadata": {
        "id": "MR6Pdp6BDz7Z"
      },
      "outputs": [],
      "source": [
        "def BO(model,kernel):\n",
        "  optimizer = GPyOpt.methods.BayesianOptimization(f=model, \n",
        "                                                domain=bounds,\n",
        "                                                acquisition_type ='EI',\n",
        "                                                initial_design_numdata = 5,\n",
        "                                                model_type='GP',\n",
        "                                                maximize=True,\n",
        "                                                kernel=kernel\n",
        "                                                )\n",
        "  optimizer.run_optimization(max_iter=20)\n",
        "\n",
        "  X=(optimizer.X)\n",
        "  m, v = optimizer.model.predict(X)\n",
        "  log_mll = -0.5*np.matmul(np.matmul((optimizer.Y - m).T,np.linalg.inv(kernel.K(X,X)+(0.01**2)*np.identity(25))),(optimizer.Y - m)) \\\n",
        "          -0.5 * np.log(np.linalg.det(kernel.K(X,X)+(0.01**2)*np.identity(25))) - np.pi * 0.5 * np.log(2*np.pi)\n",
        "  return log_mll"
      ]
    },
    {
      "cell_type": "code",
      "execution_count": 8,
      "metadata": {
        "id": "rxceyRD36yN9"
      },
      "outputs": [],
      "source": [
        "v1 = np.linspace(0.5,1.5,101)\n",
        "l1 = np.linspace(0.1,3.0,101)\n",
        "v2 = np.linspace(0.5,1.5,101)\n",
        "l2 = np.linspace(0.1,3.0,101)"
      ]
    },
    {
      "cell_type": "code",
      "execution_count": null,
      "metadata": {
        "colab": {
          "base_uri": "https://localhost:8080/"
        },
        "id": "ZWdOWxyN7FU2",
        "outputId": "95b74b5e-f5ce-4480-a4cb-2e1738d3b616"
      },
      "outputs": [
        {
          "name": "stdout",
          "output_type": "stream",
          "text": [
            "v1 = 1.27 l1 = 1.3900000000000001 v2 = 1.44 l2 = 0.8200000000000001 mll = [[11.64043728]]\n",
            "v1 = 0.87 l1 = 0.62 v2 = 0.6799999999999999 l2 = 1.3399999999999999 mll = [[3.54728323]]\n",
            "v1 = 0.62 l1 = 1.4500000000000002 v2 = 0.73 l2 = 1.23 mll = [[3.02665051]]\n",
            "v1 = 1.1 l1 = 1.0 v2 = 1.21 l2 = 0.6 mll = [[10.97874664]]\n",
            "v1 = 1.27 l1 = 0.98 v2 = 1.21 l2 = 0.78 mll = [[19.38325669]]\n",
            "v1 = 1.38 l1 = 1.03 v2 = 0.55 l2 = 1.06 mll = [[55.79627004]]\n",
            "v1 = 1.27 l1 = 0.87 v2 = 1.02 l2 = 1.06 mll = [[32.7634212]]\n",
            "v1 = 0.62 l1 = 1.19 v2 = 1.49 l2 = 1.03 mll = [[14.2548648]]\n",
            "v1 = 0.59 l1 = 1.26 v2 = 1.0 l2 = 1.44 mll = [[2.53304514]]\n",
            "v1 = 0.55 l1 = 0.81 v2 = 0.61 l2 = 0.55 mll = [[5.47411696]]\n",
            "v1 = 1.22 l1 = 0.67 v2 = 0.96 l2 = 1.47 mll = [[45.72970394]]\n",
            "v1 = 1.35 l1 = 0.54 v2 = 1.1 l2 = 0.64 mll = [[38.98716722]]\n",
            "v1 = 0.6799999999999999 l1 = 0.88 v2 = 0.8400000000000001 l2 = 0.8 mll = [[2.37304338]]\n",
            "v1 = 1.47 l1 = 1.13 v2 = 0.79 l2 = 0.86 mll = [[-4.05377273]]\n",
            "v1 = 0.71 l1 = 0.97 v2 = 1.35 l2 = 0.61 mll = [[12.8286587]]\n",
            "v1 = 1.22 l1 = 0.9199999999999999 v2 = 0.8200000000000001 l2 = 1.38 mll = [[13.8359623]]\n",
            "v1 = 1.32 l1 = 1.0899999999999999 v2 = 0.64 l2 = 0.87 mll = [[-4.51618335]]\n",
            "v1 = 1.38 l1 = 0.56 v2 = 1.32 l2 = 0.59 mll = [[-2.2175619]]\n",
            "v1 = 0.61 l1 = 1.49 v2 = 0.87 l2 = 1.29 mll = [[30.2589142]]\n",
            "v1 = 1.2000000000000002 l1 = 1.3599999999999999 v2 = 1.1 l2 = 0.6799999999999999 mll = [[10.43595973]]\n",
            "v1 = 0.94 l1 = 0.9299999999999999 v2 = 1.25 l2 = 0.5 mll = [[7.29140145]]\n",
            "v1 = 0.65 l1 = 0.74 v2 = 1.32 l2 = 1.47 mll = [[2.18531348]]\n",
            "v1 = 1.38 l1 = 0.64 v2 = 1.32 l2 = 0.9299999999999999 mll = [[10.1772555]]\n",
            "v1 = 1.0899999999999999 l1 = 1.31 v2 = 1.3599999999999999 l2 = 0.8300000000000001 mll = [[-5.04678066]]\n",
            "v1 = 1.1 l1 = 1.04 v2 = 1.4 l2 = 0.78 mll = [[35.83698492]]\n",
            "v1 = 0.8400000000000001 l1 = 1.47 v2 = 0.81 l2 = 1.1800000000000002 mll = [[8.10071922]]\n",
            "v1 = 1.38 l1 = 0.67 v2 = 0.58 l2 = 0.8200000000000001 mll = [[17.08947327]]\n",
            "v1 = 1.02 l1 = 1.28 v2 = 1.02 l2 = 1.1 mll = [[10.92207374]]\n",
            "v1 = 0.9199999999999999 l1 = 1.44 v2 = 1.1 l2 = 0.72 mll = [[7.46900644]]\n",
            "v1 = 0.81 l1 = 0.72 v2 = 1.3900000000000001 l2 = 0.8300000000000001 mll = [[1.37415241]]\n"
          ]
        }
      ],
      "source": [
        "score_rf=[]\n",
        "v1_list=[]\n",
        "l1_list=[]\n",
        "v2_list=[]\n",
        "l2_list=[]\n",
        "\n",
        "for i in range(30):\n",
        "  v1_=random.choice(v1)\n",
        "  v1_list.append(v1_)\n",
        "  l1_=random.choice(l1)\n",
        "  l1_list.append(l1_)\n",
        "  v2_=random.choice(v2)\n",
        "  v2_list.append(v2_)\n",
        "  l2_=random.choice(l2)\n",
        "  l2_list.append(l2_)\n",
        "\n",
        "  kernel1 = GPy.kern.Matern52(input_dim=1,variance=v1_,lengthscale=l1_,active_dims=[0])\n",
        "  kernel2 = GPy.kern.Matern52(input_dim=1,variance=v2_,lengthscale=l2_,active_dims=[1])\n",
        "  kernel3 = GPy.kern.Matern52(input_dim=1,variance=v1_,lengthscale=l1_,active_dims=[0]) \\\n",
        "          * GPy.kern.Matern52(input_dim=1,variance=v2_,lengthscale=l2_,active_dims=[1])\n",
        "  kernel = kernel1 + kernel2 + kernel3\n",
        "  mll = BO(rf_score,kernel)\n",
        "  score_rf.append(mll)\n",
        "\n",
        "  print(\"v1 =\", v1_, \"l1 =\", l1_, \"v2 =\", v2_, \"l2 =\", l2_, \"mll =\", mll)"
      ]
    },
    {
      "cell_type": "code",
      "execution_count": null,
      "metadata": {
        "id": "RhPpU4XOldhp"
      },
      "outputs": [],
      "source": [
        "kernel1 = GPy.kern.Matern52(input_dim=1,variance=1.38,lengthscale=1.03,active_dims=[0])\n",
        "kernel2 = GPy.kern.Matern52(input_dim=1,variance=0.55,lengthscale=1.06,active_dims=[1])\n",
        "kernel3 = GPy.kern.Matern52(input_dim=1,variance=1.38,lengthscale=1.03,active_dims=[0]) \\\n",
        "         * GPy.kern.Matern52(input_dim=1,variance=0.55,lengthscale=1.06,active_dims=[1])\n",
        "kernel = kernel1 + kernel2 + kernel3"
      ]
    },
    {
      "cell_type": "code",
      "execution_count": null,
      "metadata": {
        "colab": {
          "base_uri": "https://localhost:8080/"
        },
        "id": "FQuk1R7P6SBj",
        "outputId": "74a6b142-8631-4c4d-c0a4-d8170f0ff47f"
      },
      "outputs": [
        {
          "name": "stdout",
          "output_type": "stream",
          "text": [
            "l1 = 2.072 l2 = 2.913 mll = [[-5.4090463]]\n",
            "l1 = 1.753 l2 = 0.7669999999999999 mll = [[-0.49356598]]\n",
            "l1 = 0.361 l2 = 1.057 mll = [[3.80974492]]\n",
            "l1 = 1.173 l2 = 1.579 mll = [[16.33640354]]\n",
            "l1 = 0.477 l2 = 2.449 mll = [[1.71432653]]\n",
            "l1 = 1.811 l2 = 2.7969999999999997 mll = [[0.84616946]]\n",
            "l1 = 1.724 l2 = 2.072 mll = [[54.97415783]]\n",
            "l1 = 2.507 l2 = 0.477 mll = [[11.96018802]]\n",
            "l1 = 2.565 l2 = 2.594 mll = [[37.26561077]]\n",
            "l1 = 1.463 l2 = 1.26 mll = [[2.86872855]]\n",
            "l1 = 1.26 l2 = 1.55 mll = [[24.34740288]]\n",
            "l1 = 2.014 l2 = 1.9849999999999999 mll = [[27.86286008]]\n",
            "l1 = 2.507 l2 = 2.304 mll = [[59.75321257]]\n",
            "l1 = 1.724 l2 = 1.9849999999999999 mll = [[10.61102236]]\n",
            "l1 = 2.7969999999999997 l2 = 2.681 mll = [[0.13844341]]\n",
            "l1 = 0.9699999999999999 l2 = 0.129 mll = [[44.03325657]]\n",
            "l1 = 2.71 l2 = 0.129 mll = [[1.16476191]]\n",
            "l1 = 2.6519999999999997 l2 = 2.217 mll = [[-4.47027069]]\n",
            "l1 = 2.014 l2 = 0.245 mll = [[5.73547299]]\n",
            "l1 = 2.536 l2 = 1.115 mll = [[-14.28301788]]\n",
            "l1 = 2.304 l2 = 0.361 mll = [[63.45799722]]\n",
            "l1 = 2.507 l2 = 0.216 mll = [[8.22819776]]\n",
            "l1 = 0.245 l2 = 1.695 mll = [[35.07772971]]\n",
            "l1 = 1.028 l2 = 2.768 mll = [[7.16100087]]\n",
            "l1 = 2.3329999999999997 l2 = 0.274 mll = [[10.60579778]]\n",
            "l1 = 1.8399999999999999 l2 = 2.014 mll = [[9.38131343]]\n",
            "l1 = 0.506 l2 = 2.188 mll = [[13.02192667]]\n",
            "l1 = 0.7379999999999999 l2 = 1.1440000000000001 mll = [[17.02160038]]\n",
            "l1 = 0.9989999999999999 l2 = 1.724 mll = [[9.52288739]]\n",
            "l1 = 1.956 l2 = 0.6799999999999999 mll = [[14.75645887]]\n"
          ]
        }
      ],
      "source": [
        "for i in range(30):\n",
        "  l1_=random.choice(l1)\n",
        "  l2_=random.choice(l2)\n",
        "\n",
        "  kernel1 = GPy.kern.Matern52(input_dim=1,lengthscale=l1_,active_dims=[0])\n",
        "  kernel2 = GPy.kern.Matern52(input_dim=1,lengthscale=l2_,active_dims=[1])\n",
        "  kernel3 = GPy.kern.Matern52(input_dim=1,lengthscale=l1_,active_dims=[0]) \\\n",
        "          * GPy.kern.Matern52(input_dim=1,lengthscale=l2_,active_dims=[1])\n",
        "  kernel = kernel1 + kernel2 + kernel3\n",
        "  mll = BO(rf_score,kernel)\n",
        "  print(\"l1 =\", l1_, \"l2 =\", l2_, \"mll =\", mll)"
      ]
    },
    {
      "cell_type": "code",
      "execution_count": null,
      "metadata": {
        "id": "9XK_M5ti7fJG"
      },
      "outputs": [],
      "source": [
        "#SVM Classification\n",
        "\n",
        "bounds = [ {'name': 'C', 'type': 'continuous', 'domain': (0.1, 100)},\n",
        "        {'name': 'gamma', 'type': 'continuous', 'domain': (0.001, 1)}\n",
        "      ]\n",
        "\n",
        "\n",
        "def svm_score(parameters):\n",
        "  params = {\n",
        "        'C': parameters[0][0],\n",
        "        'gamma':parameters[0][1]\n",
        "    }\n",
        "  \n",
        "  clf = svm.SVC(C=params['C'],gamma=params['gamma'])\n",
        "  clf.fit(X_train,y_train)\n",
        "  score = kfold_score(clf,X_train, y_train,5)\n",
        "\n",
        "  return score"
      ]
    },
    {
      "cell_type": "code",
      "execution_count": null,
      "metadata": {
        "colab": {
          "base_uri": "https://localhost:8080/"
        },
        "id": "GNcVFJB_WXMt",
        "outputId": "973f2fa8-ab6b-49a2-8a2a-e067b7ed631b"
      },
      "outputs": [
        {
          "name": "stdout",
          "output_type": "stream",
          "text": [
            "v1 = 1.35 l1 = 1.3599999999999999 v2 = 0.76 l2 = 1.31 mll = [[-6.03156147]]\n",
            "v1 = 1.3399999999999999 l1 = 1.48 v2 = 1.4500000000000002 l2 = 1.4 mll = [[-11.0535599]]\n",
            "v1 = 1.0 l1 = 0.52 v2 = 0.66 l2 = 0.64 mll = [[-11.51976621]]\n",
            "v1 = 1.3 l1 = 1.33 v2 = 1.1099999999999999 l2 = 0.75 mll = [[2.55729217]]\n",
            "v1 = 1.27 l1 = 0.78 v2 = 0.5700000000000001 l2 = 0.55 mll = [[-14.10267993]]\n",
            "v1 = 0.51 l1 = 0.6799999999999999 v2 = 0.73 l2 = 0.81 mll = [[-16.03073265]]\n",
            "v1 = 0.56 l1 = 0.77 v2 = 0.95 l2 = 1.3900000000000001 mll = [[-7.05446438]]\n",
            "v1 = 1.17 l1 = 1.04 v2 = 0.98 l2 = 1.3399999999999999 mll = [[-6.97891284]]\n",
            "v1 = 0.95 l1 = 1.21 v2 = 1.23 l2 = 1.08 mll = [[-8.57886439]]\n",
            "v1 = 1.47 l1 = 1.0899999999999999 v2 = 1.02 l2 = 1.48 mll = [[-16.305148]]\n",
            "v1 = 1.27 l1 = 1.0 v2 = 0.8200000000000001 l2 = 0.58 mll = [[-17.85148275]]\n",
            "v1 = 0.8400000000000001 l1 = 0.9299999999999999 v2 = 0.51 l2 = 1.28 mll = [[-13.76641205]]\n",
            "v1 = 1.47 l1 = 0.73 v2 = 1.22 l2 = 1.24 mll = [[-14.95758332]]\n",
            "v1 = 1.02 l1 = 0.75 v2 = 0.81 l2 = 1.3900000000000001 mll = [[-12.87901034]]\n",
            "v1 = 1.48 l1 = 0.81 v2 = 0.59 l2 = 1.49 mll = [[-16.70036065]]\n",
            "v1 = 1.4500000000000002 l1 = 0.71 v2 = 0.89 l2 = 0.62 mll = [[-15.43923627]]\n",
            "v1 = 0.63 l1 = 0.78 v2 = 0.61 l2 = 0.76 mll = [[-8.88987382]]\n",
            "v1 = 0.78 l1 = 0.77 v2 = 1.4100000000000001 l2 = 1.4300000000000002 mll = [[-0.59447457]]\n",
            "v1 = 1.23 l1 = 0.59 v2 = 0.79 l2 = 0.55 mll = [[-4.65228362]]\n",
            "v1 = 1.46 l1 = 0.71 v2 = 0.53 l2 = 1.21 mll = [[6.73673554]]\n",
            "v1 = 1.13 l1 = 0.9199999999999999 v2 = 0.66 l2 = 1.38 mll = [[15.53471523]]\n",
            "v1 = 0.9299999999999999 l1 = 0.8500000000000001 v2 = 0.7 l2 = 1.31 mll = [[-7.7145174]]\n",
            "v1 = 0.63 l1 = 1.12 v2 = 1.05 l2 = 0.5 mll = [[4.73821479]]\n",
            "v1 = 1.08 l1 = 1.5 v2 = 0.95 l2 = 1.1099999999999999 mll = [[0.80684277]]\n",
            "v1 = 0.95 l1 = 1.38 v2 = 0.89 l2 = 1.23 mll = [[7.9679999]]\n",
            "v1 = 0.81 l1 = 1.37 v2 = 1.19 l2 = 0.51 mll = [[-3.94830562]]\n",
            "v1 = 0.8500000000000001 l1 = 0.51 v2 = 0.97 l2 = 1.46 mll = [[-17.63744033]]\n",
            "v1 = 1.1 l1 = 0.81 v2 = 1.4500000000000002 l2 = 1.4 mll = [[-19.27503111]]\n",
            "v1 = 1.48 l1 = 0.72 v2 = 1.47 l2 = 1.12 mll = [[-21.6441781]]\n",
            "v1 = 0.8300000000000001 l1 = 1.35 v2 = 0.98 l2 = 1.19 mll = [[-16.42349482]]\n"
          ]
        }
      ],
      "source": [
        "for i in range(30):\n",
        "  v1_=random.choice(v1)\n",
        "  l1_=random.choice(l1)\n",
        "  v2_=random.choice(v2)\n",
        "  l2_=random.choice(l2)\n",
        "\n",
        "  kernel = GPy.kern.Matern52(input_dim=1,variance=v1_,lengthscale=l1_,active_dims=[0]) \\\n",
        "          * GPy.kern.Matern52(input_dim=1,variance=v2_,lengthscale=l2_,active_dims=[1])\n",
        "  mll = BO(svm_score,kernel)\n",
        "  print(\"v1 =\", v1_, \"l1 =\", l1_, \"v2 =\", v2_, \"l2 =\", l2_, \"mll =\", mll)"
      ]
    },
    {
      "cell_type": "code",
      "execution_count": null,
      "metadata": {
        "id": "UIBSbNdAaF3N"
      },
      "outputs": [],
      "source": [
        "kernel = GPy.kern.Matern52(input_dim=1,variance=1.13,lengthscale=0.92,active_dims=[0]) \\\n",
        "        * GPy.kern.Matern52(input_dim=1,variance=0.66,lengthscale=1.38,active_dims=[1])"
      ]
    },
    {
      "cell_type": "code",
      "execution_count": null,
      "metadata": {
        "colab": {
          "base_uri": "https://localhost:8080/"
        },
        "id": "XbFo_vrg72bc",
        "outputId": "4865bc17-5343-4312-faf8-07c1d84eb647"
      },
      "outputs": [
        {
          "name": "stdout",
          "output_type": "stream",
          "text": [
            "l1 = 1.173 l2 = 0.5349999999999999 mll = [[105.98533971]]\n",
            "l1 = 0.825 l2 = 0.39 mll = [[105.98530353]]\n",
            "l1 = 1.347 l2 = 1.1440000000000001 mll = [[105.98573364]]\n",
            "l1 = 2.565 l2 = 2.913 mll = [[105.98562079]]\n",
            "l1 = 1.231 l2 = 1.898 mll = [[105.98544115]]\n",
            "l1 = 1.9849999999999999 l2 = 0.303 mll = [[105.98553605]]\n",
            "l1 = 2.855 l2 = 1.956 mll = [[105.98576097]]\n",
            "l1 = 1.434 l2 = 1.956 mll = [[105.98549766]]\n",
            "l1 = 1.956 l2 = 1.724 mll = [[105.98506476]]\n",
            "l1 = 0.5349999999999999 l2 = 1.753 mll = [[105.98557098]]\n",
            "l1 = 0.7379999999999999 l2 = 2.391 mll = [[105.98640204]]\n",
            "l1 = 0.361 l2 = 0.303 mll = [[105.98498948]]\n",
            "l1 = 2.4779999999999998 l2 = 1.1440000000000001 mll = [[105.98433634]]\n",
            "l1 = 0.825 l2 = 1.028 mll = [[105.98521208]]\n",
            "l1 = 0.1 l2 = 2.6519999999999997 mll = [[105.98542047]]\n",
            "l1 = 2.246 l2 = 0.5349999999999999 mll = [[105.98535659]]\n",
            "l1 = 1.347 l2 = 0.44799999999999995 mll = [[105.98558035]]\n",
            "l1 = 1.376 l2 = 2.391 mll = [[105.98544932]]\n",
            "l1 = 2.7969999999999997 l2 = 1.434 mll = [[105.98579738]]\n",
            "l1 = 2.826 l2 = 2.7969999999999997 mll = [[105.985823]]\n",
            "l1 = 0.709 l2 = 2.9419999999999997 mll = [[105.98588696]]\n",
            "l1 = 0.8829999999999999 l2 = 0.5349999999999999 mll = [[105.98554313]]\n",
            "l1 = 1.666 l2 = 0.9699999999999999 mll = [[105.98590856]]\n",
            "l1 = 2.275 l2 = 0.477 mll = [[105.98547753]]\n",
            "l1 = 2.9419999999999997 l2 = 0.274 mll = [[105.98551838]]\n",
            "l1 = 2.217 l2 = 0.6799999999999999 mll = [[105.9852898]]\n",
            "l1 = 0.216 l2 = 0.564 mll = [[105.98530669]]\n",
            "l1 = 2.768 l2 = 2.159 mll = [[105.98664477]]\n",
            "l1 = 1.956 l2 = 0.7669999999999999 mll = [[105.98621867]]\n",
            "l1 = 0.709 l2 = 2.304 mll = [[105.98521043]]\n"
          ]
        }
      ],
      "source": [
        "for i in range(30):\n",
        "  l1_=random.choice(l1)\n",
        "  l2_=random.choice(l2)\n",
        "\n",
        "  kernel = GPy.kern.Matern52(input_dim=1,lengthscale=l1_,active_dims=[0]) \\\n",
        "          * GPy.kern.Matern52(input_dim=1,lengthscale=l2_,active_dims=[1])\n",
        "  mll = BO(svm_score,kernel)\n",
        "  print(\"l1 =\", l1_, \"l2 =\", l2_, \"mll =\", mll)"
      ]
    },
    {
      "cell_type": "code",
      "execution_count": 13,
      "metadata": {
        "id": "9LMGI0Lj_FGm"
      },
      "outputs": [],
      "source": [
        "#KNN Classification\n",
        "\n",
        "#search domain\n",
        "bounds = [ {'name': 'leaf_size', 'type': 'continuous', 'domain': (1, 100)},\n",
        "        {'name': 'n_neighbors', 'type': 'discrete', 'domain': (3,4,5,6,7)}\n",
        "      ]\n",
        "\n",
        "\n",
        "def knn_score(parameters):\n",
        "  params = {\n",
        "        'leaf_size': int(parameters[0][0]),\n",
        "        'n_neighbors':int(parameters[0][1])\n",
        "    }\n",
        "  \n",
        "  clf = KNeighborsClassifier(leaf_size=params['leaf_size'],n_neighbors=params['n_neighbors'])\n",
        "  clf.fit(X_train,y_train)\n",
        "  score = kfold_score(clf,X_train, y_train,5)\n",
        "\n",
        "  return score"
      ]
    },
    {
      "cell_type": "code",
      "execution_count": 25,
      "metadata": {
        "colab": {
          "base_uri": "https://localhost:8080/",
          "height": 315
        },
        "id": "eIxS-uQJbbE0",
        "outputId": "6b1aa501-903d-4d74-f2a8-71ead8653e86"
      },
      "outputs": [
        {
          "data": {
            "text/plain": [
              "{'covariance': [[<matplotlib.lines.Line2D at 0x7f259b889130>]]}"
            ]
          },
          "execution_count": 25,
          "metadata": {},
          "output_type": "execute_result"
        },
        {
          "data": {
            "image/png": "[encoded data removed]",
            "text/plain": [
              "<Figure size 432x288 with 1 Axes>"
            ]
          },
          "metadata": {
            "needs_background": "light"
          },
          "output_type": "display_data"
        }
      ],
      "source": [
        "kernel = GPy.kern.StdPeriodic(input_dim=1,period=0.5) * GPy.kern.Matern52(input_dim=1)\n",
        "kernel.plot()"
      ]
    },
    {
      "cell_type": "code",
      "execution_count": 22,
      "metadata": {
        "colab": {
          "base_uri": "https://localhost:8080/"
        },
        "id": "Gadzrn0Kaa1D",
        "outputId": "d983898e-0e96-4dfd-cf74-1039de2108a3"
      },
      "outputs": [
        {
          "name": "stdout",
          "output_type": "stream",
          "text": [
            "l1 = 0.129 l2 = 0.506 l3 =  1.115 mll = [[11.26468692]]\n",
            "l1 = 0.6799999999999999 l2 = 2.4779999999999998 l3 =  1.782 mll = [[20.39480675]]\n",
            "l1 = 1.173 l2 = 0.41899999999999993 l3 =  2.7969999999999997 mll = [[4.22959688]]\n",
            "l1 = 1.782 l2 = 0.506 l3 =  1.579 mll = [[46.72121967]]\n",
            "l1 = 1.695 l2 = 2.565 l3 =  0.593 mll = [[31.04956417]]\n",
            "l1 = 1.521 l2 = 2.3329999999999997 l3 =  1.318 mll = [[25.44158669]]\n",
            "l1 = 1.434 l2 = 2.6519999999999997 l3 =  1.608 mll = [[28.28499611]]\n",
            "l1 = 2.594 l2 = 1.434 l3 =  2.217 mll = [[34.72167654]]\n",
            "l1 = 1.811 l2 = 1.9849999999999999 l3 =  2.217 mll = [[36.29323343]]\n",
            "l1 = 0.7959999999999999 l2 = 0.33199999999999996 l3 =  2.4779999999999998 mll = [[25.00109381]]\n",
            "l1 = 1.26 l2 = 0.1 l3 =  1.55 mll = [[26.51873874]]\n",
            "l1 = 1.521 l2 = 2.014 l3 =  1.956 mll = [[60.72237596]]\n",
            "l1 = 2.6229999999999998 l2 = 2.6229999999999998 l3 =  3.0 mll = [[37.7647732]]\n",
            "l1 = 0.564 l2 = 1.608 l3 =  1.666 mll = [[38.09984619]]\n",
            "l1 = 2.507 l2 = 0.39 l3 =  2.768 mll = [[7.34025831]]\n",
            "l1 = 0.7669999999999999 l2 = 2.681 l3 =  2.971 mll = [[-2.00597506]]\n",
            "l1 = 2.13 l2 = 2.362 l3 =  0.187 mll = [[22.09102536]]\n",
            "l1 = 1.26 l2 = 0.6509999999999999 l3 =  1.724 mll = [[15.92060773]]\n",
            "l1 = 2.246 l2 = 1.057 l3 =  2.565 mll = [[21.49491077]]\n",
            "l1 = 2.246 l2 = 0.941 l3 =  2.9419999999999997 mll = [[21.59167128]]\n",
            "l1 = 2.014 l2 = 1.724 l3 =  1.637 mll = [[41.95522078]]\n",
            "l1 = 1.8399999999999999 l2 = 0.6799999999999999 l3 =  0.506 mll = [[30.64804456]]\n",
            "l1 = 0.39 l2 = 2.449 l3 =  0.129 mll = [[54.08257193]]\n",
            "l1 = 0.9699999999999999 l2 = 0.8829999999999999 l3 =  1.579 mll = [[7.83809976]]\n",
            "l1 = 1.782 l2 = 1.086 l3 =  1.55 mll = [[26.28151975]]\n",
            "l1 = 2.826 l2 = 0.622 l3 =  2.826 mll = [[33.06849773]]\n",
            "l1 = 2.42 l2 = 2.6229999999999998 l3 =  1.521 mll = [[30.28241423]]\n",
            "l1 = 2.391 l2 = 1.782 l3 =  1.753 mll = [[31.68699687]]\n",
            "l1 = 0.8829999999999999 l2 = 0.216 l3 =  1.782 mll = [[3.82293225]]\n",
            "l1 = 1.376 l2 = 0.593 l3 =  1.231 mll = [[12.70751702]]\n"
          ]
        }
      ],
      "source": [
        "l3 = np.linspace(0.1,3.0,101)\n",
        "for i in range(30):\n",
        "  l1_=random.choice(l1)\n",
        "  l2_=random.choice(l2)\n",
        "  l3_=random.choice(l3)\n",
        "  kernel1 = GPy.kern.StdPeriodic(input_dim=1,lengthscale=l1_,active_dims=[0],period=13) \\\n",
        "          * GPy.kern.Matern52(input_dim=1,lengthscale=l2_,active_dims=[0])\n",
        "  kernel2 = GPy.kern.StdPeriodic(input_dim=1,lengthscale=l3_,active_dims=[1],period=2)\n",
        "  kernel = kernel1 + kernel2\n",
        "  mll = BO(knn_score,kernel)\n",
        "  print(\"l1 =\", l1_, \"l2 =\", l2_, \"l3 = \", l3_, \"mll =\", mll)"
      ]
    }
  ],
  "metadata": {
    "colab": {
      "authorship_tag": "ABX9TyP+lR7zinWkCvisqE53aO9o",
      "include_colab_link": true,
      "provenance": []
    },
    "kernelspec": {
      "display_name": "Python 3",
      "name": "python3"
    },
    "language_info": {
      "name": "python"
    }
  },
  "nbformat": 4,
  "nbformat_minor": 0
}
