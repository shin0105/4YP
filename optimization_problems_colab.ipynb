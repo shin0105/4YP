{
  "nbformat": 4,
  "nbformat_minor": 0,
  "metadata": {
    "colab": {
      "provenance": [],
      "collapsed_sections": [],
      "authorship_tag": "ABX9TyORaBVgPI7WyIKFMaeD08l1",
      "include_colab_link": true
    },
    "kernelspec": {
      "name": "python3",
      "display_name": "Python 3"
    },
    "language_info": {
      "name": "python"
    }
  },
  "cells": [
    {
      "cell_type": "markdown",
      "metadata": {
        "id": "view-in-github",
        "colab_type": "text"
      },
      "source": [
        "<a href=\"https://colab.research.google.com/github/shin0105/4YP/blob/master/optimization_problems_colab.ipynb\" target=\"_parent\"><img src=\"https://colab.research.google.com/assets/colab-badge.svg\" alt=\"Open In Colab\"/></a>"
      ]
    },
    {
      "cell_type": "code",
      "execution_count": null,
      "metadata": {
        "colab": {
          "base_uri": "https://localhost:8080/"
        },
        "id": "9vqflZYhuk3Y",
        "outputId": "02af43d8-6cfe-4a4a-aae9-cfa7c0e2054e"
      },
      "outputs": [
        {
          "output_type": "stream",
          "name": "stdout",
          "text": [
            "Predicted minimum y value using GP: 2.6704434607127935e-22\n",
            "Minimum y value from sampled points: 1.0943808026554311\n"
          ]
        }
      ],
      "source": [
        "import numpy as np\n",
        "import matplotlib.pyplot as plt\n",
        "import jax\n",
        "import jax.numpy as jnp\n",
        "import jaxopt\n",
        "from tinygp import GaussianProcess, kernels, transforms\n",
        "jax.config.update(\"jax_enable_x64\", True)\n",
        "\n",
        "#BOHACHEVSKY FUNCTIONS using tinygp (Matern series)\n",
        "\n",
        "#BOHACHEVSKY FUNCTIONS description\n",
        "random = np.random.default_rng()\n",
        "X = random.uniform(-100, 100, (100, 2))\n",
        "yerr = 0.01\n",
        "y = X[:,0]**2 + 2*X[:,1]**2 - 0.3*np.cos(3*np.pi*X[:,0]) - 0.4*np.cos(4*np.pi*X[:,1]) + 0.7 + yerr * random.normal(\n",
        "    size=len(X))\n",
        "\n",
        "X1,X2 = np.meshgrid(X[:,0], X[:,1])\n",
        "y_true = X1**2 + 2*X2**2 - 0.3*np.cos(3*np.pi*X1) - 0.4*np.cos(4*np.pi*X2) +0.7\n",
        "X_pred = np.vstack((X1.flatten(), X2.flatten())).T\n",
        "\n",
        "def train_gp(nparams, build_gp_func):\n",
        "    @jax.jit\n",
        "    def loss(params):\n",
        "        return -build_gp_func(params).log_probability(y)\n",
        "\n",
        "    params = {\n",
        "        \"log_amp\": np.float64(0.0),\n",
        "        \"log_scale\": np.zeros(nparams),\n",
        "    }\n",
        "    solver = jaxopt.ScipyMinimize(fun=loss)\n",
        "    soln = solver.run(params)\n",
        "    return build_gp_func(soln.params)\n",
        "\n",
        "#Kernel = Matern series v=3/2, uncorrelated \n",
        "def build_gp_uncorr(params):\n",
        "    kernel = jnp.exp(params[\"log_amp\"]) * transforms.Linear(\n",
        "        jnp.exp(-params[\"log_scale\"]), kernels.Matern32()\n",
        "    )\n",
        "    return GaussianProcess(kernel, X, diag=yerr**2)\n",
        "\n",
        "uncorr_gp = train_gp(2, build_gp_uncorr)\n",
        "\n",
        "y_pred = uncorr_gp.condition(y, X_pred).gp.loc.reshape(y_true.shape)\n",
        "\n",
        "#printing results, comparing trained(predicted) data vs. true value\n",
        "print(f\"Predicted minimum y value using GP: {y_pred.min()}\")\n",
        "\n",
        "print(f\"Minimum y value from sampled points: {y_true.min()}\")"
      ]
    },
    {
      "cell_type": "code",
      "source": [],
      "metadata": {
        "id": "YWxCfDqEvFcl"
      },
      "execution_count": null,
      "outputs": []
    }
  ]
}