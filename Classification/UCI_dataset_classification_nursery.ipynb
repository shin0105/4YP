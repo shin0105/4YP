{
  "cells": [
    {
      "cell_type": "code",
      "execution_count": null,
      "metadata": {
        "id": "rLPXTuwQovwn"
      },
      "outputs": [],
      "source": [
        "!pip install GPyOpt\n",
        "!pip install GPy"
      ]
    },
    {
      "cell_type": "code",
      "execution_count": 2,
      "metadata": {
        "id": "RHLDk0wJqQHz"
      },
      "outputs": [],
      "source": [
        "#import packages\n",
        "\n",
        "#basic packages\n",
        "import pandas as pd\n",
        "import numpy as np\n",
        "import matplotlib.pyplot as plt\n",
        "import seaborn as sns\n",
        "\n",
        "#Bayesian optimization packages\n",
        "import GPy\n",
        "import GPyOpt\n",
        "\n",
        "#ML Algorithm packages\n",
        "from sklearn.model_selection import train_test_split, cross_val_score, KFold\n",
        "from sklearn.metrics import confusion_matrix, accuracy_score, classification_report\n",
        "from sklearn.ensemble import RandomForestClassifier\n",
        "from sklearn.neighbors import KNeighborsClassifier\n",
        "from sklearn import svm\n",
        "from sklearn import preprocessing"
      ]
    },
    {
      "cell_type": "code",
      "execution_count": 3,
      "metadata": {
        "colab": {
          "base_uri": "https://localhost:8080/"
        },
        "id": "pqRbjvEEMbns",
        "outputId": "b94f7126-5a07-46b5-c48d-c3e94e2f7586"
      },
      "outputs": [
        {
          "name": "stdout",
          "output_type": "stream",
          "text": [
            "1. Title: Nursery Database\n",
            "\n",
            "2. Sources:\n",
            "   (a) Creator: Vladislav Rajkovic et al. (13 experts)\n",
            "   (b) Donors: Marko Bohanec   (marko.bohanec@ijs.si)\n",
            "               Blaz Zupan      (blaz.zupan@ijs.si)\n",
            "   (c) Date: June, 1997\n",
            "\n",
            "3. Past Usage:\n",
            "\n",
            "   The hierarchical decision model, from which this dataset is\n",
            "   derived, was first presented in \n",
            "\n",
            "   M. Olave, V. Rajkovic, M. Bohanec: An application for admission in\n",
            "   public school systems. In (I. Th. M. Snellen and W. B. H. J. van de\n",
            "   Donk and J.-P. Baquiast, editors) Expert Systems in Public\n",
            "   Administration, pages 145-160. Elsevier Science Publishers (North\n",
            "   Holland)}, 1989.\n",
            "\n",
            "   Within machine-learning, this dataset was used for the evaluation\n",
            "   of HINT (Hierarchy INduction Tool), which was proved to be able to\n",
            "   completely reconstruct the original hierarchical model. This,\n",
            "   together with a comparison with C4.5, is presented in\n",
            "\n",
            "   B. Zupan, M. Bohanec, I. Bratko, J. Demsar: Machine learning by\n",
            "   function decomposition. ICML-97, Nashville, TN. 1997 (to appear)\n",
            "\n",
            "4. Relevant Information Paragraph:\n",
            "\n",
            "   Nursery Database was derived from a hierarchical decision model\n",
            "   originally developed to rank applications for nursery schools. It\n",
            "   was used during several years in 1980's when there was excessive\n",
            "   enrollment to these schools in Ljubljana, Slovenia, and the\n",
            "   rejected applications frequently needed an objective\n",
            "   explanation. The final decision depended on three subproblems:\n",
            "   occupation of parents and child's nursery, family structure and\n",
            "   financial standing, and social and health picture of the family.\n",
            "   The model was developed within expert system shell for decision\n",
            "   making DEX (M. Bohanec, V. Rajkovic: Expert system for decision\n",
            "   making. Sistemica 1(1), pp. 145-157, 1990.).\n",
            "\n",
            "   The hierarchical model ranks nursery-school applications according\n",
            "   to the following concept structure:\n",
            "\n",
            "   NURSERY            Evaluation of applications for nursery schools\n",
            "   . EMPLOY           Employment of parents and child's nursery\n",
            "   . . parents        Parents' occupation\n",
            "   . . has_nurs       Child's nursery\n",
            "   . STRUCT_FINAN     Family structure and financial standings\n",
            "   . . STRUCTURE      Family structure\n",
            "   . . . form         Form of the family\n",
            "   . . . children     Number of children\n",
            "   . . housing        Housing conditions\n",
            "   . . finance        Financial standing of the family\n",
            "   . SOC_HEALTH       Social and health picture of the family\n",
            "   . . social         Social conditions\n",
            "   . . health         Health conditions\n",
            "\n",
            "   Input attributes are printed in lowercase. Besides the target\n",
            "   concept (NURSERY) the model includes four intermediate concepts:\n",
            "   EMPLOY, STRUCT_FINAN, STRUCTURE, SOC_HEALTH. Every concept is in\n",
            "   the original model related to its lower level descendants by a set\n",
            "   of examples (for these examples sets see \n",
            "   http://www-ai.ijs.si/BlazZupan/nursery.html).\n",
            "\n",
            "   The Nursery Database contains examples with the structural\n",
            "   information removed, i.e., directly relates NURSERY to the eight input\n",
            "   attributes: parents, has_nurs, form, children, housing, finance,\n",
            "   social, health.\n",
            "\n",
            "   Because of known underlying concept structure, this database may be\n",
            "   particularly useful for testing constructive induction and\n",
            "   structure discovery methods.\n",
            "\n",
            "5. Number of Instances: 12960\n",
            "   (instances completely cover the attribute space)\n",
            "\n",
            "6. Number of Attributes: 8\n",
            "\n",
            "7. Attribute Values:\n",
            "\n",
            "   parents        usual, pretentious, great_pret\n",
            "   has_nurs       proper, less_proper, improper, critical, very_crit\n",
            "   form           complete, completed, incomplete, foster\n",
            "   children       1, 2, 3, more\n",
            "   housing        convenient, less_conv, critical\n",
            "   finance        convenient, inconv\n",
            "   social         non-prob, slightly_prob, problematic\n",
            "   health         recommended, priority, not_recom\n",
            "\n",
            "8. Missing Attribute Values: none\n",
            "\n",
            "9. Class Distribution (number of instances per class)\n",
            "\n",
            "   class        N         N[%]\n",
            "   ------------------------------\n",
            "   not_recom    4320   (33.333 %)\n",
            "   recommend       2   ( 0.015 %)\n",
            "   very_recom    328   ( 2.531 %)\n",
            "   priority     4266   (32.917 %)\n",
            "   spec_prior   4044   (31.204 %)\n",
            "\n"
          ]
        }
      ],
      "source": [
        "#dataset = UCI Nursery https://archive-beta.ics.uci.edu/dataset/76/nursery\n",
        "with open(\"nursery.names\") as f:\n",
        "    print(f.read())"
      ]
    },
    {
      "cell_type": "code",
      "execution_count": 6,
      "metadata": {
        "colab": {
          "base_uri": "https://localhost:8080/",
          "height": 206
        },
        "id": "sefirBbFuqWz",
        "outputId": "997a6579-6fc3-401e-9b3b-482be8e27613"
      },
      "outputs": [
        {
          "data": {
            "text/html": [
              "\n",
              "  <div id=\"df-538c7afc-c119-42bf-8283-5d582dd76ddc\">\n",
              "    <div class=\"colab-df-container\">\n",
              "      <div>\n",
              "<style scoped>\n",
              "    .dataframe tbody tr th:only-of-type {\n",
              "        vertical-align: middle;\n",
              "    }\n",
              "\n",
              "    .dataframe tbody tr th {\n",
              "        vertical-align: top;\n",
              "    }\n",
              "\n",
              "    .dataframe thead th {\n",
              "        text-align: right;\n",
              "    }\n",
              "</style>\n",
              "<table border=\"1\" class=\"dataframe\">\n",
              "  <thead>\n",
              "    <tr style=\"text-align: right;\">\n",
              "      <th></th>\n",
              "      <th>parents</th>\n",
              "      <th>has_nurs</th>\n",
              "      <th>form</th>\n",
              "      <th>children</th>\n",
              "      <th>housing</th>\n",
              "      <th>finance</th>\n",
              "      <th>social</th>\n",
              "      <th>health</th>\n",
              "      <th>class</th>\n",
              "    </tr>\n",
              "  </thead>\n",
              "  <tbody>\n",
              "    <tr>\n",
              "      <th>0</th>\n",
              "      <td>usual</td>\n",
              "      <td>proper</td>\n",
              "      <td>complete</td>\n",
              "      <td>1</td>\n",
              "      <td>convenient</td>\n",
              "      <td>convenient</td>\n",
              "      <td>nonprob</td>\n",
              "      <td>recommended</td>\n",
              "      <td>recommend</td>\n",
              "    </tr>\n",
              "    <tr>\n",
              "      <th>1</th>\n",
              "      <td>usual</td>\n",
              "      <td>proper</td>\n",
              "      <td>complete</td>\n",
              "      <td>1</td>\n",
              "      <td>convenient</td>\n",
              "      <td>convenient</td>\n",
              "      <td>nonprob</td>\n",
              "      <td>priority</td>\n",
              "      <td>priority</td>\n",
              "    </tr>\n",
              "    <tr>\n",
              "      <th>2</th>\n",
              "      <td>usual</td>\n",
              "      <td>proper</td>\n",
              "      <td>complete</td>\n",
              "      <td>1</td>\n",
              "      <td>convenient</td>\n",
              "      <td>convenient</td>\n",
              "      <td>nonprob</td>\n",
              "      <td>not_recom</td>\n",
              "      <td>not_recom</td>\n",
              "    </tr>\n",
              "    <tr>\n",
              "      <th>3</th>\n",
              "      <td>usual</td>\n",
              "      <td>proper</td>\n",
              "      <td>complete</td>\n",
              "      <td>1</td>\n",
              "      <td>convenient</td>\n",
              "      <td>convenient</td>\n",
              "      <td>slightly_prob</td>\n",
              "      <td>recommended</td>\n",
              "      <td>recommend</td>\n",
              "    </tr>\n",
              "    <tr>\n",
              "      <th>4</th>\n",
              "      <td>usual</td>\n",
              "      <td>proper</td>\n",
              "      <td>complete</td>\n",
              "      <td>1</td>\n",
              "      <td>convenient</td>\n",
              "      <td>convenient</td>\n",
              "      <td>slightly_prob</td>\n",
              "      <td>priority</td>\n",
              "      <td>priority</td>\n",
              "    </tr>\n",
              "  </tbody>\n",
              "</table>\n",
              "</div>\n",
              "      <button class=\"colab-df-convert\" onclick=\"convertToInteractive('df-538c7afc-c119-42bf-8283-5d582dd76ddc')\"\n",
              "              title=\"Convert this dataframe to an interactive table.\"\n",
              "              style=\"display:none;\">\n",
              "        \n",
              "  <svg xmlns=\"http://www.w3.org/2000/svg\" height=\"24px\"viewBox=\"0 0 24 24\"\n",
              "       width=\"24px\">\n",
              "    <path d=\"M0 0h24v24H0V0z\" fill=\"none\"/>\n",
              "    <path d=\"M18.56 5.44l.94 2.06.94-2.06 2.06-.94-2.06-.94-.94-2.06-.94 2.06-2.06.94zm-11 1L8.5 8.5l.94-2.06 2.06-.94-2.06-.94L8.5 2.5l-.94 2.06-2.06.94zm10 10l.94 2.06.94-2.06 2.06-.94-2.06-.94-.94-2.06-.94 2.06-2.06.94z\"/><path d=\"M17.41 7.96l-1.37-1.37c-.4-.4-.92-.59-1.43-.59-.52 0-1.04.2-1.43.59L10.3 9.45l-7.72 7.72c-.78.78-.78 2.05 0 2.83L4 21.41c.39.39.9.59 1.41.59.51 0 1.02-.2 1.41-.59l7.78-7.78 2.81-2.81c.8-.78.8-2.07 0-2.86zM5.41 20L4 18.59l7.72-7.72 1.47 1.35L5.41 20z\"/>\n",
              "  </svg>\n",
              "      </button>\n",
              "      \n",
              "  <style>\n",
              "    .colab-df-container {\n",
              "      display:flex;\n",
              "      flex-wrap:wrap;\n",
              "      gap: 12px;\n",
              "    }\n",
              "\n",
              "    .colab-df-convert {\n",
              "      background-color: #E8F0FE;\n",
              "      border: none;\n",
              "      border-radius: 50%;\n",
              "      cursor: pointer;\n",
              "      display: none;\n",
              "      fill: #1967D2;\n",
              "      height: 32px;\n",
              "      padding: 0 0 0 0;\n",
              "      width: 32px;\n",
              "    }\n",
              "\n",
              "    .colab-df-convert:hover {\n",
              "      background-color: #E2EBFA;\n",
              "      box-shadow: 0px 1px 2px rgba(60, 64, 67, 0.3), 0px 1px 3px 1px rgba(60, 64, 67, 0.15);\n",
              "      fill: #174EA6;\n",
              "    }\n",
              "\n",
              "    [theme=dark] .colab-df-convert {\n",
              "      background-color: #3B4455;\n",
              "      fill: #D2E3FC;\n",
              "    }\n",
              "\n",
              "    [theme=dark] .colab-df-convert:hover {\n",
              "      background-color: #434B5C;\n",
              "      box-shadow: 0px 1px 3px 1px rgba(0, 0, 0, 0.15);\n",
              "      filter: drop-shadow(0px 1px 2px rgba(0, 0, 0, 0.3));\n",
              "      fill: #FFFFFF;\n",
              "    }\n",
              "  </style>\n",
              "\n",
              "      <script>\n",
              "        const buttonEl =\n",
              "          document.querySelector('#df-538c7afc-c119-42bf-8283-5d582dd76ddc button.colab-df-convert');\n",
              "        buttonEl.style.display =\n",
              "          google.colab.kernel.accessAllowed ? 'block' : 'none';\n",
              "\n",
              "        async function convertToInteractive(key) {\n",
              "          const element = document.querySelector('#df-538c7afc-c119-42bf-8283-5d582dd76ddc');\n",
              "          const dataTable =\n",
              "            await google.colab.kernel.invokeFunction('convertToInteractive',\n",
              "                                                     [key], {});\n",
              "          if (!dataTable) return;\n",
              "\n",
              "          const docLinkHtml = 'Like what you see? Visit the ' +\n",
              "            '<a target=\"_blank\" href=https://colab.research.google.com/notebooks/data_table.ipynb>data table notebook</a>'\n",
              "            + ' to learn more about interactive tables.';\n",
              "          element.innerHTML = '';\n",
              "          dataTable['output_type'] = 'display_data';\n",
              "          await google.colab.output.renderOutput(dataTable, element);\n",
              "          const docLink = document.createElement('div');\n",
              "          docLink.innerHTML = docLinkHtml;\n",
              "          element.appendChild(docLink);\n",
              "        }\n",
              "      </script>\n",
              "    </div>\n",
              "  </div>\n",
              "  "
            ],
            "text/plain": [
              "  parents has_nurs      form children     housing     finance         social  \\\n",
              "0   usual   proper  complete        1  convenient  convenient        nonprob   \n",
              "1   usual   proper  complete        1  convenient  convenient        nonprob   \n",
              "2   usual   proper  complete        1  convenient  convenient        nonprob   \n",
              "3   usual   proper  complete        1  convenient  convenient  slightly_prob   \n",
              "4   usual   proper  complete        1  convenient  convenient  slightly_prob   \n",
              "\n",
              "        health      class  \n",
              "0  recommended  recommend  \n",
              "1     priority   priority  \n",
              "2    not_recom  not_recom  \n",
              "3  recommended  recommend  \n",
              "4     priority   priority  "
            ]
          },
          "execution_count": 6,
          "metadata": {},
          "output_type": "execute_result"
        }
      ],
      "source": [
        "#dataset = UCI Car Evaluation\n",
        "names=['parents','has_nurs','form','children','housing','finance','social','health','class']\n",
        "df = pd.read_csv('nursery.data', names = names)\n",
        "df.head()"
      ]
    },
    {
      "cell_type": "code",
      "execution_count": 7,
      "metadata": {
        "colab": {
          "base_uri": "https://localhost:8080/"
        },
        "id": "KfIp-9ovxyjA",
        "outputId": "e7ee4687-5e49-4499-e9b3-3c804aae322c"
      },
      "outputs": [
        {
          "name": "stdout",
          "output_type": "stream",
          "text": [
            "usual          4320\n",
            "pretentious    4320\n",
            "great_pret     4320\n",
            "Name: parents, dtype: int64\n",
            "proper         2592\n",
            "less_proper    2592\n",
            "improper       2592\n",
            "critical       2592\n",
            "very_crit      2592\n",
            "Name: has_nurs, dtype: int64\n",
            "complete      3240\n",
            "completed     3240\n",
            "incomplete    3240\n",
            "foster        3240\n",
            "Name: form, dtype: int64\n",
            "1       3240\n",
            "2       3240\n",
            "3       3240\n",
            "more    3240\n",
            "Name: children, dtype: int64\n",
            "convenient    4320\n",
            "less_conv     4320\n",
            "critical      4320\n",
            "Name: housing, dtype: int64\n",
            "convenient    6480\n",
            "inconv        6480\n",
            "Name: finance, dtype: int64\n",
            "nonprob          4320\n",
            "slightly_prob    4320\n",
            "problematic      4320\n",
            "Name: social, dtype: int64\n",
            "recommended    4320\n",
            "priority       4320\n",
            "not_recom      4320\n",
            "Name: health, dtype: int64\n",
            "not_recom     4320\n",
            "priority      4266\n",
            "spec_prior    4044\n",
            "very_recom     328\n",
            "recommend        2\n",
            "Name: class, dtype: int64\n"
          ]
        },
        {
          "data": {
            "text/plain": [
              "parents     0\n",
              "has_nurs    0\n",
              "form        0\n",
              "children    0\n",
              "housing     0\n",
              "finance     0\n",
              "social      0\n",
              "health      0\n",
              "class       0\n",
              "dtype: int64"
            ]
          },
          "execution_count": 7,
          "metadata": {},
          "output_type": "execute_result"
        }
      ],
      "source": [
        "#frequency distribution\n",
        "for col in names: \n",
        "    print(df[col].value_counts())\n",
        "\n",
        "#checking missing values\n",
        "df.isnull().sum()"
      ]
    },
    {
      "cell_type": "code",
      "execution_count": 8,
      "metadata": {
        "colab": {
          "base_uri": "https://localhost:8080/"
        },
        "id": "NXEKCi4KzThJ",
        "outputId": "4ffe7fba-de68-4f13-91d1-7a54a61b76f6"
      },
      "outputs": [
        {
          "name": "stdout",
          "output_type": "stream",
          "text": [
            "2    4320\n",
            "1    4320\n",
            "0    4320\n",
            "Name: parents, dtype: int64\n",
            "3    2592\n",
            "2    2592\n",
            "1    2592\n",
            "0    2592\n",
            "4    2592\n",
            "Name: has_nurs, dtype: int64\n",
            "0    3240\n",
            "1    3240\n",
            "3    3240\n",
            "2    3240\n",
            "Name: form, dtype: int64\n",
            "0    3240\n",
            "1    3240\n",
            "2    3240\n",
            "3    3240\n",
            "Name: children, dtype: int64\n",
            "0    4320\n",
            "2    4320\n",
            "1    4320\n",
            "Name: housing, dtype: int64\n",
            "0    6480\n",
            "1    6480\n",
            "Name: finance, dtype: int64\n",
            "0    4320\n",
            "2    4320\n",
            "1    4320\n",
            "Name: social, dtype: int64\n",
            "2    4320\n",
            "1    4320\n",
            "0    4320\n",
            "Name: health, dtype: int64\n",
            "0    4320\n",
            "1    4266\n",
            "3    4044\n",
            "4     328\n",
            "2       2\n",
            "Name: class, dtype: int64\n"
          ]
        }
      ],
      "source": [
        "#Convert categorical labels to numbers\n",
        "le = preprocessing.LabelEncoder()\n",
        "\n",
        "for col in names: \n",
        "  df[col] = le.fit_transform(df[col])\n",
        "\n",
        "df.head()\n",
        "for col in names: \n",
        "    print(df[col].value_counts())"
      ]
    },
    {
      "cell_type": "code",
      "execution_count": 9,
      "metadata": {
        "id": "E9YKVdl60lfm"
      },
      "outputs": [],
      "source": [
        "X = df.drop(['class'], axis=1)\n",
        "y = df['class']\n",
        "\n",
        "#splitting train data and test data\n",
        "X_train, X_test, y_train, y_test = train_test_split(X, y, test_size = 0.3, random_state = 42)"
      ]
    },
    {
      "cell_type": "code",
      "execution_count": 10,
      "metadata": {
        "id": "WewTEIxz336f"
      },
      "outputs": [],
      "source": [
        "#K-fold validation\n",
        "def kfold_score(clf,X,y,n_fold):\n",
        "    X,y = X.values,y.values\n",
        "    kfold = KFold(n_splits=n_fold, shuffle=True, random_state=1)\n",
        "    accuracy_list = []\n",
        "\n",
        "    for train_index, test_index in kfold.split(X, y):\n",
        "        x_train_fold, x_test_fold = X[train_index], X[test_index]\n",
        "        y_train_fold, y_test_fold = y[train_index], y[test_index]\n",
        "        clf.fit(x_train_fold, y_train_fold)\n",
        "        preds = clf.predict(x_test_fold)\n",
        "        accuracy_test = accuracy_score(preds,y_test_fold)\n",
        "        accuracy_list.append(accuracy_test)\n",
        "    return np.array(accuracy_list).mean()"
      ]
    },
    {
      "cell_type": "code",
      "execution_count": 12,
      "metadata": {
        "id": "fDw19dgo2Iz7"
      },
      "outputs": [],
      "source": [
        "#Random Forest classification\n",
        "\n",
        "#max_features: 1 to around sqrt(# of features of dataset)\n",
        "bounds = [\n",
        "        {'name': 'max_features', 'type': 'continuous', 'domain': (1, 6)},\n",
        "        {'name': 'n_estimators', 'type': 'continuous', 'domain': (1, 200)}\n",
        "      ]\n",
        "\n",
        "def rf_score(parameters):\n",
        "  params = {\n",
        "        'max_features':int(parameters[0][0]),\n",
        "        'n_estimators':int(parameters[0][1])\n",
        "    }\n",
        "  \n",
        "  clf = RandomForestClassifier(max_features=params['max_features'],n_estimators=params['n_estimators'])\n",
        "  clf.fit(X_train,y_train)\n",
        "  score = kfold_score(clf,X_train, y_train,10)\n",
        "  print(params)\n",
        "  print(score)\n",
        "  return score"
      ]
    },
    {
      "cell_type": "code",
      "execution_count": 13,
      "metadata": {
        "colab": {
          "base_uri": "https://localhost:8080/"
        },
        "id": "3Tq9e-gk3VPW",
        "outputId": "d7f87fab-b8da-434f-be0e-efc6a7cd50b8"
      },
      "outputs": [
        {
          "name": "stdout",
          "output_type": "stream",
          "text": [
            "{'max_features': 4, 'n_estimators': 146}\n",
            "0.9901890096119754\n",
            "{'max_features': 5, 'n_estimators': 135}\n",
            "0.9922835848442608\n",
            "{'max_features': 3, 'n_estimators': 195}\n",
            "0.9868821306626385\n",
            "{'max_features': 1, 'n_estimators': 68}\n",
            "0.9616417098533676\n",
            "{'max_features': 2, 'n_estimators': 10}\n",
            "0.9624121492648952\n",
            "{'max_features': 5, 'n_estimators': 185}\n",
            "0.9916219419201608\n",
            "{'max_features': 4, 'n_estimators': 178}\n",
            "0.989307223795346\n",
            "{'max_features': 6, 'n_estimators': 97}\n",
            "0.9920630776777777\n",
            "{'max_features': 5, 'n_estimators': 127}\n",
            "0.9922834634196095\n",
            "{'max_features': 5, 'n_estimators': 147}\n",
            "0.991622063344812\n",
            "{'max_features': 5, 'n_estimators': 158}\n",
            "0.9916221847694631\n",
            "{'max_features': 6, 'n_estimators': 75}\n",
            "0.9916221847694633\n",
            "{'max_features': 5, 'n_estimators': 9}\n",
            "0.9864414806036261\n",
            "{'max_features': 6, 'n_estimators': 189}\n",
            "0.9922835848442608\n",
            "{'max_features': 6, 'n_estimators': 176}\n",
            "0.9925039705860923\n",
            "{'max_features': 6, 'n_estimators': 19}\n",
            "0.9911815347104508\n",
            "{'max_features': 6, 'n_estimators': 29}\n",
            "0.9927245991772267\n",
            "{'max_features': 6, 'n_estimators': 101}\n",
            "0.9926142241693341\n",
            "{'max_features': 6, 'n_estimators': 145}\n",
            "0.9926143455939851\n",
            "{'max_features': 6, 'n_estimators': 123}\n",
            "0.9929449849190582\n",
            "{'max_features': 6, 'n_estimators': 47}\n",
            "0.9920633205270801\n",
            "{'max_features': 6, 'n_estimators': 41}\n",
            "0.9916223061941143\n",
            "{'max_features': 6, 'n_estimators': 21}\n",
            "0.9909611489686189\n",
            "{'max_features': 6, 'n_estimators': 196}\n",
            "0.9920633205270801\n",
            "{'max_features': 5, 'n_estimators': 119}\n",
            "0.9914016776029803\n",
            "-0.9929449849190582\n",
            "[  6.         123.91553331]\n"
          ]
        }
      ],
      "source": [
        "#RF Classification - Matern52 kernel\n",
        "kernel = GPy.kern.Matern52(input_dim=1, variance=1.0, lengthscale=1.0)\n",
        "optimizer = GPyOpt.methods.BayesianOptimization(f=rf_score, \n",
        "                                                domain=bounds,\n",
        "                                                acquisition_type ='EI',\n",
        "                                                initial_design_numdata = 5,\n",
        "                                                model_type='GP',\n",
        "                                                maximize=True,\n",
        "                                                kernel=kernel\n",
        "                                                )\n",
        "\n",
        "optimizer.run_optimization(max_iter=20)\n",
        "\n",
        "#maximum accuracy score\n",
        "acc_max=optimizer.fx_opt\n",
        "#best parameters\n",
        "params_best=optimizer.x_opt\n",
        "print(acc_max)\n",
        "print(params_best)"
      ]
    },
    {
      "cell_type": "code",
      "execution_count": 14,
      "metadata": {
        "colab": {
          "base_uri": "https://localhost:8080/",
          "height": 350
        },
        "id": "hGJcJep8nJii",
        "outputId": "4221594b-adf3-4ba0-bb5e-44acb59a1ae3"
      },
      "outputs": [
        {
          "data": {
            "image/png": "[encoded data removed]",
            "text/plain": [
              "<Figure size 720x360 with 2 Axes>"
            ]
          },
          "metadata": {
            "needs_background": "light"
          },
          "output_type": "display_data"
        }
      ],
      "source": [
        "optimizer.plot_convergence()"
      ]
    },
    {
      "cell_type": "code",
      "execution_count": 15,
      "metadata": {
        "colab": {
          "base_uri": "https://localhost:8080/"
        },
        "id": "lTCmDT0KppGU",
        "outputId": "186ec84c-fa63-4425-e36a-e1310bc0664f"
      },
      "outputs": [
        {
          "name": "stdout",
          "output_type": "stream",
          "text": [
            "0.9951131687242798\n"
          ]
        }
      ],
      "source": [
        "rf_car = RandomForestClassifier(max_features=6,n_estimators=123)\n",
        "rf_car.fit(X_train,y_train)\n",
        "y_pred = rf_car.predict(X_test)\n",
        "accuracy_test = accuracy_score(y_pred,y_test)\n",
        "print(accuracy_test)"
      ]
    },
    {
      "cell_type": "code",
      "execution_count": 16,
      "metadata": {
        "colab": {
          "base_uri": "https://localhost:8080/",
          "height": 1000
        },
        "id": "9IJ7rx_VsTS6",
        "outputId": "a06a991a-fa65-41a8-bfd7-4cd4f2d322af"
      },
      "outputs": [
        {
          "name": "stdout",
          "output_type": "stream",
          "text": [
            "{'max_features': 5, 'n_estimators': 124}\n",
            "0.9917324383527045\n",
            "{'max_features': 2, 'n_estimators': 10}\n",
            "0.9632929636843155\n",
            "{'max_features': 1, 'n_estimators': 119}\n",
            "0.9643970780371948\n",
            "{'max_features': 4, 'n_estimators': 33}\n",
            "0.9883146986968707\n",
            "{'max_features': 5, 'n_estimators': 9}\n",
            "0.9863324412668962\n",
            "{'max_features': 5, 'n_estimators': 43}\n",
            "0.9906302667942436\n",
            "{'max_features': 4, 'n_estimators': 126}\n",
            "0.9908502882621217\n",
            "{'max_features': 4, 'n_estimators': 71}\n",
            "0.9899688667194457\n",
            "{'max_features': 4, 'n_estimators': 188}\n",
            "0.9901891310366265\n",
            "{'max_features': 5, 'n_estimators': 181}\n",
            "0.9909606632700143\n",
            "{'max_features': 5, 'n_estimators': 8}\n",
            "0.9855593305130436\n",
            "{'max_features': 4, 'n_estimators': 147}\n",
            "0.9889767058949239\n",
            "{'max_features': 4, 'n_estimators': 179}\n",
            "0.9898580060129488\n",
            "{'max_features': 4, 'n_estimators': 173}\n",
            "0.9895276095371777\n",
            "{'max_features': 4, 'n_estimators': 41}\n",
            "0.9879845450704019\n",
            "{'max_features': 4, 'n_estimators': 116}\n",
            "0.9894174773785874\n",
            "{'max_features': 4, 'n_estimators': 188}\n",
            "0.9899683810208412\n",
            "{'max_features': 4, 'n_estimators': 76}\n",
            "0.9897482381283119\n",
            "{'max_features': 4, 'n_estimators': 47}\n",
            "0.9890863523549097\n",
            "{'max_features': 4, 'n_estimators': 115}\n",
            "0.989858248862251\n",
            "{'max_features': 4, 'n_estimators': 6}\n",
            "0.9787253082971892\n",
            "{'max_features': 4, 'n_estimators': 22}\n",
            "0.9884253165540656\n",
            "{'max_features': 4, 'n_estimators': 66}\n",
            "0.9895276095371777\n",
            "{'max_features': 4, 'n_estimators': 27}\n",
            "0.9878741700625093\n",
            "{'max_features': 4, 'n_estimators': 46}\n",
            "0.9886460665698508\n",
            "-0.9917324383527045\n",
            "[  5.08197338 124.57477114]\n"
          ]
        },
        {
          "data": {
            "image/png": "[encoded data removed]",
            "text/plain": [
              "<Figure size 720x360 with 2 Axes>"
            ]
          },
          "metadata": {
            "needs_background": "light"
          },
          "output_type": "display_data"
        }
      ],
      "source": [
        "#RF classification - Matern52 + ExpQuad\n",
        "kernel2 = GPy.kern.Matern52(input_dim=1, variance=1.0, lengthscale=1.0) + GPy.kern.ExpQuad(input_dim=1,variance=1.0,lengthscale=1.0)\n",
        "optimizer = GPyOpt.methods.BayesianOptimization(f=rf_score, \n",
        "                                                domain=bounds,\n",
        "                                                acquisition_type ='EI',\n",
        "                                                initial_design_numdata = 5,\n",
        "                                                model_type='GP',\n",
        "                                                maximize=True,\n",
        "                                                kernel=kernel2\n",
        "                                                )\n",
        "\n",
        "optimizer.run_optimization(max_iter=20)\n",
        "\n",
        "#maximum accuracy score\n",
        "acc_max=optimizer.fx_opt\n",
        "#best parameters\n",
        "params_best=optimizer.x_opt\n",
        "print(acc_max)\n",
        "print(params_best)\n",
        "\n",
        "optimizer.plot_convergence()"
      ]
    },
    {
      "cell_type": "code",
      "execution_count": 17,
      "metadata": {
        "colab": {
          "base_uri": "https://localhost:8080/"
        },
        "id": "wwv3UHhrs_Wb",
        "outputId": "65ed8b60-ab56-4ed6-f3c3-35277a4e6db7"
      },
      "outputs": [
        {
          "name": "stdout",
          "output_type": "stream",
          "text": [
            "0.9904835390946503\n"
          ]
        }
      ],
      "source": [
        "rf_car2 = RandomForestClassifier(max_features=5,n_estimators=124)\n",
        "rf_car2.fit(X_train,y_train)\n",
        "y_pred = rf_car2.predict(X_test)\n",
        "accuracy_test = accuracy_score(y_pred,y_test)\n",
        "print(accuracy_test)"
      ]
    },
    {
      "cell_type": "code",
      "execution_count": 18,
      "metadata": {
        "id": "9XK_M5ti7fJG"
      },
      "outputs": [],
      "source": [
        "#SVM Classification\n",
        "\n",
        "bounds = [ {'name': 'C', 'type': 'continuous', 'domain': (0.1, 1)},\n",
        "        {'name': 'gamma', 'type': 'continuous', 'domain': (0.01, 0.1)}\n",
        "      ]\n",
        "\n",
        "def svm_score(parameters):\n",
        "  params = {\n",
        "        'C': parameters[0][0],\n",
        "        'gamma':parameters[0][1]\n",
        "    }\n",
        "  \n",
        "  clf = svm.SVC(C=params['C'],gamma=params['gamma'])\n",
        "  clf.fit(X_train,y_train)\n",
        "  score = kfold_score(clf,X_train, y_train,10)\n",
        "  print(params)\n",
        "  print(score)\n",
        "  return score"
      ]
    },
    {
      "cell_type": "code",
      "execution_count": 19,
      "metadata": {
        "colab": {
          "base_uri": "https://localhost:8080/"
        },
        "id": "b_8qWWFl9o67",
        "outputId": "89718351-5661-407c-ca7b-2558cadef565"
      },
      "outputs": [
        {
          "name": "stdout",
          "output_type": "stream",
          "text": [
            "{'C': 0.5051561636035099, 'gamma': 0.09744048031888132}\n",
            "0.9268092273020899\n",
            "{'C': 0.46299865561347064, 'gamma': 0.06030511999526869}\n",
            "0.9181007727464798\n",
            "{'C': 0.9741693601402153, 'gamma': 0.09096519513619455}\n",
            "0.9305567563104391\n",
            "{'C': 0.18299013583439827, 'gamma': 0.06361372912073933}\n",
            "0.9083991859691387\n",
            "{'C': 0.1270492013678949, 'gamma': 0.013919211070208368}\n",
            "0.8185602436264201\n",
            "{'C': 0.9517436293328152, 'gamma': 0.034105639128082156}\n",
            "0.9145730223567068\n",
            "{'C': 1.0, 'gamma': 0.04771434879972417}\n",
            "0.9235025912020556\n",
            "{'C': 0.2359152167785457, 'gamma': 0.055717195960415945}\n",
            "0.9099426147098679\n",
            "{'C': 0.5559950896114799, 'gamma': 0.061362998673256834}\n",
            "0.9201952265541141\n",
            "{'C': 0.6345258311074152, 'gamma': 0.035769682189897865}\n",
            "0.9133602329410507\n",
            "{'C': 0.724283445050157, 'gamma': 0.027123660895262032}\n",
            "0.9087304324174676\n",
            "{'C': 0.3819192801052198, 'gamma': 0.049701622892583876}\n",
            "0.9138010044247145\n",
            "{'C': 0.81863815113593, 'gamma': 0.08895232071231482}\n",
            "0.9278009024280072\n",
            "{'C': 0.8545322350334646, 'gamma': 0.07293240019718453}\n",
            "0.9257070557436288\n",
            "{'C': 0.7823992803554831, 'gamma': 0.05046118770609794}\n",
            "0.9208571123275162\n",
            "{'C': 0.3166269831637141, 'gamma': 0.06491107954134578}\n",
            "0.9161159653988316\n",
            "{'C': 0.8895017269820811, 'gamma': 0.039433531964119285}\n",
            "0.9174393726716824\n",
            "{'C': 0.5268088941224159, 'gamma': 0.06792013535581698}\n",
            "0.9214081373944213\n",
            "{'C': 0.5937415292763947, 'gamma': 0.061797812787905554}\n",
            "0.9204159765698993\n",
            "{'C': 0.9810932003802318, 'gamma': 0.036946049198242514}\n",
            "0.9168882261801263\n",
            "{'C': 0.8293497035783239, 'gamma': 0.09640609416600368}\n",
            "0.9293442097440854\n",
            "{'C': 0.8295410989202598, 'gamma': 0.04230536718765794}\n",
            "0.9178803870046481\n",
            "{'C': 0.8182843410356138, 'gamma': 0.0610220524212631}\n",
            "0.9244946306019262\n",
            "{'C': 0.500739519539445, 'gamma': 0.09169183338000648}\n",
            "0.9259271986361585\n",
            "{'C': 0.5010958784014624, 'gamma': 0.05001102054992951}\n",
            "0.9163367154146165\n",
            "-0.9305567563104391\n",
            "[0.97416936 0.0909652 ]\n"
          ]
        }
      ],
      "source": [
        "#SVM Classification - Matern52 kernel\n",
        "kernel = GPy.kern.Matern52(input_dim=1, variance=1.0, lengthscale=1.0)\n",
        "optimizer = GPyOpt.methods.BayesianOptimization(f=svm_score, \n",
        "                                                domain=bounds,\n",
        "                                                acquisition_type ='EI',\n",
        "                                                initial_design_numdata = 5,\n",
        "                                                model_type='GP',\n",
        "                                                maximize=True,\n",
        "                                                kernel=kernel\n",
        "                                                )\n",
        "\n",
        "optimizer.run_optimization(max_iter=20)\n",
        "\n",
        "#maximum accuracy score\n",
        "acc_max=optimizer.fx_opt\n",
        "#best parameters\n",
        "params_best=optimizer.x_opt\n",
        "print(acc_max)\n",
        "print(params_best)"
      ]
    },
    {
      "cell_type": "code",
      "execution_count": 20,
      "metadata": {
        "colab": {
          "base_uri": "https://localhost:8080/",
          "height": 350
        },
        "id": "KId-CJ3x9zos",
        "outputId": "5d2cec0b-df18-481f-e863-4726902e1f24"
      },
      "outputs": [
        {
          "data": {
            "image/png": "[encoded data removed]",
            "text/plain": [
              "<Figure size 720x360 with 2 Axes>"
            ]
          },
          "metadata": {
            "needs_background": "light"
          },
          "output_type": "display_data"
        }
      ],
      "source": [
        "optimizer.plot_convergence()"
      ]
    },
    {
      "cell_type": "code",
      "execution_count": 21,
      "metadata": {
        "colab": {
          "base_uri": "https://localhost:8080/"
        },
        "id": "WhBdYYF8-MIc",
        "outputId": "a84f2a8a-5b45-4ed1-b379-edaad4ece32b"
      },
      "outputs": [
        {
          "name": "stdout",
          "output_type": "stream",
          "text": [
            "0.9300411522633745\n"
          ]
        }
      ],
      "source": [
        "SVM_car1 = svm.SVC(C=0.974,gamma=0.0910)\n",
        "SVM_car1.fit(X_train,y_train)\n",
        "y_pred = SVM_car1.predict(X_test)\n",
        "accuracy_test = accuracy_score(y_pred,y_test)\n",
        "print(accuracy_test)"
      ]
    },
    {
      "cell_type": "code",
      "execution_count": 22,
      "metadata": {
        "colab": {
          "base_uri": "https://localhost:8080/",
          "height": 1000
        },
        "id": "cYB5iw_G-rtt",
        "outputId": "42a3dcec-7b28-46f1-b85f-d2ef9d3a23f2"
      },
      "outputs": [
        {
          "name": "stdout",
          "output_type": "stream",
          "text": [
            "{'C': 0.407175714624615, 'gamma': 0.030534584426057353}\n",
            "0.9047613034207753\n",
            "{'C': 0.39051705351733523, 'gamma': 0.03240095469562906}\n",
            "0.9065251179033362\n",
            "{'C': 0.8044596785873233, 'gamma': 0.095653793435486}\n",
            "0.9287930632525292\n",
            "{'C': 0.6173223697119998, 'gamma': 0.028616563156776686}\n",
            "0.9089503324606948\n",
            "{'C': 0.8977765050851017, 'gamma': 0.02145285906472018}\n",
            "0.9060842249950216\n",
            "{'C': 0.7830733687097284, 'gamma': 0.07068547012490137}\n",
            "0.9250456556688313\n",
            "{'C': 0.8205035769558277, 'gamma': 0.0725249601804252}\n",
            "0.9255969235850385\n",
            "{'C': 0.2773895769895645, 'gamma': 0.0641344596017998}\n",
            "0.9151233188757049\n",
            "{'C': 0.15245865805770317, 'gamma': 0.06289868226614335}\n",
            "0.9066353714865777\n",
            "{'C': 1.0, 'gamma': 0.03211009860148984}\n",
            "0.9143523937655728\n",
            "{'C': 0.516355987033383, 'gamma': 0.020590968824619943}\n",
            "0.8979269169309678\n",
            "{'C': 0.7099356019992001, 'gamma': 0.045144412509879134}\n",
            "0.9167780940215359\n",
            "{'C': 0.8033681080485296, 'gamma': 0.04088754989859041}\n",
            "0.9164472118471604\n",
            "{'C': 0.7867868086618289, 'gamma': 0.05060025717868723}\n",
            "0.9209673659107576\n",
            "{'C': 0.7845426746901116, 'gamma': 0.06413264037545244}\n",
            "0.9250456556688313\n",
            "{'C': 0.7867531627554641, 'gamma': 0.029713008069918924}\n",
            "0.9111555255501751\n",
            "{'C': 0.7844163318462294, 'gamma': 0.08689612236055523}\n",
            "0.9279113988605511\n",
            "{'C': 0.7777932401054525, 'gamma': 0.08356599301740296}\n",
            "0.9272499987857534\n",
            "{'C': 0.778602409438994, 'gamma': 0.06323076848260753}\n",
            "0.9246047627605167\n",
            "{'C': 0.7784658675502892, 'gamma': 0.08343948319951176}\n",
            "0.9272499987857534\n",
            "{'C': 0.7771515840382641, 'gamma': 0.030498051862684866}\n",
            "0.9118169256249725\n",
            "{'C': 0.7800898423053167, 'gamma': 0.091951650252834}\n",
            "0.9276908916940683\n",
            "{'C': 0.7794999719968037, 'gamma': 0.06813666956032437}\n",
            "0.9252661628353142\n",
            "{'C': 0.7794925250807646, 'gamma': 0.05240027237385633}\n",
            "0.9216287659855553\n",
            "{'C': 0.7802464817856591, 'gamma': 0.042890437415314994}\n",
            "0.9174394940963335\n",
            "-0.9287930632525292\n",
            "[0.80445968 0.09565379]\n"
          ]
        },
        {
          "data": {
            "image/png": "[encoded data removed]",
            "text/plain": [
              "<Figure size 720x360 with 2 Axes>"
            ]
          },
          "metadata": {
            "needs_background": "light"
          },
          "output_type": "display_data"
        }
      ],
      "source": [
        "#SVM classification - Matern52 + ExpQuad\n",
        "kernel2 = GPy.kern.Matern52(input_dim=1, variance=1.0, lengthscale=1.0) + GPy.kern.ExpQuad(input_dim=1,variance=1.0,lengthscale=1.0)\n",
        "optimizer = GPyOpt.methods.BayesianOptimization(f=svm_score, \n",
        "                                                domain=bounds,\n",
        "                                                acquisition_type ='EI',\n",
        "                                                initial_design_numdata = 5,\n",
        "                                                model_type='GP',\n",
        "                                                maximize=True,\n",
        "                                                kernel=kernel2\n",
        "                                                )\n",
        "\n",
        "optimizer.run_optimization(max_iter=20)\n",
        "\n",
        "#maximum accuracy score\n",
        "acc_max=optimizer.fx_opt\n",
        "#best parameters\n",
        "params_best=optimizer.x_opt\n",
        "print(acc_max)\n",
        "print(params_best)\n",
        "\n",
        "optimizer.plot_convergence()"
      ]
    },
    {
      "cell_type": "code",
      "execution_count": 23,
      "metadata": {
        "colab": {
          "base_uri": "https://localhost:8080/"
        },
        "id": "Nvo5M7Vt-ziq",
        "outputId": "7e9e8624-8ead-4aab-94d1-7ef73e73ee94"
      },
      "outputs": [
        {
          "name": "stdout",
          "output_type": "stream",
          "text": [
            "0.9282407407407407\n"
          ]
        }
      ],
      "source": [
        "SVM_car2 = svm.SVC(C=0.804,gamma=0.0957)\n",
        "SVM_car2.fit(X_train,y_train)\n",
        "y_pred = SVM_car2.predict(X_test)\n",
        "accuracy_test = accuracy_score(y_pred,y_test)\n",
        "print(accuracy_test)"
      ]
    },
    {
      "cell_type": "code",
      "execution_count": 24,
      "metadata": {
        "id": "9LMGI0Lj_FGm"
      },
      "outputs": [],
      "source": [
        "#KNN Classification\n",
        "\n",
        "#search domain\n",
        "bounds = [ {'name': 'leaf_size', 'type': 'continuous', 'domain': (10, 50)},\n",
        "        {'name': 'n_neighbors', 'type': 'discrete', 'domain': (3,4,5,6,7)}\n",
        "      ]\n",
        "\n",
        "def knn_score(parameters):\n",
        "  params = {\n",
        "        'leaf_size': parameters[0][0],\n",
        "        'n_neighbors':int(parameters[0][1])\n",
        "    }\n",
        "  \n",
        "  clf = KNeighborsClassifier(leaf_size=params['leaf_size'],n_neighbors=params['n_neighbors'])\n",
        "  clf.fit(X_train,y_train)\n",
        "  score = kfold_score(clf,X_train, y_train,10)\n",
        "  print(params)\n",
        "  print(score)\n",
        "  return score"
      ]
    },
    {
      "cell_type": "code",
      "execution_count": 25,
      "metadata": {
        "colab": {
          "base_uri": "https://localhost:8080/",
          "height": 1000
        },
        "id": "Y_EA4BtW_kjJ",
        "outputId": "d251486b-959f-4fbd-b412-ffdcc771cf94"
      },
      "outputs": [
        {
          "name": "stdout",
          "output_type": "stream",
          "text": [
            "{'leaf_size': 48.089420924755856, 'n_neighbors': 4}\n",
            "0.9263685772430778\n",
            "{'leaf_size': 19.61965766818022, 'n_neighbors': 4}\n",
            "0.9265889629849093\n",
            "{'leaf_size': 21.445542597871572, 'n_neighbors': 7}\n",
            "0.9479739082709615\n",
            "{'leaf_size': 33.4036098667099, 'n_neighbors': 6}\n",
            "0.9441151542821616\n",
            "{'leaf_size': 13.239207904670597, 'n_neighbors': 5}\n",
            "0.9389342072670225\n",
            "{'leaf_size': 21.556405821396265, 'n_neighbors': 6}\n",
            "0.9438950113896324\n",
            "{'leaf_size': 21.270696715172242, 'n_neighbors': 4}\n",
            "0.9265889629849093\n",
            "{'leaf_size': 21.484997710342043, 'n_neighbors': 6}\n",
            "0.9438950113896324\n",
            "{'leaf_size': 21.43009760577692, 'n_neighbors': 4}\n",
            "0.9265889629849093\n",
            "{'leaf_size': 21.549260365908495, 'n_neighbors': 3}\n",
            "0.9043219890329255\n",
            "{'leaf_size': 21.42850621480124, 'n_neighbors': 6}\n",
            "0.9438950113896324\n",
            "{'leaf_size': 21.470797707758535, 'n_neighbors': 6}\n",
            "0.9438950113896324\n",
            "{'leaf_size': 33.41638158233505, 'n_neighbors': 7}\n",
            "0.9490765655280272\n",
            "{'leaf_size': 33.47618401536002, 'n_neighbors': 3}\n",
            "0.9069681964553716\n",
            "{'leaf_size': 21.93587910451638, 'n_neighbors': 4}\n",
            "0.9265889629849093\n",
            "{'leaf_size': 13.178366298058265, 'n_neighbors': 5}\n",
            "0.9389342072670225\n",
            "{'leaf_size': 13.225055221213854, 'n_neighbors': 3}\n",
            "0.9050955854853828\n",
            "{'leaf_size': 21.691643265662695, 'n_neighbors': 6}\n",
            "0.9438950113896324\n",
            "{'leaf_size': 21.44554234667513, 'n_neighbors': 4}\n",
            "0.9265889629849093\n",
            "{'leaf_size': 21.44840273178454, 'n_neighbors': 4}\n",
            "0.9265889629849093\n",
            "{'leaf_size': 21.4615765229741, 'n_neighbors': 3}\n",
            "0.9043219890329255\n",
            "{'leaf_size': 21.70094038360503, 'n_neighbors': 6}\n",
            "0.9438950113896324\n",
            "{'leaf_size': 22.064746354372513, 'n_neighbors': 5}\n",
            "0.9394838966627649\n",
            "{'leaf_size': 22.712655385016376, 'n_neighbors': 5}\n",
            "0.9394838966627649\n",
            "{'leaf_size': 22.99979902874519, 'n_neighbors': 7}\n",
            "0.9479739082709615\n",
            "-0.9490765655280272\n",
            "[33.41638158  7.        ]\n"
          ]
        },
        {
          "data": {
            "image/png": "[encoded data removed]",
            "text/plain": [
              "<Figure size 720x360 with 2 Axes>"
            ]
          },
          "metadata": {
            "needs_background": "light"
          },
          "output_type": "display_data"
        }
      ],
      "source": [
        "#KNN Classification - Matern52 kernel\n",
        "kernel = GPy.kern.Matern52(input_dim=1, variance=1.0, lengthscale=1.0)\n",
        "optimizer = GPyOpt.methods.BayesianOptimization(f=knn_score, \n",
        "                                                domain=bounds,\n",
        "                                                acquisition_type ='EI',\n",
        "                                                initial_design_numdata = 5,\n",
        "                                                model_type='GP',\n",
        "                                                maximize=True,\n",
        "                                                kernel=kernel\n",
        "                                                )\n",
        "\n",
        "optimizer.run_optimization(max_iter=20)\n",
        "\n",
        "#maximum accuracy score\n",
        "acc_max=optimizer.fx_opt\n",
        "#best parameters\n",
        "params_best=optimizer.x_opt\n",
        "print(acc_max)\n",
        "print(params_best)\n",
        "optimizer.plot_convergence()"
      ]
    },
    {
      "cell_type": "code",
      "execution_count": 26,
      "metadata": {
        "colab": {
          "base_uri": "https://localhost:8080/"
        },
        "id": "Lqzr6VVJ_vQ-",
        "outputId": "6f7b7791-363f-4b0f-f481-75a687406c7d"
      },
      "outputs": [
        {
          "name": "stdout",
          "output_type": "stream",
          "text": [
            "0.9495884773662552\n"
          ]
        }
      ],
      "source": [
        "KNN_car1 = KNeighborsClassifier(leaf_size=33,n_neighbors=7)\n",
        "KNN_car1.fit(X_train,y_train)\n",
        "y_pred = KNN_car1.predict(X_test)\n",
        "accuracy_test = accuracy_score(y_pred,y_test)\n",
        "print(accuracy_test)"
      ]
    },
    {
      "cell_type": "code",
      "execution_count": 27,
      "metadata": {
        "colab": {
          "base_uri": "https://localhost:8080/",
          "height": 1000
        },
        "id": "3LZAZ3kWAGlC",
        "outputId": "f51d1023-a173-453d-eff7-5292f0271547"
      },
      "outputs": [
        {
          "name": "stdout",
          "output_type": "stream",
          "text": [
            "{'leaf_size': 21.822469690250873, 'n_neighbors': 6}\n",
            "0.9438950113896324\n",
            "{'leaf_size': 14.42718176454861, 'n_neighbors': 4}\n",
            "0.9273611023415528\n",
            "{'leaf_size': 28.53634644172354, 'n_neighbors': 5}\n",
            "0.9394838966627649\n",
            "{'leaf_size': 41.91044314650338, 'n_neighbors': 6}\n",
            "0.9441151542821616\n",
            "{'leaf_size': 18.693588433305415, 'n_neighbors': 3}\n",
            "0.9043219890329255\n",
            "{'leaf_size': 42.245985613045605, 'n_neighbors': 7}\n",
            "0.9490765655280272\n",
            "{'leaf_size': 43.083564508836524, 'n_neighbors': 7}\n",
            "0.9490765655280272\n",
            "{'leaf_size': 42.652477419595115, 'n_neighbors': 3}\n",
            "0.9069681964553716\n",
            "{'leaf_size': 42.11203736913721, 'n_neighbors': 3}\n",
            "0.9069681964553716\n",
            "{'leaf_size': 43.09064565133573, 'n_neighbors': 6}\n",
            "0.9441151542821616\n",
            "{'leaf_size': 43.06299198067449, 'n_neighbors': 7}\n",
            "0.9490765655280272\n",
            "{'leaf_size': 42.294104451229224, 'n_neighbors': 4}\n",
            "0.9263685772430778\n",
            "{'leaf_size': 42.224586400276884, 'n_neighbors': 4}\n",
            "0.9263685772430778\n",
            "{'leaf_size': 42.25797836950893, 'n_neighbors': 4}\n",
            "0.9263685772430778\n",
            "{'leaf_size': 43.061599951790555, 'n_neighbors': 6}\n",
            "0.9441151542821616\n",
            "{'leaf_size': 43.0678149586208, 'n_neighbors': 3}\n",
            "0.9069681964553716\n",
            "{'leaf_size': 43.083379296732, 'n_neighbors': 5}\n",
            "0.9412484396932328\n",
            "{'leaf_size': 43.083725618815514, 'n_neighbors': 4}\n",
            "0.9263685772430778\n",
            "{'leaf_size': 42.245987959022656, 'n_neighbors': 7}\n",
            "0.9490765655280272\n",
            "{'leaf_size': 43.06179335681499, 'n_neighbors': 3}\n",
            "0.9069681964553716\n",
            "{'leaf_size': 28.38972553688651, 'n_neighbors': 5}\n",
            "0.9394838966627649\n",
            "{'leaf_size': 28.389887780132472, 'n_neighbors': 3}\n",
            "0.9043219890329255\n",
            "{'leaf_size': 23.146489089903646, 'n_neighbors': 4}\n",
            "0.9265889629849093\n",
            "{'leaf_size': 23.13352481371419, 'n_neighbors': 4}\n",
            "0.9265889629849093\n",
            "{'leaf_size': 44.598181071788964, 'n_neighbors': 4}\n",
            "0.9263685772430778\n",
            "-0.9490765655280272\n",
            "[42.24598561  7.        ]\n"
          ]
        },
        {
          "data": {
            "image/png": "[encoded data removed]",
            "text/plain": [
              "<Figure size 720x360 with 2 Axes>"
            ]
          },
          "metadata": {
            "needs_background": "light"
          },
          "output_type": "display_data"
        }
      ],
      "source": [
        "#KNN Classification - Matern52 + ExpQuad\n",
        "kernel2 = GPy.kern.Matern52(input_dim=1, variance=1.0, lengthscale=1.0) + GPy.kern.ExpQuad(input_dim=1,variance=1.0,lengthscale=1.0)\n",
        "optimizer = GPyOpt.methods.BayesianOptimization(f=knn_score, \n",
        "                                                domain=bounds,\n",
        "                                                acquisition_type ='EI',\n",
        "                                                initial_design_numdata = 5,\n",
        "                                                model_type='GP',\n",
        "                                                maximize=True,\n",
        "                                                kernel=kernel2\n",
        "                                                )\n",
        "\n",
        "optimizer.run_optimization(max_iter=20)\n",
        "\n",
        "#maximum accuracy score\n",
        "acc_max=optimizer.fx_opt\n",
        "#best parameters\n",
        "params_best=optimizer.x_opt\n",
        "print(acc_max)\n",
        "print(params_best)\n",
        "optimizer.plot_convergence()"
      ]
    },
    {
      "cell_type": "code",
      "execution_count": 28,
      "metadata": {
        "colab": {
          "base_uri": "https://localhost:8080/"
        },
        "id": "yB9R1KKqAP4k",
        "outputId": "6e9fa8be-f21a-46ce-b691-784b641d019a"
      },
      "outputs": [
        {
          "name": "stdout",
          "output_type": "stream",
          "text": [
            "0.9488168724279835\n"
          ]
        }
      ],
      "source": [
        "KNN_car2 = KNeighborsClassifier(leaf_size=42,n_neighbors=7)\n",
        "KNN_car2.fit(X_train,y_train)\n",
        "y_pred = KNN_car2.predict(X_test)\n",
        "accuracy_test = accuracy_score(y_pred,y_test)\n",
        "print(accuracy_test)"
      ]
    }
  ],
  "metadata": {
    "colab": {
      "authorship_tag": "ABX9TyMGLVeDWsFudzS40BG7kB9t",
      "include_colab_link": true,
      "provenance": []
    },
    "kernelspec": {
      "display_name": "Python 3",
      "name": "python3"
    },
    "language_info": {
      "name": "python"
    }
  },
  "nbformat": 4,
  "nbformat_minor": 0
}
