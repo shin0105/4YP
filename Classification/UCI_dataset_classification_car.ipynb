{
  "cells": [
    {
      "cell_type": "code",
      "execution_count": null,
      "metadata": {
        "id": "rLPXTuwQovwn"
      },
      "outputs": [],
      "source": [
        "!pip install GPyOpt\n",
        "!pip install GPy"
      ]
    },
    {
      "cell_type": "code",
      "execution_count": 2,
      "metadata": {
        "id": "RHLDk0wJqQHz"
      },
      "outputs": [],
      "source": [
        "#import packages\n",
        "\n",
        "#basic packages\n",
        "import pandas as pd\n",
        "import numpy as np\n",
        "import matplotlib.pyplot as plt\n",
        "import seaborn as sns\n",
        "\n",
        "#Bayesian optimization packages\n",
        "import GPy\n",
        "import GPyOpt\n",
        "\n",
        "#ML Algorithm packages\n",
        "from sklearn.model_selection import train_test_split, cross_val_score, KFold\n",
        "from sklearn.metrics import confusion_matrix, accuracy_score, classification_report\n",
        "from sklearn.ensemble import RandomForestClassifier\n",
        "from sklearn.neighbors import KNeighborsClassifier\n",
        "from sklearn import svm\n",
        "from sklearn import preprocessing"
      ]
    },
    {
      "cell_type": "code",
      "execution_count": 3,
      "metadata": {
        "colab": {
          "base_uri": "https://localhost:8080/",
          "height": 206
        },
        "id": "sefirBbFuqWz",
        "outputId": "2b829ebb-690d-4e69-d551-9648c4bfd255"
      },
      "outputs": [
        {
          "data": {
            "text/html": [
              "\n",
              "  <div id=\"df-02665d11-0a97-47ae-a857-31197bb83d8b\">\n",
              "    <div class=\"colab-df-container\">\n",
              "      <div>\n",
              "<style scoped>\n",
              "    .dataframe tbody tr th:only-of-type {\n",
              "        vertical-align: middle;\n",
              "    }\n",
              "\n",
              "    .dataframe tbody tr th {\n",
              "        vertical-align: top;\n",
              "    }\n",
              "\n",
              "    .dataframe thead th {\n",
              "        text-align: right;\n",
              "    }\n",
              "</style>\n",
              "<table border=\"1\" class=\"dataframe\">\n",
              "  <thead>\n",
              "    <tr style=\"text-align: right;\">\n",
              "      <th></th>\n",
              "      <th>buying</th>\n",
              "      <th>maint</th>\n",
              "      <th>doors</th>\n",
              "      <th>persons</th>\n",
              "      <th>lug_boot</th>\n",
              "      <th>safety</th>\n",
              "      <th>class</th>\n",
              "    </tr>\n",
              "  </thead>\n",
              "  <tbody>\n",
              "    <tr>\n",
              "      <th>0</th>\n",
              "      <td>vhigh</td>\n",
              "      <td>vhigh</td>\n",
              "      <td>2</td>\n",
              "      <td>2</td>\n",
              "      <td>small</td>\n",
              "      <td>low</td>\n",
              "      <td>unacc</td>\n",
              "    </tr>\n",
              "    <tr>\n",
              "      <th>1</th>\n",
              "      <td>vhigh</td>\n",
              "      <td>vhigh</td>\n",
              "      <td>2</td>\n",
              "      <td>2</td>\n",
              "      <td>small</td>\n",
              "      <td>med</td>\n",
              "      <td>unacc</td>\n",
              "    </tr>\n",
              "    <tr>\n",
              "      <th>2</th>\n",
              "      <td>vhigh</td>\n",
              "      <td>vhigh</td>\n",
              "      <td>2</td>\n",
              "      <td>2</td>\n",
              "      <td>small</td>\n",
              "      <td>high</td>\n",
              "      <td>unacc</td>\n",
              "    </tr>\n",
              "    <tr>\n",
              "      <th>3</th>\n",
              "      <td>vhigh</td>\n",
              "      <td>vhigh</td>\n",
              "      <td>2</td>\n",
              "      <td>2</td>\n",
              "      <td>med</td>\n",
              "      <td>low</td>\n",
              "      <td>unacc</td>\n",
              "    </tr>\n",
              "    <tr>\n",
              "      <th>4</th>\n",
              "      <td>vhigh</td>\n",
              "      <td>vhigh</td>\n",
              "      <td>2</td>\n",
              "      <td>2</td>\n",
              "      <td>med</td>\n",
              "      <td>med</td>\n",
              "      <td>unacc</td>\n",
              "    </tr>\n",
              "  </tbody>\n",
              "</table>\n",
              "</div>\n",
              "      <button class=\"colab-df-convert\" onclick=\"convertToInteractive('df-02665d11-0a97-47ae-a857-31197bb83d8b')\"\n",
              "              title=\"Convert this dataframe to an interactive table.\"\n",
              "              style=\"display:none;\">\n",
              "        \n",
              "  <svg xmlns=\"http://www.w3.org/2000/svg\" height=\"24px\"viewBox=\"0 0 24 24\"\n",
              "       width=\"24px\">\n",
              "    <path d=\"M0 0h24v24H0V0z\" fill=\"none\"/>\n",
              "    <path d=\"M18.56 5.44l.94 2.06.94-2.06 2.06-.94-2.06-.94-.94-2.06-.94 2.06-2.06.94zm-11 1L8.5 8.5l.94-2.06 2.06-.94-2.06-.94L8.5 2.5l-.94 2.06-2.06.94zm10 10l.94 2.06.94-2.06 2.06-.94-2.06-.94-.94-2.06-.94 2.06-2.06.94z\"/><path d=\"M17.41 7.96l-1.37-1.37c-.4-.4-.92-.59-1.43-.59-.52 0-1.04.2-1.43.59L10.3 9.45l-7.72 7.72c-.78.78-.78 2.05 0 2.83L4 21.41c.39.39.9.59 1.41.59.51 0 1.02-.2 1.41-.59l7.78-7.78 2.81-2.81c.8-.78.8-2.07 0-2.86zM5.41 20L4 18.59l7.72-7.72 1.47 1.35L5.41 20z\"/>\n",
              "  </svg>\n",
              "      </button>\n",
              "      \n",
              "  <style>\n",
              "    .colab-df-container {\n",
              "      display:flex;\n",
              "      flex-wrap:wrap;\n",
              "      gap: 12px;\n",
              "    }\n",
              "\n",
              "    .colab-df-convert {\n",
              "      background-color: #E8F0FE;\n",
              "      border: none;\n",
              "      border-radius: 50%;\n",
              "      cursor: pointer;\n",
              "      display: none;\n",
              "      fill: #1967D2;\n",
              "      height: 32px;\n",
              "      padding: 0 0 0 0;\n",
              "      width: 32px;\n",
              "    }\n",
              "\n",
              "    .colab-df-convert:hover {\n",
              "      background-color: #E2EBFA;\n",
              "      box-shadow: 0px 1px 2px rgba(60, 64, 67, 0.3), 0px 1px 3px 1px rgba(60, 64, 67, 0.15);\n",
              "      fill: #174EA6;\n",
              "    }\n",
              "\n",
              "    [theme=dark] .colab-df-convert {\n",
              "      background-color: #3B4455;\n",
              "      fill: #D2E3FC;\n",
              "    }\n",
              "\n",
              "    [theme=dark] .colab-df-convert:hover {\n",
              "      background-color: #434B5C;\n",
              "      box-shadow: 0px 1px 3px 1px rgba(0, 0, 0, 0.15);\n",
              "      filter: drop-shadow(0px 1px 2px rgba(0, 0, 0, 0.3));\n",
              "      fill: #FFFFFF;\n",
              "    }\n",
              "  </style>\n",
              "\n",
              "      <script>\n",
              "        const buttonEl =\n",
              "          document.querySelector('#df-02665d11-0a97-47ae-a857-31197bb83d8b button.colab-df-convert');\n",
              "        buttonEl.style.display =\n",
              "          google.colab.kernel.accessAllowed ? 'block' : 'none';\n",
              "\n",
              "        async function convertToInteractive(key) {\n",
              "          const element = document.querySelector('#df-02665d11-0a97-47ae-a857-31197bb83d8b');\n",
              "          const dataTable =\n",
              "            await google.colab.kernel.invokeFunction('convertToInteractive',\n",
              "                                                     [key], {});\n",
              "          if (!dataTable) return;\n",
              "\n",
              "          const docLinkHtml = 'Like what you see? Visit the ' +\n",
              "            '<a target=\"_blank\" href=https://colab.research.google.com/notebooks/data_table.ipynb>data table notebook</a>'\n",
              "            + ' to learn more about interactive tables.';\n",
              "          element.innerHTML = '';\n",
              "          dataTable['output_type'] = 'display_data';\n",
              "          await google.colab.output.renderOutput(dataTable, element);\n",
              "          const docLink = document.createElement('div');\n",
              "          docLink.innerHTML = docLinkHtml;\n",
              "          element.appendChild(docLink);\n",
              "        }\n",
              "      </script>\n",
              "    </div>\n",
              "  </div>\n",
              "  "
            ],
            "text/plain": [
              "  buying  maint doors persons lug_boot safety  class\n",
              "0  vhigh  vhigh     2       2    small    low  unacc\n",
              "1  vhigh  vhigh     2       2    small    med  unacc\n",
              "2  vhigh  vhigh     2       2    small   high  unacc\n",
              "3  vhigh  vhigh     2       2      med    low  unacc\n",
              "4  vhigh  vhigh     2       2      med    med  unacc"
            ]
          },
          "execution_count": 3,
          "metadata": {},
          "output_type": "execute_result"
        }
      ],
      "source": [
        "#dataset = UCI Car Evaluation\n",
        "names=['buying','maint','doors','persons','lug_boot','safety','class']\n",
        "df = pd.read_csv('car.data', names = names)\n",
        "df.head()"
      ]
    },
    {
      "cell_type": "code",
      "execution_count": 4,
      "metadata": {
        "colab": {
          "base_uri": "https://localhost:8080/"
        },
        "id": "KfIp-9ovxyjA",
        "outputId": "7c2808e5-1b86-4f92-8bfe-d3a00c036055"
      },
      "outputs": [
        {
          "name": "stdout",
          "output_type": "stream",
          "text": [
            "vhigh    432\n",
            "high     432\n",
            "med      432\n",
            "low      432\n",
            "Name: buying, dtype: int64\n",
            "vhigh    432\n",
            "high     432\n",
            "med      432\n",
            "low      432\n",
            "Name: maint, dtype: int64\n",
            "2        432\n",
            "3        432\n",
            "4        432\n",
            "5more    432\n",
            "Name: doors, dtype: int64\n",
            "2       576\n",
            "4       576\n",
            "more    576\n",
            "Name: persons, dtype: int64\n",
            "small    576\n",
            "med      576\n",
            "big      576\n",
            "Name: lug_boot, dtype: int64\n",
            "low     576\n",
            "med     576\n",
            "high    576\n",
            "Name: safety, dtype: int64\n",
            "unacc    1210\n",
            "acc       384\n",
            "good       69\n",
            "vgood      65\n",
            "Name: class, dtype: int64\n"
          ]
        },
        {
          "data": {
            "text/plain": [
              "buying      0\n",
              "maint       0\n",
              "doors       0\n",
              "persons     0\n",
              "lug_boot    0\n",
              "safety      0\n",
              "class       0\n",
              "dtype: int64"
            ]
          },
          "execution_count": 4,
          "metadata": {},
          "output_type": "execute_result"
        }
      ],
      "source": [
        "#frequency distribution\n",
        "for col in names: \n",
        "    print(df[col].value_counts())\n",
        "\n",
        "#checking missing values\n",
        "df.isnull().sum()"
      ]
    },
    {
      "cell_type": "code",
      "execution_count": 5,
      "metadata": {
        "colab": {
          "base_uri": "https://localhost:8080/"
        },
        "id": "NXEKCi4KzThJ",
        "outputId": "6b837472-d220-49bf-e9b4-83ebf8eb88ee"
      },
      "outputs": [
        {
          "name": "stdout",
          "output_type": "stream",
          "text": [
            "3    432\n",
            "0    432\n",
            "2    432\n",
            "1    432\n",
            "Name: buying, dtype: int64\n",
            "3    432\n",
            "0    432\n",
            "2    432\n",
            "1    432\n",
            "Name: maint, dtype: int64\n",
            "0    432\n",
            "1    432\n",
            "2    432\n",
            "3    432\n",
            "Name: doors, dtype: int64\n",
            "0    576\n",
            "1    576\n",
            "2    576\n",
            "Name: persons, dtype: int64\n",
            "2    576\n",
            "1    576\n",
            "0    576\n",
            "Name: lug_boot, dtype: int64\n",
            "1    576\n",
            "2    576\n",
            "0    576\n",
            "Name: safety, dtype: int64\n",
            "2    1210\n",
            "0     384\n",
            "1      69\n",
            "3      65\n",
            "Name: class, dtype: int64\n"
          ]
        }
      ],
      "source": [
        "#Convert categorical labels to numbers\n",
        "le = preprocessing.LabelEncoder()\n",
        "\n",
        "for col in names: \n",
        "  df[col] = le.fit_transform(df[col])\n",
        "\n",
        "df.head()\n",
        "for col in names: \n",
        "    print(df[col].value_counts())"
      ]
    },
    {
      "cell_type": "code",
      "execution_count": 6,
      "metadata": {
        "id": "E9YKVdl60lfm"
      },
      "outputs": [],
      "source": [
        "X = df.drop(['class'], axis=1)\n",
        "y = df['class']\n",
        "\n",
        "#splitting train data and test data\n",
        "X_train, X_test, y_train, y_test = train_test_split(X, y, test_size = 0.3, random_state = 42)"
      ]
    },
    {
      "cell_type": "code",
      "execution_count": 7,
      "metadata": {
        "id": "WewTEIxz336f"
      },
      "outputs": [],
      "source": [
        "#K-fold validation\n",
        "def kfold_score(clf,X,y,n_fold):\n",
        "    X,y = X.values,y.values\n",
        "    kfold = KFold(n_splits=n_fold, shuffle=True, random_state=1)\n",
        "    accuracy_list = []\n",
        "\n",
        "    for train_index, test_index in kfold.split(X, y):\n",
        "        x_train_fold, x_test_fold = X[train_index], X[test_index]\n",
        "        y_train_fold, y_test_fold = y[train_index], y[test_index]\n",
        "        clf.fit(x_train_fold, y_train_fold)\n",
        "        preds = clf.predict(x_test_fold)\n",
        "        accuracy_test = accuracy_score(preds,y_test_fold)\n",
        "        accuracy_list.append(accuracy_test)\n",
        "    return np.array(accuracy_list).mean()"
      ]
    },
    {
      "cell_type": "code",
      "execution_count": null,
      "metadata": {
        "id": "fDw19dgo2Iz7"
      },
      "outputs": [],
      "source": [
        "#Random Forest classification\n",
        "\n",
        "#max_features: 1 to around sqrt(# of features of dataset)\n",
        "bounds = [\n",
        "        {'name': 'max_features', 'type': 'continuous', 'domain': (1, 5)},\n",
        "        {'name': 'n_estimators', 'type': 'continuous', 'domain': (1, 200)}\n",
        "      ]\n",
        "\n",
        "def rf_score(parameters):\n",
        "  params = {\n",
        "        'max_features':int(parameters[0][0]),\n",
        "        'n_estimators':int(parameters[0][1])\n",
        "    }\n",
        "  \n",
        "  clf = RandomForestClassifier(max_features=params['max_features'],n_estimators=params['n_estimators'])\n",
        "  clf.fit(X_train,y_train)\n",
        "  score = kfold_score(clf,X_train, y_train,10)\n",
        "  print(params)\n",
        "  print(score)\n",
        "  return score"
      ]
    },
    {
      "cell_type": "code",
      "execution_count": null,
      "metadata": {
        "colab": {
          "base_uri": "https://localhost:8080/"
        },
        "id": "3Tq9e-gk3VPW",
        "outputId": "a0de5302-0869-4282-afee-ec2c5e696812"
      },
      "outputs": [
        {
          "name": "stdout",
          "output_type": "stream",
          "text": [
            "{'max_features': 3, 'n_estimators': 143}\n",
            "0.9751997245179064\n",
            "{'max_features': 1, 'n_estimators': 125}\n",
            "0.9396349862258953\n",
            "{'max_features': 1, 'n_estimators': 137}\n",
            "0.938801652892562\n",
            "{'max_features': 2, 'n_estimators': 11}\n",
            "0.9421143250688706\n",
            "{'max_features': 2, 'n_estimators': 172}\n",
            "0.9718870523415978\n",
            "{'max_features': 3, 'n_estimators': 64}\n",
            "0.9751997245179064\n",
            "{'max_features': 1, 'n_estimators': 144}\n",
            "0.9388223140495867\n",
            "{'max_features': 3, 'n_estimators': 66}\n",
            "0.9743732782369146\n",
            "{'max_features': 2, 'n_estimators': 94}\n",
            "0.9694146005509643\n",
            "{'max_features': 3, 'n_estimators': 81}\n",
            "0.9809917355371901\n",
            "{'max_features': 3, 'n_estimators': 125}\n",
            "0.9793250688705234\n",
            "{'max_features': 3, 'n_estimators': 161}\n",
            "0.9776790633608817\n",
            "{'max_features': 4, 'n_estimators': 15}\n",
            "0.9776790633608815\n",
            "{'max_features': 4, 'n_estimators': 16}\n",
            "0.9768595041322315\n",
            "{'max_features': 4, 'n_estimators': 93}\n",
            "0.9826308539944902\n",
            "{'max_features': 4, 'n_estimators': 180}\n",
            "0.9785055096418734\n",
            "{'max_features': 5, 'n_estimators': 190}\n",
            "0.98099173553719\n",
            "{'max_features': 4, 'n_estimators': 96}\n",
            "0.9793319559228651\n",
            "{'max_features': 3, 'n_estimators': 23}\n",
            "0.9710674931129477\n",
            "{'max_features': 4, 'n_estimators': 199}\n",
            "0.9776790633608817\n",
            "{'max_features': 3, 'n_estimators': 32}\n",
            "0.970241046831956\n",
            "{'max_features': 5, 'n_estimators': 58}\n",
            "0.9801652892561983\n",
            "{'max_features': 4, 'n_estimators': 21}\n",
            "0.9768595041322314\n",
            "{'max_features': 5, 'n_estimators': 105}\n",
            "0.9801584022038569\n",
            "{'max_features': 5, 'n_estimators': 133}\n",
            "0.9818181818181818\n",
            "-0.9826308539944902\n",
            "[ 4.9029477  93.82084116]\n"
          ]
        }
      ],
      "source": [
        "#RF Classification - Matern52 kernel\n",
        "kernel = GPy.kern.Matern52(input_dim=1, variance=1.0, lengthscale=1.0)\n",
        "optimizer = GPyOpt.methods.BayesianOptimization(f=rf_score, \n",
        "                                                domain=bounds,\n",
        "                                                acquisition_type ='EI',\n",
        "                                                initial_design_numdata = 5,\n",
        "                                                model_type='GP',\n",
        "                                                maximize=True,\n",
        "                                                kernel=kernel\n",
        "                                                )\n",
        "\n",
        "optimizer.run_optimization(max_iter=20)\n",
        "\n",
        "#maximum accuracy score\n",
        "acc_max=optimizer.fx_opt\n",
        "#best parameters\n",
        "params_best=optimizer.x_opt\n",
        "print(acc_max)\n",
        "print(params_best)"
      ]
    },
    {
      "cell_type": "code",
      "execution_count": null,
      "metadata": {
        "colab": {
          "base_uri": "https://localhost:8080/",
          "height": 350
        },
        "id": "hGJcJep8nJii",
        "outputId": "0e66cdc7-c842-4e06-edef-3a3800c985f2"
      },
      "outputs": [
        {
          "data": {
            "image/png": "[encoded data removed]",
            "text/plain": [
              "<Figure size 720x360 with 2 Axes>"
            ]
          },
          "metadata": {
            "needs_background": "light"
          },
          "output_type": "display_data"
        }
      ],
      "source": [
        "optimizer.plot_convergence()"
      ]
    },
    {
      "cell_type": "code",
      "execution_count": null,
      "metadata": {
        "colab": {
          "base_uri": "https://localhost:8080/"
        },
        "id": "lTCmDT0KppGU",
        "outputId": "8a830233-3401-4749-8951-b55328fa526b"
      },
      "outputs": [
        {
          "name": "stdout",
          "output_type": "stream",
          "text": [
            "0.9730250481695568\n"
          ]
        }
      ],
      "source": [
        "rf_car = RandomForestClassifier(max_features=4,n_estimators=93)\n",
        "rf_car.fit(X_train,y_train)\n",
        "y_pred = rf_car.predict(X_test)\n",
        "accuracy_test = accuracy_score(y_pred,y_test)\n",
        "print(accuracy_test)"
      ]
    },
    {
      "cell_type": "code",
      "execution_count": null,
      "metadata": {
        "colab": {
          "base_uri": "https://localhost:8080/",
          "height": 1000
        },
        "id": "9IJ7rx_VsTS6",
        "outputId": "1ea44850-9101-417e-94c9-74a36ebaaa44"
      },
      "outputs": [
        {
          "name": "stdout",
          "output_type": "stream",
          "text": [
            "{'max_features': 4, 'n_estimators': 27}\n",
            "0.9785055096418732\n",
            "{'max_features': 4, 'n_estimators': 104}\n",
            "0.9809848484848486\n",
            "{'max_features': 4, 'n_estimators': 125}\n",
            "0.9809848484848486\n",
            "{'max_features': 4, 'n_estimators': 45}\n",
            "0.9801515151515151\n",
            "{'max_features': 3, 'n_estimators': 138}\n",
            "0.9751997245179064\n",
            "{'max_features': 1, 'n_estimators': 32}\n",
            "0.9255922865013775\n",
            "{'max_features': 5, 'n_estimators': 37}\n",
            "0.97849173553719\n",
            "{'max_features': 4, 'n_estimators': 144}\n",
            "0.9793319559228651\n",
            "{'max_features': 4, 'n_estimators': 28}\n",
            "0.9776790633608815\n",
            "{'max_features': 4, 'n_estimators': 73}\n",
            "0.9785055096418734\n",
            "{'max_features': 4, 'n_estimators': 3}\n",
            "0.95534435261708\n",
            "{'max_features': 4, 'n_estimators': 111}\n",
            "0.9768526170798898\n",
            "{'max_features': 4, 'n_estimators': 178}\n",
            "0.9801584022038569\n",
            "{'max_features': 4, 'n_estimators': 24}\n",
            "0.9710674931129477\n",
            "{'max_features': 4, 'n_estimators': 67}\n",
            "0.9809848484848486\n",
            "{'max_features': 5, 'n_estimators': 98}\n",
            "0.9776790633608817\n",
            "{'max_features': 5, 'n_estimators': 66}\n",
            "0.9826308539944903\n",
            "{'max_features': 5, 'n_estimators': 34}\n",
            "0.9793388429752067\n",
            "{'max_features': 5, 'n_estimators': 59}\n",
            "0.976845730027548\n",
            "{'max_features': 5, 'n_estimators': 89}\n",
            "0.9793319559228651\n",
            "{'max_features': 5, 'n_estimators': 70}\n",
            "0.9809848484848486\n",
            "{'max_features': 5, 'n_estimators': 43}\n",
            "0.9776721763085398\n",
            "{'max_features': 5, 'n_estimators': 59}\n",
            "0.9776790633608817\n",
            "{'max_features': 5, 'n_estimators': 20}\n",
            "0.9760330578512397\n",
            "{'max_features': 5, 'n_estimators': 21}\n",
            "0.9785123966942149\n",
            "-0.9826308539944903\n",
            "[ 5.        66.8073719]\n"
          ]
        },
        {
          "data": {
            "image/png": "[encoded data removed]",
            "text/plain": [
              "<Figure size 720x360 with 2 Axes>"
            ]
          },
          "metadata": {
            "needs_background": "light"
          },
          "output_type": "display_data"
        }
      ],
      "source": [
        "#RF classification - Matern52 + ExpQuad\n",
        "kernel2 = GPy.kern.Matern52(input_dim=1, variance=1.0, lengthscale=1.0) + GPy.kern.ExpQuad(input_dim=1,variance=1.0,lengthscale=1.0)\n",
        "optimizer = GPyOpt.methods.BayesianOptimization(f=rf_score, \n",
        "                                                domain=bounds,\n",
        "                                                acquisition_type ='EI',\n",
        "                                                initial_design_numdata = 5,\n",
        "                                                model_type='GP',\n",
        "                                                maximize=True,\n",
        "                                                kernel=kernel2\n",
        "                                                )\n",
        "\n",
        "optimizer.run_optimization(max_iter=20)\n",
        "\n",
        "#maximum accuracy score\n",
        "acc_max=optimizer.fx_opt\n",
        "#best parameters\n",
        "params_best=optimizer.x_opt\n",
        "print(acc_max)\n",
        "print(params_best)\n",
        "\n",
        "optimizer.plot_convergence()"
      ]
    },
    {
      "cell_type": "code",
      "execution_count": null,
      "metadata": {
        "colab": {
          "base_uri": "https://localhost:8080/"
        },
        "id": "wwv3UHhrs_Wb",
        "outputId": "d1a877dd-31b8-45bd-f267-73711cd54455"
      },
      "outputs": [
        {
          "name": "stdout",
          "output_type": "stream",
          "text": [
            "0.9710982658959537\n"
          ]
        }
      ],
      "source": [
        "rf_car2 = RandomForestClassifier(max_features=5,n_estimators=66)\n",
        "rf_car2.fit(X_train,y_train)\n",
        "y_pred = rf_car2.predict(X_test)\n",
        "accuracy_test = accuracy_score(y_pred,y_test)\n",
        "print(accuracy_test)"
      ]
    },
    {
      "cell_type": "code",
      "execution_count": 11,
      "metadata": {
        "id": "9XK_M5ti7fJG"
      },
      "outputs": [],
      "source": [
        "#SVM Classification\n",
        "\n",
        "bounds = [ {'name': 'C', 'type': 'continuous', 'domain': (0.1, 1)},\n",
        "        {'name': 'gamma', 'type': 'continuous', 'domain': (0.01, 0.1)}\n",
        "      ]\n",
        "\n",
        "def svm_score(parameters):\n",
        "  params = {\n",
        "        'C': parameters[0][0],\n",
        "        'gamma':parameters[0][1]\n",
        "    }\n",
        "  \n",
        "  clf = svm.SVC(C=params['C'],gamma=params['gamma'])\n",
        "  clf.fit(X_train,y_train)\n",
        "  score = kfold_score(clf,X_train, y_train,10)\n",
        "  print(params)\n",
        "  print(score)\n",
        "  return score"
      ]
    },
    {
      "cell_type": "code",
      "execution_count": 12,
      "metadata": {
        "colab": {
          "base_uri": "https://localhost:8080/"
        },
        "id": "b_8qWWFl9o67",
        "outputId": "af2713e4-712f-4acf-9153-0c91cc4bf34d"
      },
      "outputs": [
        {
          "name": "stdout",
          "output_type": "stream",
          "text": [
            "{'C': 0.298507678282473, 'gamma': 0.016885335679005763}\n",
            "0.7047658402203856\n",
            "{'C': 0.7780712883756755, 'gamma': 0.08941972544710158}\n",
            "0.7593388429752065\n",
            "{'C': 0.4508224650276462, 'gamma': 0.028531611528068254}\n",
            "0.7047658402203856\n",
            "{'C': 0.47704890274724177, 'gamma': 0.02557864212044993}\n",
            "0.7047658402203856\n",
            "{'C': 0.16088097946623978, 'gamma': 0.09289605135984637}\n",
            "0.7047658402203856\n",
            "{'C': 0.9202594766324854, 'gamma': 0.09474825569651688}\n",
            "0.786625344352617\n",
            "{'C': 1.0, 'gamma': 0.04817907189986811}\n",
            "0.7246143250688706\n",
            "{'C': 0.8822999461332898, 'gamma': 0.05998636269397228}\n",
            "0.7337190082644628\n",
            "{'C': 0.8674643716531786, 'gamma': 0.029521101431480595}\n",
            "0.7047658402203856\n",
            "{'C': 0.9071773438478261, 'gamma': 0.06857966865747402}\n",
            "0.7411501377410469\n",
            "{'C': 0.9237387123012665, 'gamma': 0.04689322722873967}\n",
            "0.7138705234159779\n",
            "{'C': 0.8984971261096374, 'gamma': 0.06261138447639633}\n",
            "0.7378512396694215\n",
            "{'C': 0.900164383572731, 'gamma': 0.03145946523282252}\n",
            "0.7047658402203856\n",
            "{'C': 0.8985266667403421, 'gamma': 0.012831675352760388}\n",
            "0.7047658402203856\n",
            "{'C': 0.8978455343623786, 'gamma': 0.021183271384759818}\n",
            "0.7047658402203856\n",
            "{'C': 0.910982045212799, 'gamma': 0.09155177568513972}\n",
            "0.7767079889807162\n",
            "{'C': 0.9169047428345857, 'gamma': 0.058594336690422445}\n",
            "0.7345454545454546\n",
            "{'C': 0.9172407877385292, 'gamma': 0.011592283702267807}\n",
            "0.7047658402203856\n",
            "{'C': 0.920265047264622, 'gamma': 0.04854792023931637}\n",
            "0.7180027548209367\n",
            "{'C': 0.9998598222790928, 'gamma': 0.026789805891290007}\n",
            "0.7047658402203856\n",
            "{'C': 0.9999098271560907, 'gamma': 0.028632277239016644}\n",
            "0.7047658402203856\n",
            "{'C': 0.9144586518015281, 'gamma': 0.07982055284814707}\n",
            "0.7618181818181818\n",
            "{'C': 0.9144132472566984, 'gamma': 0.09466690617815468}\n",
            "0.7849724517906336\n",
            "{'C': 0.9143615636093747, 'gamma': 0.01127310886311355}\n",
            "0.7047658402203856\n",
            "{'C': 0.9143801524410486, 'gamma': 0.023772391743577863}\n",
            "0.7047658402203856\n",
            "-0.786625344352617\n",
            "[0.92025948 0.09474826]\n"
          ]
        }
      ],
      "source": [
        "#SVM Classification - Matern52 kernel\n",
        "kernel = GPy.kern.Matern52(input_dim=1, variance=1.0, lengthscale=1.0)\n",
        "optimizer = GPyOpt.methods.BayesianOptimization(f=svm_score, \n",
        "                                                domain=bounds,\n",
        "                                                acquisition_type ='EI',\n",
        "                                                initial_design_numdata = 5,\n",
        "                                                model_type='GP',\n",
        "                                                maximize=True,\n",
        "                                                kernel=kernel\n",
        "                                                )\n",
        "\n",
        "optimizer.run_optimization(max_iter=20)\n",
        "\n",
        "#maximum accuracy score\n",
        "acc_max=optimizer.fx_opt\n",
        "#best parameters\n",
        "params_best=optimizer.x_opt\n",
        "print(acc_max)\n",
        "print(params_best)"
      ]
    },
    {
      "cell_type": "code",
      "execution_count": 13,
      "metadata": {
        "colab": {
          "base_uri": "https://localhost:8080/",
          "height": 350
        },
        "id": "KId-CJ3x9zos",
        "outputId": "52088903-1546-4bd2-f8e8-244bd52a7be0"
      },
      "outputs": [
        {
          "data": {
            "image/png": "[encoded data removed]",
            "text/plain": [
              "<Figure size 720x360 with 2 Axes>"
            ]
          },
          "metadata": {
            "needs_background": "light"
          },
          "output_type": "display_data"
        }
      ],
      "source": [
        "optimizer.plot_convergence()"
      ]
    },
    {
      "cell_type": "code",
      "execution_count": 14,
      "metadata": {
        "colab": {
          "base_uri": "https://localhost:8080/"
        },
        "id": "WhBdYYF8-MIc",
        "outputId": "f3e10dc6-0197-438a-8743-e31f9ab48450"
      },
      "outputs": [
        {
          "name": "stdout",
          "output_type": "stream",
          "text": [
            "0.7957610789980732\n"
          ]
        }
      ],
      "source": [
        "SVM_car1 = svm.SVC(C=0.920,gamma=0.0947)\n",
        "SVM_car1.fit(X_train,y_train)\n",
        "y_pred = SVM_car1.predict(X_test)\n",
        "accuracy_test = accuracy_score(y_pred,y_test)\n",
        "print(accuracy_test)"
      ]
    },
    {
      "cell_type": "code",
      "execution_count": 15,
      "metadata": {
        "colab": {
          "base_uri": "https://localhost:8080/",
          "height": 1000
        },
        "id": "cYB5iw_G-rtt",
        "outputId": "85ea7d94-41ad-43de-8575-3fc155b5316e"
      },
      "outputs": [
        {
          "name": "stdout",
          "output_type": "stream",
          "text": [
            "{'C': 0.9245170580647207, 'gamma': 0.09514749423365049}\n",
            "0.7874517906336088\n",
            "{'C': 0.7466012735922444, 'gamma': 0.03022837343187155}\n",
            "0.7047658402203856\n",
            "{'C': 0.23136022012382984, 'gamma': 0.07547957330515133}\n",
            "0.7047658402203856\n",
            "{'C': 0.21928442112109078, 'gamma': 0.08171502042057271}\n",
            "0.7047658402203856\n",
            "{'C': 0.5922741556020304, 'gamma': 0.026972455849799848}\n",
            "0.7047658402203856\n",
            "{'C': 0.9832935586584932, 'gamma': 0.09480260716931042}\n",
            "0.798202479338843\n",
            "{'C': 1.0, 'gamma': 0.011334778248083583}\n",
            "0.7047658402203856\n",
            "{'C': 0.9413439819311021, 'gamma': 0.054955933929575485}\n",
            "0.7320661157024794\n",
            "{'C': 0.9448932065490177, 'gamma': 0.025433183820305804}\n",
            "0.7047658402203856\n",
            "{'C': 0.9826620760349687, 'gamma': 0.052527948488918966}\n",
            "0.7312396694214877\n",
            "{'C': 0.9998205020107218, 'gamma': 0.06121182196206305}\n",
            "0.7394972451790633\n",
            "{'C': 0.9982231420106809, 'gamma': 0.0280576533098277}\n",
            "0.7047658402203856\n",
            "{'C': 0.9986021258057857, 'gamma': 0.07089685198670734}\n",
            "0.7543801652892562\n",
            "{'C': 0.9976177888767248, 'gamma': 0.042608484446862584}\n",
            "0.7122176308539945\n",
            "{'C': 0.9994587653511715, 'gamma': 0.07197028722521048}\n",
            "0.7568595041322314\n",
            "{'C': 0.999431838987881, 'gamma': 0.016382896942940265}\n",
            "0.7047658402203856\n",
            "{'C': 0.9989540948649356, 'gamma': 0.06986013408424672}\n",
            "0.7527272727272727\n",
            "{'C': 0.9955720829415128, 'gamma': 0.02458699470697793}\n",
            "0.7047658402203856\n",
            "{'C': 0.9983309471845819, 'gamma': 0.01411183432893978}\n",
            "0.7047658402203856\n",
            "{'C': 0.9997281924593775, 'gamma': 0.012446162006711293}\n",
            "0.7047658402203856\n",
            "{'C': 0.9996580367011544, 'gamma': 0.014641665807632206}\n",
            "0.7047658402203856\n",
            "{'C': 0.9995670002889443, 'gamma': 0.049145217603806725}\n",
            "0.7262741046831956\n",
            "{'C': 0.9989738325083548, 'gamma': 0.04972398481473734}\n",
            "0.7295867768595041\n",
            "{'C': 0.9990288938334019, 'gamma': 0.01801064261074986}\n",
            "0.7047658402203856\n",
            "{'C': 0.999497545949424, 'gamma': 0.0327815679636907}\n",
            "0.7064256198347107\n",
            "-0.798202479338843\n",
            "[0.98329356 0.09480261]\n"
          ]
        },
        {
          "data": {
            "image/png": "[encoded data removed]",
            "text/plain": [
              "<Figure size 720x360 with 2 Axes>"
            ]
          },
          "metadata": {
            "needs_background": "light"
          },
          "output_type": "display_data"
        }
      ],
      "source": [
        "#SVM classification - Matern52 + ExpQuad\n",
        "kernel2 = GPy.kern.Matern52(input_dim=1, variance=1.0, lengthscale=1.0) + GPy.kern.ExpQuad(input_dim=1,variance=1.0,lengthscale=1.0)\n",
        "optimizer = GPyOpt.methods.BayesianOptimization(f=svm_score, \n",
        "                                                domain=bounds,\n",
        "                                                acquisition_type ='EI',\n",
        "                                                initial_design_numdata = 5,\n",
        "                                                model_type='GP',\n",
        "                                                maximize=True,\n",
        "                                                kernel=kernel2\n",
        "                                                )\n",
        "\n",
        "optimizer.run_optimization(max_iter=20)\n",
        "\n",
        "#maximum accuracy score\n",
        "acc_max=optimizer.fx_opt\n",
        "#best parameters\n",
        "params_best=optimizer.x_opt\n",
        "print(acc_max)\n",
        "print(params_best)\n",
        "\n",
        "optimizer.plot_convergence()"
      ]
    },
    {
      "cell_type": "code",
      "execution_count": 16,
      "metadata": {
        "colab": {
          "base_uri": "https://localhost:8080/"
        },
        "id": "Nvo5M7Vt-ziq",
        "outputId": "cf867eae-147b-4cee-ca54-a2c8d2d521b0"
      },
      "outputs": [
        {
          "name": "stdout",
          "output_type": "stream",
          "text": [
            "0.815028901734104\n"
          ]
        }
      ],
      "source": [
        "SVM_car2 = svm.SVC(C=0.983,gamma=0.0948)\n",
        "SVM_car2.fit(X_train,y_train)\n",
        "y_pred = SVM_car2.predict(X_test)\n",
        "accuracy_test = accuracy_score(y_pred,y_test)\n",
        "print(accuracy_test)"
      ]
    },
    {
      "cell_type": "code",
      "execution_count": 18,
      "metadata": {
        "id": "9LMGI0Lj_FGm"
      },
      "outputs": [],
      "source": [
        "#KNN Classification\n",
        "\n",
        "#search domain\n",
        "bounds = [ {'name': 'leaf_size', 'type': 'continuous', 'domain': (10, 50)},\n",
        "        {'name': 'n_neighbors', 'type': 'discrete', 'domain': (3,4,5,6,7)}\n",
        "      ]\n",
        "\n",
        "def knn_score(parameters):\n",
        "  params = {\n",
        "        'leaf_size': parameters[0][0],\n",
        "        'n_neighbors':int(parameters[0][1])\n",
        "    }\n",
        "  \n",
        "  clf = KNeighborsClassifier(leaf_size=params['leaf_size'],n_neighbors=params['n_neighbors'])\n",
        "  clf.fit(X_train,y_train)\n",
        "  score = kfold_score(clf,X_train, y_train,10)\n",
        "  print(params)\n",
        "  print(score)\n",
        "  return score"
      ]
    },
    {
      "cell_type": "code",
      "execution_count": 19,
      "metadata": {
        "colab": {
          "base_uri": "https://localhost:8080/",
          "height": 1000
        },
        "id": "Y_EA4BtW_kjJ",
        "outputId": "35544000-a542-4c33-9c85-c5e4084c8880"
      },
      "outputs": [
        {
          "name": "stdout",
          "output_type": "stream",
          "text": [
            "{'leaf_size': 46.11788210363108, 'n_neighbors': 6}\n",
            "0.8924931129476583\n",
            "{'leaf_size': 11.266427172102702, 'n_neighbors': 5}\n",
            "0.8957988980716254\n",
            "{'leaf_size': 39.202610129120224, 'n_neighbors': 6}\n",
            "0.8924931129476583\n",
            "{'leaf_size': 11.896758818649914, 'n_neighbors': 3}\n",
            "0.8527961432506886\n",
            "{'leaf_size': 33.39792548024356, 'n_neighbors': 7}\n",
            "0.8925137741046832\n",
            "{'leaf_size': 44.48586152552419, 'n_neighbors': 5}\n",
            "0.8999449035812672\n",
            "{'leaf_size': 12.369585481091757, 'n_neighbors': 5}\n",
            "0.8957988980716254\n",
            "{'leaf_size': 45.55071862782522, 'n_neighbors': 5}\n",
            "0.8999449035812672\n",
            "{'leaf_size': 15.731650457438464, 'n_neighbors': 6}\n",
            "0.9007851239669421\n",
            "{'leaf_size': 34.57332765312346, 'n_neighbors': 3}\n",
            "0.8718112947658403\n",
            "{'leaf_size': 18.79386105126795, 'n_neighbors': 3}\n",
            "0.8528030303030304\n",
            "{'leaf_size': 20.062405335312484, 'n_neighbors': 4}\n",
            "0.868526170798898\n",
            "{'leaf_size': 28.503426062429696, 'n_neighbors': 5}\n",
            "0.8957988980716254\n",
            "{'leaf_size': 32.33969441186432, 'n_neighbors': 7}\n",
            "0.8925137741046832\n",
            "{'leaf_size': 15.731664842475427, 'n_neighbors': 5}\n",
            "0.8957988980716254\n",
            "{'leaf_size': 39.20251714816467, 'n_neighbors': 5}\n",
            "0.8999449035812672\n",
            "{'leaf_size': 45.55044811987403, 'n_neighbors': 4}\n",
            "0.8701446280991736\n",
            "{'leaf_size': 38.1222715798761, 'n_neighbors': 6}\n",
            "0.8924931129476583\n",
            "{'leaf_size': 46.11768935919123, 'n_neighbors': 5}\n",
            "0.8999449035812672\n",
            "{'leaf_size': 49.25764470255277, 'n_neighbors': 6}\n",
            "0.8924931129476583\n",
            "{'leaf_size': 12.372358319789601, 'n_neighbors': 6}\n",
            "0.9007851239669421\n",
            "{'leaf_size': 49.25927097062619, 'n_neighbors': 3}\n",
            "0.8718112947658403\n",
            "{'leaf_size': 46.11755860367924, 'n_neighbors': 4}\n",
            "0.8701446280991736\n",
            "{'leaf_size': 44.33654377801392, 'n_neighbors': 7}\n",
            "0.9032644628099173\n",
            "{'leaf_size': 44.33658268889447, 'n_neighbors': 3}\n",
            "0.8718112947658403\n",
            "-0.9032644628099173\n",
            "[44.33654378  7.        ]\n"
          ]
        },
        {
          "data": {
            "image/png": "[encoded data removed]",
            "text/plain": [
              "<Figure size 720x360 with 2 Axes>"
            ]
          },
          "metadata": {
            "needs_background": "light"
          },
          "output_type": "display_data"
        }
      ],
      "source": [
        "#KNN Classification - Matern52 kernel\n",
        "kernel = GPy.kern.Matern52(input_dim=1, variance=1.0, lengthscale=1.0)\n",
        "optimizer = GPyOpt.methods.BayesianOptimization(f=knn_score, \n",
        "                                                domain=bounds,\n",
        "                                                acquisition_type ='EI',\n",
        "                                                initial_design_numdata = 5,\n",
        "                                                model_type='GP',\n",
        "                                                maximize=True,\n",
        "                                                kernel=kernel\n",
        "                                                )\n",
        "\n",
        "optimizer.run_optimization(max_iter=20)\n",
        "\n",
        "#maximum accuracy score\n",
        "acc_max=optimizer.fx_opt\n",
        "#best parameters\n",
        "params_best=optimizer.x_opt\n",
        "print(acc_max)\n",
        "print(params_best)\n",
        "optimizer.plot_convergence()"
      ]
    },
    {
      "cell_type": "code",
      "execution_count": 20,
      "metadata": {
        "colab": {
          "base_uri": "https://localhost:8080/"
        },
        "id": "Lqzr6VVJ_vQ-",
        "outputId": "a0a63d81-bc98-4f07-b64f-12ee582d01be"
      },
      "outputs": [
        {
          "name": "stdout",
          "output_type": "stream",
          "text": [
            "0.9344894026974951\n"
          ]
        }
      ],
      "source": [
        "KNN_car1 = KNeighborsClassifier(leaf_size=44,n_neighbors=7)\n",
        "KNN_car1.fit(X_train,y_train)\n",
        "y_pred = KNN_car1.predict(X_test)\n",
        "accuracy_test = accuracy_score(y_pred,y_test)\n",
        "print(accuracy_test)"
      ]
    },
    {
      "cell_type": "code",
      "execution_count": 23,
      "metadata": {
        "colab": {
          "base_uri": "https://localhost:8080/",
          "height": 1000
        },
        "id": "3LZAZ3kWAGlC",
        "outputId": "69aada6d-ec55-4351-fe7e-1cce887f884c"
      },
      "outputs": [
        {
          "name": "stdout",
          "output_type": "stream",
          "text": [
            "{'leaf_size': 29.69466048337127, 'n_neighbors': 3}\n",
            "0.8528030303030304\n",
            "{'leaf_size': 18.481083709248978, 'n_neighbors': 7}\n",
            "0.8925137741046832\n",
            "{'leaf_size': 32.711579780890176, 'n_neighbors': 7}\n",
            "0.8925137741046832\n",
            "{'leaf_size': 23.770782984205358, 'n_neighbors': 6}\n",
            "0.9049035812672177\n",
            "{'leaf_size': 32.45107702643483, 'n_neighbors': 7}\n",
            "0.8925137741046832\n",
            "{'leaf_size': 22.51857290704078, 'n_neighbors': 5}\n",
            "0.8957988980716254\n",
            "{'leaf_size': 25.08170476624961, 'n_neighbors': 5}\n",
            "0.8957988980716254\n",
            "{'leaf_size': 15.662510049749091, 'n_neighbors': 4}\n",
            "0.8627203856749311\n",
            "{'leaf_size': 44.95070308778467, 'n_neighbors': 7}\n",
            "0.9032644628099173\n",
            "{'leaf_size': 43.49333064686121, 'n_neighbors': 4}\n",
            "0.8701446280991736\n",
            "{'leaf_size': 45.82107094345026, 'n_neighbors': 3}\n",
            "0.8718112947658403\n",
            "{'leaf_size': 24.26787894381066, 'n_neighbors': 5}\n",
            "0.8957988980716254\n",
            "{'leaf_size': 23.306203963416493, 'n_neighbors': 4}\n",
            "0.868526170798898\n",
            "{'leaf_size': 23.939104381717733, 'n_neighbors': 4}\n",
            "0.868526170798898\n",
            "{'leaf_size': 23.749347708772014, 'n_neighbors': 3}\n",
            "0.8528030303030304\n",
            "{'leaf_size': 44.949771299149525, 'n_neighbors': 5}\n",
            "0.8999449035812672\n",
            "{'leaf_size': 23.767119657740892, 'n_neighbors': 6}\n",
            "0.9049035812672177\n",
            "{'leaf_size': 25.07311565474601, 'n_neighbors': 4}\n",
            "0.868526170798898\n",
            "{'leaf_size': 25.087824157606327, 'n_neighbors': 5}\n",
            "0.8957988980716254\n",
            "{'leaf_size': 22.526877419851218, 'n_neighbors': 7}\n",
            "0.8925137741046832\n",
            "{'leaf_size': 44.955511719108124, 'n_neighbors': 4}\n",
            "0.8701446280991736\n",
            "{'leaf_size': 23.764324046173048, 'n_neighbors': 6}\n",
            "0.9049035812672177\n",
            "{'leaf_size': 23.76926669278447, 'n_neighbors': 3}\n",
            "0.8528030303030304\n",
            "{'leaf_size': 25.088630375170148, 'n_neighbors': 3}\n",
            "0.8528030303030304\n",
            "{'leaf_size': 13.71216550141999, 'n_neighbors': 5}\n",
            "0.8957988980716254\n",
            "-0.9049035812672177\n",
            "[23.77078298  6.        ]\n"
          ]
        },
        {
          "data": {
            "image/png": "[encoded data removed]",
            "text/plain": [
              "<Figure size 720x360 with 2 Axes>"
            ]
          },
          "metadata": {
            "needs_background": "light"
          },
          "output_type": "display_data"
        }
      ],
      "source": [
        "#KNN Classification - Matern52 + ExpQuad\n",
        "kernel2 = GPy.kern.Matern52(input_dim=1, variance=1.0, lengthscale=1.0) + GPy.kern.ExpQuad(input_dim=1,variance=1.0,lengthscale=1.0)\n",
        "optimizer = GPyOpt.methods.BayesianOptimization(f=knn_score, \n",
        "                                                domain=bounds,\n",
        "                                                acquisition_type ='EI',\n",
        "                                                initial_design_numdata = 5,\n",
        "                                                model_type='GP',\n",
        "                                                maximize=True,\n",
        "                                                kernel=kernel2\n",
        "                                                )\n",
        "\n",
        "optimizer.run_optimization(max_iter=20)\n",
        "\n",
        "#maximum accuracy score\n",
        "acc_max=optimizer.fx_opt\n",
        "#best parameters\n",
        "params_best=optimizer.x_opt\n",
        "print(acc_max)\n",
        "print(params_best)\n",
        "optimizer.plot_convergence()"
      ]
    },
    {
      "cell_type": "code",
      "execution_count": 24,
      "metadata": {
        "colab": {
          "base_uri": "https://localhost:8080/"
        },
        "id": "yB9R1KKqAP4k",
        "outputId": "c5201ce9-632c-4be8-ee5f-294ae736391a"
      },
      "outputs": [
        {
          "name": "stdout",
          "output_type": "stream",
          "text": [
            "0.9171483622350675\n"
          ]
        }
      ],
      "source": [
        "KNN_car2 = KNeighborsClassifier(leaf_size=24,n_neighbors=6)\n",
        "KNN_car2.fit(X_train,y_train)\n",
        "y_pred = KNN_car2.predict(X_test)\n",
        "accuracy_test = accuracy_score(y_pred,y_test)\n",
        "print(accuracy_test)"
      ]
    }
  ],
  "metadata": {
    "colab": {
      "authorship_tag": "ABX9TyPIubIkMzayal7GkdS9NXrn",
      "include_colab_link": true,
      "provenance": []
    },
    "kernelspec": {
      "display_name": "Python 3",
      "name": "python3"
    },
    "language_info": {
      "name": "python"
    }
  },
  "nbformat": 4,
  "nbformat_minor": 0
}
