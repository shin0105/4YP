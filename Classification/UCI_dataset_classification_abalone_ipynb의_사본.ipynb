{
  "nbformat": 4,
  "nbformat_minor": 0,
  "metadata": {
    "colab": {
      "provenance": [],
      "authorship_tag": "ABX9TyOZyQrGrpkejm4Jq3QdoQfI",
      "include_colab_link": true
    },
    "kernelspec": {
      "name": "python3",
      "display_name": "Python 3"
    },
    "language_info": {
      "name": "python"
    }
  },
  "cells": [
    {
      "cell_type": "markdown",
      "metadata": {
        "id": "view-in-github",
        "colab_type": "text"
      },
      "source": [
        "<a href=\"https://colab.research.google.com/github/shin0105/4YP/blob/master/UCI_dataset_classification_abalone_ipynb%EC%9D%98_%EC%82%AC%EB%B3%B8.ipynb\" target=\"_parent\"><img src=\"https://colab.research.google.com/assets/colab-badge.svg\" alt=\"Open In Colab\"/></a>"
      ]
    },
    {
      "cell_type": "code",
      "execution_count": 1,
      "metadata": {
        "id": "rLPXTuwQovwn",
        "colab": {
          "base_uri": "https://localhost:8080/"
        },
        "outputId": "5efa8534-3048-48fa-bd25-9bb7d0b06258"
      },
      "outputs": [
        {
          "output_type": "stream",
          "name": "stdout",
          "text": [
            "Looking in indexes: https://pypi.org/simple, https://us-python.pkg.dev/colab-wheels/public/simple/\n",
            "Collecting GPyOpt\n",
            "  Downloading GPyOpt-1.2.6.tar.gz (56 kB)\n",
            "\u001b[2K     \u001b[90m━━━━━━━━━━━━━━━━━━━━━━━━━━━━━━━━━━━━━━━━\u001b[0m \u001b[32m56.8/56.8 KB\u001b[0m \u001b[31m1.2 MB/s\u001b[0m eta \u001b[36m0:00:00\u001b[0m\n",
            "\u001b[?25h  Preparing metadata (setup.py) ... \u001b[?25l\u001b[?25hdone\n",
            "Requirement already satisfied: numpy>=1.7 in /usr/local/lib/python3.8/dist-packages (from GPyOpt) (1.21.6)\n",
            "Requirement already satisfied: scipy>=0.16 in /usr/local/lib/python3.8/dist-packages (from GPyOpt) (1.7.3)\n",
            "Collecting GPy>=1.8\n",
            "  Downloading GPy-1.10.0.tar.gz (959 kB)\n",
            "\u001b[2K     \u001b[90m━━━━━━━━━━━━━━━━━━━━━━━━━━━━━━━━━━━━━━\u001b[0m \u001b[32m959.4/959.4 KB\u001b[0m \u001b[31m10.5 MB/s\u001b[0m eta \u001b[36m0:00:00\u001b[0m\n",
            "\u001b[?25h  Preparing metadata (setup.py) ... \u001b[?25l\u001b[?25hdone\n",
            "Requirement already satisfied: six in /usr/local/lib/python3.8/dist-packages (from GPy>=1.8->GPyOpt) (1.15.0)\n",
            "Collecting paramz>=0.9.0\n",
            "  Downloading paramz-0.9.5.tar.gz (71 kB)\n",
            "\u001b[2K     \u001b[90m━━━━━━━━━━━━━━━━━━━━━━━━━━━━━━━━━━━━━━━━\u001b[0m \u001b[32m71.3/71.3 KB\u001b[0m \u001b[31m1.3 MB/s\u001b[0m eta \u001b[36m0:00:00\u001b[0m\n",
            "\u001b[?25h  Preparing metadata (setup.py) ... \u001b[?25l\u001b[?25hdone\n",
            "Requirement already satisfied: cython>=0.29 in /usr/local/lib/python3.8/dist-packages (from GPy>=1.8->GPyOpt) (0.29.33)\n",
            "Requirement already satisfied: decorator>=4.0.10 in /usr/local/lib/python3.8/dist-packages (from paramz>=0.9.0->GPy>=1.8->GPyOpt) (4.4.2)\n",
            "Building wheels for collected packages: GPyOpt, GPy, paramz\n",
            "  Building wheel for GPyOpt (setup.py) ... \u001b[?25l\u001b[?25hdone\n",
            "  Created wheel for GPyOpt: filename=GPyOpt-1.2.6-py3-none-any.whl size=83608 sha256=e2cebec0539609da084c4074e8ef3fe00d13a03ff7ed910481569389c8277d0a\n",
            "  Stored in directory: /root/.cache/pip/wheels/5e/0b/6f/65b7572b74ce7c031e4c68556b8fd43c210f5b9415937c429d\n",
            "  Building wheel for GPy (setup.py) ... \u001b[?25l\u001b[?25hdone\n",
            "  Created wheel for GPy: filename=GPy-1.10.0-cp38-cp38-linux_x86_64.whl size=3424731 sha256=06eb1e5e81f53a93b951c2de21aac29d5915239fec36ee2bdafbb85add07beee\n",
            "  Stored in directory: /root/.cache/pip/wheels/48/b3/22/31f07cfd7b182ea3703151b7e5a7d6447e3e1ac6aa5c529413\n",
            "  Building wheel for paramz (setup.py) ... \u001b[?25l\u001b[?25hdone\n",
            "  Created wheel for paramz: filename=paramz-0.9.5-py3-none-any.whl size=102566 sha256=4331d1a23ab6b68895d8fd1c8dab7ab750d088958b85dbdc2b8628cfd449d756\n",
            "  Stored in directory: /root/.cache/pip/wheels/66/78/6c/d98cb437834de5e29381786b4ba8a77ea68cca74653ab62713\n",
            "Successfully built GPyOpt GPy paramz\n",
            "Installing collected packages: paramz, GPy, GPyOpt\n",
            "Successfully installed GPy-1.10.0 GPyOpt-1.2.6 paramz-0.9.5\n",
            "Looking in indexes: https://pypi.org/simple, https://us-python.pkg.dev/colab-wheels/public/simple/\n",
            "Requirement already satisfied: GPy in /usr/local/lib/python3.8/dist-packages (1.10.0)\n",
            "Requirement already satisfied: six in /usr/local/lib/python3.8/dist-packages (from GPy) (1.15.0)\n",
            "Requirement already satisfied: paramz>=0.9.0 in /usr/local/lib/python3.8/dist-packages (from GPy) (0.9.5)\n",
            "Requirement already satisfied: numpy>=1.7 in /usr/local/lib/python3.8/dist-packages (from GPy) (1.21.6)\n",
            "Requirement already satisfied: cython>=0.29 in /usr/local/lib/python3.8/dist-packages (from GPy) (0.29.33)\n",
            "Requirement already satisfied: scipy>=1.3.0 in /usr/local/lib/python3.8/dist-packages (from GPy) (1.7.3)\n",
            "Requirement already satisfied: decorator>=4.0.10 in /usr/local/lib/python3.8/dist-packages (from paramz>=0.9.0->GPy) (4.4.2)\n"
          ]
        }
      ],
      "source": [
        "!pip install GPyOpt\n",
        "!pip install GPy"
      ]
    },
    {
      "cell_type": "code",
      "source": [
        "#import packages\n",
        "\n",
        "#basic packages\n",
        "import pandas as pd\n",
        "import numpy as np\n",
        "import matplotlib.pyplot as plt\n",
        "import seaborn as sns\n",
        "\n",
        "#Bayesian optimization packages\n",
        "import GPy\n",
        "import GPyOpt\n",
        "\n",
        "#ML Algorithm packages\n",
        "from sklearn.model_selection import train_test_split, cross_val_score, KFold\n",
        "from sklearn.metrics import confusion_matrix, accuracy_score, classification_report\n",
        "from sklearn.ensemble import RandomForestClassifier\n",
        "from sklearn.neighbors import KNeighborsClassifier\n",
        "from sklearn import svm\n",
        "from sklearn import preprocessing"
      ],
      "metadata": {
        "id": "RHLDk0wJqQHz"
      },
      "execution_count": 2,
      "outputs": []
    },
    {
      "cell_type": "code",
      "source": [
        "#dataset = UCI Abalone https://archive.ics.uci.edu/ml/datasets/Abalone\n",
        "with open(\"abalone.names\") as f:\n",
        "    print(f.read())"
      ],
      "metadata": {
        "colab": {
          "base_uri": "https://localhost:8080/"
        },
        "id": "pqRbjvEEMbns",
        "outputId": "0479660a-1b7d-44d3-be3f-56b1109c8f4b"
      },
      "execution_count": 3,
      "outputs": [
        {
          "output_type": "stream",
          "name": "stdout",
          "text": [
            "1. Title of Database: Abalone data\n",
            "\n",
            "2. Sources:\n",
            "\n",
            "   (a) Original owners of database:\n",
            "\tMarine Resources Division\n",
            "\tMarine Research Laboratories - Taroona\n",
            "\tDepartment of Primary Industry and Fisheries, Tasmania\n",
            "\tGPO Box 619F, Hobart, Tasmania 7001, Australia\n",
            "\t(contact: Warwick Nash +61 02 277277, wnash@dpi.tas.gov.au)\n",
            "\n",
            "   (b) Donor of database:\n",
            "\tSam Waugh (Sam.Waugh@cs.utas.edu.au)\n",
            "\tDepartment of Computer Science, University of Tasmania\n",
            "\tGPO Box 252C, Hobart, Tasmania 7001, Australia\n",
            "\n",
            "   (c) Date received: December 1995\n",
            "\n",
            "\n",
            "3. Past Usage:\n",
            "\n",
            "   Sam Waugh (1995) \"Extending and benchmarking Cascade-Correlation\", PhD\n",
            "   thesis, Computer Science Department, University of Tasmania.\n",
            "\n",
            "   -- Test set performance (final 1044 examples, first 3133 used for training):\n",
            "\t24.86% Cascade-Correlation (no hidden nodes)\n",
            "\t26.25% Cascade-Correlation (5 hidden nodes)\n",
            "\t21.5%  C4.5\n",
            "\t 0.0%  Linear Discriminate Analysis\n",
            "\t 3.57% k=5 Nearest Neighbour\n",
            "      (Problem encoded as a classification task)\n",
            "\n",
            "   -- Data set samples are highly overlapped.  Further information is required\n",
            "\tto separate completely using affine combinations.  Other restrictions\n",
            "\tto data set examined.\n",
            "\n",
            "   David Clark, Zoltan Schreter, Anthony Adams \"A Quantitative Comparison of\n",
            "   Dystal and Backpropagation\", submitted to the Australian Conference on\n",
            "   Neural Networks (ACNN'96). Data set treated as a 3-category classification\n",
            "   problem (grouping ring classes 1-8, 9 and 10, and 11 on).\n",
            "\n",
            "   -- Test set performance (3133 training, 1044 testing as above):\n",
            "\t64%    Backprop\n",
            "\t55%    Dystal\n",
            "   -- Previous work (Waugh, 1995) on same data set:\n",
            "\t61.40% Cascade-Correlation (no hidden nodes)\n",
            "\t65.61% Cascade-Correlation (5 hidden nodes)\n",
            "\t59.2%  C4.5\n",
            "\t32.57% Linear Discriminate Analysis\n",
            "\t62.46% k=5 Nearest Neighbour\n",
            "\n",
            "\n",
            "4. Relevant Information Paragraph:\n",
            "\n",
            "   Predicting the age of abalone from physical measurements.  The age of\n",
            "   abalone is determined by cutting the shell through the cone, staining it,\n",
            "   and counting the number of rings through a microscope -- a boring and\n",
            "   time-consuming task.  Other measurements, which are easier to obtain, are\n",
            "   used to predict the age.  Further information, such as weather patterns\n",
            "   and location (hence food availability) may be required to solve the problem.\n",
            "\n",
            "   From the original data examples with missing values were removed (the\n",
            "   majority having the predicted value missing), and the ranges of the\n",
            "   continuous values have been scaled for use with an ANN (by dividing by 200).\n",
            "\n",
            "   Data comes from an original (non-machine-learning) study:\n",
            "\n",
            "\tWarwick J Nash, Tracy L Sellers, Simon R Talbot, Andrew J Cawthorn and\n",
            "\tWes B Ford (1994) \"The Population Biology of Abalone (_Haliotis_\n",
            "\tspecies) in Tasmania. I. Blacklip Abalone (_H. rubra_) from the North\n",
            "\tCoast and Islands of Bass Strait\", Sea Fisheries Division, Technical\n",
            "\tReport No. 48 (ISSN 1034-3288)\n",
            "\n",
            "\n",
            "5. Number of Instances: 4177\n",
            "\n",
            "\n",
            "6. Number of Attributes: 8\n",
            "\n",
            "\n",
            "7. Attribute information:\n",
            "\n",
            "   Given is the attribute name, attribute type, the measurement unit and a\n",
            "   brief description.  The number of rings is the value to predict: either\n",
            "   as a continuous value or as a classification problem.\n",
            "\n",
            "\tName\t\tData Type\tMeas.\tDescription\n",
            "\t----\t\t---------\t-----\t-----------\n",
            "\tSex\t\tnominal\t\t\tM, F, and I (infant)\n",
            "\tLength\t\tcontinuous\tmm\tLongest shell measurement\n",
            "\tDiameter\tcontinuous\tmm\tperpendicular to length\n",
            "\tHeight\t\tcontinuous\tmm\twith meat in shell\n",
            "\tWhole weight\tcontinuous\tgrams\twhole abalone\n",
            "\tShucked weight\tcontinuous\tgrams\tweight of meat\n",
            "\tViscera weight\tcontinuous\tgrams\tgut weight (after bleeding)\n",
            "\tShell weight\tcontinuous\tgrams\tafter being dried\n",
            "\tRings\t\tinteger\t\t\t+1.5 gives the age in years\n",
            "\n",
            "   Statistics for numeric domains:\n",
            "\n",
            "\t\tLength\tDiam\tHeight\tWhole\tShucked\tViscera\tShell\tRings\n",
            "\tMin\t0.075\t0.055\t0.000\t0.002\t0.001\t0.001\t0.002\t    1\n",
            "\tMax\t0.815\t0.650\t1.130\t2.826\t1.488\t0.760\t1.005\t   29\n",
            "\tMean\t0.524\t0.408\t0.140\t0.829\t0.359\t0.181\t0.239\t9.934\n",
            "\tSD\t0.120\t0.099\t0.042\t0.490\t0.222\t0.110\t0.139\t3.224\n",
            "\tCorrel\t0.557\t0.575\t0.557\t0.540\t0.421\t0.504\t0.628\t  1.0\n",
            "\n",
            "\n",
            "8. Missing Attribute Values: None\n",
            "\n",
            "\n",
            "9. Class Distribution:\n",
            "\n",
            "\tClass\tExamples\n",
            "\t-----\t--------\n",
            "\t1\t1\n",
            "\t2\t1\n",
            "\t3\t15\n",
            "\t4\t57\n",
            "\t5\t115\n",
            "\t6\t259\n",
            "\t7\t391\n",
            "\t8\t568\n",
            "\t9\t689\n",
            "\t10\t634\n",
            "\t11\t487\n",
            "\t12\t267\n",
            "\t13\t203\n",
            "\t14\t126\n",
            "\t15\t103\n",
            "\t16\t67\n",
            "\t17\t58\n",
            "\t18\t42\n",
            "\t19\t32\n",
            "\t20\t26\n",
            "\t21\t14\n",
            "\t22\t6\n",
            "\t23\t9\n",
            "\t24\t2\n",
            "\t25\t1\n",
            "\t26\t1\n",
            "\t27\t2\n",
            "\t29\t1\n",
            "\t-----\t----\n",
            "\tTotal\t4177\n",
            "\n"
          ]
        }
      ]
    },
    {
      "cell_type": "code",
      "source": [
        "#dataset = UCI Car Evaluation\n",
        "names=['sex','length','diameter','height','w-weight','s-weight','v-weight','shell-weight','class']\n",
        "df = pd.read_csv('abalone.data', names = names)\n",
        "df.head()"
      ],
      "metadata": {
        "colab": {
          "base_uri": "https://localhost:8080/",
          "height": 206
        },
        "id": "sefirBbFuqWz",
        "outputId": "11be5a7a-82ce-4c64-c4b2-7c6b974248d9"
      },
      "execution_count": 9,
      "outputs": [
        {
          "output_type": "execute_result",
          "data": {
            "text/plain": [
              "  sex  length  diameter  height  w-weight  s-weight  v-weight  shell-weight  \\\n",
              "0   M   0.455     0.365   0.095    0.5140    0.2245    0.1010         0.150   \n",
              "1   M   0.350     0.265   0.090    0.2255    0.0995    0.0485         0.070   \n",
              "2   F   0.530     0.420   0.135    0.6770    0.2565    0.1415         0.210   \n",
              "3   M   0.440     0.365   0.125    0.5160    0.2155    0.1140         0.155   \n",
              "4   I   0.330     0.255   0.080    0.2050    0.0895    0.0395         0.055   \n",
              "\n",
              "   class  \n",
              "0     15  \n",
              "1      7  \n",
              "2      9  \n",
              "3     10  \n",
              "4      7  "
            ],
            "text/html": [
              "\n",
              "  <div id=\"df-6f5f67f2-7de5-4775-9a57-cef5ed2b4c01\">\n",
              "    <div class=\"colab-df-container\">\n",
              "      <div>\n",
              "<style scoped>\n",
              "    .dataframe tbody tr th:only-of-type {\n",
              "        vertical-align: middle;\n",
              "    }\n",
              "\n",
              "    .dataframe tbody tr th {\n",
              "        vertical-align: top;\n",
              "    }\n",
              "\n",
              "    .dataframe thead th {\n",
              "        text-align: right;\n",
              "    }\n",
              "</style>\n",
              "<table border=\"1\" class=\"dataframe\">\n",
              "  <thead>\n",
              "    <tr style=\"text-align: right;\">\n",
              "      <th></th>\n",
              "      <th>sex</th>\n",
              "      <th>length</th>\n",
              "      <th>diameter</th>\n",
              "      <th>height</th>\n",
              "      <th>w-weight</th>\n",
              "      <th>s-weight</th>\n",
              "      <th>v-weight</th>\n",
              "      <th>shell-weight</th>\n",
              "      <th>class</th>\n",
              "    </tr>\n",
              "  </thead>\n",
              "  <tbody>\n",
              "    <tr>\n",
              "      <th>0</th>\n",
              "      <td>M</td>\n",
              "      <td>0.455</td>\n",
              "      <td>0.365</td>\n",
              "      <td>0.095</td>\n",
              "      <td>0.5140</td>\n",
              "      <td>0.2245</td>\n",
              "      <td>0.1010</td>\n",
              "      <td>0.150</td>\n",
              "      <td>15</td>\n",
              "    </tr>\n",
              "    <tr>\n",
              "      <th>1</th>\n",
              "      <td>M</td>\n",
              "      <td>0.350</td>\n",
              "      <td>0.265</td>\n",
              "      <td>0.090</td>\n",
              "      <td>0.2255</td>\n",
              "      <td>0.0995</td>\n",
              "      <td>0.0485</td>\n",
              "      <td>0.070</td>\n",
              "      <td>7</td>\n",
              "    </tr>\n",
              "    <tr>\n",
              "      <th>2</th>\n",
              "      <td>F</td>\n",
              "      <td>0.530</td>\n",
              "      <td>0.420</td>\n",
              "      <td>0.135</td>\n",
              "      <td>0.6770</td>\n",
              "      <td>0.2565</td>\n",
              "      <td>0.1415</td>\n",
              "      <td>0.210</td>\n",
              "      <td>9</td>\n",
              "    </tr>\n",
              "    <tr>\n",
              "      <th>3</th>\n",
              "      <td>M</td>\n",
              "      <td>0.440</td>\n",
              "      <td>0.365</td>\n",
              "      <td>0.125</td>\n",
              "      <td>0.5160</td>\n",
              "      <td>0.2155</td>\n",
              "      <td>0.1140</td>\n",
              "      <td>0.155</td>\n",
              "      <td>10</td>\n",
              "    </tr>\n",
              "    <tr>\n",
              "      <th>4</th>\n",
              "      <td>I</td>\n",
              "      <td>0.330</td>\n",
              "      <td>0.255</td>\n",
              "      <td>0.080</td>\n",
              "      <td>0.2050</td>\n",
              "      <td>0.0895</td>\n",
              "      <td>0.0395</td>\n",
              "      <td>0.055</td>\n",
              "      <td>7</td>\n",
              "    </tr>\n",
              "  </tbody>\n",
              "</table>\n",
              "</div>\n",
              "      <button class=\"colab-df-convert\" onclick=\"convertToInteractive('df-6f5f67f2-7de5-4775-9a57-cef5ed2b4c01')\"\n",
              "              title=\"Convert this dataframe to an interactive table.\"\n",
              "              style=\"display:none;\">\n",
              "        \n",
              "  <svg xmlns=\"http://www.w3.org/2000/svg\" height=\"24px\"viewBox=\"0 0 24 24\"\n",
              "       width=\"24px\">\n",
              "    <path d=\"M0 0h24v24H0V0z\" fill=\"none\"/>\n",
              "    <path d=\"M18.56 5.44l.94 2.06.94-2.06 2.06-.94-2.06-.94-.94-2.06-.94 2.06-2.06.94zm-11 1L8.5 8.5l.94-2.06 2.06-.94-2.06-.94L8.5 2.5l-.94 2.06-2.06.94zm10 10l.94 2.06.94-2.06 2.06-.94-2.06-.94-.94-2.06-.94 2.06-2.06.94z\"/><path d=\"M17.41 7.96l-1.37-1.37c-.4-.4-.92-.59-1.43-.59-.52 0-1.04.2-1.43.59L10.3 9.45l-7.72 7.72c-.78.78-.78 2.05 0 2.83L4 21.41c.39.39.9.59 1.41.59.51 0 1.02-.2 1.41-.59l7.78-7.78 2.81-2.81c.8-.78.8-2.07 0-2.86zM5.41 20L4 18.59l7.72-7.72 1.47 1.35L5.41 20z\"/>\n",
              "  </svg>\n",
              "      </button>\n",
              "      \n",
              "  <style>\n",
              "    .colab-df-container {\n",
              "      display:flex;\n",
              "      flex-wrap:wrap;\n",
              "      gap: 12px;\n",
              "    }\n",
              "\n",
              "    .colab-df-convert {\n",
              "      background-color: #E8F0FE;\n",
              "      border: none;\n",
              "      border-radius: 50%;\n",
              "      cursor: pointer;\n",
              "      display: none;\n",
              "      fill: #1967D2;\n",
              "      height: 32px;\n",
              "      padding: 0 0 0 0;\n",
              "      width: 32px;\n",
              "    }\n",
              "\n",
              "    .colab-df-convert:hover {\n",
              "      background-color: #E2EBFA;\n",
              "      box-shadow: 0px 1px 2px rgba(60, 64, 67, 0.3), 0px 1px 3px 1px rgba(60, 64, 67, 0.15);\n",
              "      fill: #174EA6;\n",
              "    }\n",
              "\n",
              "    [theme=dark] .colab-df-convert {\n",
              "      background-color: #3B4455;\n",
              "      fill: #D2E3FC;\n",
              "    }\n",
              "\n",
              "    [theme=dark] .colab-df-convert:hover {\n",
              "      background-color: #434B5C;\n",
              "      box-shadow: 0px 1px 3px 1px rgba(0, 0, 0, 0.15);\n",
              "      filter: drop-shadow(0px 1px 2px rgba(0, 0, 0, 0.3));\n",
              "      fill: #FFFFFF;\n",
              "    }\n",
              "  </style>\n",
              "\n",
              "      <script>\n",
              "        const buttonEl =\n",
              "          document.querySelector('#df-6f5f67f2-7de5-4775-9a57-cef5ed2b4c01 button.colab-df-convert');\n",
              "        buttonEl.style.display =\n",
              "          google.colab.kernel.accessAllowed ? 'block' : 'none';\n",
              "\n",
              "        async function convertToInteractive(key) {\n",
              "          const element = document.querySelector('#df-6f5f67f2-7de5-4775-9a57-cef5ed2b4c01');\n",
              "          const dataTable =\n",
              "            await google.colab.kernel.invokeFunction('convertToInteractive',\n",
              "                                                     [key], {});\n",
              "          if (!dataTable) return;\n",
              "\n",
              "          const docLinkHtml = 'Like what you see? Visit the ' +\n",
              "            '<a target=\"_blank\" href=https://colab.research.google.com/notebooks/data_table.ipynb>data table notebook</a>'\n",
              "            + ' to learn more about interactive tables.';\n",
              "          element.innerHTML = '';\n",
              "          dataTable['output_type'] = 'display_data';\n",
              "          await google.colab.output.renderOutput(dataTable, element);\n",
              "          const docLink = document.createElement('div');\n",
              "          docLink.innerHTML = docLinkHtml;\n",
              "          element.appendChild(docLink);\n",
              "        }\n",
              "      </script>\n",
              "    </div>\n",
              "  </div>\n",
              "  "
            ]
          },
          "metadata": {},
          "execution_count": 9
        }
      ]
    },
    {
      "cell_type": "code",
      "source": [
        "#frequency distribution\n",
        "for col in names: \n",
        "    print(df[col].value_counts())\n",
        "\n",
        "#checking missing values\n",
        "df.isnull().sum()"
      ],
      "metadata": {
        "colab": {
          "base_uri": "https://localhost:8080/"
        },
        "id": "KfIp-9ovxyjA",
        "outputId": "467f8314-5036-4bfc-f9b8-bcefe804a6c8"
      },
      "execution_count": 10,
      "outputs": [
        {
          "output_type": "stream",
          "name": "stdout",
          "text": [
            "M    1528\n",
            "I    1342\n",
            "F    1307\n",
            "Name: sex, dtype: int64\n",
            "0.625    94\n",
            "0.550    94\n",
            "0.575    93\n",
            "0.580    92\n",
            "0.600    87\n",
            "         ..\n",
            "0.075     1\n",
            "0.815     1\n",
            "0.110     1\n",
            "0.150     1\n",
            "0.800     1\n",
            "Name: length, Length: 134, dtype: int64\n",
            "0.450    139\n",
            "0.475    120\n",
            "0.400    111\n",
            "0.500    110\n",
            "0.470    100\n",
            "        ... \n",
            "0.610      1\n",
            "0.650      1\n",
            "0.620      1\n",
            "0.095      1\n",
            "0.615      1\n",
            "Name: diameter, Length: 111, dtype: int64\n",
            "0.150    267\n",
            "0.140    220\n",
            "0.155    217\n",
            "0.175    211\n",
            "0.160    205\n",
            "0.125    202\n",
            "0.165    193\n",
            "0.135    189\n",
            "0.145    182\n",
            "0.130    169\n",
            "0.120    169\n",
            "0.170    160\n",
            "0.100    145\n",
            "0.110    135\n",
            "0.115    133\n",
            "0.180    131\n",
            "0.090    124\n",
            "0.105    114\n",
            "0.185    103\n",
            "0.190    103\n",
            "0.095     91\n",
            "0.195     78\n",
            "0.080     76\n",
            "0.085     74\n",
            "0.200     68\n",
            "0.075     61\n",
            "0.070     47\n",
            "0.205     45\n",
            "0.065     39\n",
            "0.215     31\n",
            "0.060     26\n",
            "0.055     25\n",
            "0.210     23\n",
            "0.050     18\n",
            "0.220     17\n",
            "0.040     13\n",
            "0.225     13\n",
            "0.045     11\n",
            "0.230     10\n",
            "0.030      6\n",
            "0.035      6\n",
            "0.235      6\n",
            "0.025      5\n",
            "0.240      4\n",
            "0.250      3\n",
            "0.020      2\n",
            "0.015      2\n",
            "0.000      2\n",
            "0.010      1\n",
            "0.515      1\n",
            "1.130      1\n",
            "Name: height, dtype: int64\n",
            "0.2225    8\n",
            "1.1345    7\n",
            "0.9700    7\n",
            "0.4775    7\n",
            "0.1960    7\n",
            "         ..\n",
            "0.0475    1\n",
            "1.8930    1\n",
            "1.8725    1\n",
            "2.1055    1\n",
            "1.9485    1\n",
            "Name: w-weight, Length: 2429, dtype: int64\n",
            "0.1750    11\n",
            "0.2505    10\n",
            "0.0970     9\n",
            "0.0960     9\n",
            "0.4190     9\n",
            "          ..\n",
            "0.4175     1\n",
            "0.1935     1\n",
            "0.1790     1\n",
            "0.1275     1\n",
            "0.9455     1\n",
            "Name: s-weight, Length: 1515, dtype: int64\n",
            "0.1715    15\n",
            "0.1960    14\n",
            "0.0575    13\n",
            "0.0610    13\n",
            "0.0370    13\n",
            "          ..\n",
            "0.4270     1\n",
            "0.4075     1\n",
            "0.4920     1\n",
            "0.4650     1\n",
            "0.5260     1\n",
            "Name: v-weight, Length: 880, dtype: int64\n",
            "0.2750    43\n",
            "0.2500    42\n",
            "0.2650    40\n",
            "0.3150    40\n",
            "0.1850    40\n",
            "          ..\n",
            "0.0060     1\n",
            "0.6460     1\n",
            "0.5010     1\n",
            "0.3295     1\n",
            "0.0920     1\n",
            "Name: shell-weight, Length: 926, dtype: int64\n",
            "9     689\n",
            "10    634\n",
            "8     568\n",
            "11    487\n",
            "7     391\n",
            "12    267\n",
            "6     259\n",
            "13    203\n",
            "14    126\n",
            "5     115\n",
            "15    103\n",
            "16     67\n",
            "17     58\n",
            "4      57\n",
            "18     42\n",
            "19     32\n",
            "20     26\n",
            "3      15\n",
            "21     14\n",
            "23      9\n",
            "22      6\n",
            "27      2\n",
            "24      2\n",
            "1       1\n",
            "26      1\n",
            "29      1\n",
            "2       1\n",
            "25      1\n",
            "Name: class, dtype: int64\n"
          ]
        },
        {
          "output_type": "execute_result",
          "data": {
            "text/plain": [
              "sex             0\n",
              "length          0\n",
              "diameter        0\n",
              "height          0\n",
              "w-weight        0\n",
              "s-weight        0\n",
              "v-weight        0\n",
              "shell-weight    0\n",
              "class           0\n",
              "dtype: int64"
            ]
          },
          "metadata": {},
          "execution_count": 10
        }
      ]
    },
    {
      "cell_type": "code",
      "source": [
        "#Convert categorical labels to numbers\n",
        "le = preprocessing.LabelEncoder()\n",
        "df['sex'] = le.fit_transform(df['sex'])\n",
        "\n",
        "df.head()\n",
        "for col in names: \n",
        "    print(df[col].value_counts())"
      ],
      "metadata": {
        "colab": {
          "base_uri": "https://localhost:8080/"
        },
        "id": "NXEKCi4KzThJ",
        "outputId": "273f7d93-25a0-4fd9-91b0-a50d4ced59e7"
      },
      "execution_count": 11,
      "outputs": [
        {
          "output_type": "stream",
          "name": "stdout",
          "text": [
            "2    1528\n",
            "1    1342\n",
            "0    1307\n",
            "Name: sex, dtype: int64\n",
            "0.625    94\n",
            "0.550    94\n",
            "0.575    93\n",
            "0.580    92\n",
            "0.600    87\n",
            "         ..\n",
            "0.075     1\n",
            "0.815     1\n",
            "0.110     1\n",
            "0.150     1\n",
            "0.800     1\n",
            "Name: length, Length: 134, dtype: int64\n",
            "0.450    139\n",
            "0.475    120\n",
            "0.400    111\n",
            "0.500    110\n",
            "0.470    100\n",
            "        ... \n",
            "0.610      1\n",
            "0.650      1\n",
            "0.620      1\n",
            "0.095      1\n",
            "0.615      1\n",
            "Name: diameter, Length: 111, dtype: int64\n",
            "0.150    267\n",
            "0.140    220\n",
            "0.155    217\n",
            "0.175    211\n",
            "0.160    205\n",
            "0.125    202\n",
            "0.165    193\n",
            "0.135    189\n",
            "0.145    182\n",
            "0.130    169\n",
            "0.120    169\n",
            "0.170    160\n",
            "0.100    145\n",
            "0.110    135\n",
            "0.115    133\n",
            "0.180    131\n",
            "0.090    124\n",
            "0.105    114\n",
            "0.185    103\n",
            "0.190    103\n",
            "0.095     91\n",
            "0.195     78\n",
            "0.080     76\n",
            "0.085     74\n",
            "0.200     68\n",
            "0.075     61\n",
            "0.070     47\n",
            "0.205     45\n",
            "0.065     39\n",
            "0.215     31\n",
            "0.060     26\n",
            "0.055     25\n",
            "0.210     23\n",
            "0.050     18\n",
            "0.220     17\n",
            "0.040     13\n",
            "0.225     13\n",
            "0.045     11\n",
            "0.230     10\n",
            "0.030      6\n",
            "0.035      6\n",
            "0.235      6\n",
            "0.025      5\n",
            "0.240      4\n",
            "0.250      3\n",
            "0.020      2\n",
            "0.015      2\n",
            "0.000      2\n",
            "0.010      1\n",
            "0.515      1\n",
            "1.130      1\n",
            "Name: height, dtype: int64\n",
            "0.2225    8\n",
            "1.1345    7\n",
            "0.9700    7\n",
            "0.4775    7\n",
            "0.1960    7\n",
            "         ..\n",
            "0.0475    1\n",
            "1.8930    1\n",
            "1.8725    1\n",
            "2.1055    1\n",
            "1.9485    1\n",
            "Name: w-weight, Length: 2429, dtype: int64\n",
            "0.1750    11\n",
            "0.2505    10\n",
            "0.0970     9\n",
            "0.0960     9\n",
            "0.4190     9\n",
            "          ..\n",
            "0.4175     1\n",
            "0.1935     1\n",
            "0.1790     1\n",
            "0.1275     1\n",
            "0.9455     1\n",
            "Name: s-weight, Length: 1515, dtype: int64\n",
            "0.1715    15\n",
            "0.1960    14\n",
            "0.0575    13\n",
            "0.0610    13\n",
            "0.0370    13\n",
            "          ..\n",
            "0.4270     1\n",
            "0.4075     1\n",
            "0.4920     1\n",
            "0.4650     1\n",
            "0.5260     1\n",
            "Name: v-weight, Length: 880, dtype: int64\n",
            "0.2750    43\n",
            "0.2500    42\n",
            "0.2650    40\n",
            "0.3150    40\n",
            "0.1850    40\n",
            "          ..\n",
            "0.0060     1\n",
            "0.6460     1\n",
            "0.5010     1\n",
            "0.3295     1\n",
            "0.0920     1\n",
            "Name: shell-weight, Length: 926, dtype: int64\n",
            "9     689\n",
            "10    634\n",
            "8     568\n",
            "11    487\n",
            "7     391\n",
            "12    267\n",
            "6     259\n",
            "13    203\n",
            "14    126\n",
            "5     115\n",
            "15    103\n",
            "16     67\n",
            "17     58\n",
            "4      57\n",
            "18     42\n",
            "19     32\n",
            "20     26\n",
            "3      15\n",
            "21     14\n",
            "23      9\n",
            "22      6\n",
            "27      2\n",
            "24      2\n",
            "1       1\n",
            "26      1\n",
            "29      1\n",
            "2       1\n",
            "25      1\n",
            "Name: class, dtype: int64\n"
          ]
        }
      ]
    },
    {
      "cell_type": "code",
      "source": [
        "X = df.drop(['class'], axis=1)\n",
        "y = df['class']\n",
        "\n",
        "#splitting train data and test data\n",
        "X_train, X_test, y_train, y_test = train_test_split(X, y, test_size = 0.3, random_state = 42)"
      ],
      "metadata": {
        "id": "E9YKVdl60lfm"
      },
      "execution_count": 12,
      "outputs": []
    },
    {
      "cell_type": "code",
      "source": [
        "#K-fold validation\n",
        "def kfold_score(clf,X,y,n_fold):\n",
        "    X,y = X.values,y.values\n",
        "    kfold = KFold(n_splits=n_fold, shuffle=True, random_state=1)\n",
        "    accuracy_list = []\n",
        "\n",
        "    for train_index, test_index in kfold.split(X, y):\n",
        "        x_train_fold, x_test_fold = X[train_index], X[test_index]\n",
        "        y_train_fold, y_test_fold = y[train_index], y[test_index]\n",
        "        clf.fit(x_train_fold, y_train_fold)\n",
        "        preds = clf.predict(x_test_fold)\n",
        "        accuracy_test = accuracy_score(preds,y_test_fold)\n",
        "        accuracy_list.append(accuracy_test)\n",
        "    return np.array(accuracy_list).mean()"
      ],
      "metadata": {
        "id": "WewTEIxz336f"
      },
      "execution_count": 13,
      "outputs": []
    },
    {
      "cell_type": "code",
      "source": [
        "#Random Forest classification\n",
        "\n",
        "#max_features: 1 to around sqrt(# of features of dataset)\n",
        "bounds = [\n",
        "        {'name': 'max_features', 'type': 'continuous', 'domain': (1, 6)},\n",
        "        {'name': 'n_estimators', 'type': 'continuous', 'domain': (1, 200)}\n",
        "      ]\n",
        "\n",
        "def rf_score(parameters):\n",
        "  params = {\n",
        "        'max_features':int(parameters[0][0]),\n",
        "        'n_estimators':int(parameters[0][1])\n",
        "    }\n",
        "  \n",
        "  clf = RandomForestClassifier(max_features=params['max_features'],n_estimators=params['n_estimators'])\n",
        "  clf.fit(X_train,y_train)\n",
        "  score = kfold_score(clf,X_train, y_train,10)\n",
        "  print(params)\n",
        "  print(score)\n",
        "  return score"
      ],
      "metadata": {
        "id": "fDw19dgo2Iz7"
      },
      "execution_count": 16,
      "outputs": []
    },
    {
      "cell_type": "code",
      "source": [
        "#RF Classification - Matern52 kernel\n",
        "kernel = GPy.kern.Matern52(input_dim=1, variance=1.0, lengthscale=1.0)\n",
        "optimizer = GPyOpt.methods.BayesianOptimization(f=rf_score, \n",
        "                                                domain=bounds,\n",
        "                                                acquisition_type ='EI',\n",
        "                                                initial_design_numdata = 5,\n",
        "                                                model_type='GP',\n",
        "                                                maximize=True,\n",
        "                                                kernel=kernel\n",
        "                                                )\n",
        "\n",
        "optimizer.run_optimization(max_iter=20)\n",
        "\n",
        "#maximum accuracy score\n",
        "acc_max=optimizer.fx_opt\n",
        "#best parameters\n",
        "params_best=optimizer.x_opt\n",
        "print(acc_max)\n",
        "print(params_best)"
      ],
      "metadata": {
        "colab": {
          "base_uri": "https://localhost:8080/"
        },
        "id": "3Tq9e-gk3VPW",
        "outputId": "0dc6c1b8-6a96-48e8-f39e-c0769864bfa9"
      },
      "execution_count": 17,
      "outputs": [
        {
          "output_type": "stream",
          "name": "stdout",
          "text": [
            "{'max_features': 4, 'n_estimators': 113}\n",
            "0.2521225863761747\n",
            "{'max_features': 4, 'n_estimators': 88}\n",
            "0.24563443826265838\n",
            "{'max_features': 2, 'n_estimators': 142}\n",
            "0.24255224648183643\n",
            "{'max_features': 3, 'n_estimators': 149}\n",
            "0.24769624573378843\n",
            "{'max_features': 1, 'n_estimators': 168}\n",
            "0.2500783112814998\n",
            "{'max_features': 4, 'n_estimators': 165}\n",
            "0.2418684838000842\n",
            "{'max_features': 1, 'n_estimators': 128}\n",
            "0.2500853242320819\n",
            "{'max_features': 1, 'n_estimators': 10}\n",
            "0.22750596100799475\n",
            "{'max_features': 4, 'n_estimators': 35}\n",
            "0.2404986207863855\n",
            "{'max_features': 3, 'n_estimators': 194}\n",
            "0.2531640095376128\n",
            "{'max_features': 3, 'n_estimators': 10}\n",
            "0.22544298471176774\n",
            "{'max_features': 4, 'n_estimators': 1}\n",
            "0.1874713637851232\n",
            "{'max_features': 1, 'n_estimators': 28}\n",
            "0.24872481181915934\n",
            "{'max_features': 1, 'n_estimators': 137}\n",
            "0.2545397166767965\n",
            "{'max_features': 1, 'n_estimators': 121}\n",
            "0.2487177988685773\n",
            "{'max_features': 1, 'n_estimators': 45}\n",
            "0.2483823460657347\n",
            "{'max_features': 1, 'n_estimators': 157}\n",
            "0.2562485389686287\n",
            "{'max_features': 1, 'n_estimators': 116}\n",
            "0.2552106222824816\n",
            "{'max_features': 3, 'n_estimators': 53}\n",
            "0.24254990883164243\n",
            "{'max_features': 4, 'n_estimators': 145}\n",
            "0.24870026649212212\n",
            "{'max_features': 4, 'n_estimators': 62}\n",
            "0.24187432792556923\n",
            "{'max_features': 3, 'n_estimators': 155}\n",
            "0.24700079480106601\n",
            "{'max_features': 3, 'n_estimators': 48}\n",
            "0.2394665482257235\n",
            "{'max_features': 2, 'n_estimators': 92}\n",
            "0.2545315349011174\n",
            "{'max_features': 2, 'n_estimators': 21}\n",
            "0.23811538641357707\n",
            "-0.2562485389686287\n",
            "[  1.0042033  157.19036005]\n"
          ]
        }
      ]
    },
    {
      "cell_type": "code",
      "source": [
        "optimizer.plot_convergence()"
      ],
      "metadata": {
        "colab": {
          "base_uri": "https://localhost:8080/",
          "height": 350
        },
        "id": "hGJcJep8nJii",
        "outputId": "87f5304c-72f4-428f-d104-e9ba88357b38"
      },
      "execution_count": 18,
      "outputs": [
        {
          "output_type": "display_data",
          "data": {
            "text/plain": [
              "<Figure size 720x360 with 2 Axes>"
            ],
            "image/png": "[encoded data removed]"
          },
          "metadata": {
            "needs_background": "light"
          }
        }
      ]
    },
    {
      "cell_type": "code",
      "source": [
        "rf_car = RandomForestClassifier(max_features=1,n_estimators=157)\n",
        "rf_car.fit(X_train,y_train)\n",
        "y_pred = rf_car.predict(X_test)\n",
        "accuracy_test = accuracy_score(y_pred,y_test)\n",
        "print(accuracy_test)"
      ],
      "metadata": {
        "colab": {
          "base_uri": "https://localhost:8080/"
        },
        "id": "lTCmDT0KppGU",
        "outputId": "d495a412-8183-4e57-e92d-13f296f072ee"
      },
      "execution_count": 19,
      "outputs": [
        {
          "output_type": "stream",
          "name": "stdout",
          "text": [
            "0.24880382775119617\n"
          ]
        }
      ]
    },
    {
      "cell_type": "code",
      "source": [
        "#RF classification - Matern52 + ExpQuad\n",
        "kernel2 = GPy.kern.Matern52(input_dim=1, variance=1.0, lengthscale=1.0) + GPy.kern.ExpQuad(input_dim=1,variance=1.0,lengthscale=1.0)\n",
        "optimizer = GPyOpt.methods.BayesianOptimization(f=rf_score, \n",
        "                                                domain=bounds,\n",
        "                                                acquisition_type ='EI',\n",
        "                                                initial_design_numdata = 5,\n",
        "                                                model_type='GP',\n",
        "                                                maximize=True,\n",
        "                                                kernel=kernel2\n",
        "                                                )\n",
        "\n",
        "optimizer.run_optimization(max_iter=20)\n",
        "\n",
        "#maximum accuracy score\n",
        "acc_max=optimizer.fx_opt\n",
        "#best parameters\n",
        "params_best=optimizer.x_opt\n",
        "print(acc_max)\n",
        "print(params_best)\n",
        "\n",
        "optimizer.plot_convergence()"
      ],
      "metadata": {
        "colab": {
          "base_uri": "https://localhost:8080/",
          "height": 1000
        },
        "id": "9IJ7rx_VsTS6",
        "outputId": "fdd997b7-19cd-43c4-9e3e-ff166adabaaa"
      },
      "execution_count": 20,
      "outputs": [
        {
          "output_type": "stream",
          "name": "stdout",
          "text": [
            "{'max_features': 1, 'n_estimators': 74}\n",
            "0.2435936696432746\n",
            "{'max_features': 4, 'n_estimators': 153}\n",
            "0.24837533311515264\n",
            "{'max_features': 1, 'n_estimators': 33}\n",
            "0.23982888400579738\n",
            "{'max_features': 4, 'n_estimators': 58}\n",
            "0.23743162373182475\n",
            "{'max_features': 5, 'n_estimators': 154}\n",
            "0.23913226424797793\n",
            "{'max_features': 4, 'n_estimators': 60}\n",
            "0.23878161671887416\n",
            "{'max_features': 4, 'n_estimators': 13}\n",
            "0.22375753892187572\n",
            "{'max_features': 1, 'n_estimators': 65}\n",
            "0.247005470101454\n",
            "{'max_features': 1, 'n_estimators': 143}\n",
            "0.24940623685071767\n",
            "{'max_features': 1, 'n_estimators': 161}\n",
            "0.25008181775679084\n",
            "{'max_features': 1, 'n_estimators': 187}\n",
            "0.25247907803076347\n",
            "{'max_features': 1, 'n_estimators': 112}\n",
            "0.25009233718266405\n",
            "{'max_features': 1, 'n_estimators': 144}\n",
            "0.2535064752910374\n",
            "{'max_features': 1, 'n_estimators': 76}\n",
            "0.2480176726354668\n",
            "{'max_features': 1, 'n_estimators': 124}\n",
            "0.25658632942166537\n",
            "{'max_features': 1, 'n_estimators': 163}\n",
            "0.25761489550703637\n",
            "{'max_features': 1, 'n_estimators': 97}\n",
            "0.24528846603394264\n",
            "{'max_features': 1, 'n_estimators': 170}\n",
            "0.2531721913132919\n",
            "{'max_features': 1, 'n_estimators': 156}\n",
            "0.2473479358548786\n",
            "{'max_features': 1, 'n_estimators': 13}\n",
            "0.22545467296273786\n",
            "{'max_features': 1, 'n_estimators': 6}\n",
            "0.21691289915377063\n",
            "{'max_features': 1, 'n_estimators': 111}\n",
            "0.251124409743326\n",
            "{'max_features': 1, 'n_estimators': 88}\n",
            "0.25042662116040953\n",
            "{'max_features': 1, 'n_estimators': 151}\n",
            "0.2456414512132404\n",
            "{'max_features': 1, 'n_estimators': 90}\n",
            "0.2463193697695077\n",
            "-0.25761489550703637\n",
            "[  1.         163.61418636]\n"
          ]
        },
        {
          "output_type": "display_data",
          "data": {
            "text/plain": [
              "<Figure size 720x360 with 2 Axes>"
            ],
            "image/png": "[encoded data removed]"
          },
          "metadata": {
            "needs_background": "light"
          }
        }
      ]
    },
    {
      "cell_type": "code",
      "source": [
        "rf_car2 = RandomForestClassifier(max_features=1,n_estimators=163)\n",
        "rf_car2.fit(X_train,y_train)\n",
        "y_pred = rf_car2.predict(X_test)\n",
        "accuracy_test = accuracy_score(y_pred,y_test)\n",
        "print(accuracy_test)"
      ],
      "metadata": {
        "colab": {
          "base_uri": "https://localhost:8080/"
        },
        "id": "wwv3UHhrs_Wb",
        "outputId": "646ed6e2-96d7-4c57-cf82-5a35033058a0"
      },
      "execution_count": 21,
      "outputs": [
        {
          "output_type": "stream",
          "name": "stdout",
          "text": [
            "0.25996810207336524\n"
          ]
        }
      ]
    },
    {
      "cell_type": "code",
      "source": [
        "#SVM Classification\n",
        "\n",
        "bounds = [ {'name': 'C', 'type': 'continuous', 'domain': (0.1, 1)},\n",
        "        {'name': 'gamma', 'type': 'continuous', 'domain': (0.01, 0.1)}\n",
        "      ]\n",
        "\n",
        "def svm_score(parameters):\n",
        "  params = {\n",
        "        'C': parameters[0][0],\n",
        "        'gamma':parameters[0][1]\n",
        "    }\n",
        "  \n",
        "  clf = svm.SVC(C=params['C'],gamma=params['gamma'])\n",
        "  clf.fit(X_train,y_train)\n",
        "  score = kfold_score(clf,X_train, y_train,10)\n",
        "  print(params)\n",
        "  print(score)\n",
        "  return score"
      ],
      "metadata": {
        "id": "9XK_M5ti7fJG"
      },
      "execution_count": 22,
      "outputs": []
    },
    {
      "cell_type": "code",
      "source": [
        "#SVM Classification - Matern52 kernel\n",
        "kernel = GPy.kern.Matern52(input_dim=1, variance=1.0, lengthscale=1.0)\n",
        "optimizer = GPyOpt.methods.BayesianOptimization(f=svm_score, \n",
        "                                                domain=bounds,\n",
        "                                                acquisition_type ='EI',\n",
        "                                                initial_design_numdata = 5,\n",
        "                                                model_type='GP',\n",
        "                                                maximize=True,\n",
        "                                                kernel=kernel\n",
        "                                                )\n",
        "\n",
        "optimizer.run_optimization(max_iter=20)\n",
        "\n",
        "#maximum accuracy score\n",
        "acc_max=optimizer.fx_opt\n",
        "#best parameters\n",
        "params_best=optimizer.x_opt\n",
        "print(acc_max)\n",
        "print(params_best)"
      ],
      "metadata": {
        "colab": {
          "base_uri": "https://localhost:8080/"
        },
        "id": "b_8qWWFl9o67",
        "outputId": "dcfe3b0f-8a94-436f-9963-90e584f2f8eb"
      },
      "execution_count": 23,
      "outputs": [
        {
          "output_type": "stream",
          "name": "stdout",
          "text": [
            "{'C': 0.3591372332134999, 'gamma': 0.010752694997241527}\n",
            "0.16283954369068213\n",
            "{'C': 0.9385089238968313, 'gamma': 0.0896578185714464}\n",
            "0.21519355743606527\n",
            "{'C': 0.7369045587126625, 'gamma': 0.07188559275844009}\n",
            "0.2158714759923325\n",
            "{'C': 0.24969767961307401, 'gamma': 0.03900192032197755}\n",
            "0.18062789284211508\n",
            "{'C': 0.9670877018748599, 'gamma': 0.05812038306482173}\n",
            "0.21792276403758942\n",
            "{'C': 1.0, 'gamma': 0.027555748487408056}\n",
            "0.20835943709383326\n",
            "{'C': 0.8392427340943247, 'gamma': 0.021543421056878884}\n",
            "0.20287881621394174\n",
            "{'C': 0.6635502887712112, 'gamma': 0.0545097680127859}\n",
            "0.21040721866379916\n",
            "{'C': 0.9499855717658123, 'gamma': 0.09246745050533478}\n",
            "0.21519355743606527\n",
            "{'C': 0.1, 'gamma': 0.06702940694619157}\n",
            "0.16968067698349618\n",
            "{'C': 0.714402338523613, 'gamma': 0.023667003987132663}\n",
            "0.20117233157230352\n",
            "{'C': 1.0, 'gamma': 0.017218643823852405}\n",
            "0.20356374772079106\n",
            "{'C': 0.899615938811593, 'gamma': 0.011171898264420853}\n",
            "0.18097035859553975\n",
            "{'C': 1.0, 'gamma': 0.04407059133283018}\n",
            "0.2158738136425265\n",
            "{'C': 1.0, 'gamma': 0.058911332242786996}\n",
            "0.21449927532843982\n",
            "{'C': 1.0, 'gamma': 0.03524490307685564}\n",
            "0.2107461779419328\n",
            "{'C': 1.0, 'gamma': 0.03813832785717018}\n",
            "0.21143461592407312\n",
            "{'C': 0.774739962807643, 'gamma': 0.012389829800200267}\n",
            "0.17788933563981485\n",
            "{'C': 0.9789593249084605, 'gamma': 0.05890536029648889}\n",
            "0.21758029828416475\n",
            "{'C': 0.6252664835941819, 'gamma': 0.04896861412816276}\n",
            "0.2097257936322409\n",
            "{'C': 0.5743177980587915, 'gamma': 0.0674755087614286}\n",
            "0.21382720089765767\n",
            "{'C': 0.5387338874273443, 'gamma': 0.013660955483788456}\n",
            "0.17070924306886717\n",
            "{'C': 0.5938653034939103, 'gamma': 0.09011497512177744}\n",
            "0.21484407873205855\n",
            "{'C': 0.4489055875534627, 'gamma': 0.05868737104305721}\n",
            "0.20698840525503764\n",
            "{'C': 0.9710411065736557, 'gamma': 0.05996657767266426}\n",
            "0.2138155126466875\n",
            "-0.21792276403758942\n",
            "[0.9670877  0.05812038]\n"
          ]
        }
      ]
    },
    {
      "cell_type": "code",
      "source": [
        "optimizer.plot_convergence()"
      ],
      "metadata": {
        "colab": {
          "base_uri": "https://localhost:8080/",
          "height": 350
        },
        "id": "KId-CJ3x9zos",
        "outputId": "aa63b6f6-afe3-4e1c-fd67-f53839f44fa1"
      },
      "execution_count": 24,
      "outputs": [
        {
          "output_type": "display_data",
          "data": {
            "text/plain": [
              "<Figure size 720x360 with 2 Axes>"
            ],
            "image/png": "[encoded data removed]"
          },
          "metadata": {
            "needs_background": "light"
          }
        }
      ]
    },
    {
      "cell_type": "code",
      "source": [
        "SVM_car1 = svm.SVC(C=0.967,gamma=0.0581)\n",
        "SVM_car1.fit(X_train,y_train)\n",
        "y_pred = SVM_car1.predict(X_test)\n",
        "accuracy_test = accuracy_score(y_pred,y_test)\n",
        "print(accuracy_test)"
      ],
      "metadata": {
        "colab": {
          "base_uri": "https://localhost:8080/"
        },
        "id": "WhBdYYF8-MIc",
        "outputId": "06a84575-c25f-4342-b1e4-9acd7c60633c"
      },
      "execution_count": 25,
      "outputs": [
        {
          "output_type": "stream",
          "name": "stdout",
          "text": [
            "0.24322169059011164\n"
          ]
        }
      ]
    },
    {
      "cell_type": "code",
      "source": [
        "#SVM classification - Matern52 + ExpQuad\n",
        "kernel2 = GPy.kern.Matern52(input_dim=1, variance=1.0, lengthscale=1.0) + GPy.kern.ExpQuad(input_dim=1,variance=1.0,lengthscale=1.0)\n",
        "optimizer = GPyOpt.methods.BayesianOptimization(f=svm_score, \n",
        "                                                domain=bounds,\n",
        "                                                acquisition_type ='EI',\n",
        "                                                initial_design_numdata = 5,\n",
        "                                                model_type='GP',\n",
        "                                                maximize=True,\n",
        "                                                kernel=kernel2\n",
        "                                                )\n",
        "\n",
        "optimizer.run_optimization(max_iter=20)\n",
        "\n",
        "#maximum accuracy score\n",
        "acc_max=optimizer.fx_opt\n",
        "#best parameters\n",
        "params_best=optimizer.x_opt\n",
        "print(acc_max)\n",
        "print(params_best)\n",
        "\n",
        "optimizer.plot_convergence()"
      ],
      "metadata": {
        "colab": {
          "base_uri": "https://localhost:8080/",
          "height": 1000
        },
        "id": "cYB5iw_G-rtt",
        "outputId": "7e682fbc-cc97-4271-a150-205ee26536be"
      },
      "execution_count": 26,
      "outputs": [
        {
          "output_type": "stream",
          "name": "stdout",
          "text": [
            "{'C': 0.5152064699254263, 'gamma': 0.04377496783187352}\n",
            "0.20733203983355933\n",
            "{'C': 0.8920891971856111, 'gamma': 0.042068695947265415}\n",
            "0.2121172097807284\n",
            "{'C': 0.27716104200700714, 'gamma': 0.06574021351080228}\n",
            "0.2049347795595867\n",
            "{'C': 0.9958673112154796, 'gamma': 0.03708892070324642}\n",
            "0.2107485155921268\n",
            "{'C': 0.3310640137913999, 'gamma': 0.054264590650245415}\n",
            "0.205617373416242\n",
            "{'C': 0.8308713371514777, 'gamma': 0.05711538796644569}\n",
            "0.21792276403758942\n",
            "{'C': 0.8161384081242062, 'gamma': 0.09462205940035903}\n",
            "0.21211487213053443\n",
            "{'C': 0.8075258688831284, 'gamma': 0.040632492035464526}\n",
            "0.2093809902286222\n",
            "{'C': 0.8377361625076937, 'gamma': 0.02145336444710528}\n",
            "0.20322128196736639\n",
            "{'C': 0.8309142253493496, 'gamma': 0.04395103797188905}\n",
            "0.21108981252045442\n",
            "{'C': 0.8764134321389124, 'gamma': 0.04687314471186805}\n",
            "0.21416849782598532\n",
            "{'C': 0.9063677148606158, 'gamma': 0.05424489881432294}\n",
            "0.21621394174575714\n",
            "{'C': 0.9794926033841708, 'gamma': 0.06540101978655394}\n",
            "0.21313174996493522\n",
            "{'C': 1.0, 'gamma': 0.06610645109005023}\n",
            "0.2131305811398382\n",
            "{'C': 1.0, 'gamma': 0.06049303476519124}\n",
            "0.21449927532843988\n",
            "{'C': 1.0, 'gamma': 0.046798922193583135}\n",
            "0.21689653560241245\n",
            "{'C': 1.0, 'gamma': 0.08268016966617453}\n",
            "0.21758614240964982\n",
            "{'C': 1.0, 'gamma': 0.09174982900309918}\n",
            "0.2186147084950208\n",
            "{'C': 1.0, 'gamma': 0.023050467969685427}\n",
            "0.20630464257328535\n",
            "{'C': 1.0, 'gamma': 0.020527927199007402}\n",
            "0.20527724531301134\n",
            "{'C': 1.0, 'gamma': 0.04137490122272906}\n",
            "0.21587848894291456\n",
            "{'C': 1.0, 'gamma': 0.086095713239422}\n",
            "0.2155348543643929\n",
            "{'C': 1.0, 'gamma': 0.023211964265862885}\n",
            "0.2063034737481883\n",
            "{'C': 1.0, 'gamma': 0.08758823441284246}\n",
            "0.21519355743606527\n",
            "{'C': 1.0, 'gamma': 0.06827146836496581}\n",
            "0.21313408761512925\n",
            "-0.2186147084950208\n",
            "[1.         0.09174983]\n"
          ]
        },
        {
          "output_type": "display_data",
          "data": {
            "text/plain": [
              "<Figure size 720x360 with 2 Axes>"
            ],
            "image/png": "[encoded data removed]"
          },
          "metadata": {
            "needs_background": "light"
          }
        }
      ]
    },
    {
      "cell_type": "code",
      "source": [
        "SVM_car2 = svm.SVC(C=1,gamma=0.0917)\n",
        "SVM_car2.fit(X_train,y_train)\n",
        "y_pred = SVM_car2.predict(X_test)\n",
        "accuracy_test = accuracy_score(y_pred,y_test)\n",
        "print(accuracy_test)"
      ],
      "metadata": {
        "colab": {
          "base_uri": "https://localhost:8080/"
        },
        "id": "Nvo5M7Vt-ziq",
        "outputId": "56ec976e-125f-4ee3-ad8c-14b8f08ed3c8"
      },
      "execution_count": 27,
      "outputs": [
        {
          "output_type": "stream",
          "name": "stdout",
          "text": [
            "0.24641148325358853\n"
          ]
        }
      ]
    },
    {
      "cell_type": "code",
      "source": [
        "#KNN Classification\n",
        "\n",
        "#search domain\n",
        "bounds = [ {'name': 'leaf_size', 'type': 'continuous', 'domain': (10, 50)},\n",
        "        {'name': 'n_neighbors', 'type': 'discrete', 'domain': (3,4,5,6,7)}\n",
        "      ]\n",
        "\n",
        "def knn_score(parameters):\n",
        "  params = {\n",
        "        'leaf_size': parameters[0][0],\n",
        "        'n_neighbors':int(parameters[0][1])\n",
        "    }\n",
        "  \n",
        "  clf = KNeighborsClassifier(leaf_size=params['leaf_size'],n_neighbors=params['n_neighbors'])\n",
        "  clf.fit(X_train,y_train)\n",
        "  score = kfold_score(clf,X_train, y_train,10)\n",
        "  print(params)\n",
        "  print(score)\n",
        "  return score"
      ],
      "metadata": {
        "id": "9LMGI0Lj_FGm"
      },
      "execution_count": 28,
      "outputs": []
    },
    {
      "cell_type": "code",
      "source": [
        "#KNN Classification - Matern52 kernel\n",
        "kernel = GPy.kern.Matern52(input_dim=1, variance=1.0, lengthscale=1.0)\n",
        "optimizer = GPyOpt.methods.BayesianOptimization(f=knn_score, \n",
        "                                                domain=bounds,\n",
        "                                                acquisition_type ='EI',\n",
        "                                                initial_design_numdata = 5,\n",
        "                                                model_type='GP',\n",
        "                                                maximize=True,\n",
        "                                                kernel=kernel\n",
        "                                                )\n",
        "\n",
        "optimizer.run_optimization(max_iter=20)\n",
        "\n",
        "#maximum accuracy score\n",
        "acc_max=optimizer.fx_opt\n",
        "#best parameters\n",
        "params_best=optimizer.x_opt\n",
        "print(acc_max)\n",
        "print(params_best)\n",
        "optimizer.plot_convergence()"
      ],
      "metadata": {
        "colab": {
          "base_uri": "https://localhost:8080/",
          "height": 1000
        },
        "id": "Y_EA4BtW_kjJ",
        "outputId": "37c948c9-c898-4b55-c407-f9dfaa5aebd3"
      },
      "execution_count": 29,
      "outputs": [
        {
          "output_type": "stream",
          "name": "stdout",
          "text": [
            "{'leaf_size': 37.42151471272473, 'n_neighbors': 3}\n",
            "0.20939618495488338\n",
            "{'leaf_size': 46.63928180911211, 'n_neighbors': 4}\n",
            "0.21314460704100235\n",
            "{'leaf_size': 24.195045421883105, 'n_neighbors': 7}\n",
            "0.2425604282575155\n",
            "{'leaf_size': 14.14270086121451, 'n_neighbors': 7}\n",
            "0.2425604282575155\n",
            "{'leaf_size': 36.669139041833866, 'n_neighbors': 5}\n",
            "0.22203235307868527\n",
            "{'leaf_size': 18.037483498306216, 'n_neighbors': 7}\n",
            "0.2425604282575155\n",
            "{'leaf_size': 18.13540273981888, 'n_neighbors': 7}\n",
            "0.2425604282575155\n",
            "{'leaf_size': 18.398549026473475, 'n_neighbors': 4}\n",
            "0.21314460704100235\n",
            "{'leaf_size': 24.323287042121603, 'n_neighbors': 5}\n",
            "0.22203235307868527\n",
            "{'leaf_size': 18.086912675487845, 'n_neighbors': 7}\n",
            "0.2425604282575155\n",
            "{'leaf_size': 24.095593680857284, 'n_neighbors': 5}\n",
            "0.22203235307868527\n",
            "{'leaf_size': 14.206611978143542, 'n_neighbors': 4}\n",
            "0.21314460704100235\n",
            "{'leaf_size': 14.117736999306677, 'n_neighbors': 7}\n",
            "0.2425604282575155\n",
            "{'leaf_size': 24.224714865849613, 'n_neighbors': 3}\n",
            "0.20939618495488338\n",
            "{'leaf_size': 18.087161235896534, 'n_neighbors': 5}\n",
            "0.22203235307868527\n",
            "{'leaf_size': 18.0862544453913, 'n_neighbors': 4}\n",
            "0.21314460704100235\n",
            "{'leaf_size': 18.143983991382587, 'n_neighbors': 3}\n",
            "0.20939618495488338\n",
            "{'leaf_size': 14.238582487170692, 'n_neighbors': 5}\n",
            "0.22203235307868527\n",
            "{'leaf_size': 14.287957129554819, 'n_neighbors': 5}\n",
            "0.22203235307868527\n",
            "{'leaf_size': 14.206739825475783, 'n_neighbors': 4}\n",
            "0.21314460704100235\n",
            "{'leaf_size': 14.14096978216902, 'n_neighbors': 5}\n",
            "0.22203235307868527\n",
            "{'leaf_size': 10.425599687294067, 'n_neighbors': 6}\n",
            "0.2374327925569218\n",
            "{'leaf_size': 14.14489318406802, 'n_neighbors': 7}\n",
            "0.2425604282575155\n",
            "{'leaf_size': 23.420408355036535, 'n_neighbors': 7}\n",
            "0.2425604282575155\n",
            "{'leaf_size': 14.144168232927097, 'n_neighbors': 4}\n",
            "0.21314460704100235\n",
            "-0.2425604282575155\n",
            "[24.19504542  7.        ]\n"
          ]
        },
        {
          "output_type": "display_data",
          "data": {
            "text/plain": [
              "<Figure size 720x360 with 2 Axes>"
            ],
            "image/png": "[encoded data removed]"
          },
          "metadata": {
            "needs_background": "light"
          }
        }
      ]
    },
    {
      "cell_type": "code",
      "source": [
        "KNN_car1 = KNeighborsClassifier(leaf_size=24,n_neighbors=7)\n",
        "KNN_car1.fit(X_train,y_train)\n",
        "y_pred = KNN_car1.predict(X_test)\n",
        "accuracy_test = accuracy_score(y_pred,y_test)\n",
        "print(accuracy_test)"
      ],
      "metadata": {
        "colab": {
          "base_uri": "https://localhost:8080/"
        },
        "id": "Lqzr6VVJ_vQ-",
        "outputId": "f60bafff-9a12-4823-ace6-17bb105cf0f7"
      },
      "execution_count": 30,
      "outputs": [
        {
          "output_type": "stream",
          "name": "stdout",
          "text": [
            "0.24960127591706538\n"
          ]
        }
      ]
    },
    {
      "cell_type": "code",
      "source": [
        "#KNN Classification - Matern52 + ExpQuad\n",
        "kernel2 = GPy.kern.Matern52(input_dim=1, variance=1.0, lengthscale=1.0) + GPy.kern.ExpQuad(input_dim=1,variance=1.0,lengthscale=1.0)\n",
        "optimizer = GPyOpt.methods.BayesianOptimization(f=knn_score, \n",
        "                                                domain=bounds,\n",
        "                                                acquisition_type ='EI',\n",
        "                                                initial_design_numdata = 5,\n",
        "                                                model_type='GP',\n",
        "                                                maximize=True,\n",
        "                                                kernel=kernel2\n",
        "                                                )\n",
        "\n",
        "optimizer.run_optimization(max_iter=20)\n",
        "\n",
        "#maximum accuracy score\n",
        "acc_max=optimizer.fx_opt\n",
        "#best parameters\n",
        "params_best=optimizer.x_opt\n",
        "print(acc_max)\n",
        "print(params_best)\n",
        "optimizer.plot_convergence()"
      ],
      "metadata": {
        "colab": {
          "base_uri": "https://localhost:8080/",
          "height": 1000
        },
        "id": "3LZAZ3kWAGlC",
        "outputId": "9fe88682-0b54-44e4-d5b0-e6010b81f806"
      },
      "execution_count": 31,
      "outputs": [
        {
          "output_type": "stream",
          "name": "stdout",
          "text": [
            "{'leaf_size': 12.06088539556701, 'n_neighbors': 7}\n",
            "0.2425604282575155\n",
            "{'leaf_size': 35.757647539702646, 'n_neighbors': 7}\n",
            "0.2425604282575155\n",
            "{'leaf_size': 41.52005378656783, 'n_neighbors': 4}\n",
            "0.21314460704100235\n",
            "{'leaf_size': 41.29077531791505, 'n_neighbors': 6}\n",
            "0.2374327925569218\n",
            "{'leaf_size': 34.73498121981538, 'n_neighbors': 6}\n",
            "0.2374327925569218\n",
            "{'leaf_size': 35.35301560383972, 'n_neighbors': 7}\n",
            "0.2425604282575155\n",
            "{'leaf_size': 35.532512655123234, 'n_neighbors': 6}\n",
            "0.2374327925569218\n",
            "{'leaf_size': 35.59595337455363, 'n_neighbors': 4}\n",
            "0.21314460704100235\n",
            "{'leaf_size': 35.75764733039107, 'n_neighbors': 7}\n",
            "0.2425604282575155\n",
            "{'leaf_size': 35.33000320811743, 'n_neighbors': 7}\n",
            "0.2425604282575155\n",
            "{'leaf_size': 35.48414787668124, 'n_neighbors': 6}\n",
            "0.2374327925569218\n",
            "{'leaf_size': 35.80343739729029, 'n_neighbors': 7}\n",
            "0.2425604282575155\n",
            "{'leaf_size': 12.009483351342256, 'n_neighbors': 5}\n",
            "0.22203235307868527\n",
            "{'leaf_size': 12.089562271922205, 'n_neighbors': 6}\n",
            "0.2374327925569218\n",
            "{'leaf_size': 35.78054538415695, 'n_neighbors': 6}\n",
            "0.2374327925569218\n",
            "{'leaf_size': 35.82915601791375, 'n_neighbors': 6}\n",
            "0.2374327925569218\n",
            "{'leaf_size': 35.73343314558311, 'n_neighbors': 6}\n",
            "0.2374327925569218\n",
            "{'leaf_size': 35.38733935136008, 'n_neighbors': 3}\n",
            "0.20939618495488338\n",
            "{'leaf_size': 35.30302004191041, 'n_neighbors': 3}\n",
            "0.20939618495488338\n",
            "{'leaf_size': 35.50835330492121, 'n_neighbors': 7}\n",
            "0.2425604282575155\n",
            "{'leaf_size': 35.34117687831692, 'n_neighbors': 5}\n",
            "0.22203235307868527\n",
            "{'leaf_size': 35.75291857098161, 'n_neighbors': 3}\n",
            "0.20939618495488338\n",
            "{'leaf_size': 35.51042153858369, 'n_neighbors': 7}\n",
            "0.2425604282575155\n",
            "{'leaf_size': 35.528513993974975, 'n_neighbors': 3}\n",
            "0.20939618495488338\n",
            "{'leaf_size': 35.759489143988844, 'n_neighbors': 4}\n",
            "0.21314460704100235\n",
            "-0.2425604282575155\n",
            "[12.0608854  7.       ]\n"
          ]
        },
        {
          "output_type": "display_data",
          "data": {
            "text/plain": [
              "<Figure size 720x360 with 2 Axes>"
            ],
            "image/png": "[encoded data removed]"
          },
          "metadata": {
            "needs_background": "light"
          }
        }
      ]
    },
    {
      "cell_type": "code",
      "source": [
        "KNN_car2 = KNeighborsClassifier(leaf_size=12,n_neighbors=7)\n",
        "KNN_car2.fit(X_train,y_train)\n",
        "y_pred = KNN_car2.predict(X_test)\n",
        "accuracy_test = accuracy_score(y_pred,y_test)\n",
        "print(accuracy_test)"
      ],
      "metadata": {
        "colab": {
          "base_uri": "https://localhost:8080/"
        },
        "id": "yB9R1KKqAP4k",
        "outputId": "cd45c785-8e1c-453d-a4c6-f451db2d4975"
      },
      "execution_count": 32,
      "outputs": [
        {
          "output_type": "stream",
          "name": "stdout",
          "text": [
            "0.24960127591706538\n"
          ]
        }
      ]
    }
  ]
}
