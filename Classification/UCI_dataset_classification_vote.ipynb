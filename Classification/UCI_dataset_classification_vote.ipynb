{
  "nbformat": 4,
  "nbformat_minor": 0,
  "metadata": {
    "colab": {
      "provenance": [],
      "authorship_tag": "ABX9TyPik+U2TqWjW8v31swdwE8p",
      "include_colab_link": true
    },
    "kernelspec": {
      "name": "python3",
      "display_name": "Python 3"
    },
    "language_info": {
      "name": "python"
    }
  },
  "cells": [
    {
      "cell_type": "markdown",
      "metadata": {
        "id": "view-in-github",
        "colab_type": "text"
      },
      "source": [
        "<a href=\"https://colab.research.google.com/github/shin0105/4YP/blob/master/UCI_dataset_classification_vote.ipynb\" target=\"_parent\"><img src=\"https://colab.research.google.com/assets/colab-badge.svg\" alt=\"Open In Colab\"/></a>"
      ]
    },
    {
      "cell_type": "code",
      "execution_count": null,
      "metadata": {
        "id": "rLPXTuwQovwn"
      },
      "outputs": [],
      "source": [
        "!pip install GPyOpt\n",
        "!pip install GPy"
      ]
    },
    {
      "cell_type": "code",
      "source": [
        "#import packages\n",
        "\n",
        "#basic packages\n",
        "import pandas as pd\n",
        "import numpy as np\n",
        "import matplotlib.pyplot as plt\n",
        "import seaborn as sns\n",
        "\n",
        "#Bayesian optimization packages\n",
        "import GPy\n",
        "import GPyOpt\n",
        "\n",
        "#ML Algorithm packages\n",
        "from sklearn.model_selection import train_test_split, cross_val_score, KFold\n",
        "from sklearn.metrics import confusion_matrix, accuracy_score, classification_report\n",
        "from sklearn.ensemble import RandomForestClassifier\n",
        "from sklearn.neighbors import KNeighborsClassifier\n",
        "from sklearn import svm\n",
        "from sklearn import preprocessing"
      ],
      "metadata": {
        "id": "RHLDk0wJqQHz"
      },
      "execution_count": 2,
      "outputs": []
    },
    {
      "cell_type": "code",
      "source": [
        "#dataset = UCI Car Evaluation\n",
        "with open(\"house-votes-84.names\") as f:\n",
        "    print(f.read())"
      ],
      "metadata": {
        "colab": {
          "base_uri": "https://localhost:8080/"
        },
        "id": "sefirBbFuqWz",
        "outputId": "5f426b4d-7965-49b4-d26a-6457eac33755"
      },
      "execution_count": 3,
      "outputs": [
        {
          "output_type": "stream",
          "name": "stdout",
          "text": [
            "1. Title: 1984 United States Congressional Voting Records Database\n",
            "\n",
            "2. Source Information:\n",
            "    (a) Source:  Congressional Quarterly Almanac, 98th Congress, \n",
            "                 2nd session 1984, Volume XL: Congressional Quarterly Inc. \n",
            "                 Washington, D.C., 1985.\n",
            "    (b) Donor: Jeff Schlimmer (Jeffrey.Schlimmer@a.gp.cs.cmu.edu)\n",
            "    (c) Date: 27 April 1987 \n",
            "\n",
            "3. Past Usage\n",
            "   - Publications\n",
            "     1. Schlimmer, J. C. (1987).  Concept acquisition through \n",
            "        representational adjustment.  Doctoral dissertation, Department of \n",
            "        Information and Computer Science, University of California, Irvine, CA.\n",
            "        -- Results: about 90%-95% accuracy appears to be STAGGER's asymptote\n",
            "     - Predicted attribute: party affiliation (2 classes)\n",
            "\n",
            "4. Relevant Information:\n",
            "      This data set includes votes for each of the U.S. House of\n",
            "      Representatives Congressmen on the 16 key votes identified by the\n",
            "      CQA.  The CQA lists nine different types of votes: voted for, paired\n",
            "      for, and announced for (these three simplified to yea), voted\n",
            "      against, paired against, and announced against (these three\n",
            "      simplified to nay), voted present, voted present to avoid conflict\n",
            "      of interest, and did not vote or otherwise make a position known\n",
            "      (these three simplified to an unknown disposition).\n",
            "\n",
            "5. Number of Instances: 435 (267 democrats, 168 republicans)\n",
            "\n",
            "6. Number of Attributes: 16 + class name = 17 (all Boolean valued)\n",
            "\n",
            "7. Attribute Information:\n",
            "   1. Class Name: 2 (democrat, republican)\n",
            "   2. handicapped-infants: 2 (y,n)\n",
            "   3. water-project-cost-sharing: 2 (y,n)\n",
            "   4. adoption-of-the-budget-resolution: 2 (y,n)\n",
            "   5. physician-fee-freeze: 2 (y,n)\n",
            "   6. el-salvador-aid: 2 (y,n)\n",
            "   7. religious-groups-in-schools: 2 (y,n)\n",
            "   8. anti-satellite-test-ban: 2 (y,n)\n",
            "   9. aid-to-nicaraguan-contras: 2 (y,n)\n",
            "  10. mx-missile: 2 (y,n)\n",
            "  11. immigration: 2 (y,n)\n",
            "  12. synfuels-corporation-cutback: 2 (y,n)\n",
            "  13. education-spending: 2 (y,n)\n",
            "  14. superfund-right-to-sue: 2 (y,n)\n",
            "  15. crime: 2 (y,n)\n",
            "  16. duty-free-exports: 2 (y,n)\n",
            "  17. export-administration-act-south-africa: 2 (y,n)\n",
            "\n",
            "8. Missing Attribute Values: Denoted by \"?\"\n",
            "\n",
            "   NOTE: It is important to recognize that \"?\" in this database does \n",
            "         not mean that the value of the attribute is unknown.  It \n",
            "         means simply, that the value is not \"yea\" or \"nay\" (see \n",
            "         \"Relevant Information\" section above).\n",
            "\n",
            "   Attribute:  #Missing Values:\n",
            "           1:  0\n",
            "           2:  0\n",
            "           3:  12\n",
            "           4:  48\n",
            "           5:  11\n",
            "           6:  11\n",
            "           7:  15\n",
            "           8:  11\n",
            "           9:  14\n",
            "          10:  15\n",
            "          11:  22\n",
            "          12:  7\n",
            "          13:  21\n",
            "          14:  31\n",
            "          15:  25\n",
            "          16:  17\n",
            "          17:  28\n",
            "\n",
            "9. Class Distribution: (2 classes)\n",
            "   1. 45.2 percent are democrat\n",
            "   2. 54.8 percent are republican\n",
            "\n",
            "Class predictiveness and predictability: Pr(C|A=V) and Pr(A=V|C)\n",
            " Attribute 1: (A = handicapped-infants)\n",
            "  0.91;  1.21  (C=democrat; V=y)\n",
            "  0.09;  0.10  (C=republican; V=y)\n",
            "  0.43;  0.38  (C=democrat; V=n)\n",
            "  0.57;  0.41  (C=republican; V=n)\n",
            "  0.75;  0.03  (C=democrat; V=?)\n",
            "  0.25;  0.01  (C=republican; V=?)\n",
            " Attribute 2: (A = water-project-cost-sharing)\n",
            "  0.62;  0.45  (C=democrat; V=y)\n",
            "  0.38;  0.23  (C=republican; V=y)\n",
            "  0.62;  0.45  (C=democrat; V=n)\n",
            "  0.38;  0.23  (C=republican; V=n)\n",
            "  0.58;  0.10  (C=democrat; V=?)\n",
            "  0.42;  0.06  (C=republican; V=?)\n",
            " Attribute 3: (A = adoption-of-the-budget-resolution)\n",
            "  0.91;  0.87  (C=democrat; V=y)\n",
            "  0.09;  0.07  (C=republican; V=y)\n",
            "  0.17;  0.11  (C=democrat; V=n)\n",
            "  0.83;  0.44  (C=republican; V=n)\n",
            "  0.64;  0.03  (C=democrat; V=?)\n",
            "  0.36;  0.01  (C=republican; V=?)\n",
            " Attribute 4: (A = physician-fee-freeze)\n",
            "  0.08;  0.05  (C=democrat; V=y)\n",
            "  0.92;  0.50  (C=republican; V=y)\n",
            "  0.99;  0.92  (C=democrat; V=n)\n",
            "  0.01;  0.01  (C=republican; V=n)\n",
            "  0.73;  0.03  (C=democrat; V=?)\n",
            "  0.27;  0.01  (C=republican; V=?)\n",
            " Attribute 5: (A = el-salvador-aid)\n",
            "  0.26;  0.21  (C=democrat; V=y)\n",
            "  0.74;  0.48  (C=republican; V=y)\n",
            "  0.96;  0.75  (C=democrat; V=n)\n",
            "  0.04;  0.02  (C=republican; V=n)\n",
            "  0.80;  0.04  (C=democrat; V=?)\n",
            "  0.20;  0.01  (C=republican; V=?)\n",
            " Attribute 6: (A = religious-groups-in-schools)\n",
            "  0.45;  0.46  (C=democrat; V=y)\n",
            "  0.55;  0.46  (C=republican; V=y)\n",
            "  0.89;  0.51  (C=democrat; V=n)\n",
            "  0.11;  0.05  (C=republican; V=n)\n",
            "  0.82;  0.03  (C=democrat; V=?)\n",
            "  0.18;  0.01  (C=republican; V=?)\n",
            " Attribute 7: (A = anti-satellite-test-ban)\n",
            "  0.84;  0.75  (C=democrat; V=y)\n",
            "  0.16;  0.12  (C=republican; V=y)\n",
            "  0.32;  0.22  (C=democrat; V=n)\n",
            "  0.68;  0.38  (C=republican; V=n)\n",
            "  0.57;  0.03  (C=democrat; V=?)\n",
            "  0.43;  0.02  (C=republican; V=?)\n",
            " Attribute 8: (A = aid-to-nicaraguan-contras)\n",
            "  0.90;  0.82  (C=democrat; V=y)\n",
            "  0.10;  0.07  (C=republican; V=y)\n",
            "  0.25;  0.17  (C=democrat; V=n)\n",
            "  0.75;  0.41  (C=republican; V=n)\n",
            "  0.27;  0.01  (C=democrat; V=?)\n",
            "  0.73;  0.03  (C=republican; V=?)\n",
            " Attribute 9: (A = mx-missile)\n",
            "  0.91;  0.70  (C=democrat; V=y)\n",
            "  0.09;  0.06  (C=republican; V=y)\n",
            "  0.29;  0.22  (C=democrat; V=n)\n",
            "  0.71;  0.45  (C=republican; V=n)\n",
            "  0.86;  0.07  (C=democrat; V=?)\n",
            "  0.14;  0.01  (C=republican; V=?)\n",
            " Attribute 10: (A = immigration)\n",
            "  0.57;  0.46  (C=democrat; V=y)\n",
            "  0.43;  0.28  (C=republican; V=y)\n",
            "  0.66;  0.52  (C=democrat; V=n)\n",
            "  0.34;  0.23  (C=republican; V=n)\n",
            "  0.57;  0.01  (C=democrat; V=?)\n",
            "  0.43;  0.01  (C=republican; V=?)\n",
            " Attribute 11: (A = synfuels-corporation-cutback)\n",
            "  0.86;  0.48  (C=democrat; V=y)\n",
            "  0.14;  0.06  (C=republican; V=y)\n",
            "  0.48;  0.47  (C=democrat; V=n)\n",
            "  0.52;  0.43  (C=republican; V=n)\n",
            "  0.57;  0.04  (C=democrat; V=?)\n",
            "  0.43;  0.03  (C=republican; V=?)\n",
            " Attribute 12: (A = education-spending)\n",
            "  0.21;  0.13  (C=democrat; V=y)\n",
            "  0.79;  0.42  (C=republican; V=y)\n",
            "  0.91;  0.80  (C=democrat; V=n)\n",
            "  0.09;  0.06  (C=republican; V=n)\n",
            "  0.58;  0.07  (C=democrat; V=?)\n",
            "  0.42;  0.04  (C=republican; V=?)\n",
            " Attribute 13: (A = superfund-right-to-sue)\n",
            "  0.35;  0.27  (C=democrat; V=y)\n",
            "  0.65;  0.42  (C=republican; V=y)\n",
            "  0.89;  0.67  (C=democrat; V=n)\n",
            "  0.11;  0.07  (C=republican; V=n)\n",
            "  0.60;  0.06  (C=democrat; V=?)\n",
            "  0.40;  0.03  (C=republican; V=?)\n",
            " Attribute 14: (A = crime)\n",
            "  0.36;  0.34  (C=democrat; V=y)\n",
            "  0.64;  0.49  (C=republican; V=y)\n",
            "  0.98;  0.63  (C=democrat; V=n)\n",
            "  0.02;  0.01  (C=republican; V=n)\n",
            "  0.59;  0.04  (C=democrat; V=?)\n",
            "  0.41;  0.02  (C=republican; V=?)\n",
            " Attribute 15: (A = duty-free-exports)\n",
            "  0.92;  0.60  (C=democrat; V=y)\n",
            "  0.08;  0.04  (C=republican; V=y)\n",
            "  0.39;  0.34  (C=democrat; V=n)\n",
            "  0.61;  0.44  (C=republican; V=n)\n",
            "  0.57;  0.06  (C=democrat; V=?)\n",
            "  0.43;  0.04  (C=republican; V=?)\n",
            " Attribute 16: (A = export-administration-act-south-africa)\n",
            "  0.64;  0.65  (C=democrat; V=y)\n",
            "  0.36;  0.30  (C=republican; V=y)\n",
            "  0.19;  0.04  (C=democrat; V=n)\n",
            "  0.81;  0.15  (C=republican; V=n)\n",
            "  0.79;  0.31  (C=democrat; V=?)\n",
            "  0.21;  0.07  (C=republican; V=?)\n",
            "\n"
          ]
        }
      ]
    },
    {
      "cell_type": "code",
      "source": [
        "names=['class','handicapped-infants','water-project-cost-sharing','adoption-of-the-budget-resolution',\n",
        "       'physician-fee-freeze','el-salvador-aid','religious-groups-in-schools',\n",
        "       'anti-satellite-test-ban','aid-to-nicaraguan-contras','mx-missile','immigration',\n",
        "       'synfuels-corporation-cutback','education-spending','superfund-right-to-sue',\n",
        "       'crime','duty-free-exports','export-administration-act-south-africa']\n",
        "df = pd.read_csv('house-votes-84.data',names=names)\n",
        "df.head()"
      ],
      "metadata": {
        "colab": {
          "base_uri": "https://localhost:8080/",
          "height": 322
        },
        "id": "BPfFO_zcB6Ma",
        "outputId": "f13bd85d-1d7c-4d1e-c981-d10d0144d53d"
      },
      "execution_count": 27,
      "outputs": [
        {
          "output_type": "execute_result",
          "data": {
            "text/plain": [
              "        class handicapped-infants water-project-cost-sharing  \\\n",
              "0  republican                   n                          y   \n",
              "1  republican                   n                          y   \n",
              "2    democrat                   ?                          y   \n",
              "3    democrat                   n                          y   \n",
              "4    democrat                   y                          y   \n",
              "\n",
              "  adoption-of-the-budget-resolution physician-fee-freeze el-salvador-aid  \\\n",
              "0                                 n                    y               y   \n",
              "1                                 n                    y               y   \n",
              "2                                 y                    ?               y   \n",
              "3                                 y                    n               ?   \n",
              "4                                 y                    n               y   \n",
              "\n",
              "  religious-groups-in-schools anti-satellite-test-ban  \\\n",
              "0                           y                       n   \n",
              "1                           y                       n   \n",
              "2                           y                       n   \n",
              "3                           y                       n   \n",
              "4                           y                       n   \n",
              "\n",
              "  aid-to-nicaraguan-contras mx-missile immigration  \\\n",
              "0                         n          n           y   \n",
              "1                         n          n           n   \n",
              "2                         n          n           n   \n",
              "3                         n          n           n   \n",
              "4                         n          n           n   \n",
              "\n",
              "  synfuels-corporation-cutback education-spending superfund-right-to-sue  \\\n",
              "0                            ?                  y                      y   \n",
              "1                            n                  y                      y   \n",
              "2                            y                  n                      y   \n",
              "3                            y                  n                      y   \n",
              "4                            y                  ?                      y   \n",
              "\n",
              "  crime duty-free-exports export-administration-act-south-africa  \n",
              "0     y                 n                                      y  \n",
              "1     y                 n                                      ?  \n",
              "2     y                 n                                      n  \n",
              "3     n                 n                                      y  \n",
              "4     y                 y                                      y  "
            ],
            "text/html": [
              "\n",
              "  <div id=\"df-9c2970e2-6011-41aa-8f9c-57ada3867012\">\n",
              "    <div class=\"colab-df-container\">\n",
              "      <div>\n",
              "<style scoped>\n",
              "    .dataframe tbody tr th:only-of-type {\n",
              "        vertical-align: middle;\n",
              "    }\n",
              "\n",
              "    .dataframe tbody tr th {\n",
              "        vertical-align: top;\n",
              "    }\n",
              "\n",
              "    .dataframe thead th {\n",
              "        text-align: right;\n",
              "    }\n",
              "</style>\n",
              "<table border=\"1\" class=\"dataframe\">\n",
              "  <thead>\n",
              "    <tr style=\"text-align: right;\">\n",
              "      <th></th>\n",
              "      <th>class</th>\n",
              "      <th>handicapped-infants</th>\n",
              "      <th>water-project-cost-sharing</th>\n",
              "      <th>adoption-of-the-budget-resolution</th>\n",
              "      <th>physician-fee-freeze</th>\n",
              "      <th>el-salvador-aid</th>\n",
              "      <th>religious-groups-in-schools</th>\n",
              "      <th>anti-satellite-test-ban</th>\n",
              "      <th>aid-to-nicaraguan-contras</th>\n",
              "      <th>mx-missile</th>\n",
              "      <th>immigration</th>\n",
              "      <th>synfuels-corporation-cutback</th>\n",
              "      <th>education-spending</th>\n",
              "      <th>superfund-right-to-sue</th>\n",
              "      <th>crime</th>\n",
              "      <th>duty-free-exports</th>\n",
              "      <th>export-administration-act-south-africa</th>\n",
              "    </tr>\n",
              "  </thead>\n",
              "  <tbody>\n",
              "    <tr>\n",
              "      <th>0</th>\n",
              "      <td>republican</td>\n",
              "      <td>n</td>\n",
              "      <td>y</td>\n",
              "      <td>n</td>\n",
              "      <td>y</td>\n",
              "      <td>y</td>\n",
              "      <td>y</td>\n",
              "      <td>n</td>\n",
              "      <td>n</td>\n",
              "      <td>n</td>\n",
              "      <td>y</td>\n",
              "      <td>?</td>\n",
              "      <td>y</td>\n",
              "      <td>y</td>\n",
              "      <td>y</td>\n",
              "      <td>n</td>\n",
              "      <td>y</td>\n",
              "    </tr>\n",
              "    <tr>\n",
              "      <th>1</th>\n",
              "      <td>republican</td>\n",
              "      <td>n</td>\n",
              "      <td>y</td>\n",
              "      <td>n</td>\n",
              "      <td>y</td>\n",
              "      <td>y</td>\n",
              "      <td>y</td>\n",
              "      <td>n</td>\n",
              "      <td>n</td>\n",
              "      <td>n</td>\n",
              "      <td>n</td>\n",
              "      <td>n</td>\n",
              "      <td>y</td>\n",
              "      <td>y</td>\n",
              "      <td>y</td>\n",
              "      <td>n</td>\n",
              "      <td>?</td>\n",
              "    </tr>\n",
              "    <tr>\n",
              "      <th>2</th>\n",
              "      <td>democrat</td>\n",
              "      <td>?</td>\n",
              "      <td>y</td>\n",
              "      <td>y</td>\n",
              "      <td>?</td>\n",
              "      <td>y</td>\n",
              "      <td>y</td>\n",
              "      <td>n</td>\n",
              "      <td>n</td>\n",
              "      <td>n</td>\n",
              "      <td>n</td>\n",
              "      <td>y</td>\n",
              "      <td>n</td>\n",
              "      <td>y</td>\n",
              "      <td>y</td>\n",
              "      <td>n</td>\n",
              "      <td>n</td>\n",
              "    </tr>\n",
              "    <tr>\n",
              "      <th>3</th>\n",
              "      <td>democrat</td>\n",
              "      <td>n</td>\n",
              "      <td>y</td>\n",
              "      <td>y</td>\n",
              "      <td>n</td>\n",
              "      <td>?</td>\n",
              "      <td>y</td>\n",
              "      <td>n</td>\n",
              "      <td>n</td>\n",
              "      <td>n</td>\n",
              "      <td>n</td>\n",
              "      <td>y</td>\n",
              "      <td>n</td>\n",
              "      <td>y</td>\n",
              "      <td>n</td>\n",
              "      <td>n</td>\n",
              "      <td>y</td>\n",
              "    </tr>\n",
              "    <tr>\n",
              "      <th>4</th>\n",
              "      <td>democrat</td>\n",
              "      <td>y</td>\n",
              "      <td>y</td>\n",
              "      <td>y</td>\n",
              "      <td>n</td>\n",
              "      <td>y</td>\n",
              "      <td>y</td>\n",
              "      <td>n</td>\n",
              "      <td>n</td>\n",
              "      <td>n</td>\n",
              "      <td>n</td>\n",
              "      <td>y</td>\n",
              "      <td>?</td>\n",
              "      <td>y</td>\n",
              "      <td>y</td>\n",
              "      <td>y</td>\n",
              "      <td>y</td>\n",
              "    </tr>\n",
              "  </tbody>\n",
              "</table>\n",
              "</div>\n",
              "      <button class=\"colab-df-convert\" onclick=\"convertToInteractive('df-9c2970e2-6011-41aa-8f9c-57ada3867012')\"\n",
              "              title=\"Convert this dataframe to an interactive table.\"\n",
              "              style=\"display:none;\">\n",
              "        \n",
              "  <svg xmlns=\"http://www.w3.org/2000/svg\" height=\"24px\"viewBox=\"0 0 24 24\"\n",
              "       width=\"24px\">\n",
              "    <path d=\"M0 0h24v24H0V0z\" fill=\"none\"/>\n",
              "    <path d=\"M18.56 5.44l.94 2.06.94-2.06 2.06-.94-2.06-.94-.94-2.06-.94 2.06-2.06.94zm-11 1L8.5 8.5l.94-2.06 2.06-.94-2.06-.94L8.5 2.5l-.94 2.06-2.06.94zm10 10l.94 2.06.94-2.06 2.06-.94-2.06-.94-.94-2.06-.94 2.06-2.06.94z\"/><path d=\"M17.41 7.96l-1.37-1.37c-.4-.4-.92-.59-1.43-.59-.52 0-1.04.2-1.43.59L10.3 9.45l-7.72 7.72c-.78.78-.78 2.05 0 2.83L4 21.41c.39.39.9.59 1.41.59.51 0 1.02-.2 1.41-.59l7.78-7.78 2.81-2.81c.8-.78.8-2.07 0-2.86zM5.41 20L4 18.59l7.72-7.72 1.47 1.35L5.41 20z\"/>\n",
              "  </svg>\n",
              "      </button>\n",
              "      \n",
              "  <style>\n",
              "    .colab-df-container {\n",
              "      display:flex;\n",
              "      flex-wrap:wrap;\n",
              "      gap: 12px;\n",
              "    }\n",
              "\n",
              "    .colab-df-convert {\n",
              "      background-color: #E8F0FE;\n",
              "      border: none;\n",
              "      border-radius: 50%;\n",
              "      cursor: pointer;\n",
              "      display: none;\n",
              "      fill: #1967D2;\n",
              "      height: 32px;\n",
              "      padding: 0 0 0 0;\n",
              "      width: 32px;\n",
              "    }\n",
              "\n",
              "    .colab-df-convert:hover {\n",
              "      background-color: #E2EBFA;\n",
              "      box-shadow: 0px 1px 2px rgba(60, 64, 67, 0.3), 0px 1px 3px 1px rgba(60, 64, 67, 0.15);\n",
              "      fill: #174EA6;\n",
              "    }\n",
              "\n",
              "    [theme=dark] .colab-df-convert {\n",
              "      background-color: #3B4455;\n",
              "      fill: #D2E3FC;\n",
              "    }\n",
              "\n",
              "    [theme=dark] .colab-df-convert:hover {\n",
              "      background-color: #434B5C;\n",
              "      box-shadow: 0px 1px 3px 1px rgba(0, 0, 0, 0.15);\n",
              "      filter: drop-shadow(0px 1px 2px rgba(0, 0, 0, 0.3));\n",
              "      fill: #FFFFFF;\n",
              "    }\n",
              "  </style>\n",
              "\n",
              "      <script>\n",
              "        const buttonEl =\n",
              "          document.querySelector('#df-9c2970e2-6011-41aa-8f9c-57ada3867012 button.colab-df-convert');\n",
              "        buttonEl.style.display =\n",
              "          google.colab.kernel.accessAllowed ? 'block' : 'none';\n",
              "\n",
              "        async function convertToInteractive(key) {\n",
              "          const element = document.querySelector('#df-9c2970e2-6011-41aa-8f9c-57ada3867012');\n",
              "          const dataTable =\n",
              "            await google.colab.kernel.invokeFunction('convertToInteractive',\n",
              "                                                     [key], {});\n",
              "          if (!dataTable) return;\n",
              "\n",
              "          const docLinkHtml = 'Like what you see? Visit the ' +\n",
              "            '<a target=\"_blank\" href=https://colab.research.google.com/notebooks/data_table.ipynb>data table notebook</a>'\n",
              "            + ' to learn more about interactive tables.';\n",
              "          element.innerHTML = '';\n",
              "          dataTable['output_type'] = 'display_data';\n",
              "          await google.colab.output.renderOutput(dataTable, element);\n",
              "          const docLink = document.createElement('div');\n",
              "          docLink.innerHTML = docLinkHtml;\n",
              "          element.appendChild(docLink);\n",
              "        }\n",
              "      </script>\n",
              "    </div>\n",
              "  </div>\n",
              "  "
            ]
          },
          "metadata": {},
          "execution_count": 27
        }
      ]
    },
    {
      "cell_type": "code",
      "source": [
        "#frequency distribution\n",
        "for col in names: \n",
        "    print(df[col].value_counts())\n",
        "\n",
        "#replacing ? into NaT\n",
        "df=df.replace('?',pd.NaT)\n",
        "\n",
        "#checking missing values\n",
        "df.isnull().sum()"
      ],
      "metadata": {
        "colab": {
          "base_uri": "https://localhost:8080/"
        },
        "id": "KfIp-9ovxyjA",
        "outputId": "8cb5c7b0-78e8-4fca-8093-42eb1241ca58"
      },
      "execution_count": 28,
      "outputs": [
        {
          "output_type": "stream",
          "name": "stdout",
          "text": [
            "democrat      267\n",
            "republican    168\n",
            "Name: class, dtype: int64\n",
            "n    236\n",
            "y    187\n",
            "?     12\n",
            "Name: handicapped-infants, dtype: int64\n",
            "y    195\n",
            "n    192\n",
            "?     48\n",
            "Name: water-project-cost-sharing, dtype: int64\n",
            "y    253\n",
            "n    171\n",
            "?     11\n",
            "Name: adoption-of-the-budget-resolution, dtype: int64\n",
            "n    247\n",
            "y    177\n",
            "?     11\n",
            "Name: physician-fee-freeze, dtype: int64\n",
            "y    212\n",
            "n    208\n",
            "?     15\n",
            "Name: el-salvador-aid, dtype: int64\n",
            "y    272\n",
            "n    152\n",
            "?     11\n",
            "Name: religious-groups-in-schools, dtype: int64\n",
            "y    239\n",
            "n    182\n",
            "?     14\n",
            "Name: anti-satellite-test-ban, dtype: int64\n",
            "y    242\n",
            "n    178\n",
            "?     15\n",
            "Name: aid-to-nicaraguan-contras, dtype: int64\n",
            "y    207\n",
            "n    206\n",
            "?     22\n",
            "Name: mx-missile, dtype: int64\n",
            "y    216\n",
            "n    212\n",
            "?      7\n",
            "Name: immigration, dtype: int64\n",
            "n    264\n",
            "y    150\n",
            "?     21\n",
            "Name: synfuels-corporation-cutback, dtype: int64\n",
            "n    233\n",
            "y    171\n",
            "?     31\n",
            "Name: education-spending, dtype: int64\n",
            "y    209\n",
            "n    201\n",
            "?     25\n",
            "Name: superfund-right-to-sue, dtype: int64\n",
            "y    248\n",
            "n    170\n",
            "?     17\n",
            "Name: crime, dtype: int64\n",
            "n    233\n",
            "y    174\n",
            "?     28\n",
            "Name: duty-free-exports, dtype: int64\n",
            "y    269\n",
            "?    104\n",
            "n     62\n",
            "Name: export-administration-act-south-africa, dtype: int64\n"
          ]
        },
        {
          "output_type": "execute_result",
          "data": {
            "text/plain": [
              "class                                       0\n",
              "handicapped-infants                        12\n",
              "water-project-cost-sharing                 48\n",
              "adoption-of-the-budget-resolution          11\n",
              "physician-fee-freeze                       11\n",
              "el-salvador-aid                            15\n",
              "religious-groups-in-schools                11\n",
              "anti-satellite-test-ban                    14\n",
              "aid-to-nicaraguan-contras                  15\n",
              "mx-missile                                 22\n",
              "immigration                                 7\n",
              "synfuels-corporation-cutback               21\n",
              "education-spending                         31\n",
              "superfund-right-to-sue                     25\n",
              "crime                                      17\n",
              "duty-free-exports                          28\n",
              "export-administration-act-south-africa    104\n",
              "dtype: int64"
            ]
          },
          "metadata": {},
          "execution_count": 28
        }
      ]
    },
    {
      "cell_type": "code",
      "source": [
        "#dropping rows with missing values\n",
        "df=df.dropna()\n",
        "print(df.isnull().sum())\n",
        "\n",
        "#frequency distribution after removing missing values\n",
        "for col in names: \n",
        "    print(df[col].value_counts())"
      ],
      "metadata": {
        "colab": {
          "base_uri": "https://localhost:8080/"
        },
        "id": "APAg-4dyItgo",
        "outputId": "425686e3-e6fc-45c2-a262-c58848153dea"
      },
      "execution_count": 30,
      "outputs": [
        {
          "output_type": "stream",
          "name": "stdout",
          "text": [
            "class                                     0\n",
            "handicapped-infants                       0\n",
            "water-project-cost-sharing                0\n",
            "adoption-of-the-budget-resolution         0\n",
            "physician-fee-freeze                      0\n",
            "el-salvador-aid                           0\n",
            "religious-groups-in-schools               0\n",
            "anti-satellite-test-ban                   0\n",
            "aid-to-nicaraguan-contras                 0\n",
            "mx-missile                                0\n",
            "immigration                               0\n",
            "synfuels-corporation-cutback              0\n",
            "education-spending                        0\n",
            "superfund-right-to-sue                    0\n",
            "crime                                     0\n",
            "duty-free-exports                         0\n",
            "export-administration-act-south-africa    0\n",
            "dtype: int64\n",
            "democrat      124\n",
            "republican    108\n",
            "Name: class, dtype: int64\n",
            "n    136\n",
            "y     96\n",
            "Name: handicapped-infants, dtype: int64\n",
            "n    125\n",
            "y    107\n",
            "Name: water-project-cost-sharing, dtype: int64\n",
            "y    123\n",
            "n    109\n",
            "Name: adoption-of-the-budget-resolution, dtype: int64\n",
            "n    119\n",
            "y    113\n",
            "Name: physician-fee-freeze, dtype: int64\n",
            "y    128\n",
            "n    104\n",
            "Name: el-salvador-aid, dtype: int64\n",
            "y    149\n",
            "n     83\n",
            "Name: religious-groups-in-schools, dtype: int64\n",
            "y    124\n",
            "n    108\n",
            "Name: anti-satellite-test-ban, dtype: int64\n",
            "y    119\n",
            "n    113\n",
            "Name: aid-to-nicaraguan-contras, dtype: int64\n",
            "n    119\n",
            "y    113\n",
            "Name: mx-missile, dtype: int64\n",
            "y    128\n",
            "n    104\n",
            "Name: immigration, dtype: int64\n",
            "n    152\n",
            "y     80\n",
            "Name: synfuels-corporation-cutback, dtype: int64\n",
            "n    124\n",
            "y    108\n",
            "Name: education-spending, dtype: int64\n",
            "y    127\n",
            "n    105\n",
            "Name: superfund-right-to-sue, dtype: int64\n",
            "y    149\n",
            "n     83\n",
            "Name: crime, dtype: int64\n",
            "n    146\n",
            "y     86\n",
            "Name: duty-free-exports, dtype: int64\n",
            "y    189\n",
            "n     43\n",
            "Name: export-administration-act-south-africa, dtype: int64\n"
          ]
        }
      ]
    },
    {
      "cell_type": "code",
      "source": [
        "#Convert categorical labels to numbers\n",
        "le = preprocessing.LabelEncoder()\n",
        "\n",
        "for col in names: \n",
        "  df[col] = le.fit_transform(df[col])\n",
        "\n",
        "df.head()\n",
        "for col in names: \n",
        "    print(df[col].value_counts())"
      ],
      "metadata": {
        "colab": {
          "base_uri": "https://localhost:8080/"
        },
        "id": "NXEKCi4KzThJ",
        "outputId": "25ee72fe-3291-447c-8612-875876ed2060"
      },
      "execution_count": 31,
      "outputs": [
        {
          "output_type": "stream",
          "name": "stdout",
          "text": [
            "0    124\n",
            "1    108\n",
            "Name: class, dtype: int64\n",
            "0    136\n",
            "1     96\n",
            "Name: handicapped-infants, dtype: int64\n",
            "0    125\n",
            "1    107\n",
            "Name: water-project-cost-sharing, dtype: int64\n",
            "1    123\n",
            "0    109\n",
            "Name: adoption-of-the-budget-resolution, dtype: int64\n",
            "0    119\n",
            "1    113\n",
            "Name: physician-fee-freeze, dtype: int64\n",
            "1    128\n",
            "0    104\n",
            "Name: el-salvador-aid, dtype: int64\n",
            "1    149\n",
            "0     83\n",
            "Name: religious-groups-in-schools, dtype: int64\n",
            "1    124\n",
            "0    108\n",
            "Name: anti-satellite-test-ban, dtype: int64\n",
            "1    119\n",
            "0    113\n",
            "Name: aid-to-nicaraguan-contras, dtype: int64\n",
            "0    119\n",
            "1    113\n",
            "Name: mx-missile, dtype: int64\n",
            "1    128\n",
            "0    104\n",
            "Name: immigration, dtype: int64\n",
            "0    152\n",
            "1     80\n",
            "Name: synfuels-corporation-cutback, dtype: int64\n",
            "0    124\n",
            "1    108\n",
            "Name: education-spending, dtype: int64\n",
            "1    127\n",
            "0    105\n",
            "Name: superfund-right-to-sue, dtype: int64\n",
            "1    149\n",
            "0     83\n",
            "Name: crime, dtype: int64\n",
            "0    146\n",
            "1     86\n",
            "Name: duty-free-exports, dtype: int64\n",
            "1    189\n",
            "0     43\n",
            "Name: export-administration-act-south-africa, dtype: int64\n"
          ]
        }
      ]
    },
    {
      "cell_type": "code",
      "source": [
        "X = df.drop(['class'], axis=1)\n",
        "y = df['class']\n",
        "\n",
        "#splitting train data and test data\n",
        "X_train, X_test, y_train, y_test = train_test_split(X, y, test_size = 0.3, random_state = 42)"
      ],
      "metadata": {
        "id": "E9YKVdl60lfm"
      },
      "execution_count": 32,
      "outputs": []
    },
    {
      "cell_type": "code",
      "source": [
        "#K-fold validation\n",
        "def kfold_score(clf,X,y,n_fold):\n",
        "    X,y = X.values,y.values\n",
        "    kfold = KFold(n_splits=n_fold, shuffle=True, random_state=1)\n",
        "    accuracy_list = []\n",
        "\n",
        "    for train_index, test_index in kfold.split(X, y):\n",
        "        x_train_fold, x_test_fold = X[train_index], X[test_index]\n",
        "        y_train_fold, y_test_fold = y[train_index], y[test_index]\n",
        "        clf.fit(x_train_fold, y_train_fold)\n",
        "        preds = clf.predict(x_test_fold)\n",
        "        accuracy_test = accuracy_score(preds,y_test_fold)\n",
        "        accuracy_list.append(accuracy_test)\n",
        "    return np.array(accuracy_list).mean()"
      ],
      "metadata": {
        "id": "WewTEIxz336f"
      },
      "execution_count": 33,
      "outputs": []
    },
    {
      "cell_type": "code",
      "source": [
        "#Random Forest classification\n",
        "\n",
        "#max_features: 1 to around sqrt(# of features of dataset)\n",
        "bounds = [\n",
        "        {'name': 'max_features', 'type': 'continuous', 'domain': (1, 15)},\n",
        "        {'name': 'n_estimators', 'type': 'continuous', 'domain': (1, 200)}\n",
        "      ]\n",
        "\n",
        "def rf_score(parameters):\n",
        "  params = {\n",
        "        'max_features':int(parameters[0][0]),\n",
        "        'n_estimators':int(parameters[0][1])\n",
        "    }\n",
        "  \n",
        "  clf = RandomForestClassifier(max_features=params['max_features'],n_estimators=params['n_estimators'])\n",
        "  clf.fit(X_train,y_train)\n",
        "  score = kfold_score(clf,X_train, y_train,10)\n",
        "  print(params)\n",
        "  print(score)\n",
        "  return score"
      ],
      "metadata": {
        "id": "fDw19dgo2Iz7"
      },
      "execution_count": 37,
      "outputs": []
    },
    {
      "cell_type": "code",
      "source": [
        "#RF Classification - Matern52 kernel\n",
        "kernel = GPy.kern.Matern52(input_dim=1, variance=1.0, lengthscale=1.0)\n",
        "optimizer = GPyOpt.methods.BayesianOptimization(f=rf_score, \n",
        "                                                domain=bounds,\n",
        "                                                acquisition_type ='EI',\n",
        "                                                initial_design_numdata = 5,\n",
        "                                                model_type='GP',\n",
        "                                                maximize=True,\n",
        "                                                kernel=kernel\n",
        "                                                )\n",
        "\n",
        "optimizer.run_optimization(max_iter=20)\n",
        "\n",
        "#maximum accuracy score\n",
        "acc_max=optimizer.fx_opt\n",
        "#best parameters\n",
        "params_best=optimizer.x_opt\n",
        "print(acc_max)\n",
        "print(params_best)"
      ],
      "metadata": {
        "colab": {
          "base_uri": "https://localhost:8080/"
        },
        "id": "3Tq9e-gk3VPW",
        "outputId": "16c4977b-b057-4d91-92b3-7f19590265c4"
      },
      "execution_count": 38,
      "outputs": [
        {
          "output_type": "stream",
          "name": "stdout",
          "text": [
            "{'max_features': 14, 'n_estimators': 26}\n",
            "0.95625\n",
            "{'max_features': 8, 'n_estimators': 15}\n",
            "0.95625\n",
            "{'max_features': 7, 'n_estimators': 117}\n",
            "0.9625\n",
            "{'max_features': 6, 'n_estimators': 109}\n",
            "0.9625\n",
            "{'max_features': 12, 'n_estimators': 111}\n",
            "0.95625\n",
            "{'max_features': 6, 'n_estimators': 145}\n",
            "0.9625\n",
            "{'max_features': 5, 'n_estimators': 197}\n",
            "0.9625\n",
            "{'max_features': 3, 'n_estimators': 187}\n",
            "0.9625\n",
            "{'max_features': 1, 'n_estimators': 111}\n",
            "0.9441176470588235\n",
            "{'max_features': 4, 'n_estimators': 80}\n",
            "0.95625\n",
            "{'max_features': 5, 'n_estimators': 130}\n",
            "0.9625\n",
            "{'max_features': 3, 'n_estimators': 92}\n",
            "0.9625\n",
            "{'max_features': 10, 'n_estimators': 87}\n",
            "0.95625\n",
            "{'max_features': 3, 'n_estimators': 106}\n",
            "0.9625\n",
            "{'max_features': 6, 'n_estimators': 193}\n",
            "0.9625\n",
            "{'max_features': 15, 'n_estimators': 136}\n",
            "0.95625\n",
            "{'max_features': 5, 'n_estimators': 76}\n",
            "0.95625\n",
            "{'max_features': 6, 'n_estimators': 97}\n",
            "0.9625\n",
            "{'max_features': 6, 'n_estimators': 7}\n",
            "0.96875\n",
            "{'max_features': 6, 'n_estimators': 131}\n",
            "0.9625\n",
            "{'max_features': 6, 'n_estimators': 150}\n",
            "0.9625\n",
            "{'max_features': 6, 'n_estimators': 187}\n",
            "0.9625\n",
            "{'max_features': 6, 'n_estimators': 129}\n",
            "0.9625\n",
            "{'max_features': 6, 'n_estimators': 66}\n",
            "0.9625\n",
            "{'max_features': 6, 'n_estimators': 31}\n",
            "0.9625\n",
            "-0.96875\n",
            "[6.59551256 7.68309059]\n"
          ]
        }
      ]
    },
    {
      "cell_type": "code",
      "source": [
        "optimizer.plot_convergence()"
      ],
      "metadata": {
        "colab": {
          "base_uri": "https://localhost:8080/",
          "height": 350
        },
        "id": "hGJcJep8nJii",
        "outputId": "2bb188e4-e1d7-4fb1-ddfd-4c5e5cf90a2d"
      },
      "execution_count": 39,
      "outputs": [
        {
          "output_type": "display_data",
          "data": {
            "text/plain": [
              "<Figure size 720x360 with 2 Axes>"
            ],
            "image/png": "[encoded data removed]"
          },
          "metadata": {
            "needs_background": "light"
          }
        }
      ]
    },
    {
      "cell_type": "code",
      "source": [
        "rf_car = RandomForestClassifier(max_features=6,n_estimators=7)\n",
        "rf_car.fit(X_train,y_train)\n",
        "y_pred = rf_car.predict(X_test)\n",
        "accuracy_test = accuracy_score(y_pred,y_test)\n",
        "print(accuracy_test)"
      ],
      "metadata": {
        "colab": {
          "base_uri": "https://localhost:8080/"
        },
        "id": "lTCmDT0KppGU",
        "outputId": "2e999447-cf1d-44a0-e170-4c0e0ff7e2a1"
      },
      "execution_count": 40,
      "outputs": [
        {
          "output_type": "stream",
          "name": "stdout",
          "text": [
            "0.9571428571428572\n"
          ]
        }
      ]
    },
    {
      "cell_type": "code",
      "source": [
        "#RF classification - Matern52 + ExpQuad\n",
        "kernel2 = GPy.kern.Matern52(input_dim=1, variance=1.0, lengthscale=1.0) + GPy.kern.ExpQuad(input_dim=1,variance=1.0,lengthscale=1.0)\n",
        "optimizer = GPyOpt.methods.BayesianOptimization(f=rf_score, \n",
        "                                                domain=bounds,\n",
        "                                                acquisition_type ='EI',\n",
        "                                                initial_design_numdata = 5,\n",
        "                                                model_type='GP',\n",
        "                                                maximize=True,\n",
        "                                                kernel=kernel2\n",
        "                                                )\n",
        "\n",
        "optimizer.run_optimization(max_iter=20)\n",
        "\n",
        "#maximum accuracy score\n",
        "acc_max=optimizer.fx_opt\n",
        "#best parameters\n",
        "params_best=optimizer.x_opt\n",
        "print(acc_max)\n",
        "print(params_best)\n",
        "\n",
        "optimizer.plot_convergence()"
      ],
      "metadata": {
        "colab": {
          "base_uri": "https://localhost:8080/",
          "height": 1000
        },
        "id": "9IJ7rx_VsTS6",
        "outputId": "330062ac-769a-46c5-d36c-9f188835c2a9"
      },
      "execution_count": 42,
      "outputs": [
        {
          "output_type": "stream",
          "name": "stdout",
          "text": [
            "{'max_features': 4, 'n_estimators': 138}\n",
            "0.9625\n",
            "{'max_features': 6, 'n_estimators': 99}\n",
            "0.95625\n",
            "{'max_features': 8, 'n_estimators': 89}\n",
            "0.95625\n",
            "{'max_features': 2, 'n_estimators': 123}\n",
            "0.9566176470588236\n",
            "{'max_features': 7, 'n_estimators': 168}\n",
            "0.9625\n",
            "{'max_features': 4, 'n_estimators': 92}\n",
            "0.9625\n",
            "{'max_features': 7, 'n_estimators': 71}\n",
            "0.95625\n",
            "{'max_features': 7, 'n_estimators': 83}\n",
            "0.9625\n",
            "{'max_features': 4, 'n_estimators': 134}\n",
            "0.9625\n",
            "{'max_features': 4, 'n_estimators': 81}\n",
            "0.9625\n",
            "{'max_features': 5, 'n_estimators': 162}\n",
            "0.9625\n",
            "{'max_features': 3, 'n_estimators': 146}\n",
            "0.9625\n",
            "{'max_features': 15, 'n_estimators': 12}\n",
            "0.95625\n",
            "{'max_features': 3, 'n_estimators': 147}\n",
            "0.9625\n",
            "{'max_features': 5, 'n_estimators': 111}\n",
            "0.95625\n",
            "{'max_features': 4, 'n_estimators': 114}\n",
            "0.9625\n",
            "{'max_features': 11, 'n_estimators': 9}\n",
            "0.9625\n",
            "{'max_features': 11, 'n_estimators': 120}\n",
            "0.95625\n",
            "{'max_features': 12, 'n_estimators': 8}\n",
            "0.95\n",
            "{'max_features': 4, 'n_estimators': 38}\n",
            "0.9625\n",
            "{'max_features': 11, 'n_estimators': 40}\n",
            "0.95625\n",
            "{'max_features': 4, 'n_estimators': 118}\n",
            "0.9625\n",
            "{'max_features': 4, 'n_estimators': 90}\n",
            "0.9625\n",
            "{'max_features': 3, 'n_estimators': 145}\n",
            "0.9625\n",
            "{'max_features': 3, 'n_estimators': 19}\n",
            "0.9566176470588236\n",
            "-0.9625\n",
            "[  4.02666255 138.88426889]\n"
          ]
        },
        {
          "output_type": "display_data",
          "data": {
            "text/plain": [
              "<Figure size 720x360 with 2 Axes>"
            ],
            "image/png": "[encoded data removed]"
          },
          "metadata": {
            "needs_background": "light"
          }
        }
      ]
    },
    {
      "cell_type": "code",
      "source": [
        "rf_car2 = RandomForestClassifier(max_features=4,n_estimators=138)\n",
        "rf_car2.fit(X_train,y_train)\n",
        "y_pred = rf_car2.predict(X_test)\n",
        "accuracy_test = accuracy_score(y_pred,y_test)\n",
        "print(accuracy_test)"
      ],
      "metadata": {
        "colab": {
          "base_uri": "https://localhost:8080/"
        },
        "id": "wwv3UHhrs_Wb",
        "outputId": "2d61b6f6-735c-4382-d157-d9dbda86d2be"
      },
      "execution_count": 43,
      "outputs": [
        {
          "output_type": "stream",
          "name": "stdout",
          "text": [
            "0.9571428571428572\n"
          ]
        }
      ]
    },
    {
      "cell_type": "code",
      "source": [
        "#SVM Classification\n",
        "\n",
        "bounds = [ {'name': 'C', 'type': 'continuous', 'domain': (0.1, 1)},\n",
        "        {'name': 'gamma', 'type': 'continuous', 'domain': (0.01, 0.1)}\n",
        "      ]\n",
        "\n",
        "def svm_score(parameters):\n",
        "  params = {\n",
        "        'C': parameters[0][0],\n",
        "        'gamma':parameters[0][1]\n",
        "    }\n",
        "  \n",
        "  clf = svm.SVC(C=params['C'],gamma=params['gamma'])\n",
        "  clf.fit(X_train,y_train)\n",
        "  score = kfold_score(clf,X_train, y_train,10)\n",
        "  print(params)\n",
        "  print(score)\n",
        "  return score"
      ],
      "metadata": {
        "id": "9XK_M5ti7fJG"
      },
      "execution_count": 44,
      "outputs": []
    },
    {
      "cell_type": "code",
      "source": [
        "#SVM Classification - Matern52 kernel\n",
        "kernel = GPy.kern.Matern52(input_dim=1, variance=1.0, lengthscale=1.0)\n",
        "optimizer = GPyOpt.methods.BayesianOptimization(f=svm_score, \n",
        "                                                domain=bounds,\n",
        "                                                acquisition_type ='EI',\n",
        "                                                initial_design_numdata = 5,\n",
        "                                                model_type='GP',\n",
        "                                                maximize=True,\n",
        "                                                kernel=kernel\n",
        "                                                )\n",
        "\n",
        "optimizer.run_optimization(max_iter=20)\n",
        "\n",
        "#maximum accuracy score\n",
        "acc_max=optimizer.fx_opt\n",
        "#best parameters\n",
        "params_best=optimizer.x_opt\n",
        "print(acc_max)\n",
        "print(params_best)"
      ],
      "metadata": {
        "colab": {
          "base_uri": "https://localhost:8080/"
        },
        "id": "b_8qWWFl9o67",
        "outputId": "208d305a-eba6-46ee-a082-7277b3518da5"
      },
      "execution_count": 45,
      "outputs": [
        {
          "output_type": "stream",
          "name": "stdout",
          "text": [
            "{'C': 0.4771523999478391, 'gamma': 0.010822597221470517}\n",
            "0.9069852941176471\n",
            "{'C': 0.3310711741774536, 'gamma': 0.01970377526480962}\n",
            "0.9069852941176471\n",
            "{'C': 0.7769459761980834, 'gamma': 0.08308994725975351}\n",
            "0.9625\n",
            "{'C': 0.11336012182506214, 'gamma': 0.02042182015832731}\n",
            "0.8639705882352942\n",
            "{'C': 0.693167613868772, 'gamma': 0.022842177374479744}\n",
            "0.9253676470588236\n",
            "{'C': 0.987778787698171, 'gamma': 0.01366377340941221}\n",
            "0.9191176470588236\n",
            "{'C': 0.7957762180776022, 'gamma': 0.09294726762106229}\n",
            "0.9625\n",
            "{'C': 0.8623858846803741, 'gamma': 0.012748368455737779}\n",
            "0.9128676470588235\n",
            "{'C': 0.7865951586137853, 'gamma': 0.07441288877765347}\n",
            "0.9625\n",
            "{'C': 0.5866450372247815, 'gamma': 0.024530984919800644}\n",
            "0.9253676470588236\n",
            "{'C': 0.7544399554375519, 'gamma': 0.09676800986441848}\n",
            "0.9625\n",
            "{'C': 0.7631385314691378, 'gamma': 0.09822713742963016}\n",
            "0.9625\n",
            "{'C': 0.23927052892796552, 'gamma': 0.011741676872633378}\n",
            "0.8944852941176471\n",
            "{'C': 0.40282376335690734, 'gamma': 0.09246215157830649}\n",
            "0.9441176470588235\n",
            "{'C': 0.7410392987889176, 'gamma': 0.027985258368610405}\n",
            "0.9378676470588235\n",
            "{'C': 0.8141061825251541, 'gamma': 0.08636940380091317}\n",
            "0.9625\n",
            "{'C': 0.641698890929843, 'gamma': 0.029940279093159085}\n",
            "0.9378676470588235\n",
            "{'C': 0.8049395127228915, 'gamma': 0.024357142854674833}\n",
            "0.9378676470588235\n",
            "{'C': 0.7786233154170871, 'gamma': 0.02358042381359267}\n",
            "0.9378676470588235\n",
            "{'C': 0.7775583139503979, 'gamma': 0.06811544009969862}\n",
            "0.9625\n",
            "{'C': 0.7784876352383958, 'gamma': 0.04934523905358054}\n",
            "0.95\n",
            "{'C': 0.7786102023910596, 'gamma': 0.0998589353663746}\n",
            "0.9625\n",
            "{'C': 0.778982894422556, 'gamma': 0.06412964307563628}\n",
            "0.9625\n",
            "{'C': 0.779205046631897, 'gamma': 0.04569623524600046}\n",
            "0.95\n",
            "{'C': 0.7792479539350743, 'gamma': 0.039510377228086174}\n",
            "0.9503676470588236\n",
            "-0.9625\n",
            "[0.77694598 0.08308995]\n"
          ]
        }
      ]
    },
    {
      "cell_type": "code",
      "source": [
        "optimizer.plot_convergence()"
      ],
      "metadata": {
        "colab": {
          "base_uri": "https://localhost:8080/",
          "height": 350
        },
        "id": "KId-CJ3x9zos",
        "outputId": "4b2acf12-e286-460c-f004-5d740c930c43"
      },
      "execution_count": 46,
      "outputs": [
        {
          "output_type": "display_data",
          "data": {
            "text/plain": [
              "<Figure size 720x360 with 2 Axes>"
            ],
            "image/png": "[encoded data removed]"
          },
          "metadata": {
            "needs_background": "light"
          }
        }
      ]
    },
    {
      "cell_type": "code",
      "source": [
        "SVM_car1 = svm.SVC(C=0.777,gamma=0.0831)\n",
        "SVM_car1.fit(X_train,y_train)\n",
        "y_pred = SVM_car1.predict(X_test)\n",
        "accuracy_test = accuracy_score(y_pred,y_test)\n",
        "print(accuracy_test)"
      ],
      "metadata": {
        "colab": {
          "base_uri": "https://localhost:8080/"
        },
        "id": "WhBdYYF8-MIc",
        "outputId": "3bbfa4c6-65bf-4caf-fda9-4d81a7b8f6ff"
      },
      "execution_count": 47,
      "outputs": [
        {
          "output_type": "stream",
          "name": "stdout",
          "text": [
            "0.9714285714285714\n"
          ]
        }
      ]
    },
    {
      "cell_type": "code",
      "source": [
        "#SVM classification - Matern52 + ExpQuad\n",
        "kernel2 = GPy.kern.Matern52(input_dim=1, variance=1.0, lengthscale=1.0) + GPy.kern.ExpQuad(input_dim=1,variance=1.0,lengthscale=1.0)\n",
        "optimizer = GPyOpt.methods.BayesianOptimization(f=svm_score, \n",
        "                                                domain=bounds,\n",
        "                                                acquisition_type ='EI',\n",
        "                                                initial_design_numdata = 5,\n",
        "                                                model_type='GP',\n",
        "                                                maximize=True,\n",
        "                                                kernel=kernel2\n",
        "                                                )\n",
        "\n",
        "optimizer.run_optimization(max_iter=20)\n",
        "\n",
        "#maximum accuracy score\n",
        "acc_max=optimizer.fx_opt\n",
        "#best parameters\n",
        "params_best=optimizer.x_opt\n",
        "print(acc_max)\n",
        "print(params_best)\n",
        "\n",
        "optimizer.plot_convergence()"
      ],
      "metadata": {
        "colab": {
          "base_uri": "https://localhost:8080/",
          "height": 1000
        },
        "id": "cYB5iw_G-rtt",
        "outputId": "317fe072-c62d-40c6-bf0c-879e17263423"
      },
      "execution_count": 48,
      "outputs": [
        {
          "output_type": "stream",
          "name": "stdout",
          "text": [
            "{'C': 0.8251938241031664, 'gamma': 0.08193174964413029}\n",
            "0.9625\n",
            "{'C': 0.8036074631031631, 'gamma': 0.07356527907900488}\n",
            "0.9625\n",
            "{'C': 0.9049606625209513, 'gamma': 0.018999035539966784}\n",
            "0.9378676470588235\n",
            "{'C': 0.24607337235611168, 'gamma': 0.07661568013036844}\n",
            "0.9253676470588236\n",
            "{'C': 0.2846593744434045, 'gamma': 0.08669945044242068}\n",
            "0.9316176470588236\n",
            "{'C': 0.4301957453230051, 'gamma': 0.020713979014434662}\n",
            "0.9128676470588235\n",
            "{'C': 0.6618747237778755, 'gamma': 0.06434467097453028}\n",
            "0.95\n",
            "{'C': 0.7313949464796411, 'gamma': 0.0112961653970408}\n",
            "0.9128676470588235\n",
            "{'C': 0.8141073203811384, 'gamma': 0.034305288754203675}\n",
            "0.9441176470588235\n",
            "{'C': 0.8169625593073472, 'gamma': 0.029678899380438807}\n",
            "0.9378676470588235\n",
            "{'C': 0.8138853384564756, 'gamma': 0.07905416866539751}\n",
            "0.9625\n",
            "{'C': 0.8122214626379654, 'gamma': 0.014777944352577468}\n",
            "0.9191176470588236\n",
            "{'C': 0.8163606279010982, 'gamma': 0.08414705428081785}\n",
            "0.9625\n",
            "{'C': 0.8163614772880325, 'gamma': 0.07194919654112772}\n",
            "0.9625\n",
            "{'C': 0.8038617190072794, 'gamma': 0.08920254245398251}\n",
            "0.9625\n",
            "{'C': 0.8255166555960859, 'gamma': 0.04959473590437535}\n",
            "0.95625\n",
            "{'C': 0.8136351693740864, 'gamma': 0.08977455835506104}\n",
            "0.9625\n",
            "{'C': 0.8248013889031961, 'gamma': 0.06052971187474457}\n",
            "0.9625\n",
            "{'C': 0.8242730617364777, 'gamma': 0.052958303010404315}\n",
            "0.95625\n",
            "{'C': 0.8137720052844776, 'gamma': 0.03033751726936791}\n",
            "0.9378676470588235\n",
            "{'C': 0.8036960204199256, 'gamma': 0.04897173571150356}\n",
            "0.95625\n",
            "{'C': 0.813941562683924, 'gamma': 0.023652925818412374}\n",
            "0.9378676470588235\n",
            "{'C': 0.8038168722604323, 'gamma': 0.08186779167889559}\n",
            "0.9625\n",
            "{'C': 0.8252453723348684, 'gamma': 0.08135351773996594}\n",
            "0.9625\n",
            "{'C': 0.8248596841264638, 'gamma': 0.0378451622512616}\n",
            "0.9503676470588236\n",
            "-0.9625\n",
            "[0.82519382 0.08193175]\n"
          ]
        },
        {
          "output_type": "display_data",
          "data": {
            "text/plain": [
              "<Figure size 720x360 with 2 Axes>"
            ],
            "image/png": "[encoded data removed]"
          },
          "metadata": {
            "needs_background": "light"
          }
        }
      ]
    },
    {
      "cell_type": "code",
      "source": [
        "SVM_car2 = svm.SVC(C=0.825,gamma=0.0819)\n",
        "SVM_car2.fit(X_train,y_train)\n",
        "y_pred = SVM_car2.predict(X_test)\n",
        "accuracy_test = accuracy_score(y_pred,y_test)\n",
        "print(accuracy_test)"
      ],
      "metadata": {
        "colab": {
          "base_uri": "https://localhost:8080/"
        },
        "id": "Nvo5M7Vt-ziq",
        "outputId": "bfcee859-93fd-42cb-81f5-73744ddd949f"
      },
      "execution_count": 49,
      "outputs": [
        {
          "output_type": "stream",
          "name": "stdout",
          "text": [
            "0.9714285714285714\n"
          ]
        }
      ]
    },
    {
      "cell_type": "code",
      "source": [
        "#KNN Classification\n",
        "\n",
        "#search domain\n",
        "bounds = [ {'name': 'leaf_size', 'type': 'continuous', 'domain': (10, 50)},\n",
        "        {'name': 'n_neighbors', 'type': 'discrete', 'domain': (3,4,5,6,7)}\n",
        "      ]\n",
        "\n",
        "def knn_score(parameters):\n",
        "  params = {\n",
        "        'leaf_size': parameters[0][0],\n",
        "        'n_neighbors':int(parameters[0][1])\n",
        "    }\n",
        "  \n",
        "  clf = KNeighborsClassifier(leaf_size=params['leaf_size'],n_neighbors=params['n_neighbors'])\n",
        "  clf.fit(X_train,y_train)\n",
        "  score = kfold_score(clf,X_train, y_train,10)\n",
        "  print(params)\n",
        "  print(score)\n",
        "  return score"
      ],
      "metadata": {
        "id": "9LMGI0Lj_FGm"
      },
      "execution_count": 50,
      "outputs": []
    },
    {
      "cell_type": "code",
      "source": [
        "#KNN Classification - Matern52 kernel\n",
        "kernel = GPy.kern.Matern52(input_dim=1, variance=1.0, lengthscale=1.0)\n",
        "optimizer = GPyOpt.methods.BayesianOptimization(f=knn_score, \n",
        "                                                domain=bounds,\n",
        "                                                acquisition_type ='EI',\n",
        "                                                initial_design_numdata = 5,\n",
        "                                                model_type='GP',\n",
        "                                                maximize=True,\n",
        "                                                kernel=kernel\n",
        "                                                )\n",
        "\n",
        "optimizer.run_optimization(max_iter=20)\n",
        "\n",
        "#maximum accuracy score\n",
        "acc_max=optimizer.fx_opt\n",
        "#best parameters\n",
        "params_best=optimizer.x_opt\n",
        "print(acc_max)\n",
        "print(params_best)\n",
        "optimizer.plot_convergence()"
      ],
      "metadata": {
        "colab": {
          "base_uri": "https://localhost:8080/",
          "height": 1000
        },
        "id": "Y_EA4BtW_kjJ",
        "outputId": "983138a3-7ef3-43ab-d04e-ffd733ef2106"
      },
      "execution_count": 51,
      "outputs": [
        {
          "output_type": "stream",
          "name": "stdout",
          "text": [
            "{'leaf_size': 23.06360323518668, 'n_neighbors': 5}\n",
            "0.9132352941176471\n",
            "{'leaf_size': 29.529422229092162, 'n_neighbors': 3}\n",
            "0.9132352941176471\n",
            "{'leaf_size': 24.158964419816154, 'n_neighbors': 3}\n",
            "0.9132352941176471\n",
            "{'leaf_size': 33.43197351127887, 'n_neighbors': 4}\n",
            "0.9194852941176471\n",
            "{'leaf_size': 34.884802314993735, 'n_neighbors': 6}\n",
            "0.9194852941176471\n",
            "{'leaf_size': 34.12080263102519, 'n_neighbors': 7}\n",
            "0.9132352941176471\n",
            "{'leaf_size': 34.891383635554355, 'n_neighbors': 3}\n",
            "0.9132352941176471\n",
            "{'leaf_size': 32.16550651878727, 'n_neighbors': 6}\n",
            "0.9194852941176471\n",
            "{'leaf_size': 34.885043142375714, 'n_neighbors': 3}\n",
            "0.9132352941176471\n",
            "{'leaf_size': 32.153166039806, 'n_neighbors': 7}\n",
            "0.9132352941176471\n",
            "{'leaf_size': 33.424987080166375, 'n_neighbors': 5}\n",
            "0.9132352941176471\n",
            "{'leaf_size': 32.171961592113, 'n_neighbors': 5}\n",
            "0.9132352941176471\n",
            "{'leaf_size': 33.46074483955779, 'n_neighbors': 6}\n",
            "0.9194852941176471\n",
            "{'leaf_size': 33.451941579709285, 'n_neighbors': 3}\n",
            "0.9132352941176471\n",
            "{'leaf_size': 33.44603005793662, 'n_neighbors': 3}\n",
            "0.9132352941176471\n",
            "{'leaf_size': 33.538244872688196, 'n_neighbors': 5}\n",
            "0.9132352941176471\n",
            "{'leaf_size': 33.462142061690976, 'n_neighbors': 5}\n",
            "0.9132352941176471\n",
            "{'leaf_size': 33.359262427839504, 'n_neighbors': 7}\n",
            "0.9132352941176471\n",
            "{'leaf_size': 33.45778164901232, 'n_neighbors': 4}\n",
            "0.9194852941176471\n",
            "{'leaf_size': 33.45033111376791, 'n_neighbors': 6}\n",
            "0.9194852941176471\n",
            "{'leaf_size': 33.424170354004424, 'n_neighbors': 6}\n",
            "0.9194852941176471\n",
            "{'leaf_size': 33.42105083675371, 'n_neighbors': 5}\n",
            "0.9132352941176471\n",
            "{'leaf_size': 33.44340956243561, 'n_neighbors': 6}\n",
            "0.9194852941176471\n",
            "{'leaf_size': 33.487938019774006, 'n_neighbors': 3}\n",
            "0.9132352941176471\n",
            "{'leaf_size': 33.47971212841031, 'n_neighbors': 4}\n",
            "0.9194852941176471\n",
            "-0.9194852941176471\n",
            "[33.43197351  4.        ]\n"
          ]
        },
        {
          "output_type": "display_data",
          "data": {
            "text/plain": [
              "<Figure size 720x360 with 2 Axes>"
            ],
            "image/png": "[encoded data removed]"
          },
          "metadata": {
            "needs_background": "light"
          }
        }
      ]
    },
    {
      "cell_type": "code",
      "source": [
        "KNN_car1 = KNeighborsClassifier(leaf_size=33,n_neighbors=4)\n",
        "KNN_car1.fit(X_train,y_train)\n",
        "y_pred = KNN_car1.predict(X_test)\n",
        "accuracy_test = accuracy_score(y_pred,y_test)\n",
        "print(accuracy_test)"
      ],
      "metadata": {
        "colab": {
          "base_uri": "https://localhost:8080/"
        },
        "id": "Lqzr6VVJ_vQ-",
        "outputId": "eec06685-e6b4-4772-e2b1-f4487330d025"
      },
      "execution_count": 52,
      "outputs": [
        {
          "output_type": "stream",
          "name": "stdout",
          "text": [
            "0.9571428571428572\n"
          ]
        }
      ]
    },
    {
      "cell_type": "code",
      "source": [
        "#KNN Classification - Matern52 + ExpQuad\n",
        "kernel2 = GPy.kern.Matern52(input_dim=1, variance=1.0, lengthscale=1.0) + GPy.kern.ExpQuad(input_dim=1,variance=1.0,lengthscale=1.0)\n",
        "optimizer = GPyOpt.methods.BayesianOptimization(f=knn_score, \n",
        "                                                domain=bounds,\n",
        "                                                acquisition_type ='EI',\n",
        "                                                initial_design_numdata = 5,\n",
        "                                                model_type='GP',\n",
        "                                                maximize=True,\n",
        "                                                kernel=kernel2\n",
        "                                                )\n",
        "\n",
        "optimizer.run_optimization(max_iter=20)\n",
        "\n",
        "#maximum accuracy score\n",
        "acc_max=optimizer.fx_opt\n",
        "#best parameters\n",
        "params_best=optimizer.x_opt\n",
        "print(acc_max)\n",
        "print(params_best)\n",
        "optimizer.plot_convergence()"
      ],
      "metadata": {
        "colab": {
          "base_uri": "https://localhost:8080/",
          "height": 1000
        },
        "id": "3LZAZ3kWAGlC",
        "outputId": "c2d5c32f-8eb9-4f73-b9b4-b279af834650"
      },
      "execution_count": 53,
      "outputs": [
        {
          "output_type": "stream",
          "name": "stdout",
          "text": [
            "{'leaf_size': 28.15264067366154, 'n_neighbors': 3}\n",
            "0.9132352941176471\n",
            "{'leaf_size': 35.99325040880946, 'n_neighbors': 6}\n",
            "0.9194852941176471\n",
            "{'leaf_size': 43.42340982835191, 'n_neighbors': 7}\n",
            "0.9132352941176471\n",
            "{'leaf_size': 20.179254461914834, 'n_neighbors': 4}\n",
            "0.9194852941176471\n",
            "{'leaf_size': 29.57591499907709, 'n_neighbors': 5}\n",
            "0.9132352941176471\n",
            "{'leaf_size': 17.883265460442512, 'n_neighbors': 6}\n",
            "0.9194852941176471\n",
            "{'leaf_size': 12.747606421151112, 'n_neighbors': 3}\n",
            "0.9132352941176471\n",
            "{'leaf_size': 18.99411232223906, 'n_neighbors': 5}\n",
            "0.9132352941176471\n",
            "{'leaf_size': 20.10926951078249, 'n_neighbors': 6}\n",
            "0.9194852941176471\n",
            "{'leaf_size': 17.50910973524231, 'n_neighbors': 5}\n",
            "0.9132352941176471\n",
            "{'leaf_size': 18.024654990723977, 'n_neighbors': 3}\n",
            "0.9132352941176471\n",
            "{'leaf_size': 17.831453325229557, 'n_neighbors': 7}\n",
            "0.9132352941176471\n",
            "{'leaf_size': 20.147941915039247, 'n_neighbors': 3}\n",
            "0.9132352941176471\n",
            "{'leaf_size': 20.167169274973126, 'n_neighbors': 6}\n",
            "0.9194852941176471\n",
            "{'leaf_size': 20.15777686358381, 'n_neighbors': 6}\n",
            "0.9194852941176471\n",
            "{'leaf_size': 20.170203287015728, 'n_neighbors': 7}\n",
            "0.9132352941176471\n",
            "{'leaf_size': 20.154843999811973, 'n_neighbors': 4}\n",
            "0.9194852941176471\n",
            "{'leaf_size': 20.160182803414397, 'n_neighbors': 4}\n",
            "0.9194852941176471\n",
            "{'leaf_size': 20.171218871094315, 'n_neighbors': 3}\n",
            "0.9132352941176471\n",
            "{'leaf_size': 20.15548698028886, 'n_neighbors': 7}\n",
            "0.9132352941176471\n",
            "{'leaf_size': 20.153503929971414, 'n_neighbors': 6}\n",
            "0.9194852941176471\n",
            "{'leaf_size': 20.155353931327383, 'n_neighbors': 5}\n",
            "0.9132352941176471\n",
            "{'leaf_size': 20.153386946847146, 'n_neighbors': 7}\n",
            "0.9132352941176471\n",
            "{'leaf_size': 20.212673508534817, 'n_neighbors': 3}\n",
            "0.9132352941176471\n",
            "{'leaf_size': 20.193400194745713, 'n_neighbors': 4}\n",
            "0.9194852941176471\n",
            "-0.9194852941176471\n",
            "[35.99325041  6.        ]\n"
          ]
        },
        {
          "output_type": "display_data",
          "data": {
            "text/plain": [
              "<Figure size 720x360 with 2 Axes>"
            ],
            "image/png": "[encoded data removed]"
          },
          "metadata": {
            "needs_background": "light"
          }
        }
      ]
    },
    {
      "cell_type": "code",
      "source": [
        "KNN_car2 = KNeighborsClassifier(leaf_size=36,n_neighbors=6)\n",
        "KNN_car2.fit(X_train,y_train)\n",
        "y_pred = KNN_car2.predict(X_test)\n",
        "accuracy_test = accuracy_score(y_pred,y_test)\n",
        "print(accuracy_test)"
      ],
      "metadata": {
        "colab": {
          "base_uri": "https://localhost:8080/"
        },
        "id": "yB9R1KKqAP4k",
        "outputId": "f26c30c5-984d-46ff-b044-505940e66a81"
      },
      "execution_count": 54,
      "outputs": [
        {
          "output_type": "stream",
          "name": "stdout",
          "text": [
            "0.9714285714285714\n"
          ]
        }
      ]
    }
  ]
}
