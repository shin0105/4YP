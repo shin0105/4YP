{
  "nbformat": 4,
  "nbformat_minor": 0,
  "metadata": {
    "colab": {
      "provenance": [],
      "authorship_tag": "ABX9TyNRgXh1JEoHApGqGEOsYhrL",
      "include_colab_link": true
    },
    "kernelspec": {
      "name": "python3",
      "display_name": "Python 3"
    },
    "language_info": {
      "name": "python"
    }
  },
  "cells": [
    {
      "cell_type": "markdown",
      "metadata": {
        "id": "view-in-github",
        "colab_type": "text"
      },
      "source": [
        "<a href=\"https://colab.research.google.com/github/shin0105/4YP/blob/master/Boston_housing_practice.ipynb\" target=\"_parent\"><img src=\"https://colab.research.google.com/assets/colab-badge.svg\" alt=\"Open In Colab\"/></a>"
      ]
    },
    {
      "cell_type": "code",
      "execution_count": null,
      "metadata": {
        "id": "BjxwQKmmq5QW"
      },
      "outputs": [],
      "source": [
        "#installing packages\n",
        "!pip install jaxopt\n",
        "!pip install tinygp"
      ]
    },
    {
      "cell_type": "code",
      "source": [
        "#importing packages\n",
        "import numpy as np\n",
        "import matplotlib.pyplot as plt\n",
        "import jax\n",
        "import jax.numpy as jnp\n",
        "import jaxopt\n",
        "import tinygp\n",
        "jax.config.update(\"jax_enable_x64\", True)\n",
        "import pandas as pd"
      ],
      "metadata": {
        "id": "0_m1Iqhtq7R_"
      },
      "execution_count": 3,
      "outputs": []
    },
    {
      "cell_type": "code",
      "source": [
        "#reading csv file for Boston Housing Dataset\n",
        "from google.colab import files\n",
        "uploaded = files.upload()\n",
        "import io\n",
        "df2 = pd.read_csv(io.BytesIO(uploaded['hou_all.csv']))"
      ],
      "metadata": {
        "id": "nQ0vMpwZrISR"
      },
      "execution_count": null,
      "outputs": []
    },
    {
      "cell_type": "code",
      "source": [],
      "metadata": {
        "id": "yvSw7ZzRrk86"
      },
      "execution_count": null,
      "outputs": []
    }
  ]
}