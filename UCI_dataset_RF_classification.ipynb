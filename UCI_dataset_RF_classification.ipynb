{
  "nbformat": 4,
  "nbformat_minor": 0,
  "metadata": {
    "colab": {
      "provenance": [],
      "authorship_tag": "ABX9TyN3wCZ05u8YlNYQ1MmCM010",
      "include_colab_link": true
    },
    "kernelspec": {
      "name": "python3",
      "display_name": "Python 3"
    },
    "language_info": {
      "name": "python"
    }
  },
  "cells": [
    {
      "cell_type": "markdown",
      "metadata": {
        "id": "view-in-github",
        "colab_type": "text"
      },
      "source": [
        "<a href=\"https://colab.research.google.com/github/shin0105/4YP/blob/master/UCI_dataset_RF_classification.ipynb\" target=\"_parent\"><img src=\"https://colab.research.google.com/assets/colab-badge.svg\" alt=\"Open In Colab\"/></a>"
      ]
    },
    {
      "cell_type": "code",
      "execution_count": null,
      "metadata": {
        "id": "rLPXTuwQovwn"
      },
      "outputs": [],
      "source": [
        "!pip install GPyOpt\n",
        "!pip install GPy"
      ]
    },
    {
      "cell_type": "code",
      "source": [
        "#import packages\n",
        "\n",
        "#basic packages\n",
        "import pandas as pd\n",
        "import numpy as np\n",
        "import matplotlib.pyplot as plt\n",
        "import seaborn as sns\n",
        "\n",
        "#Bayesian optimization packages\n",
        "import GPy\n",
        "import GPyOpt\n",
        "\n",
        "#ML Algorithm packages\n",
        "from sklearn.model_selection import train_test_split, cross_val_score, KFold\n",
        "from sklearn.metrics import confusion_matrix, accuracy_score\n",
        "from sklearn.ensemble import RandomForestClassifier\n",
        "from sklearn import preprocessing"
      ],
      "metadata": {
        "id": "RHLDk0wJqQHz"
      },
      "execution_count": 5,
      "outputs": []
    },
    {
      "cell_type": "code",
      "source": [
        "#dataset = UCI Car Evaluation\n",
        "names=['buying','maint','doors','persons','lug_boot','safety','class']\n",
        "df = pd.read_csv('car.data', names = names)\n",
        "df.head()"
      ],
      "metadata": {
        "colab": {
          "base_uri": "https://localhost:8080/",
          "height": 206
        },
        "id": "sefirBbFuqWz",
        "outputId": "6bdaad29-9d29-41e4-cf53-448f5afb1fa2"
      },
      "execution_count": 7,
      "outputs": [
        {
          "output_type": "execute_result",
          "data": {
            "text/plain": [
              "  buying  maint doors persons lug_boot safety  class\n",
              "0  vhigh  vhigh     2       2    small    low  unacc\n",
              "1  vhigh  vhigh     2       2    small    med  unacc\n",
              "2  vhigh  vhigh     2       2    small   high  unacc\n",
              "3  vhigh  vhigh     2       2      med    low  unacc\n",
              "4  vhigh  vhigh     2       2      med    med  unacc"
            ],
            "text/html": [
              "\n",
              "  <div id=\"df-a84324df-4750-4982-a30d-0546affcd93b\">\n",
              "    <div class=\"colab-df-container\">\n",
              "      <div>\n",
              "<style scoped>\n",
              "    .dataframe tbody tr th:only-of-type {\n",
              "        vertical-align: middle;\n",
              "    }\n",
              "\n",
              "    .dataframe tbody tr th {\n",
              "        vertical-align: top;\n",
              "    }\n",
              "\n",
              "    .dataframe thead th {\n",
              "        text-align: right;\n",
              "    }\n",
              "</style>\n",
              "<table border=\"1\" class=\"dataframe\">\n",
              "  <thead>\n",
              "    <tr style=\"text-align: right;\">\n",
              "      <th></th>\n",
              "      <th>buying</th>\n",
              "      <th>maint</th>\n",
              "      <th>doors</th>\n",
              "      <th>persons</th>\n",
              "      <th>lug_boot</th>\n",
              "      <th>safety</th>\n",
              "      <th>class</th>\n",
              "    </tr>\n",
              "  </thead>\n",
              "  <tbody>\n",
              "    <tr>\n",
              "      <th>0</th>\n",
              "      <td>vhigh</td>\n",
              "      <td>vhigh</td>\n",
              "      <td>2</td>\n",
              "      <td>2</td>\n",
              "      <td>small</td>\n",
              "      <td>low</td>\n",
              "      <td>unacc</td>\n",
              "    </tr>\n",
              "    <tr>\n",
              "      <th>1</th>\n",
              "      <td>vhigh</td>\n",
              "      <td>vhigh</td>\n",
              "      <td>2</td>\n",
              "      <td>2</td>\n",
              "      <td>small</td>\n",
              "      <td>med</td>\n",
              "      <td>unacc</td>\n",
              "    </tr>\n",
              "    <tr>\n",
              "      <th>2</th>\n",
              "      <td>vhigh</td>\n",
              "      <td>vhigh</td>\n",
              "      <td>2</td>\n",
              "      <td>2</td>\n",
              "      <td>small</td>\n",
              "      <td>high</td>\n",
              "      <td>unacc</td>\n",
              "    </tr>\n",
              "    <tr>\n",
              "      <th>3</th>\n",
              "      <td>vhigh</td>\n",
              "      <td>vhigh</td>\n",
              "      <td>2</td>\n",
              "      <td>2</td>\n",
              "      <td>med</td>\n",
              "      <td>low</td>\n",
              "      <td>unacc</td>\n",
              "    </tr>\n",
              "    <tr>\n",
              "      <th>4</th>\n",
              "      <td>vhigh</td>\n",
              "      <td>vhigh</td>\n",
              "      <td>2</td>\n",
              "      <td>2</td>\n",
              "      <td>med</td>\n",
              "      <td>med</td>\n",
              "      <td>unacc</td>\n",
              "    </tr>\n",
              "  </tbody>\n",
              "</table>\n",
              "</div>\n",
              "      <button class=\"colab-df-convert\" onclick=\"convertToInteractive('df-a84324df-4750-4982-a30d-0546affcd93b')\"\n",
              "              title=\"Convert this dataframe to an interactive table.\"\n",
              "              style=\"display:none;\">\n",
              "        \n",
              "  <svg xmlns=\"http://www.w3.org/2000/svg\" height=\"24px\"viewBox=\"0 0 24 24\"\n",
              "       width=\"24px\">\n",
              "    <path d=\"M0 0h24v24H0V0z\" fill=\"none\"/>\n",
              "    <path d=\"M18.56 5.44l.94 2.06.94-2.06 2.06-.94-2.06-.94-.94-2.06-.94 2.06-2.06.94zm-11 1L8.5 8.5l.94-2.06 2.06-.94-2.06-.94L8.5 2.5l-.94 2.06-2.06.94zm10 10l.94 2.06.94-2.06 2.06-.94-2.06-.94-.94-2.06-.94 2.06-2.06.94z\"/><path d=\"M17.41 7.96l-1.37-1.37c-.4-.4-.92-.59-1.43-.59-.52 0-1.04.2-1.43.59L10.3 9.45l-7.72 7.72c-.78.78-.78 2.05 0 2.83L4 21.41c.39.39.9.59 1.41.59.51 0 1.02-.2 1.41-.59l7.78-7.78 2.81-2.81c.8-.78.8-2.07 0-2.86zM5.41 20L4 18.59l7.72-7.72 1.47 1.35L5.41 20z\"/>\n",
              "  </svg>\n",
              "      </button>\n",
              "      \n",
              "  <style>\n",
              "    .colab-df-container {\n",
              "      display:flex;\n",
              "      flex-wrap:wrap;\n",
              "      gap: 12px;\n",
              "    }\n",
              "\n",
              "    .colab-df-convert {\n",
              "      background-color: #E8F0FE;\n",
              "      border: none;\n",
              "      border-radius: 50%;\n",
              "      cursor: pointer;\n",
              "      display: none;\n",
              "      fill: #1967D2;\n",
              "      height: 32px;\n",
              "      padding: 0 0 0 0;\n",
              "      width: 32px;\n",
              "    }\n",
              "\n",
              "    .colab-df-convert:hover {\n",
              "      background-color: #E2EBFA;\n",
              "      box-shadow: 0px 1px 2px rgba(60, 64, 67, 0.3), 0px 1px 3px 1px rgba(60, 64, 67, 0.15);\n",
              "      fill: #174EA6;\n",
              "    }\n",
              "\n",
              "    [theme=dark] .colab-df-convert {\n",
              "      background-color: #3B4455;\n",
              "      fill: #D2E3FC;\n",
              "    }\n",
              "\n",
              "    [theme=dark] .colab-df-convert:hover {\n",
              "      background-color: #434B5C;\n",
              "      box-shadow: 0px 1px 3px 1px rgba(0, 0, 0, 0.15);\n",
              "      filter: drop-shadow(0px 1px 2px rgba(0, 0, 0, 0.3));\n",
              "      fill: #FFFFFF;\n",
              "    }\n",
              "  </style>\n",
              "\n",
              "      <script>\n",
              "        const buttonEl =\n",
              "          document.querySelector('#df-a84324df-4750-4982-a30d-0546affcd93b button.colab-df-convert');\n",
              "        buttonEl.style.display =\n",
              "          google.colab.kernel.accessAllowed ? 'block' : 'none';\n",
              "\n",
              "        async function convertToInteractive(key) {\n",
              "          const element = document.querySelector('#df-a84324df-4750-4982-a30d-0546affcd93b');\n",
              "          const dataTable =\n",
              "            await google.colab.kernel.invokeFunction('convertToInteractive',\n",
              "                                                     [key], {});\n",
              "          if (!dataTable) return;\n",
              "\n",
              "          const docLinkHtml = 'Like what you see? Visit the ' +\n",
              "            '<a target=\"_blank\" href=https://colab.research.google.com/notebooks/data_table.ipynb>data table notebook</a>'\n",
              "            + ' to learn more about interactive tables.';\n",
              "          element.innerHTML = '';\n",
              "          dataTable['output_type'] = 'display_data';\n",
              "          await google.colab.output.renderOutput(dataTable, element);\n",
              "          const docLink = document.createElement('div');\n",
              "          docLink.innerHTML = docLinkHtml;\n",
              "          element.appendChild(docLink);\n",
              "        }\n",
              "      </script>\n",
              "    </div>\n",
              "  </div>\n",
              "  "
            ]
          },
          "metadata": {},
          "execution_count": 7
        }
      ]
    },
    {
      "cell_type": "code",
      "source": [
        "#frequency distribution\n",
        "for col in names: \n",
        "    print(df[col].value_counts())\n",
        "\n",
        "#checking missing values\n",
        "df.isnull().sum()"
      ],
      "metadata": {
        "colab": {
          "base_uri": "https://localhost:8080/"
        },
        "id": "KfIp-9ovxyjA",
        "outputId": "a40aaa25-55ab-465b-d1f9-e63c449ef033"
      },
      "execution_count": 8,
      "outputs": [
        {
          "output_type": "stream",
          "name": "stdout",
          "text": [
            "vhigh    432\n",
            "high     432\n",
            "med      432\n",
            "low      432\n",
            "Name: buying, dtype: int64\n",
            "vhigh    432\n",
            "high     432\n",
            "med      432\n",
            "low      432\n",
            "Name: maint, dtype: int64\n",
            "2        432\n",
            "3        432\n",
            "4        432\n",
            "5more    432\n",
            "Name: doors, dtype: int64\n",
            "2       576\n",
            "4       576\n",
            "more    576\n",
            "Name: persons, dtype: int64\n",
            "small    576\n",
            "med      576\n",
            "big      576\n",
            "Name: lug_boot, dtype: int64\n",
            "low     576\n",
            "med     576\n",
            "high    576\n",
            "Name: safety, dtype: int64\n",
            "unacc    1210\n",
            "acc       384\n",
            "good       69\n",
            "vgood      65\n",
            "Name: class, dtype: int64\n"
          ]
        },
        {
          "output_type": "execute_result",
          "data": {
            "text/plain": [
              "buying      0\n",
              "maint       0\n",
              "doors       0\n",
              "persons     0\n",
              "lug_boot    0\n",
              "safety      0\n",
              "class       0\n",
              "dtype: int64"
            ]
          },
          "metadata": {},
          "execution_count": 8
        }
      ]
    },
    {
      "cell_type": "code",
      "source": [
        "#Convert categorical labels to numbers\n",
        "le = preprocessing.LabelEncoder()\n",
        "\n",
        "for col in names: \n",
        "  df[col] = le.fit_transform(df[col])\n",
        "\n",
        "df.head()\n",
        "for col in names: \n",
        "    print(df[col].value_counts())"
      ],
      "metadata": {
        "colab": {
          "base_uri": "https://localhost:8080/"
        },
        "id": "NXEKCi4KzThJ",
        "outputId": "cb1d8bf7-b8f5-465a-f4cd-d3636318af3a"
      },
      "execution_count": 9,
      "outputs": [
        {
          "output_type": "stream",
          "name": "stdout",
          "text": [
            "3    432\n",
            "0    432\n",
            "2    432\n",
            "1    432\n",
            "Name: buying, dtype: int64\n",
            "3    432\n",
            "0    432\n",
            "2    432\n",
            "1    432\n",
            "Name: maint, dtype: int64\n",
            "0    432\n",
            "1    432\n",
            "2    432\n",
            "3    432\n",
            "Name: doors, dtype: int64\n",
            "0    576\n",
            "1    576\n",
            "2    576\n",
            "Name: persons, dtype: int64\n",
            "2    576\n",
            "1    576\n",
            "0    576\n",
            "Name: lug_boot, dtype: int64\n",
            "1    576\n",
            "2    576\n",
            "0    576\n",
            "Name: safety, dtype: int64\n",
            "2    1210\n",
            "0     384\n",
            "1      69\n",
            "3      65\n",
            "Name: class, dtype: int64\n"
          ]
        }
      ]
    },
    {
      "cell_type": "code",
      "source": [
        "X = df.drop(['class'], axis=1)\n",
        "y = df['class']\n",
        "\n",
        "#splitting train data and test data\n",
        "X_train, X_test, y_train, y_test = train_test_split(X, y, test_size = 0.3, random_state = 42)"
      ],
      "metadata": {
        "id": "E9YKVdl60lfm"
      },
      "execution_count": 10,
      "outputs": []
    },
    {
      "cell_type": "code",
      "source": [
        "def kfold_score(clf,X,y,n_fold):\n",
        "    X,y = X.values,y.values\n",
        "    kfold = KFold(n_splits=n_fold, shuffle=True, random_state=1)\n",
        "    accuracy_list = []\n",
        "\n",
        "    for train_index, test_index in kfold.split(X, y):\n",
        "        x_train_fold, x_test_fold = X[train_index], X[test_index]\n",
        "        y_train_fold, y_test_fold = y[train_index], y[test_index]\n",
        "        clf.fit(x_train_fold, y_train_fold)\n",
        "        preds = clf.predict(x_test_fold)\n",
        "        accuracy_test = accuracy_score(preds,y_test_fold)\n",
        "        accuracy_list.append(accuracy_test)\n",
        "    return np.array(accuracy_list).mean()"
      ],
      "metadata": {
        "id": "WewTEIxz336f"
      },
      "execution_count": 11,
      "outputs": []
    },
    {
      "cell_type": "code",
      "source": [
        "bounds = [\n",
        "        {'name': 'max_features', 'type': 'continuous', 'domain': (1, 5)},\n",
        "        {'name': 'n_estimators', 'type': 'continuous', 'domain': (1, 200)}\n",
        "      ]\n",
        "\n",
        "def rf_score(parameters):\n",
        "  params = {\n",
        "        'max_features':int(parameters[0][0]),\n",
        "        'n_estimators':int(parameters[0][1])\n",
        "    }\n",
        "  \n",
        "  clf = RandomForestClassifier(max_features=params['max_features'],n_estimators=params['n_estimators'])\n",
        "  clf.fit(X_train,y_train)\n",
        "  y_pred = clf.predict(X_test)\n",
        "  score = kfold_score(clf,X_train, y_train,10)\n",
        "\n",
        "  print(params)\n",
        "  print(score)\n",
        "  return score"
      ],
      "metadata": {
        "id": "fDw19dgo2Iz7"
      },
      "execution_count": 22,
      "outputs": []
    },
    {
      "cell_type": "code",
      "source": [
        "kernel = GPy.kern.Matern52(input_dim=1, variance=1.0, lengthscale=1.0)\n",
        "optimizer = GPyOpt.methods.BayesianOptimization(f=rf_score, \n",
        "                                                domain=bounds,\n",
        "                                                acquisition_type ='EI',\n",
        "                                                initial_design_numdata = 5,\n",
        "                                                model_type='GP',\n",
        "                                                maximize=True,\n",
        "                                                kernel=kernel\n",
        "                                                )\n",
        "\n",
        "optimizer.run_optimization(max_iter=20)\n",
        "\n",
        "#maximum accuracy score\n",
        "acc_max=optimizer.fx_opt\n",
        "#best parameters\n",
        "params_best=optimizer.x_opt\n",
        "print(acc_max)\n",
        "print(params_best)"
      ],
      "metadata": {
        "colab": {
          "base_uri": "https://localhost:8080/"
        },
        "id": "3Tq9e-gk3VPW",
        "outputId": "9aa58b2b-65c7-4bd4-fd1c-82885e37a3bb"
      },
      "execution_count": 23,
      "outputs": [
        {
          "output_type": "stream",
          "name": "stdout",
          "text": [
            "{'max_features': 1, 'n_estimators': 62}\n",
            "0.9388154269972452\n",
            "{'max_features': 1, 'n_estimators': 50}\n",
            "0.9346625344352617\n",
            "{'max_features': 2, 'n_estimators': 129}\n",
            "0.9677548209366391\n",
            "{'max_features': 4, 'n_estimators': 178}\n",
            "0.9785055096418734\n",
            "{'max_features': 4, 'n_estimators': 109}\n",
            "0.9785055096418734\n",
            "{'max_features': 3, 'n_estimators': 193}\n",
            "0.9743663911845729\n",
            "{'max_features': 4, 'n_estimators': 64}\n",
            "0.9784986225895315\n",
            "{'max_features': 4, 'n_estimators': 2}\n",
            "0.9239256198347107\n",
            "{'max_features': 4, 'n_estimators': 62}\n",
            "0.9776859504132231\n",
            "{'max_features': 3, 'n_estimators': 160}\n",
            "0.9743663911845729\n",
            "{'max_features': 5, 'n_estimators': 53}\n",
            "0.9809848484848486\n",
            "{'max_features': 2, 'n_estimators': 153}\n",
            "0.9677548209366391\n",
            "{'max_features': 3, 'n_estimators': 43}\n",
            "0.9768526170798898\n",
            "{'max_features': 3, 'n_estimators': 80}\n",
            "0.976845730027548\n",
            "{'max_features': 2, 'n_estimators': 46}\n",
            "0.9611363636363637\n",
            "{'max_features': 1, 'n_estimators': 80}\n",
            "0.9437878787878787\n",
            "{'max_features': 2, 'n_estimators': 195}\n",
            "0.9694146005509643\n",
            "{'max_features': 3, 'n_estimators': 106}\n",
            "0.9760261707988981\n",
            "{'max_features': 2, 'n_estimators': 81}\n",
            "0.970241046831956\n",
            "{'max_features': 3, 'n_estimators': 91}\n",
            "0.9801515151515151\n",
            "{'max_features': 4, 'n_estimators': 64}\n",
            "0.982637741046832\n",
            "{'max_features': 1, 'n_estimators': 5}\n",
            "0.8866804407713499\n",
            "{'max_features': 1, 'n_estimators': 12}\n",
            "0.9098484848484848\n",
            "{'max_features': 2, 'n_estimators': 126}\n",
            "0.9718939393939395\n",
            "{'max_features': 2, 'n_estimators': 80}\n",
            "0.9636225895316803\n",
            "-0.982637741046832\n",
            "[ 4.95541518 64.7956777 ]\n"
          ]
        }
      ]
    },
    {
      "cell_type": "code",
      "source": [
        "optimizer.plot_convergence()"
      ],
      "metadata": {
        "colab": {
          "base_uri": "https://localhost:8080/",
          "height": 350
        },
        "id": "hGJcJep8nJii",
        "outputId": "1410d3c2-4cc1-4372-c98c-7b9c69a1e35a"
      },
      "execution_count": 24,
      "outputs": [
        {
          "output_type": "display_data",
          "data": {
            "text/plain": [
              "<Figure size 720x360 with 2 Axes>"
            ],
            "image/png": "[encoded data removed]"
          },
          "metadata": {
            "needs_background": "light"
          }
        }
      ]
    },
    {
      "cell_type": "code",
      "source": [
        "rf_car = RandomForestClassifier(max_features=4,n_estimators=64)\n",
        "rf_car.fit(X_train,y_train)\n",
        "y_pred = rf_car.predict(X_test)\n",
        "accuracy_test = accuracy_score(y_pred,y_test)\n",
        "print(accuracy_test)"
      ],
      "metadata": {
        "colab": {
          "base_uri": "https://localhost:8080/"
        },
        "id": "lTCmDT0KppGU",
        "outputId": "420f8157-5252-4e07-deed-1de1d94e67b7"
      },
      "execution_count": 25,
      "outputs": [
        {
          "output_type": "stream",
          "name": "stdout",
          "text": [
            "0.9633911368015414\n"
          ]
        }
      ]
    },
    {
      "cell_type": "code",
      "source": [
        "kernel2 = GPy.kern.Matern52(input_dim=1, variance=1.0, lengthscale=1.0) + GPy.kern.ExpQuad(input_dim=1,variance=1.0,lengthscale=1.0)\n",
        "optimizer = GPyOpt.methods.BayesianOptimization(f=rf_score, \n",
        "                                                domain=bounds,\n",
        "                                                acquisition_type ='EI',\n",
        "                                                initial_design_numdata = 5,\n",
        "                                                model_type='GP',\n",
        "                                                maximize=True,\n",
        "                                                kernel=kernel2\n",
        "                                                )\n",
        "\n",
        "optimizer.run_optimization(max_iter=20)\n",
        "\n",
        "#maximum accuracy score\n",
        "acc_max=optimizer.fx_opt\n",
        "#best parameters\n",
        "params_best=optimizer.x_opt\n",
        "print(acc_max)\n",
        "print(params_best)\n",
        "\n",
        "optimizer.plot_convergence()"
      ],
      "metadata": {
        "colab": {
          "base_uri": "https://localhost:8080/",
          "height": 1000
        },
        "id": "9IJ7rx_VsTS6",
        "outputId": "1ea44850-9101-417e-94c9-74a36ebaaa44"
      },
      "execution_count": 26,
      "outputs": [
        {
          "output_type": "stream",
          "name": "stdout",
          "text": [
            "{'max_features': 4, 'n_estimators': 27}\n",
            "0.9785055096418732\n",
            "{'max_features': 4, 'n_estimators': 104}\n",
            "0.9809848484848486\n",
            "{'max_features': 4, 'n_estimators': 125}\n",
            "0.9809848484848486\n",
            "{'max_features': 4, 'n_estimators': 45}\n",
            "0.9801515151515151\n",
            "{'max_features': 3, 'n_estimators': 138}\n",
            "0.9751997245179064\n",
            "{'max_features': 1, 'n_estimators': 32}\n",
            "0.9255922865013775\n",
            "{'max_features': 5, 'n_estimators': 37}\n",
            "0.97849173553719\n",
            "{'max_features': 4, 'n_estimators': 144}\n",
            "0.9793319559228651\n",
            "{'max_features': 4, 'n_estimators': 28}\n",
            "0.9776790633608815\n",
            "{'max_features': 4, 'n_estimators': 73}\n",
            "0.9785055096418734\n",
            "{'max_features': 4, 'n_estimators': 3}\n",
            "0.95534435261708\n",
            "{'max_features': 4, 'n_estimators': 111}\n",
            "0.9768526170798898\n",
            "{'max_features': 4, 'n_estimators': 178}\n",
            "0.9801584022038569\n",
            "{'max_features': 4, 'n_estimators': 24}\n",
            "0.9710674931129477\n",
            "{'max_features': 4, 'n_estimators': 67}\n",
            "0.9809848484848486\n",
            "{'max_features': 5, 'n_estimators': 98}\n",
            "0.9776790633608817\n",
            "{'max_features': 5, 'n_estimators': 66}\n",
            "0.9826308539944903\n",
            "{'max_features': 5, 'n_estimators': 34}\n",
            "0.9793388429752067\n",
            "{'max_features': 5, 'n_estimators': 59}\n",
            "0.976845730027548\n",
            "{'max_features': 5, 'n_estimators': 89}\n",
            "0.9793319559228651\n",
            "{'max_features': 5, 'n_estimators': 70}\n",
            "0.9809848484848486\n",
            "{'max_features': 5, 'n_estimators': 43}\n",
            "0.9776721763085398\n",
            "{'max_features': 5, 'n_estimators': 59}\n",
            "0.9776790633608817\n",
            "{'max_features': 5, 'n_estimators': 20}\n",
            "0.9760330578512397\n",
            "{'max_features': 5, 'n_estimators': 21}\n",
            "0.9785123966942149\n",
            "-0.9826308539944903\n",
            "[ 5.        66.8073719]\n"
          ]
        },
        {
          "output_type": "display_data",
          "data": {
            "text/plain": [
              "<Figure size 720x360 with 2 Axes>"
            ],
            "image/png": "[encoded data removed]"
          },
          "metadata": {
            "needs_background": "light"
          }
        }
      ]
    },
    {
      "cell_type": "code",
      "source": [
        "rf_car2 = RandomForestClassifier(max_features=4,n_estimators=64)\n",
        "rf_car2.fit(X_train,y_train)\n",
        "y_pred = rf_car2.predict(X_test)\n",
        "accuracy_test = accuracy_score(y_pred,y_test)\n",
        "print(accuracy_test)"
      ],
      "metadata": {
        "colab": {
          "base_uri": "https://localhost:8080/"
        },
        "id": "wwv3UHhrs_Wb",
        "outputId": "5572c779-d025-4a42-bd8f-2a70cd68f1e2"
      },
      "execution_count": 27,
      "outputs": [
        {
          "output_type": "stream",
          "name": "stdout",
          "text": [
            "0.9653179190751445\n"
          ]
        }
      ]
    }
  ]
}