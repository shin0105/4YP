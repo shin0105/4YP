{
  "nbformat": 4,
  "nbformat_minor": 0,
  "metadata": {
    "colab": {
      "provenance": [],
      "authorship_tag": "ABX9TyMiVfDrpS52329HmbCDrZzq",
      "include_colab_link": true
    },
    "kernelspec": {
      "name": "python3",
      "display_name": "Python 3"
    },
    "language_info": {
      "name": "python"
    }
  },
  "cells": [
    {
      "cell_type": "markdown",
      "metadata": {
        "id": "view-in-github",
        "colab_type": "text"
      },
      "source": [
        "<a href=\"https://colab.research.google.com/github/shin0105/4YP/blob/master/tinygp_practice_plots.ipynb\" target=\"_parent\"><img src=\"https://colab.research.google.com/assets/colab-badge.svg\" alt=\"Open In Colab\"/></a>"
      ]
    },
    {
      "cell_type": "code",
      "execution_count": null,
      "metadata": {
        "id": "RpS_uToT1YOp"
      },
      "outputs": [],
      "source": [
        "#installing packages\n",
        "!pip install jaxopt\n",
        "!pip install tinygp"
      ]
    },
    {
      "cell_type": "code",
      "source": [
        "#importing packages\n",
        "import numpy as np\n",
        "import matplotlib.pyplot as plt\n",
        "import jax\n",
        "import jax.numpy as jnp\n",
        "import jaxopt\n",
        "import tinygp\n",
        "jax.config.update(\"jax_enable_x64\", True)"
      ],
      "metadata": {
        "id": "fKr7PbHR1m9x"
      },
      "execution_count": null,
      "outputs": []
    },
    {
      "cell_type": "code",
      "source": [
        "#Plotting heat-map function (y_pred, y_true, variance)\n",
        "def plotheatmap(X, y_pred, y_true, var):\n",
        "  fig, axes = plt.subplots(1, 3, figsize=(18, 6), sharex=True, sharey=True)\n",
        "  axes[0].plot(xy[0], xy[1], \"--k\", lw=0.5)\n",
        "  axes[0].pcolor(X[:,0], X[:,1], y_pred, vmin=y_pred.min(), vmax=y_pred.max())\n",
        "  axes[1].pcolor(X[:,0], X[:,1], y_true, vmin=y_true.min(), vmax=y_true.max())\n",
        "  axes[2].pcolor(X[:,0], X[:,1], var)\n",
        "  axes[0].set_xlabel(\"x1\")\n",
        "  axes[0].set_ylabel(\"x2\")\n",
        "  axes[0].set_title(\"y_pred\")\n",
        "  axes[1].set_xlabel(\"x1\")\n",
        "  axes[1].set_ylabel(\"x2\")\n",
        "  axes[1].set_title(\"y_true\")\n",
        "  axes[2].set_xlabel(\"x1\")\n",
        "  axes[2].set_ylabel(\"x2\")\n",
        "  axes[2].set_title(\"variance\")\n",
        "  return"
      ],
      "metadata": {
        "id": "_-tx7c-6wmCh"
      },
      "execution_count": null,
      "outputs": []
    },
    {
      "cell_type": "code",
      "source": [
        "#plotting for simple function as practice\n",
        "#drop-wave function\n",
        "\n",
        "#description of function\n",
        "X = np.linspace((-5.12,-5.12),(5.12,5.12),10)\n",
        "yerr = 0.01\n",
        "y = -(1+np.cos(12*np.sqrt(X[:, 0]**2+X[:, 1]**2)))/(0.5*(X[:, 0]**2+X[:, 1]**2)+2) + yerr * np.random.normal(\n",
        "    size=len(X))\n",
        "X1,X2 = np.meshgrid(X[:,0], X[:,1])\n",
        "y_true = -(1+np.cos(12*np.sqrt(X1**2+X2**2)))/(0.5*(X1**2+X2**2)+2)\n",
        "\n",
        "#Gaussian noise\n",
        "obs = -(1+np.cos(12*np.sqrt(X1**2+X2**2)))/(0.5*(X1**2+X2**2)+2) + + yerr * np.random.normal(\n",
        "    size=len(X))\n",
        "X_pred = np.vstack((X1.flatten(), X2.flatten())).T\n",
        "\n",
        "#hyperparameters\n",
        "params = {\n",
        "        \"log_amp\": np.float64(0.3),\n",
        "        \"log_scale\": np.zeros(2),\n",
        "    }\n",
        "\n",
        "#Kernel = Matern52\n",
        "kernel = jnp.exp(params[\"log_amp\"]) * tinygp.transforms.Linear(\n",
        "        jnp.exp(-params[\"log_scale\"]), tinygp.kernels.Matern52()\n",
        "    )\n",
        "gp = tinygp.GaussianProcess(kernel, X, diag=yerr**2)\n",
        "\n",
        "#loss function\n",
        "@jax.jit\n",
        "def loss(params):\n",
        "    return gp.log_probability(y)\n",
        "\n",
        "#minimizing loss function\n",
        "solver = jaxopt.ScipyMinimize(fun=loss)\n",
        "soln = solver.run(params)\n",
        "print(\"Maximum likelihood parameters:\")\n",
        "print(soln.params)\n",
        "\n",
        "y_pred = gp.condition(y, X_pred).gp.loc.reshape(y_true.shape)\n",
        "\n",
        "#finding mean and variance\n",
        "gp_cond = gp.condition(y, X_pred).gp\n",
        "mu, var = gp_cond.loc, gp_cond.variance\n",
        "var = var.reshape(y_true.shape)\n",
        "\n",
        "#Producing covariance elcipse\n",
        "theta = np.linspace(0, 2 * np.pi, 500)[None, :]\n",
        "ellipse = 0.5 * np.concatenate((np.cos(theta), np.sin(theta)), axis=0)\n",
        "xy = ellipse / gp.kernel.kernel2.scale[:, None]\n",
        "\n",
        "#Plotting results in heatmap\n",
        "plotheatmap(X, y_pred, y_true, var)\n",
        "\n",
        "#printing results, comparing trained(predicted) data vs. true value\n",
        "print(f\"Predicted minimum y value using GP: {y_pred.min()}\")"
      ],
      "metadata": {
        "colab": {
          "base_uri": "https://localhost:8080/",
          "height": 458
        },
        "id": "n-12zucu6RuF",
        "outputId": "7e7ef929-d0cb-4135-ee7e-6f3a5dab0cd8"
      },
      "execution_count": null,
      "outputs": [
        {
          "output_type": "stream",
          "name": "stdout",
          "text": [
            "Maximum likelihood parameters:\n",
            "{'log_amp': DeviceArray(0.3, dtype=float64), 'log_scale': DeviceArray([0., 0.], dtype=float64)}\n",
            "Predicted minimum y value using GP: -0.07953649861053572\n"
          ]
        },
        {
          "output_type": "display_data",
          "data": {
            "text/plain": [
              "<Figure size 1296x432 with 3 Axes>"
            ],
            "image/png": "[encoded data removed]"
          },
          "metadata": {
            "needs_background": "light"
          }
        }
      ]
    },
    {
      "cell_type": "code",
      "source": [
        "#BOHACHEVSKY FUNCTIONS using tinygp (Matern series)\n",
        "\n",
        "#BOHACHEVSKY FUNCTIONS description\n",
        "X = np.linspace((-100,-100),(100,100),10)\n",
        "yerr = 0.01\n",
        "y = X[:,0]**2 + 2*X[:,1]**2 - 0.3*np.cos(3*np.pi*X[:,0]) - 0.4*np.cos(4*np.pi*X[:,1]) + 0.7 + yerr * np.random.normal(\n",
        "    size=len(X))\n",
        "\n",
        "X1,X2 = np.meshgrid(X[:,0], X[:,1])\n",
        "y_true = X1**2 + 2*X2**2 - 0.3*np.cos(3*np.pi*X1) - 0.4*np.cos(4*np.pi*X2) +0.7\n",
        "X_pred = np.vstack((X1.flatten(), X2.flatten())).T\n",
        "\n",
        "#hyperparameters\n",
        "params = {\n",
        "        \"log_amp\": np.float64(0.3),\n",
        "        \"log_scale\": np.zeros(2),\n",
        "    }\n",
        "\n",
        "#Kernel = Matern52\n",
        "kernel = jnp.exp(params[\"log_amp\"]) * tinygp.transforms.Linear(\n",
        "        jnp.exp(-params[\"log_scale\"]), tinygp.kernels.Matern52()\n",
        "    )\n",
        "gp = tinygp.GaussianProcess(kernel, X, diag=yerr**2)\n",
        "\n",
        "#loss function\n",
        "@jax.jit\n",
        "def loss(params):\n",
        "    return gp.log_probability(y)\n",
        "\n",
        "#minimizing loss function\n",
        "solver = jaxopt.ScipyMinimize(fun=loss)\n",
        "soln = solver.run(params)\n",
        "print(\"Maximum likelihood parameters:\")\n",
        "print(soln.params)\n",
        "\n",
        "y_pred = gp.condition(y, X_pred).gp.loc.reshape(y_true.shape)\n",
        "\n",
        "#finding mean and variance\n",
        "gp_cond = gp.condition(y, X_pred).gp\n",
        "mu, var = gp_cond.loc, gp_cond.variance\n",
        "var = var.reshape(y_true.shape)\n",
        "\n",
        "#Producing covariance elcipse\n",
        "theta = np.linspace(0, 2 * np.pi, 500)[None, :]\n",
        "ellipse = 0.5 * np.concatenate((np.cos(theta), np.sin(theta)), axis=0)\n",
        "xy = ellipse / gp.kernel.kernel2.scale[:, None]\n",
        "\n",
        "#Plotting results in heatmap\n",
        "plotheatmap(X, y_pred, y_true, var)\n",
        "\n",
        "#printing results, comparing trained(predicted) data vs. true value\n",
        "print(f\"Predicted minimum y value using GP: {y_pred.min()}\")"
      ],
      "metadata": {
        "colab": {
          "base_uri": "https://localhost:8080/",
          "height": 458
        },
        "id": "8NaZeGE8cI-q",
        "outputId": "89a12383-c4af-44fc-f3a6-e19de751f79d"
      },
      "execution_count": null,
      "outputs": [
        {
          "output_type": "stream",
          "name": "stdout",
          "text": [
            "Maximum likelihood parameters:\n",
            "{'log_amp': DeviceArray(0.3, dtype=float64), 'log_scale': DeviceArray([0., 0.], dtype=float64)}\n",
            "Predicted minimum y value using GP: 4.9154409017147324e-185\n"
          ]
        },
        {
          "output_type": "display_data",
          "data": {
            "text/plain": [
              "<Figure size 1296x432 with 3 Axes>"
            ],
            "image/png": "[encoded data removed]"
          },
          "metadata": {
            "needs_background": "light"
          }
        }
      ]
    }
  ]
}
