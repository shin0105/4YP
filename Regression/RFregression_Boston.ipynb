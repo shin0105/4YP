{
  "cells": [
    {
      "cell_type": "code",
      "execution_count": null,
      "metadata": {
        "id": "f4PGrJ3y3tS8"
      },
      "outputs": [],
      "source": [
        "!pip install bayesian-optimization\n",
        "!pip install GPyOpt"
      ]
    },
    {
      "cell_type": "code",
      "execution_count": 2,
      "metadata": {
        "id": "1FjAurG5Yyoo"
      },
      "outputs": [],
      "source": [
        "#import packages\n",
        "from sklearn.model_selection import train_test_split,cross_val_score,StratifiedKFold\n",
        "from sklearn import ensemble\n",
        "from sklearn.metrics import mean_squared_error,accuracy_score\n",
        "import pandas as pd\n",
        "from sklearn.ensemble import RandomForestRegressor\n",
        "import numpy as np\n",
        "import matplotlib.pyplot as plt\n",
        "from bayes_opt import BayesianOptimization\n",
        "import seaborn as sns"
      ]
    },
    {
      "cell_type": "code",
      "execution_count": 3,
      "metadata": {
        "colab": {
          "base_uri": "https://localhost:8080/",
          "height": 263
        },
        "id": "wBPUHD2xZiqe",
        "outputId": "04cda07e-7598-4602-fd55-b589b6490da7"
      },
      "outputs": [
        {
          "data": {
            "text/html": [
              "\n",
              "     <input type=\"file\" id=\"files-13a77859-eae0-4d3e-bdde-d845b918ca53\" name=\"files[]\" multiple disabled\n",
              "        style=\"border:none\" />\n",
              "     <output id=\"result-13a77859-eae0-4d3e-bdde-d845b918ca53\">\n",
              "      Upload widget is only available when the cell has been executed in the\n",
              "      current browser session. Please rerun this cell to enable.\n",
              "      </output>\n",
              "      <script>// Copyright 2017 Google LLC\n",
              "//\n",
              "// Licensed under the Apache License, Version 2.0 (the \"License\");\n",
              "// you may not use this file except in compliance with the License.\n",
              "// You may obtain a copy of the License at\n",
              "//\n",
              "//      http://www.apache.org/licenses/LICENSE-2.0\n",
              "//\n",
              "// Unless required by applicable law or agreed to in writing, software\n",
              "// distributed under the License is distributed on an \"AS IS\" BASIS,\n",
              "// WITHOUT WARRANTIES OR CONDITIONS OF ANY KIND, either express or implied.\n",
              "// See the License for the specific language governing permissions and\n",
              "// limitations under the License.\n",
              "\n",
              "/**\n",
              " * @fileoverview Helpers for google.colab Python module.\n",
              " */\n",
              "(function(scope) {\n",
              "function span(text, styleAttributes = {}) {\n",
              "  const element = document.createElement('span');\n",
              "  element.textContent = text;\n",
              "  for (const key of Object.keys(styleAttributes)) {\n",
              "    element.style[key] = styleAttributes[key];\n",
              "  }\n",
              "  return element;\n",
              "}\n",
              "\n",
              "// Max number of bytes which will be uploaded at a time.\n",
              "const MAX_PAYLOAD_SIZE = 100 * 1024;\n",
              "\n",
              "function _uploadFiles(inputId, outputId) {\n",
              "  const steps = uploadFilesStep(inputId, outputId);\n",
              "  const outputElement = document.getElementById(outputId);\n",
              "  // Cache steps on the outputElement to make it available for the next call\n",
              "  // to uploadFilesContinue from Python.\n",
              "  outputElement.steps = steps;\n",
              "\n",
              "  return _uploadFilesContinue(outputId);\n",
              "}\n",
              "\n",
              "// This is roughly an async generator (not supported in the browser yet),\n",
              "// where there are multiple asynchronous steps and the Python side is going\n",
              "// to poll for completion of each step.\n",
              "// This uses a Promise to block the python side on completion of each step,\n",
              "// then passes the result of the previous step as the input to the next step.\n",
              "function _uploadFilesContinue(outputId) {\n",
              "  const outputElement = document.getElementById(outputId);\n",
              "  const steps = outputElement.steps;\n",
              "\n",
              "  const next = steps.next(outputElement.lastPromiseValue);\n",
              "  return Promise.resolve(next.value.promise).then((value) => {\n",
              "    // Cache the last promise value to make it available to the next\n",
              "    // step of the generator.\n",
              "    outputElement.lastPromiseValue = value;\n",
              "    return next.value.response;\n",
              "  });\n",
              "}\n",
              "\n",
              "/**\n",
              " * Generator function which is called between each async step of the upload\n",
              " * process.\n",
              " * @param {string} inputId Element ID of the input file picker element.\n",
              " * @param {string} outputId Element ID of the output display.\n",
              " * @return {!Iterable<!Object>} Iterable of next steps.\n",
              " */\n",
              "function* uploadFilesStep(inputId, outputId) {\n",
              "  const inputElement = document.getElementById(inputId);\n",
              "  inputElement.disabled = false;\n",
              "\n",
              "  const outputElement = document.getElementById(outputId);\n",
              "  outputElement.innerHTML = '';\n",
              "\n",
              "  const pickedPromise = new Promise((resolve) => {\n",
              "    inputElement.addEventListener('change', (e) => {\n",
              "      resolve(e.target.files);\n",
              "    });\n",
              "  });\n",
              "\n",
              "  const cancel = document.createElement('button');\n",
              "  inputElement.parentElement.appendChild(cancel);\n",
              "  cancel.textContent = 'Cancel upload';\n",
              "  const cancelPromise = new Promise((resolve) => {\n",
              "    cancel.onclick = () => {\n",
              "      resolve(null);\n",
              "    };\n",
              "  });\n",
              "\n",
              "  // Wait for the user to pick the files.\n",
              "  const files = yield {\n",
              "    promise: Promise.race([pickedPromise, cancelPromise]),\n",
              "    response: {\n",
              "      action: 'starting',\n",
              "    }\n",
              "  };\n",
              "\n",
              "  cancel.remove();\n",
              "\n",
              "  // Disable the input element since further picks are not allowed.\n",
              "  inputElement.disabled = true;\n",
              "\n",
              "  if (!files) {\n",
              "    return {\n",
              "      response: {\n",
              "        action: 'complete',\n",
              "      }\n",
              "    };\n",
              "  }\n",
              "\n",
              "  for (const file of files) {\n",
              "    const li = document.createElement('li');\n",
              "    li.append(span(file.name, {fontWeight: 'bold'}));\n",
              "    li.append(span(\n",
              "        `(${file.type || 'n/a'}) - ${file.size} bytes, ` +\n",
              "        `last modified: ${\n",
              "            file.lastModifiedDate ? file.lastModifiedDate.toLocaleDateString() :\n",
              "                                    'n/a'} - `));\n",
              "    const percent = span('0% done');\n",
              "    li.appendChild(percent);\n",
              "\n",
              "    outputElement.appendChild(li);\n",
              "\n",
              "    const fileDataPromise = new Promise((resolve) => {\n",
              "      const reader = new FileReader();\n",
              "      reader.onload = (e) => {\n",
              "        resolve(e.target.result);\n",
              "      };\n",
              "      reader.readAsArrayBuffer(file);\n",
              "    });\n",
              "    // Wait for the data to be ready.\n",
              "    let fileData = yield {\n",
              "      promise: fileDataPromise,\n",
              "      response: {\n",
              "        action: 'continue',\n",
              "      }\n",
              "    };\n",
              "\n",
              "    // Use a chunked sending to avoid message size limits. See b/62115660.\n",
              "    let position = 0;\n",
              "    do {\n",
              "      const length = Math.min(fileData.byteLength - position, MAX_PAYLOAD_SIZE);\n",
              "      const chunk = new Uint8Array(fileData, position, length);\n",
              "      position += length;\n",
              "\n",
              "      const base64 = btoa(String.fromCharCode.apply(null, chunk));\n",
              "      yield {\n",
              "        response: {\n",
              "          action: 'append',\n",
              "          file: file.name,\n",
              "          data: base64,\n",
              "        },\n",
              "      };\n",
              "\n",
              "      let percentDone = fileData.byteLength === 0 ?\n",
              "          100 :\n",
              "          Math.round((position / fileData.byteLength) * 100);\n",
              "      percent.textContent = `${percentDone}% done`;\n",
              "\n",
              "    } while (position < fileData.byteLength);\n",
              "  }\n",
              "\n",
              "  // All done.\n",
              "  yield {\n",
              "    response: {\n",
              "      action: 'complete',\n",
              "    }\n",
              "  };\n",
              "}\n",
              "\n",
              "scope.google = scope.google || {};\n",
              "scope.google.colab = scope.google.colab || {};\n",
              "scope.google.colab._files = {\n",
              "  _uploadFiles,\n",
              "  _uploadFilesContinue,\n",
              "};\n",
              "})(self);\n",
              "</script> "
            ],
            "text/plain": [
              "<IPython.core.display.HTML object>"
            ]
          },
          "metadata": {},
          "output_type": "display_data"
        },
        {
          "name": "stdout",
          "output_type": "stream",
          "text": [
            "Saving hou_all.csv to hou_all.csv\n"
          ]
        },
        {
          "data": {
            "text/html": [
              "\n",
              "  <div id=\"df-9df7caf0-6d8d-473e-82e1-6a25572f21ad\">\n",
              "    <div class=\"colab-df-container\">\n",
              "      <div>\n",
              "<style scoped>\n",
              "    .dataframe tbody tr th:only-of-type {\n",
              "        vertical-align: middle;\n",
              "    }\n",
              "\n",
              "    .dataframe tbody tr th {\n",
              "        vertical-align: top;\n",
              "    }\n",
              "\n",
              "    .dataframe thead th {\n",
              "        text-align: right;\n",
              "    }\n",
              "</style>\n",
              "<table border=\"1\" class=\"dataframe\">\n",
              "  <thead>\n",
              "    <tr style=\"text-align: right;\">\n",
              "      <th></th>\n",
              "      <th>CRIM</th>\n",
              "      <th>ZN</th>\n",
              "      <th>INDUS</th>\n",
              "      <th>CHAS</th>\n",
              "      <th>NOS</th>\n",
              "      <th>RM</th>\n",
              "      <th>AGE</th>\n",
              "      <th>DIS</th>\n",
              "      <th>RAD</th>\n",
              "      <th>TAX</th>\n",
              "      <th>PTRATIO</th>\n",
              "      <th>B</th>\n",
              "      <th>LSTAT</th>\n",
              "      <th>MEDV</th>\n",
              "    </tr>\n",
              "  </thead>\n",
              "  <tbody>\n",
              "    <tr>\n",
              "      <th>0</th>\n",
              "      <td>0.00632</td>\n",
              "      <td>18.0</td>\n",
              "      <td>2.31</td>\n",
              "      <td>0</td>\n",
              "      <td>0.538</td>\n",
              "      <td>6.575</td>\n",
              "      <td>65.2</td>\n",
              "      <td>4.0900</td>\n",
              "      <td>1</td>\n",
              "      <td>296</td>\n",
              "      <td>15.3</td>\n",
              "      <td>396.90</td>\n",
              "      <td>4.98</td>\n",
              "      <td>24.0</td>\n",
              "    </tr>\n",
              "    <tr>\n",
              "      <th>1</th>\n",
              "      <td>0.02731</td>\n",
              "      <td>0.0</td>\n",
              "      <td>7.07</td>\n",
              "      <td>0</td>\n",
              "      <td>0.469</td>\n",
              "      <td>6.421</td>\n",
              "      <td>78.9</td>\n",
              "      <td>4.9671</td>\n",
              "      <td>2</td>\n",
              "      <td>242</td>\n",
              "      <td>17.8</td>\n",
              "      <td>396.90</td>\n",
              "      <td>9.14</td>\n",
              "      <td>21.6</td>\n",
              "    </tr>\n",
              "    <tr>\n",
              "      <th>2</th>\n",
              "      <td>0.02729</td>\n",
              "      <td>0.0</td>\n",
              "      <td>7.07</td>\n",
              "      <td>0</td>\n",
              "      <td>0.469</td>\n",
              "      <td>7.185</td>\n",
              "      <td>61.1</td>\n",
              "      <td>4.9671</td>\n",
              "      <td>2</td>\n",
              "      <td>242</td>\n",
              "      <td>17.8</td>\n",
              "      <td>392.83</td>\n",
              "      <td>4.03</td>\n",
              "      <td>34.7</td>\n",
              "    </tr>\n",
              "    <tr>\n",
              "      <th>3</th>\n",
              "      <td>0.03237</td>\n",
              "      <td>0.0</td>\n",
              "      <td>2.18</td>\n",
              "      <td>0</td>\n",
              "      <td>0.458</td>\n",
              "      <td>6.998</td>\n",
              "      <td>45.8</td>\n",
              "      <td>6.0622</td>\n",
              "      <td>3</td>\n",
              "      <td>222</td>\n",
              "      <td>18.7</td>\n",
              "      <td>394.63</td>\n",
              "      <td>2.94</td>\n",
              "      <td>33.4</td>\n",
              "    </tr>\n",
              "    <tr>\n",
              "      <th>4</th>\n",
              "      <td>0.06905</td>\n",
              "      <td>0.0</td>\n",
              "      <td>2.18</td>\n",
              "      <td>0</td>\n",
              "      <td>0.458</td>\n",
              "      <td>7.147</td>\n",
              "      <td>54.2</td>\n",
              "      <td>6.0622</td>\n",
              "      <td>3</td>\n",
              "      <td>222</td>\n",
              "      <td>18.7</td>\n",
              "      <td>396.90</td>\n",
              "      <td>5.33</td>\n",
              "      <td>36.2</td>\n",
              "    </tr>\n",
              "  </tbody>\n",
              "</table>\n",
              "</div>\n",
              "      <button class=\"colab-df-convert\" onclick=\"convertToInteractive('df-9df7caf0-6d8d-473e-82e1-6a25572f21ad')\"\n",
              "              title=\"Convert this dataframe to an interactive table.\"\n",
              "              style=\"display:none;\">\n",
              "        \n",
              "  <svg xmlns=\"http://www.w3.org/2000/svg\" height=\"24px\"viewBox=\"0 0 24 24\"\n",
              "       width=\"24px\">\n",
              "    <path d=\"M0 0h24v24H0V0z\" fill=\"none\"/>\n",
              "    <path d=\"M18.56 5.44l.94 2.06.94-2.06 2.06-.94-2.06-.94-.94-2.06-.94 2.06-2.06.94zm-11 1L8.5 8.5l.94-2.06 2.06-.94-2.06-.94L8.5 2.5l-.94 2.06-2.06.94zm10 10l.94 2.06.94-2.06 2.06-.94-2.06-.94-.94-2.06-.94 2.06-2.06.94z\"/><path d=\"M17.41 7.96l-1.37-1.37c-.4-.4-.92-.59-1.43-.59-.52 0-1.04.2-1.43.59L10.3 9.45l-7.72 7.72c-.78.78-.78 2.05 0 2.83L4 21.41c.39.39.9.59 1.41.59.51 0 1.02-.2 1.41-.59l7.78-7.78 2.81-2.81c.8-.78.8-2.07 0-2.86zM5.41 20L4 18.59l7.72-7.72 1.47 1.35L5.41 20z\"/>\n",
              "  </svg>\n",
              "      </button>\n",
              "      \n",
              "  <style>\n",
              "    .colab-df-container {\n",
              "      display:flex;\n",
              "      flex-wrap:wrap;\n",
              "      gap: 12px;\n",
              "    }\n",
              "\n",
              "    .colab-df-convert {\n",
              "      background-color: #E8F0FE;\n",
              "      border: none;\n",
              "      border-radius: 50%;\n",
              "      cursor: pointer;\n",
              "      display: none;\n",
              "      fill: #1967D2;\n",
              "      height: 32px;\n",
              "      padding: 0 0 0 0;\n",
              "      width: 32px;\n",
              "    }\n",
              "\n",
              "    .colab-df-convert:hover {\n",
              "      background-color: #E2EBFA;\n",
              "      box-shadow: 0px 1px 2px rgba(60, 64, 67, 0.3), 0px 1px 3px 1px rgba(60, 64, 67, 0.15);\n",
              "      fill: #174EA6;\n",
              "    }\n",
              "\n",
              "    [theme=dark] .colab-df-convert {\n",
              "      background-color: #3B4455;\n",
              "      fill: #D2E3FC;\n",
              "    }\n",
              "\n",
              "    [theme=dark] .colab-df-convert:hover {\n",
              "      background-color: #434B5C;\n",
              "      box-shadow: 0px 1px 3px 1px rgba(0, 0, 0, 0.15);\n",
              "      filter: drop-shadow(0px 1px 2px rgba(0, 0, 0, 0.3));\n",
              "      fill: #FFFFFF;\n",
              "    }\n",
              "  </style>\n",
              "\n",
              "      <script>\n",
              "        const buttonEl =\n",
              "          document.querySelector('#df-9df7caf0-6d8d-473e-82e1-6a25572f21ad button.colab-df-convert');\n",
              "        buttonEl.style.display =\n",
              "          google.colab.kernel.accessAllowed ? 'block' : 'none';\n",
              "\n",
              "        async function convertToInteractive(key) {\n",
              "          const element = document.querySelector('#df-9df7caf0-6d8d-473e-82e1-6a25572f21ad');\n",
              "          const dataTable =\n",
              "            await google.colab.kernel.invokeFunction('convertToInteractive',\n",
              "                                                     [key], {});\n",
              "          if (!dataTable) return;\n",
              "\n",
              "          const docLinkHtml = 'Like what you see? Visit the ' +\n",
              "            '<a target=\"_blank\" href=https://colab.research.google.com/notebooks/data_table.ipynb>data table notebook</a>'\n",
              "            + ' to learn more about interactive tables.';\n",
              "          element.innerHTML = '';\n",
              "          dataTable['output_type'] = 'display_data';\n",
              "          await google.colab.output.renderOutput(dataTable, element);\n",
              "          const docLink = document.createElement('div');\n",
              "          docLink.innerHTML = docLinkHtml;\n",
              "          element.appendChild(docLink);\n",
              "        }\n",
              "      </script>\n",
              "    </div>\n",
              "  </div>\n",
              "  "
            ],
            "text/plain": [
              "      CRIM    ZN  INDUS  CHAS    NOS     RM   AGE     DIS  RAD  TAX  PTRATIO  \\\n",
              "0  0.00632  18.0   2.31     0  0.538  6.575  65.2  4.0900    1  296     15.3   \n",
              "1  0.02731   0.0   7.07     0  0.469  6.421  78.9  4.9671    2  242     17.8   \n",
              "2  0.02729   0.0   7.07     0  0.469  7.185  61.1  4.9671    2  242     17.8   \n",
              "3  0.03237   0.0   2.18     0  0.458  6.998  45.8  6.0622    3  222     18.7   \n",
              "4  0.06905   0.0   2.18     0  0.458  7.147  54.2  6.0622    3  222     18.7   \n",
              "\n",
              "        B  LSTAT  MEDV  \n",
              "0  396.90   4.98  24.0  \n",
              "1  396.90   9.14  21.6  \n",
              "2  392.83   4.03  34.7  \n",
              "3  394.63   2.94  33.4  \n",
              "4  396.90   5.33  36.2  "
            ]
          },
          "execution_count": 3,
          "metadata": {},
          "output_type": "execute_result"
        }
      ],
      "source": [
        "#reading csv file for Boston Housing Dataset\n",
        "from google.colab import files\n",
        "uploaded = files.upload()\n",
        "import io\n",
        "df = pd.read_csv(io.BytesIO(uploaded['hou_all.csv']),\\\n",
        "                 names = ['CRIM','ZN','INDUS','CHAS','NOS','RM','AGE','DIS','RAD','TAX','PTRATIO','B','LSTAT','MEDV'])\n",
        "df.head()"
      ]
    },
    {
      "cell_type": "code",
      "execution_count": 4,
      "metadata": {
        "id": "tAg9oNPEZuFD"
      },
      "outputs": [],
      "source": [
        "#parameters = CRIM , ZN, INDUS\n",
        "X = df.iloc[:,0:3].to_numpy()\n",
        "\n",
        "#target = MEDV\n",
        "Y = df.iloc[:,-1].to_numpy()\n",
        "\n",
        "#train test split\n",
        "xTrain, xTest, yTrain, yTest = train_test_split(X, Y, test_size = 0.3, random_state = 10)\n",
        "\n",
        "#building rf regression model\n",
        "rf = RandomForestRegressor()\n",
        "rf.fit(xTrain,yTrain)\n",
        "yPred = rf.predict(xTest)\n",
        "\n",
        "#calculating loss - MSE\n",
        "MSE = mean_squared_error(yPred,yTest)"
      ]
    },
    {
      "cell_type": "code",
      "execution_count": null,
      "metadata": {
        "id": "vQ8kl9xN5LVU"
      },
      "outputs": [],
      "source": [
        "def bo_params_rf(max_samples,n_estimators,max_features):\n",
        "    \n",
        "    params = {\n",
        "        'max_samples': max_samples,\n",
        "        'max_features':max_features,\n",
        "        'n_estimators':int(n_estimators)\n",
        "    }\n",
        "    clf = RandomForestRegressor(max_samples=params['max_samples'],max_features=params['max_features'],n_estimators=params['n_estimators'])\n",
        "    clf.fit(xTrain,yTrain)\n",
        "    yPred = clf.predict(xTest)\n",
        "    \n",
        "    #using negative MSE as score (loss function)\n",
        "    score = -mean_squared_error(yPred,yTest)\n",
        "    return score"
      ]
    },
    {
      "cell_type": "code",
      "execution_count": null,
      "metadata": {
        "colab": {
          "base_uri": "https://localhost:8080/"
        },
        "id": "cmDJ_pnn5nZp",
        "outputId": "c2fe0c88-0ade-4fd0-fc1c-4124188b9622"
      },
      "outputs": [
        {
          "name": "stdout",
          "output_type": "stream",
          "text": [
            "|   iter    |  target   | max_fe... | max_sa... | n_esti... |\n",
            "-------------------------------------------------------------\n",
            "| \u001b[0m1        \u001b[0m | \u001b[0m-61.52   \u001b[0m | \u001b[0m0.6343   \u001b[0m | \u001b[0m0.6539   \u001b[0m | \u001b[0m105.6    \u001b[0m |\n",
            "| \u001b[0m2        \u001b[0m | \u001b[0m-62.95   \u001b[0m | \u001b[0m0.5864   \u001b[0m | \u001b[0m0.832    \u001b[0m | \u001b[0m148.4    \u001b[0m |\n",
            "| \u001b[0m3        \u001b[0m | \u001b[0m-61.7    \u001b[0m | \u001b[0m0.863    \u001b[0m | \u001b[0m0.7026   \u001b[0m | \u001b[0m165.4    \u001b[0m |\n",
            "| \u001b[0m4        \u001b[0m | \u001b[0m-64.5    \u001b[0m | \u001b[0m0.6882   \u001b[0m | \u001b[0m0.9884   \u001b[0m | \u001b[0m178.5    \u001b[0m |\n",
            "| \u001b[0m5        \u001b[0m | \u001b[0m-64.58   \u001b[0m | \u001b[0m0.6269   \u001b[0m | \u001b[0m0.8708   \u001b[0m | \u001b[0m191.8    \u001b[0m |\n",
            "| \u001b[0m6        \u001b[0m | \u001b[0m-63.27   \u001b[0m | \u001b[0m0.5305   \u001b[0m | \u001b[0m0.8192   \u001b[0m | \u001b[0m113.4    \u001b[0m |\n",
            "| \u001b[0m7        \u001b[0m | \u001b[0m-61.67   \u001b[0m | \u001b[0m0.8827   \u001b[0m | \u001b[0m0.6777   \u001b[0m | \u001b[0m191.3    \u001b[0m |\n",
            "| \u001b[0m8        \u001b[0m | \u001b[0m-62.49   \u001b[0m | \u001b[0m0.7959   \u001b[0m | \u001b[0m0.6257   \u001b[0m | \u001b[0m172.6    \u001b[0m |\n",
            "| \u001b[0m9        \u001b[0m | \u001b[0m-63.18   \u001b[0m | \u001b[0m0.7019   \u001b[0m | \u001b[0m0.6133   \u001b[0m | \u001b[0m160.6    \u001b[0m |\n",
            "| \u001b[95m10       \u001b[0m | \u001b[95m-61.09   \u001b[0m | \u001b[95m0.9562   \u001b[0m | \u001b[95m0.6174   \u001b[0m | \u001b[95m169.1    \u001b[0m |\n",
            "| \u001b[95m11       \u001b[0m | \u001b[95m-60.29   \u001b[0m | \u001b[95m0.582    \u001b[0m | \u001b[95m0.6215   \u001b[0m | \u001b[95m105.9    \u001b[0m |\n",
            "| \u001b[0m12       \u001b[0m | \u001b[0m-62.31   \u001b[0m | \u001b[0m0.5694   \u001b[0m | \u001b[0m0.7176   \u001b[0m | \u001b[0m168.1    \u001b[0m |\n",
            "| \u001b[0m13       \u001b[0m | \u001b[0m-63.63   \u001b[0m | \u001b[0m0.6954   \u001b[0m | \u001b[0m0.8278   \u001b[0m | \u001b[0m106.0    \u001b[0m |\n",
            "| \u001b[0m14       \u001b[0m | \u001b[0m-64.69   \u001b[0m | \u001b[0m0.7475   \u001b[0m | \u001b[0m0.8978   \u001b[0m | \u001b[0m129.1    \u001b[0m |\n",
            "| \u001b[0m15       \u001b[0m | \u001b[0m-64.38   \u001b[0m | \u001b[0m0.7309   \u001b[0m | \u001b[0m0.8155   \u001b[0m | \u001b[0m169.5    \u001b[0m |\n",
            "| \u001b[0m16       \u001b[0m | \u001b[0m-62.33   \u001b[0m | \u001b[0m0.7929   \u001b[0m | \u001b[0m0.7136   \u001b[0m | \u001b[0m116.6    \u001b[0m |\n",
            "| \u001b[0m17       \u001b[0m | \u001b[0m-62.68   \u001b[0m | \u001b[0m0.8342   \u001b[0m | \u001b[0m0.6459   \u001b[0m | \u001b[0m127.9    \u001b[0m |\n",
            "| \u001b[0m18       \u001b[0m | \u001b[0m-64.29   \u001b[0m | \u001b[0m0.8331   \u001b[0m | \u001b[0m0.8055   \u001b[0m | \u001b[0m136.1    \u001b[0m |\n",
            "| \u001b[0m19       \u001b[0m | \u001b[0m-62.32   \u001b[0m | \u001b[0m0.8195   \u001b[0m | \u001b[0m0.6253   \u001b[0m | \u001b[0m180.7    \u001b[0m |\n",
            "| \u001b[0m20       \u001b[0m | \u001b[0m-64.09   \u001b[0m | \u001b[0m0.725    \u001b[0m | \u001b[0m0.8923   \u001b[0m | \u001b[0m167.9    \u001b[0m |\n",
            "| \u001b[0m21       \u001b[0m | \u001b[0m-61.93   \u001b[0m | \u001b[0m0.9308   \u001b[0m | \u001b[0m0.5367   \u001b[0m | \u001b[0m151.2    \u001b[0m |\n",
            "| \u001b[0m22       \u001b[0m | \u001b[0m-65.21   \u001b[0m | \u001b[0m0.7005   \u001b[0m | \u001b[0m0.9453   \u001b[0m | \u001b[0m114.3    \u001b[0m |\n",
            "| \u001b[0m23       \u001b[0m | \u001b[0m-60.92   \u001b[0m | \u001b[0m0.6948   \u001b[0m | \u001b[0m0.5802   \u001b[0m | \u001b[0m177.1    \u001b[0m |\n",
            "| \u001b[0m24       \u001b[0m | \u001b[0m-60.63   \u001b[0m | \u001b[0m0.6772   \u001b[0m | \u001b[0m0.5752   \u001b[0m | \u001b[0m139.0    \u001b[0m |\n",
            "| \u001b[0m25       \u001b[0m | \u001b[0m-65.47   \u001b[0m | \u001b[0m0.8453   \u001b[0m | \u001b[0m0.9011   \u001b[0m | \u001b[0m120.6    \u001b[0m |\n",
            "=============================================================\n"
          ]
        }
      ],
      "source": [
        "#boundary for Bayesian optimization\n",
        "bounds = {'max_samples':(0.5,1),\n",
        "          'max_features':(0.5,1),\n",
        "          'n_estimators':(100,200)}\n",
        "\n",
        "rf_bo = BayesianOptimization(bo_params_rf, bounds)\n",
        "\n",
        "results = rf_bo.maximize(n_iter=20, init_points=5)"
      ]
    },
    {
      "cell_type": "code",
      "execution_count": null,
      "metadata": {
        "colab": {
          "base_uri": "https://localhost:8080/"
        },
        "id": "LkdShhbw6pq0",
        "outputId": "29bcc924-4e03-4416-c457-f546501327f3"
      },
      "outputs": [
        {
          "name": "stdout",
          "output_type": "stream",
          "text": [
            "{'max_features': 0.5820176314426827, 'max_samples': 0.6215203264475643, 'n_estimators': 105}\n"
          ]
        }
      ],
      "source": [
        "params = rf_bo.max['params']\n",
        "params['n_estimators']= int(params['n_estimators'])\n",
        "print(params)"
      ]
    },
    {
      "cell_type": "code",
      "execution_count": 5,
      "metadata": {
        "id": "YLpx-s3c8eaM"
      },
      "outputs": [],
      "source": [
        "#using GPyOpt\n",
        "import GPyOpt\n",
        "\n",
        "list_max_samples=[]\n",
        "list_max_features=[]\n",
        "list_n_estimators=[]\n",
        "list_score=[]\n",
        "\n",
        "bounds = [ {'name': 'max_samples', 'type': 'continuous', 'domain': (0.5, 1)},\n",
        "        {'name': 'max_features', 'type': 'continuous', 'domain': (0.5, 1)},\n",
        "        {'name': 'n_estimators', 'type': 'discrete', 'domain': (100,120,140,160,180,200)}\n",
        "      ]\n",
        "\n",
        "def rf_score(parameters):\n",
        "  parameters = parameters[0]\n",
        "  params = {\n",
        "        'max_samples': parameters[0],\n",
        "        'max_features':parameters[1],\n",
        "        'n_estimators':int(parameters[2])\n",
        "    }\n",
        "  \n",
        "  reg = RandomForestRegressor(max_samples=params['max_samples'],max_features=params['max_features'],n_estimators=params['n_estimators'])\n",
        "  reg.fit(xTrain,yTrain)\n",
        "  yPred = reg.predict(xTest)\n",
        "    \n",
        "  #using negative MSE as score (loss function)\n",
        "  score = -mean_squared_error(yPred,yTest)\n",
        "\n",
        "  list_max_samples.append(params['max_samples'])\n",
        "  list_max_features.append(params['max_features'])\n",
        "  list_n_estimators.append(params['n_estimators'])\n",
        "  list_score.append(-score)\n",
        "\n",
        "  return score"
      ]
    },
    {
      "cell_type": "code",
      "execution_count": 6,
      "metadata": {
        "colab": {
          "base_uri": "https://localhost:8080/"
        },
        "id": "P_-MgG79Sp1M",
        "outputId": "38ec2726-af16-4fce-ad0d-f94c1c2f23a1"
      },
      "outputs": [
        {
          "name": "stdout",
          "output_type": "stream",
          "text": [
            "-58.87445574687744\n",
            "[  0.52611945   0.51353159 180.        ]\n"
          ]
        }
      ],
      "source": [
        "optimizer = GPyOpt.methods.BayesianOptimization(f=rf_score, \n",
        "                                                   domain=bounds,\n",
        "                                                   acquisition_type ='EI',\n",
        "                                                   initial_design_numdata = 5,\n",
        "                                                   model_type='GP',\n",
        "                                                   acquisition_jitter = 0.05,\n",
        "                                                   maximize=True\n",
        "                                                   )\n",
        "\n",
        "optimizer.run_optimization(max_iter=20)\n",
        "\n",
        "#minimum MSE\n",
        "MSE_min=-optimizer.fx_opt\n",
        "#best parameters\n",
        "params_min=optimizer.x_opt\n",
        "print(MSE_min)\n",
        "print(params_min)"
      ]
    },
    {
      "cell_type": "code",
      "execution_count": 7,
      "metadata": {
        "colab": {
          "base_uri": "https://localhost:8080/",
          "height": 350
        },
        "id": "2du6q_-KIHl9",
        "outputId": "994a34b0-268b-4deb-c772-80b9711e1e41"
      },
      "outputs": [
        {
          "data": {
            "image/png": "[encoded data removed]",
            "text/plain": [
              "<Figure size 720x360 with 2 Axes>"
            ]
          },
          "metadata": {
            "needs_background": "light"
          },
          "output_type": "display_data"
        }
      ],
      "source": [
        "optimizer.plot_convergence()"
      ]
    },
    {
      "cell_type": "code",
      "execution_count": 8,
      "metadata": {
        "colab": {
          "base_uri": "https://localhost:8080/",
          "height": 265
        },
        "id": "2mM7lytyl9by",
        "outputId": "14458c40-6865-4dc1-d09b-0b8c6f3eb304"
      },
      "outputs": [
        {
          "data": {
            "image/png": "[encoded data removed]",
            "text/plain": [
              "<Figure size 432x288 with 1 Axes>"
            ]
          },
          "metadata": {
            "needs_background": "light"
          },
          "output_type": "display_data"
        }
      ],
      "source": [
        "sns.regplot(x=list_max_samples, y=list_score, order=2, ci=None, scatter_kws={\"s\": 20});"
      ]
    },
    {
      "cell_type": "code",
      "execution_count": 9,
      "metadata": {
        "colab": {
          "base_uri": "https://localhost:8080/",
          "height": 265
        },
        "id": "Y-ytiAQ3mEfx",
        "outputId": "d7c0baad-85e6-4e1b-f263-bb0e8ca35af8"
      },
      "outputs": [
        {
          "data": {
            "image/png": "[encoded data removed]",
            "text/plain": [
              "<Figure size 432x288 with 1 Axes>"
            ]
          },
          "metadata": {
            "needs_background": "light"
          },
          "output_type": "display_data"
        }
      ],
      "source": [
        "sns.regplot(x=list_max_features, y=list_score, order=2, ci=None, scatter_kws={\"s\": 20});"
      ]
    },
    {
      "cell_type": "code",
      "execution_count": 10,
      "metadata": {
        "colab": {
          "base_uri": "https://localhost:8080/",
          "height": 265
        },
        "id": "H0kCzRU1mHPj",
        "outputId": "ab34a1ca-62be-498d-af80-720e751d0d50"
      },
      "outputs": [
        {
          "data": {
            "image/png": "[encoded data removed]",
            "text/plain": [
              "<Figure size 432x288 with 1 Axes>"
            ]
          },
          "metadata": {
            "needs_background": "light"
          },
          "output_type": "display_data"
        }
      ],
      "source": [
        "sns.regplot(x=list_n_estimators, y=list_score, order=2, ci=None, scatter_kws={\"s\": 20});"
      ]
    }
  ],
  "metadata": {
    "colab": {
      "authorship_tag": "ABX9TyMUBeRTDENvfLbZMMGIsxXZ",
      "include_colab_link": true,
      "provenance": []
    },
    "kernelspec": {
      "display_name": "Python 3",
      "name": "python3"
    },
    "language_info": {
      "name": "python"
    }
  },
  "nbformat": 4,
  "nbformat_minor": 0
}
